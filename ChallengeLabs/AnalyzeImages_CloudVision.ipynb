{
 "cells": [
  {
   "cell_type": "markdown",
   "id": "7e348b61-65ef-42e2-879c-030fc3cbe7e7",
   "metadata": {},
   "source": [
    "# Analyze Images with the Cloud Vision API"
   ]
  },
  {
   "cell_type": "markdown",
   "id": "5d7a3032-15d4-4f86-9a2d-1332b6ab2d52",
   "metadata": {},
   "source": [
    "## Task 1. Verify resources"
   ]
  },
  {
   "cell_type": "markdown",
   "id": "e86eac25-c11c-4958-8241-75bdb5c8329e",
   "metadata": {},
   "source": [
    "### 1. Create an API key\n",
    "\n",
    "Since we'll be using *curl* to send a request to the Vision API, generate an API key to pass in your request URL.\n",
    "\n",
    "1. To create an API key, navigate to: **Navigation Menu > APIs & services > Credentials**.\n",
    "\n",
    "2. Click **Create Credentials** and select **API key**.\n",
    "\n",
    "3. Next, copy the key we just generated and click **Close**.\n",
    "\n",
    "4. In **Cloud Shell**, run the following"
   ]
  },
  {
   "cell_type": "code",
   "execution_count": null,
   "id": "def3404e-52a2-4d5a-bc6d-51db1a4e2dc8",
   "metadata": {},
   "outputs": [],
   "source": [
    "export API_KEY=<API_Key>"
   ]
  },
  {
   "cell_type": "markdown",
   "id": "dd80800e-bd4f-47f7-90d2-a67ae7e0aaa3",
   "metadata": {},
   "source": [
    "### 2. Create a Cloud Storage bucket\n",
    "\n",
    "1. In the Cloud console, go to **Cloud Storage > Buckets**.\n",
    "   \n",
    "2. Click Create bucket. Give your bucket a unique name. For example, *PROJECT_ID*-bucket.\n",
    "\n",
    "3. Click **Choose how to control access to objects**.\n",
    "\n",
    "4. Uncheck **Enforce public access prevention on this bucket** and select **Fine-grained**.\n",
    "\n",
    "5. Click **Create**."
   ]
  },
  {
   "cell_type": "markdown",
   "id": "de7649e4-8957-4939-bf55-804b01b06073",
   "metadata": {},
   "source": [
    "### 3. Make image is publicly accessible\n",
    "\n",
    "1. Click on the 3 dots for a image and select **Edit access**.\n",
    "\n",
    "2. Click **Add entry** then enter the following:\n",
    "    - Entity: Public\n",
    "\n",
    "    - Name: allUsers\n",
    "\n",
    "    - Access: Reader\n",
    "\n",
    "3. Then click **Save**."
   ]
  },
  {
   "cell_type": "markdown",
   "id": "8c8a6445-fc82-4f12-936a-ac183f580db0",
   "metadata": {},
   "source": [
    "## Task 2. Text Detection"
   ]
  },
  {
   "cell_type": "code",
   "execution_count": null,
   "id": "68986326-13f1-47af-8d1b-0bc7aa2eff95",
   "metadata": {},
   "outputs": [],
   "source": [
    "cat > request.json <<EOF\n",
    "{\n",
    "  \"requests\": [\n",
    "      {\n",
    "        \"image\": {\n",
    "          \"source\": {\n",
    "              \"gcsImageUri\": \"gs://qwiklabs-gcp-01-67023bb113ea-bucket/manif-des-sans-papiers.jpg\"\n",
    "          }\n",
    "        },\n",
    "        \"features\": [\n",
    "          {\n",
    "            \"type\": \"TEXT_DETECTION\",\n",
    "            \"maxResults\": 10\n",
    "          }\n",
    "        ]\n",
    "      }\n",
    "  ]\n",
    "}\n",
    "EOF"
   ]
  },
  {
   "cell_type": "code",
   "execution_count": null,
   "id": "a83b7e0c-97eb-4fa3-a767-99a72925676f",
   "metadata": {},
   "outputs": [],
   "source": [
    "curl -s -X POST -H \"Content-Type: application/json\" \\\n",
    "    --data-binary @request.json \\\n",
    "    https://vision.googleapis.com/v1/images:annotate?key=${API_KEY} \\\n",
    "    -o text-response.json\n",
    "\n",
    "gsutil cp text-response.json gs://qwiklabs-gcp-01-67023bb113ea-bucket"
   ]
  },
  {
   "cell_type": "markdown",
   "id": "56608c19-0fa6-4bb3-b9f8-289a2a8e068a",
   "metadata": {},
   "source": [
    "## Task 3. Landmark Detection"
   ]
  },
  {
   "cell_type": "code",
   "execution_count": null,
   "id": "f5060387-6ea2-40c7-bf80-01f62d087550",
   "metadata": {},
   "outputs": [],
   "source": [
    "cat > request.json <<EOF\n",
    "{\n",
    "  \"requests\": [\n",
    "      {\n",
    "        \"image\": {\n",
    "          \"source\": {\n",
    "              \"gcsImageUri\": \"gs://qwiklabs-gcp-01-67023bb113ea-bucket/manif-des-sans-papiers.jpg\"\n",
    "          }\n",
    "        },\n",
    "        \"features\": [\n",
    "          {\n",
    "            \"type\": \"LANDMARK_DETECTION\",\n",
    "            \"maxResults\": 10\n",
    "          }\n",
    "        ]\n",
    "      }\n",
    "  ]\n",
    "}\n",
    "EOF"
   ]
  },
  {
   "cell_type": "code",
   "execution_count": null,
   "id": "570af648-0203-485a-9746-d69626f170c5",
   "metadata": {},
   "outputs": [],
   "source": [
    "curl -s -X POST -H \"Content-Type: application/json\" \\\n",
    "    --data-binary @request.json \\\n",
    "    https://vision.googleapis.com/v1/images:annotate?key=${API_KEY} \\\n",
    "    -o landmark-response.json\n",
    "\n",
    "gsutil cp landmark-response.json gs://qwiklabs-gcp-01-67023bb113ea-bucket"
   ]
  }
 ],
 "metadata": {
  "kernelspec": {
   "display_name": "Python 3 (ipykernel)",
   "language": "python",
   "name": "python3"
  },
  "language_info": {
   "codemirror_mode": {
    "name": "ipython",
    "version": 3
   },
   "file_extension": ".py",
   "mimetype": "text/x-python",
   "name": "python",
   "nbconvert_exporter": "python",
   "pygments_lexer": "ipython3",
   "version": "3.11.0rc1"
  }
 },
 "nbformat": 4,
 "nbformat_minor": 5
}
