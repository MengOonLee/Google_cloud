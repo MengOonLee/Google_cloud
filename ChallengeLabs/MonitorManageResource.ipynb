{
 "cells": [
  {
   "cell_type": "markdown",
   "id": "b5ac3b6a-4e69-418c-96fb-2d505a933c5d",
   "metadata": {},
   "source": [
    "# Monitor and Manage Google Cloud Resources"
   ]
  },
  {
   "cell_type": "markdown",
   "id": "246ce142-f626-4e23-b454-0c9383043f2a",
   "metadata": {},
   "source": [
    "## Task 1. Create a bucket"
   ]
  },
  {
   "cell_type": "code",
   "execution_count": null,
   "id": "0d1f1f24-6ef0-4876-af51-4c1d89a31ce0",
   "metadata": {},
   "outputs": [],
   "source": [
    "# Activate Cloud Shell\n",
    "\n",
    "gcloud auth list\n",
    "\n",
    "gcloud config list project\n",
    "\n",
    "export PROJECT_ID=qwiklabs-gcp-04-e2ff9e60d267\n",
    "export REGION=us-east1\n",
    "export BUCKET_NAME=gs://travel-bucket-qwiklabs-gcp-04-e2ff9e60d267\n",
    "export USER2=student-03-b7819973fd1d@qwiklabs.net\n",
    "export TOPIC_NAME=travel-topic-770\n",
    "export FUNCTION_NAME=travel-thumbnail-creator\n",
    "\n",
    "gcloud config set project $PROJECT_ID\n",
    "\n",
    "gcloud config set compute/region $REGION"
   ]
  },
  {
   "cell_type": "code",
   "execution_count": null,
   "id": "097d6747-2720-4e69-9f2c-e9997e47c6aa",
   "metadata": {},
   "outputs": [],
   "source": [
    "# Create a bucket\n",
    "\n",
    "gsutil mb -p $PROJECT_ID $BUCKET_NAME"
   ]
  },
  {
   "cell_type": "code",
   "execution_count": null,
   "id": "f4a5ceeb-59c8-4975-bdb9-a629cc26b14e",
   "metadata": {},
   "outputs": [],
   "source": [
    "# Grant access to User2\n",
    "\n",
    "gcloud projects add-iam-policy-binding $PROJECT_ID \\\n",
    "    --member=user:$USER2 \\\n",
    "    --role=roles/storage.objectViewer"
   ]
  },
  {
   "cell_type": "markdown",
   "id": "de44eefb-b9d9-478f-8f88-13057db06cdb",
   "metadata": {},
   "source": [
    "## Task 2. Create a Pub/Sub topic"
   ]
  },
  {
   "cell_type": "code",
   "execution_count": null,
   "id": "86ad4237-338e-4de1-b506-aee7e862193c",
   "metadata": {},
   "outputs": [],
   "source": [
    "gcloud pubsub topics create $TOPIC_NAME\n",
    "\n",
    "gcloud pubsub topics list"
   ]
  },
  {
   "cell_type": "markdown",
   "id": "82875dd1-04d7-4af3-98ce-e386be7370c8",
   "metadata": {},
   "source": [
    "## Task 3. Create the thumbnail Cloud Function"
   ]
  },
  {
   "cell_type": "code",
   "execution_count": null,
   "id": "e5298074-652b-4e34-abf1-15f745c3e101",
   "metadata": {},
   "outputs": [],
   "source": [
    "mkdir gcf_thumbnail\n",
    "\n",
    "cd gcf_thumbnail"
   ]
  },
  {
   "cell_type": "code",
   "execution_count": null,
   "id": "931daa2a-4bc4-47be-ad5f-1b6c52b2f150",
   "metadata": {},
   "outputs": [],
   "source": [
    "cat > index.js <<EOF\n",
    "/* globals exports, require */\n",
    "//jshint strict: false\n",
    "//jshint esversion: 6\n",
    "\"use strict\";\n",
    "const crc32 = require(\"fast-crc32c\");\n",
    "const { Storage } = require('@google-cloud/storage');\n",
    "const gcs = new Storage();\n",
    "const { PubSub } = require('@google-cloud/pubsub');\n",
    "const imagemagick = require(\"imagemagick-stream\");\n",
    "\n",
    "exports.thumbnail = (event, context) => {\n",
    "  const fileName = event.name;\n",
    "  const bucketName = event.bucket;\n",
    "  const size = \"64x64\"\n",
    "  const bucket = gcs.bucket(bucketName);\n",
    "  const topicName = \"travel-topic-770\";\n",
    "  const pubsub = new PubSub();\n",
    "  if ( fileName.search(\"64x64_thumbnail\") == -1 ){\n",
    "    // doesn't have a thumbnail, get the filename extension\n",
    "    var filename_split = fileName.split('.');\n",
    "    var filename_ext = filename_split[filename_split.length - 1];\n",
    "    var filename_without_ext = fileName.substring(0, fileName.length - filename_ext.length );\n",
    "    if (filename_ext.toLowerCase() == 'png' || filename_ext.toLowerCase() == 'jpg'){\n",
    "      // only support png and jpg at this point\n",
    "      console.log(`Processing Original: gs://${bucketName}/${fileName}`);\n",
    "      const gcsObject = bucket.file(fileName);\n",
    "      let newFilename = filename_without_ext + size + '_thumbnail.' + filename_ext;\n",
    "      let gcsNewObject = bucket.file(newFilename);\n",
    "      let srcStream = gcsObject.createReadStream();\n",
    "      let dstStream = gcsNewObject.createWriteStream();\n",
    "      let resize = imagemagick().resize(size).quality(90);\n",
    "      srcStream.pipe(resize).pipe(dstStream);\n",
    "      return new Promise((resolve, reject) => {\n",
    "        dstStream\n",
    "          .on(\"error\", (err) => {\n",
    "            console.log(`Error: ${err}`);\n",
    "            reject(err);\n",
    "          })\n",
    "          .on(\"finish\", () => {\n",
    "            console.log(`Success: ${fileName} → ${newFilename}`);\n",
    "              // set the content-type\n",
    "              gcsNewObject.setMetadata(\n",
    "              {\n",
    "                contentType: 'image/'+ filename_ext.toLowerCase()\n",
    "              }, function(err, apiResponse) {});\n",
    "              pubsub\n",
    "                .topic(topicName)\n",
    "                .publisher()\n",
    "                .publish(Buffer.from(newFilename))\n",
    "                .then(messageId => {\n",
    "                  console.log(`Message ${messageId} published.`);\n",
    "                })\n",
    "                .catch(err => {\n",
    "                  console.error('ERROR:', err);\n",
    "                });\n",
    "          });\n",
    "      });\n",
    "    }\n",
    "    else {\n",
    "      console.log(`gs://${bucketName}/${fileName} is not an image I can handle`);\n",
    "    }\n",
    "  }\n",
    "  else {\n",
    "    console.log(`gs://${bucketName}/${fileName} already has a thumbnail`);\n",
    "  }\n",
    "};\n",
    "EOF"
   ]
  },
  {
   "cell_type": "code",
   "execution_count": null,
   "id": "b24cdd1b-d54a-4d00-9d92-fdf255d27065",
   "metadata": {},
   "outputs": [],
   "source": [
    "cat > package.json <<EOF\n",
    "{\n",
    "  \"name\": \"thumbnails\",\n",
    "  \"version\": \"1.0.0\",\n",
    "  \"description\": \"Create Thumbnail of uploaded image\",\n",
    "  \"scripts\": {\n",
    "    \"start\": \"node index.js\"\n",
    "  },\n",
    "  \"dependencies\": {\n",
    "    \"@google-cloud/pubsub\": \"^2.0.0\",\n",
    "    \"@google-cloud/storage\": \"^5.0.0\",\n",
    "    \"fast-crc32c\": \"1.0.4\",\n",
    "    \"imagemagick-stream\": \"4.1.1\"\n",
    "  },\n",
    "  \"devDependencies\": {},\n",
    "  \"engines\": {\n",
    "    \"node\": \">=4.3.2\"\n",
    "  }\n",
    "}\n",
    "EOF"
   ]
  },
  {
   "cell_type": "code",
   "execution_count": null,
   "id": "91596c6c-e2a1-43b8-adda-fba04c0dcb35",
   "metadata": {},
   "outputs": [],
   "source": [
    "gcloud services enable cloudfunctions.googleapis.com\n",
    "\n",
    "gcloud projects add-iam-policy-binding $PROJECT_ID \\\n",
    "--member=\"serviceAccount:${PROJECT_ID}@appspot.gserviceaccount.com\" \\\n",
    "--role=\"roles/artifactregistry.reader\"\n",
    "\n",
    "gcloud functions deploy $FUNCTION_NAME \\\n",
    "    --region=$REGION \\\n",
    "    --runtime=nodejs14 \\\n",
    "    --source=. \\\n",
    "    --entry-point=thumbnail \\\n",
    "    --trigger-bucket=$BUCKET_NAME"
   ]
  },
  {
   "cell_type": "code",
   "execution_count": null,
   "id": "50c79f45-e974-4de5-934b-97b975564242",
   "metadata": {},
   "outputs": [],
   "source": [
    "cd ..\n",
    "\n",
    "wget https://storage.googleapis.com/cloud-training/arc101/travel.jpg\n",
    "\n",
    "gsutil cp travel.jpg $BUCKET_NAME"
   ]
  },
  {
   "cell_type": "markdown",
   "id": "cabab208-4a49-4d41-8a14-41bfa2cdbb7e",
   "metadata": {},
   "source": [
    "## Task 4. Create an alerting policy"
   ]
  },
  {
   "cell_type": "markdown",
   "id": "454483ce-342f-4872-85c1-d200712af757",
   "metadata": {},
   "source": [
    "1. In the left menu, click **Alerting**, and then click **+Create Policy**.\n",
    "\n",
    "2. Click on **Select a metric** dropdown. Uncheck the **Active**.\n",
    "\n",
    "3. Select **Cloud Function > Function > Active Instances** and click **Apply**. Click **Next**.\n",
    "\n",
    "4. Set the **Threshold position** to **Above threshold**, **Threshold value** to **1**. Click **Next**.\n",
    "\n",
    "5. Click on the drop down arrow next to **Notification Channels**, then click on **Manage Notification Channels**.\n",
    "\n",
    "6. Scroll down the page and click on **ADD NEW for Email**.\n",
    "\n",
    "7. In the **Create Email Channel** dialog box, enter your personal email address in the **Email Address** field and a **Display name**. Click **Save**.\n",
    "\n",
    "8. Click on **Notification Channels** again, then click on the **Refresh** icon, select the **Display name** and click **OK**.\n",
    "\n",
    "9. Add a message \"The number of active Cloud Function instances is greater than zero!\" in documentation.\n",
    "\n",
    "10. Mention the **Alert name** as **Active Cloud Function Instances**. Click **Next**.\n",
    "\n",
    "11. Click **Create Policy**."
   ]
  }
 ],
 "metadata": {
  "kernelspec": {
   "display_name": "Python 3 (ipykernel)",
   "language": "python",
   "name": "python3"
  },
  "language_info": {
   "codemirror_mode": {
    "name": "ipython",
    "version": 3
   },
   "file_extension": ".py",
   "mimetype": "text/x-python",
   "name": "python",
   "nbconvert_exporter": "python",
   "pygments_lexer": "ipython3",
   "version": "3.11.0rc1"
  }
 },
 "nbformat": 4,
 "nbformat_minor": 5
}
