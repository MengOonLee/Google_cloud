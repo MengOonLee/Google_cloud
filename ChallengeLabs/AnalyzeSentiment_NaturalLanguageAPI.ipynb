{
 "cells": [
  {
   "cell_type": "markdown",
   "id": "e8e06c6a-dd57-490e-86d4-1c4499862a21",
   "metadata": {},
   "source": [
    "# Analyze Sentiment with Natural Language API"
   ]
  },
  {
   "cell_type": "markdown",
   "id": "f237f019-178c-41c9-9f02-7f50b58bbeb1",
   "metadata": {},
   "source": [
    "## Task 1. Create an API key"
   ]
  },
  {
   "cell_type": "markdown",
   "id": "1bf36b8b-405b-4150-9e18-e6fe697645d3",
   "metadata": {},
   "source": [
    "Generate an API user key to pass in the request URL.\n",
    "\n",
    "1. To create an API key, select **Navigation menu > APIs & Services > Credentials**.\n",
    "\n",
    "2. Click **Create credentials** at the top and select **API key**:\n",
    "\n",
    "3. Copy the API key to a text file to use in a later step. Click **Close**."
   ]
  },
  {
   "cell_type": "markdown",
   "id": "f315121d-e20e-4657-bfaa-cfc9dc23c49c",
   "metadata": {},
   "source": [
    "## Task 2. Set up Google Docs and call the Natural Language API"
   ]
  },
  {
   "cell_type": "markdown",
   "id": "4dc942b9-ae76-4f16-8a1c-9e42c67f41e1",
   "metadata": {},
   "source": [
    "Set up Google Docs to use the Natural Language API and recognize the sentiment of selected text in a Google Docs document and highlight parts of it based on sentiment.\n",
    "\n",
    "1. Create a new Google Doc.\n",
    "\n",
    "2. From the new document, select the menu item **Extensions > Apps Script**.\n",
    "\n",
    "3. Delete any code in the script editor and paste in the code below.\n",
    "\n",
    "4. On the menu bar, click **Save project**.\n",
    "\n",
    "5. Reload the document to see the new menu, **Natural Language Tools**, which appear in the Google Docs toolbar.\n",
    "\n",
    "6. Select text and then the **Mark Sentiment** option from the Natural Language Tools menu."
   ]
  },
  {
   "cell_type": "code",
   "execution_count": null,
   "id": "9baf0fc0-6edb-47c3-8e81-845e88180747",
   "metadata": {},
   "outputs": [],
   "source": [
    "  /**\n",
    "  * @OnlyCurrentDoc\n",
    "  *\n",
    "  * The above comment directs Apps Script to limit the scope of file\n",
    "  * access for this add-on. It specifies that this add-on will only\n",
    "  * attempt to read or modify the files in which the add-on is used,\n",
    "  * and not all of the user's files. The authorization request message\n",
    "  * presented to users will reflect this limited scope.\n",
    "  */\n",
    "\n",
    "  /**\n",
    "  * Creates a menu entry in the Google Docs UI when the document is\n",
    "  * opened.\n",
    "  *\n",
    "  */\n",
    "  function onOpen() {\n",
    "    var ui = DocumentApp.getUi();\n",
    "    ui.createMenu('Natural Language Tools')\n",
    "      .addItem('Mark Sentiment', 'markSentiment')\n",
    "      .addToUi();\n",
    "  }\n",
    "  /**\n",
    "  * Gets the user-selected text and highlights it based on sentiment\n",
    "  * with green for positive sentiment, red for negative, and yellow\n",
    "  * for neutral.\n",
    "  *\n",
    "  */\n",
    "  function markSentiment() {\n",
    "    var POSITIVE_COLOR = '#00ff00';  //  Colors for sentiments\n",
    "    var NEGATIVE_COLOR = '#ff0000';\n",
    "    var NEUTRAL_COLOR = '#ffff00';\n",
    "    var NEGATIVE_CUTOFF = -0.2;   //  Thresholds for sentiments\n",
    "    var POSITIVE_CUTOFF = 0.2;\n",
    "\n",
    "    var selection = DocumentApp.getActiveDocument().getSelection();\n",
    "    if (selection) {\n",
    "      var string = getSelectedText();\n",
    "\n",
    "      var sentiment = retrieveSentiment(string);\n",
    "\n",
    "      //  Select the appropriate color\n",
    "      var color = NEUTRAL_COLOR;\n",
    "      if (sentiment <= NEGATIVE_CUTOFF) {\n",
    "        color = NEGATIVE_COLOR;\n",
    "      }\n",
    "      if (sentiment >= POSITIVE_CUTOFF) {\n",
    "        color = POSITIVE_COLOR;\n",
    "      }\n",
    "\n",
    "      //  Highlight the text\n",
    "      var elements = selection.getSelectedElements();\n",
    "      for (var i = 0; i < elements.length; i++) {\n",
    "        if (elements[i].isPartial()) {\n",
    "          var element = elements[i].getElement().editAsText();\n",
    "          var startIndex = elements[i].getStartOffset();\n",
    "          var endIndex = elements[i].getEndOffsetInclusive();\n",
    "          element.setBackgroundColor(startIndex, endIndex, color);\n",
    "\n",
    "        } else {\n",
    "          var element = elements[i].getElement().editAsText();\n",
    "          foundText = elements[i].getElement().editAsText();\n",
    "          foundText.setBackgroundColor(color);\n",
    "        }\n",
    "      }\n",
    "    }\n",
    "  }\n",
    "  /**\n",
    "  * Returns a string with the contents of the selected text.\n",
    "  * If no text is selected, returns an empty string.\n",
    "  */\n",
    "  function getSelectedText() {\n",
    "    var selection = DocumentApp.getActiveDocument().getSelection();\n",
    "    var string = \"\";\n",
    "    if (selection) {\n",
    "      var elements = selection.getSelectedElements();\n",
    "\n",
    "      for (var i = 0; i < elements.length; i++) {\n",
    "        if (elements[i].isPartial()) {\n",
    "          var element = elements[i].getElement().asText();\n",
    "          var startIndex = elements[i].getStartOffset();\n",
    "          var endIndex = elements[i].getEndOffsetInclusive() + 1;\n",
    "          var text = element.getText().substring(startIndex, endIndex);\n",
    "          string = string + text;\n",
    "\n",
    "        } else {\n",
    "          var element = elements[i].getElement();\n",
    "          // Only translate elements that can be edited as text; skip\n",
    "          // images and other non-text elements.\n",
    "          if (element.editAsText) {\n",
    "            string = string + element.asText().getText();\n",
    "          }\n",
    "        }\n",
    "      }\n",
    "    }\n",
    "    return string;\n",
    "  }\n",
    "\n",
    "  /** Given a string, will call the Natural Language API and retrieve\n",
    "    * the sentiment of the string.  The sentiment will be a real\n",
    "    * number in the range -1 to 1, where -1 is highly negative\n",
    "    * sentiment and 1 is highly positive.\n",
    "  */\n",
    "  function retrieveSentiment (line) {\n",
    "  var apiKey = \"?your key here?\";\n",
    "  var apiEndpoint =\n",
    "'https://language.googleapis.com/v1/documents:analyzeSentiment?key='\n",
    "+ apiKey;\n",
    "  //  Create a structure with the text, its language, its type,\n",
    "  //  and its encoding\n",
    "  var docDetails = {\n",
    "    language: 'en-us',\n",
    "    type: 'PLAIN_TEXT',\n",
    "    content: line\n",
    "  };\n",
    "  var nlData = {\n",
    "    document: docDetails,\n",
    "    encodingType: 'UTF8'\n",
    "  };\n",
    "  //  Package all of the options and the data together for the call\n",
    "  var nlOptions = {\n",
    "    method : 'post',\n",
    "    contentType: 'application/json',\n",
    "    payload : JSON.stringify(nlData)\n",
    "  };\n",
    "  //  And make the call\n",
    "  var response = UrlFetchApp.fetch(apiEndpoint, nlOptions);\n",
    "  var data = JSON.parse(response);\n",
    "  var sentiment = 0.0;\n",
    "  //  Ensure all pieces were in the returned value\n",
    "  if (data && data.documentSentiment\n",
    "          && data.documentSentiment.score){\n",
    "     sentiment = data.documentSentiment.score;\n",
    "  }\n",
    "  return sentiment;\n",
    "}"
   ]
  },
  {
   "cell_type": "markdown",
   "id": "03c91b2a-a6fc-49d4-bfed-a4d2e93bcfe1",
   "metadata": {},
   "source": [
    "## Analyze syntax and parts of speech with the Natural Language API"
   ]
  },
  {
   "cell_type": "markdown",
   "id": "33c74c37-b328-41d1-a228-7b7c3f145bc7",
   "metadata": {},
   "source": [
    "1. Click **Navigation menu > Compute Engine** to connect via SSH to the VM instance.\n",
    "\n",
    "2. Click on the **SSH** button.\n",
    "\n",
    "3. In the command line, enter in the following:\n",
    "   export API_KEY=<YOUR_API_KEY?>\n",
    "\n",
    "4. Create a JSON file called **analyze-request.json** using the code that follows."
   ]
  },
  {
   "cell_type": "code",
   "execution_count": null,
   "id": "59d1d696-b174-4e08-936a-46c6cbf092cf",
   "metadata": {},
   "outputs": [],
   "source": [
    "cat > analyze-request.json <<EOF\n",
    "{\n",
    "  \"document\":{\n",
    "    \"type\":\"PLAIN_TEXT\",\n",
    "    \"content\": \"Google, headquartered in Mountain View, unveiled the new Android phone at the Consumer Electronic Show.  Sundar Pichai said in his keynote that users love their new Android phones.\"\n",
    "  },\n",
    "  \"encodingType\": \"UTF8\"\n",
    "}\n",
    "EOF"
   ]
  },
  {
   "cell_type": "markdown",
   "id": "5a265c6e-f801-498c-87f8-9a34e071d278",
   "metadata": {},
   "source": [
    "5. Pass the following request to the **Natural Language API** using the **curl** command, and save the response in a file called **analyze-response.txt**"
   ]
  },
  {
   "cell_type": "code",
   "execution_count": null,
   "id": "e6b086a8-a5ad-41e2-bd23-f40b64277753",
   "metadata": {},
   "outputs": [],
   "source": [
    "curl \"https://language.googleapis.com/v1/documents:analyzeSyntax?key=${API_KEY}\" \\\n",
    "  -s -X POST -H \"Content-Type: application/json\" --data-binary @analyze-request.json > analyze-response.txt\n",
    "\n",
    "cat analyze-response.txt"
   ]
  },
  {
   "cell_type": "markdown",
   "id": "c434a9ac-d719-4cf1-b4aa-32f3d865cb95",
   "metadata": {},
   "source": [
    "## Task 4. Perform multilingual natural language processing"
   ]
  },
  {
   "cell_type": "markdown",
   "id": "f6a31dfd-b643-485e-bfcd-085479e0788c",
   "metadata": {},
   "source": [
    "1. Create a JSON file called **multi-nl-request.json** using the code that follows."
   ]
  },
  {
   "cell_type": "code",
   "execution_count": null,
   "id": "bafba57c-cbf0-44ad-8a18-b21baa223b9e",
   "metadata": {},
   "outputs": [],
   "source": [
    "cat > multi-nl-request.json <<EOF\n",
    "{\n",
    "  \"document\":{\n",
    "    \"type\":\"PLAIN_TEXT\",\n",
    "    \"content\":\"Le bureau japonais de Google est situé à Roppongi Hills, Tokyo.\"\n",
    "  }\n",
    "}\n",
    "EOF"
   ]
  },
  {
   "cell_type": "markdown",
   "id": "f69ce9df-ec62-48a2-9565-b56da229c0e8",
   "metadata": {},
   "source": [
    "2. Pass the following request to the **Natural Language API** using the **curl** command, and save the response in a file called **multi-response.txt**"
   ]
  },
  {
   "cell_type": "code",
   "execution_count": null,
   "id": "72170e41-8a89-476a-8db3-7acabf035451",
   "metadata": {},
   "outputs": [],
   "source": [
    "curl \"https://language.googleapis.com/v1/documents:analyzeEntities?key=${API_KEY}\" \\\n",
    "  -s -X POST -H \"Content-Type: application/json\" --data-binary @multi-nl-request.json > multi-response.txt\n",
    "\n",
    "cat multi-response.txt"
   ]
  }
 ],
 "metadata": {
  "kernelspec": {
   "display_name": "Python 3 (ipykernel)",
   "language": "python",
   "name": "python3"
  },
  "language_info": {
   "codemirror_mode": {
    "name": "ipython",
    "version": 3
   },
   "file_extension": ".py",
   "mimetype": "text/x-python",
   "name": "python",
   "nbconvert_exporter": "python",
   "pygments_lexer": "ipython3",
   "version": "3.11.0rc1"
  }
 },
 "nbformat": 4,
 "nbformat_minor": 5
}
