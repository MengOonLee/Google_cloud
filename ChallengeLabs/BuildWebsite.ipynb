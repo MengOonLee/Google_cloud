{
 "cells": [
  {
   "cell_type": "code",
   "execution_count": null,
   "id": "50f60752",
   "metadata": {},
   "outputs": [],
   "source": [
    "# Task 1: Build container\n",
    "\n",
    "export MonolithIdentifier=fancytest\n",
    "\n",
    "git clone https://github.com/googlecodelabs/monolith-to-microservices.git\n",
    "    \n",
    "cd ~/monolith-to-microservices\n",
    "./setup.sh\n",
    "nvm install --lts\n",
    "\n",
    "cd ~/monolith-to-microservices/monolith\n",
    "npm start\n",
    "\n",
    "gcloud services enable cloudbuild.googleapis.com\n",
    "gcloud builds submit --tag gcr.io/${GOOGLE_CLOUD_PROJECT}/$MonolithIdentifier:1.0.0 .\n",
    "    \n"
   ]
  }
 ],
 "metadata": {
  "kernelspec": {
   "display_name": "venv",
   "language": "python",
   "name": "venv"
  },
  "language_info": {
   "codemirror_mode": {
    "name": "ipython",
    "version": 3
   },
   "file_extension": ".py",
   "mimetype": "text/x-python",
   "name": "python",
   "nbconvert_exporter": "python",
   "pygments_lexer": "ipython3",
   "version": "3.8.10"
  }
 },
 "nbformat": 4,
 "nbformat_minor": 5
}
