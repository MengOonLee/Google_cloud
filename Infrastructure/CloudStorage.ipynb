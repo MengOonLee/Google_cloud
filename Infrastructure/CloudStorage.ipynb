{
 "cells": [
  {
   "cell_type": "markdown",
   "id": "4e4aa4c9-9c45-4951-839a-e34b153265ed",
   "metadata": {},
   "source": [
    "# Cloud Storage: CLI/SDK"
   ]
  },
  {
   "cell_type": "code",
   "execution_count": null,
   "id": "9c6e706e-0a90-42ad-a41e-00eed26f3cd4",
   "metadata": {},
   "outputs": [],
   "source": [
    "# Activate Cloud Shell\n",
    "\n",
    "gcloud auth list\n",
    "\n",
    "gcloud config list project\n",
    "\n",
    "gcloud config set compute/region \"REGION\""
   ]
  },
  {
   "cell_type": "code",
   "execution_count": null,
   "id": "f703655d-5873-4f51-9312-7739253a8631",
   "metadata": {},
   "outputs": [],
   "source": [
    "# Create a bucket\n",
    "\n",
    "gsutil mb gs://<YOUR-BUCKET-NAME>"
   ]
  },
  {
   "cell_type": "code",
   "execution_count": null,
   "id": "64ee0bc3-f370-441d-8b67-8da83597450b",
   "metadata": {},
   "outputs": [],
   "source": [
    "# Upload an object into bucket\n",
    "\n",
    "curl https://upload.wikimedia.org/wikipedia/commons/thumb/a/a4/Ada_Lovelace_portrait.jpg/800px-Ada_Lovelace_portrait.jpg \\\n",
    "    --output ada.jpg\n",
    "\n",
    "gsutil cp ada.jpg gs://YOUR-BUCKET-NAME"
   ]
  },
  {
   "cell_type": "code",
   "execution_count": null,
   "id": "b615a0ed-8414-4d62-8b8d-5dd26d934939",
   "metadata": {},
   "outputs": [],
   "source": [
    "# Download an object from bucket\n",
    "\n",
    "gsutil cp -r gs://YOUR-BUCKET-NAME/ada.jpg ."
   ]
  },
  {
   "cell_type": "code",
   "execution_count": null,
   "id": "99dcbcde-cefe-4b9e-af73-c67cdb7a19d2",
   "metadata": {},
   "outputs": [],
   "source": [
    "# Copy an object to a folder in the bucket\n",
    "\n",
    "gsutil cp gs://YOUR-BUCKET-NAME/ada.jpg gs://YOUR-BUCKET-NAME/image-folder/"
   ]
  },
  {
   "cell_type": "code",
   "execution_count": null,
   "id": "06413934-bfed-4363-970a-d33241f2cc9a",
   "metadata": {},
   "outputs": [],
   "source": [
    "# List contents of a bucket or folder\n",
    "\n",
    "gsutil ls gs://YOUR-BUCKET-NAME"
   ]
  },
  {
   "cell_type": "code",
   "execution_count": null,
   "id": "a0e20351-8807-4511-a30b-8d2feba8033b",
   "metadata": {},
   "outputs": [],
   "source": [
    "# List details for an object\n",
    "\n",
    "gsutil ls -l gs://YOUR-BUCKET-NAME/ada.jpg"
   ]
  },
  {
   "cell_type": "code",
   "execution_count": null,
   "id": "9df32d15-3402-47c8-8951-020bc68f7a70",
   "metadata": {},
   "outputs": [],
   "source": [
    "# Make object publicly accessible\n",
    "\n",
    "gsutil acl ch -u AllUsers:R gs://YOUR-BUCKET-NAME/ada.jpg"
   ]
  },
  {
   "cell_type": "code",
   "execution_count": null,
   "id": "d84c5d3c-bd5f-487c-abc0-8b5ef8448a41",
   "metadata": {},
   "outputs": [],
   "source": [
    "# Remove public access\n",
    "\n",
    "gsutil acl ch -d AllUsers gs://YOUR-BUCKET-NAME/ada.jpg"
   ]
  },
  {
   "cell_type": "code",
   "execution_count": null,
   "id": "aff9f00c-ae79-4106-aa5f-bd84444db314",
   "metadata": {},
   "outputs": [],
   "source": [
    "# Delete objects\n",
    "\n",
    "gsutil rm gs://YOUR-BUCKET-NAME/ada.jpg"
   ]
  }
 ],
 "metadata": {
  "kernelspec": {
   "display_name": "Python 3 (ipykernel)",
   "language": "python",
   "name": "python3"
  },
  "language_info": {
   "codemirror_mode": {
    "name": "ipython",
    "version": 3
   },
   "file_extension": ".py",
   "mimetype": "text/x-python",
   "name": "python",
   "nbconvert_exporter": "python",
   "pygments_lexer": "ipython3",
   "version": "3.11.0rc1"
  }
 },
 "nbformat": 4,
 "nbformat_minor": 5
}
