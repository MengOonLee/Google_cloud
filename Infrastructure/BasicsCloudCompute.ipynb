{
  "nbformat": 4,
  "nbformat_minor": 0,
  "metadata": {
    "colab": {
      "provenance": [],
      "authorship_tag": "ABX9TyNaCgv2nl+hH541f4aHZUoV",
      "include_colab_link": true
    },
    "kernelspec": {
      "name": "python3",
      "display_name": "Python 3"
    },
    "language_info": {
      "name": "python"
    }
  },
  "cells": [
    {
      "cell_type": "markdown",
      "metadata": {
        "id": "view-in-github",
        "colab_type": "text"
      },
      "source": [
        "<a href=\"https://colab.research.google.com/github/MengOonLee/Google_cloud/blob/main/Infrastructure/BasicsCloudCompute.ipynb\" target=\"_parent\"><img src=\"https://colab.research.google.com/assets/colab-badge.svg\" alt=\"Open In Colab\"/></a>"
      ]
    },
    {
      "cell_type": "markdown",
      "source": [
        "## Create a Virtual Machine"
      ],
      "metadata": {
        "id": "46YNgKBhY72Q"
      }
    },
    {
      "cell_type": "markdown",
      "source": [
        "### Task 1. Create a new instance from the Cloud console"
      ],
      "metadata": {
        "id": "lH7MCx77aRRL"
      }
    },
    {
      "cell_type": "code",
      "source": [
        "gcloud auth list\n",
        "\n",
        "gcloud config list project\n",
        "\n",
        "gcloud config set compute/region REGION\n",
        "\n",
        "export REGION=REGION\n",
        "\n",
        "export ZONE=Zone"
      ],
      "metadata": {
        "id": "Is-cF0h3YxVo"
      },
      "execution_count": null,
      "outputs": []
    },
    {
      "cell_type": "markdown",
      "source": [
        "### Task 2. Install an NGINX web server"
      ],
      "metadata": {
        "id": "ST9_9bHBaGXx"
      }
    },
    {
      "cell_type": "code",
      "source": [
        "sudo apt-get update\n",
        "\n",
        "sudo apt-get install -y nginx\n",
        "\n",
        "ps auwx | grep nginx"
      ],
      "metadata": {
        "id": "Q5U4FM3aZnbc"
      },
      "execution_count": null,
      "outputs": []
    },
    {
      "cell_type": "markdown",
      "source": [
        "### Task 3. Create a new instance with gcloud"
      ],
      "metadata": {
        "id": "LuXFUx_LaY3C"
      }
    },
    {
      "cell_type": "code",
      "source": [
        "gcloud compute instances create gcelab2 --machine-type e2-medium --zone=$ZONE\n",
        "\n",
        "gcloud compute instances create --help\n",
        "\n",
        "gcloud compute ssh gcelab2 --zone=Zone\n"
      ],
      "metadata": {
        "id": "39A_vyCaacFW"
      },
      "execution_count": null,
      "outputs": []
    },
    {
      "cell_type": "markdown",
      "source": [
        "## Creating a Persistent Disk"
      ],
      "metadata": {
        "id": "tFNoo0pfa4Di"
      }
    },
    {
      "cell_type": "code",
      "source": [
        "gcloud auth list\n",
        "\n",
        "gcloud config list project\n",
        "\n",
        "gcloud config set compute/zone Zone\n",
        "gcloud config set compute/region Region\n",
        "\n",
        "export REGION=Region\n",
        "\n",
        "export ZONE=Zone"
      ],
      "metadata": {
        "id": "4BcXGTOkbMJX"
      },
      "execution_count": null,
      "outputs": []
    },
    {
      "cell_type": "markdown",
      "source": [
        "### Task 1. Create a new instance"
      ],
      "metadata": {
        "id": "lj8OQwvObal_"
      }
    },
    {
      "cell_type": "code",
      "source": [
        "gcloud compute instances create gcelab --zone $ZONE --machine-type e2-standard-2"
      ],
      "metadata": {
        "id": "-KnMWQAubBM3"
      },
      "execution_count": null,
      "outputs": []
    },
    {
      "cell_type": "markdown",
      "source": [
        "### Task 2. Create a new persistent disk"
      ],
      "metadata": {
        "id": "ROHduUtYbliA"
      }
    },
    {
      "cell_type": "code",
      "source": [
        "gcloud compute disks create mydisk --size=200GB \\\n",
        "--zone $ZONE"
      ],
      "metadata": {
        "id": "uw9nE5WZbp1I"
      },
      "execution_count": null,
      "outputs": []
    },
    {
      "cell_type": "markdown",
      "source": [
        "### Task 3. Attaching a disk"
      ],
      "metadata": {
        "id": "jQ5q4sL5bxCA"
      }
    },
    {
      "cell_type": "code",
      "source": [
        "gcloud compute instances attach-disk gcelab --disk mydisk --zone $ZONE\n",
        "\n",
        "gcloud compute ssh gcelab --zone $ZONE\n",
        "\n",
        "ls -l /dev/disk/by-id/\n",
        "\n",
        "# Formatting and mounting the persistent disk\n",
        "\n",
        "sudo mkdir /mnt/mydisk\n",
        "\n",
        "sudo mkfs.ext4 -F -E lazy_itable_init=0,lazy_journal_init=0,discard /dev/disk/by-id/scsi-0Google_PersistentDisk_persistent-disk-1\n",
        "\n",
        "sudo mount -o discard,defaults /dev/disk/by-id/scsi-0Google_PersistentDisk_persistent-disk-1 /mnt/mydisk\n",
        "\n",
        "# Automatically mount the disk on restart\n",
        "\n",
        "sudo nano /etc/fstab\n",
        "\n",
        "/dev/disk/by-id/scsi-0Google_PersistentDisk_persistent-disk-1 /mnt/mydisk ext4 defaults 1 1"
      ],
      "metadata": {
        "id": "Pem3mFNKb2To"
      },
      "execution_count": null,
      "outputs": []
    },
    {
      "cell_type": "markdown",
      "source": [],
      "metadata": {
        "id": "IqAUX2qocmnU"
      }
    }
  ]
}