{
  "nbformat": 4,
  "nbformat_minor": 0,
  "metadata": {
    "colab": {
      "provenance": [],
      "authorship_tag": "ABX9TyNH/LegohN0avr+c5rfsMfP",
      "include_colab_link": true
    },
    "kernelspec": {
      "name": "python3",
      "display_name": "Python 3"
    },
    "language_info": {
      "name": "python"
    }
  },
  "cells": [
    {
      "cell_type": "markdown",
      "metadata": {
        "id": "view-in-github",
        "colab_type": "text"
      },
      "source": [
        "<a href=\"https://colab.research.google.com/github/MengOonLee/Google_cloud/blob/main/Infrastructure/BasicsCloudCompute.ipynb\" target=\"_parent\"><img src=\"https://colab.research.google.com/assets/colab-badge.svg\" alt=\"Open In Colab\"/></a>"
      ]
    },
    {
      "cell_type": "markdown",
      "source": [
        "## Create a Virtual Machine"
      ],
      "metadata": {
        "id": "46YNgKBhY72Q"
      }
    },
    {
      "cell_type": "markdown",
      "source": [
        "### Task 1. Create a new instance from the Cloud console"
      ],
      "metadata": {
        "id": "lH7MCx77aRRL"
      }
    },
    {
      "cell_type": "code",
      "source": [
        "gcloud auth list\n",
        "\n",
        "gcloud config list project\n",
        "\n",
        "gcloud config set compute/region REGION\n",
        "\n",
        "export REGION=REGION\n",
        "\n",
        "export ZONE=Zone"
      ],
      "metadata": {
        "id": "Is-cF0h3YxVo"
      },
      "execution_count": null,
      "outputs": []
    },
    {
      "cell_type": "markdown",
      "source": [
        "### Task 2. Install an NGINX web server"
      ],
      "metadata": {
        "id": "ST9_9bHBaGXx"
      }
    },
    {
      "cell_type": "code",
      "source": [
        "sudo apt-get update\n",
        "\n",
        "sudo apt-get install -y nginx\n",
        "\n",
        "ps auwx | grep nginx"
      ],
      "metadata": {
        "id": "Q5U4FM3aZnbc"
      },
      "execution_count": null,
      "outputs": []
    },
    {
      "cell_type": "markdown",
      "source": [
        "### Task 3. Create a new instance with gcloud"
      ],
      "metadata": {
        "id": "LuXFUx_LaY3C"
      }
    },
    {
      "cell_type": "code",
      "source": [
        "gcloud compute instances create gcelab2 --machine-type e2-medium --zone=$ZONE\n",
        "\n",
        "gcloud compute instances create --help\n",
        "\n",
        "gcloud compute ssh gcelab2 --zone=Zone\n"
      ],
      "metadata": {
        "id": "39A_vyCaacFW"
      },
      "execution_count": null,
      "outputs": []
    },
    {
      "cell_type": "markdown",
      "source": [
        "## Creating a Persistent Disk"
      ],
      "metadata": {
        "id": "tFNoo0pfa4Di"
      }
    },
    {
      "cell_type": "code",
      "source": [
        "gcloud auth list\n",
        "\n",
        "gcloud config list project\n",
        "\n",
        "gcloud config set compute/zone Zone\n",
        "gcloud config set compute/region Region\n",
        "\n",
        "export REGION=Region\n",
        "\n",
        "export ZONE=Zone"
      ],
      "metadata": {
        "id": "4BcXGTOkbMJX"
      },
      "execution_count": null,
      "outputs": []
    },
    {
      "cell_type": "markdown",
      "source": [
        "### Task 1. Create a new instance"
      ],
      "metadata": {
        "id": "lj8OQwvObal_"
      }
    },
    {
      "cell_type": "code",
      "source": [
        "gcloud compute instances create gcelab --zone $ZONE --machine-type e2-standard-2"
      ],
      "metadata": {
        "id": "-KnMWQAubBM3"
      },
      "execution_count": null,
      "outputs": []
    },
    {
      "cell_type": "markdown",
      "source": [
        "### Task 2. Create a new persistent disk"
      ],
      "metadata": {
        "id": "ROHduUtYbliA"
      }
    },
    {
      "cell_type": "code",
      "source": [
        "gcloud compute disks create mydisk --size=200GB \\\n",
        "--zone $ZONE"
      ],
      "metadata": {
        "id": "uw9nE5WZbp1I"
      },
      "execution_count": null,
      "outputs": []
    },
    {
      "cell_type": "markdown",
      "source": [
        "### Task 3. Attaching a disk"
      ],
      "metadata": {
        "id": "jQ5q4sL5bxCA"
      }
    },
    {
      "cell_type": "code",
      "source": [
        "gcloud compute instances attach-disk gcelab --disk mydisk --zone $ZONE\n",
        "\n",
        "\n",
        "gcloud compute ssh gcelab --zone $ZONE\n",
        "\n",
        "\n",
        "ls -l /dev/disk/by-id/\n",
        "\n",
        "# Formatting and mounting the persistent disk\n",
        "\n",
        "sudo mkdir /mnt/mydisk\n",
        "\n",
        "sudo mkfs.ext4 -F -E lazy_itable_init=0,lazy_journal_init=0,discard /dev/disk/by-id/scsi-0Google_PersistentDisk_persistent-disk-1\n",
        "\n",
        "sudo mount -o discard,defaults /dev/disk/by-id/scsi-0Google_PersistentDisk_persistent-disk-1 /mnt/mydisk\n",
        "\n",
        "# Automatically mount the disk on restart\n",
        "\n",
        "sudo nano /etc/fstab\n",
        "\n",
        "/dev/disk/by-id/scsi-0Google_PersistentDisk_persistent-disk-1 /mnt/mydisk ext4 defaults 1 1"
      ],
      "metadata": {
        "id": "Pem3mFNKb2To"
      },
      "execution_count": null,
      "outputs": []
    },
    {
      "cell_type": "markdown",
      "source": [
        "## Host a Web App on Google Cloud Using Compute Engine"
      ],
      "metadata": {
        "id": "IqAUX2qocmnU"
      }
    },
    {
      "cell_type": "code",
      "source": [
        "gcloud auth list\n",
        "\n",
        "gcloud config list project\n",
        "\n",
        "gcloud config set compute/zone \"ZONE\"\n",
        "export ZONE=$(gcloud config get compute/zone)\n",
        "\n",
        "gcloud config set compute/region \"REGION\"\n",
        "export REGION=$(gcloud config get compute/region)"
      ],
      "metadata": {
        "id": "3zo4PiV5dMWc"
      },
      "execution_count": null,
      "outputs": []
    },
    {
      "cell_type": "markdown",
      "source": [
        "### Task 1. Enable the Compute Engine API"
      ],
      "metadata": {
        "id": "Q1FtC-QDddun"
      }
    },
    {
      "cell_type": "code",
      "source": [
        "gcloud services enable compute.googleapis.com"
      ],
      "metadata": {
        "id": "F-3AkPUudiE2"
      },
      "execution_count": null,
      "outputs": []
    },
    {
      "cell_type": "markdown",
      "source": [
        "### Task 2. Create a Cloud Storage bucket"
      ],
      "metadata": {
        "id": "aq_oO7KgdmyC"
      }
    },
    {
      "cell_type": "code",
      "source": [
        "gsutil mb gs://fancy-store-Project ID"
      ],
      "metadata": {
        "id": "INMjmT0Ud6Km"
      },
      "execution_count": null,
      "outputs": []
    },
    {
      "cell_type": "markdown",
      "source": [
        "### Task 3. Clone a source repository"
      ],
      "metadata": {
        "id": "l1CNpazpdzix"
      }
    },
    {
      "cell_type": "code",
      "source": [
        "git clone https://github.com/googlecodelabs/monolith-to-microservices.git\n",
        "\n",
        "cd ~/monolith-to-microservices\n",
        "\n",
        "./setup.sh\n",
        "\n",
        "nvm install --lts\n",
        "\n",
        "cd microservices\n",
        "npm start\n",
        "\n",
        "gcloud services enable cloudaicompanion.googleapis.com"
      ],
      "metadata": {
        "id": "jwLODe3xdwNR"
      },
      "execution_count": null,
      "outputs": []
    },
    {
      "cell_type": "markdown",
      "source": [
        "### Task 4. Create the Compute Engine instances"
      ],
      "metadata": {
        "id": "WScjtyF1eSHG"
      }
    },
    {
      "cell_type": "code",
      "source": [
        "touch ~/monolith-to-microservices/startup-script.sh\n",
        "\n",
        "gsutil cp ~/monolith-to-microservices/startup-script.sh gs://fancy-store-Project ID\n",
        "\n",
        "cd ~\n",
        "rm -rf monolith-to-microservices/*/node_modules\n",
        "gsutil -m cp -r monolith-to-microservices gs://fancy-store-Project ID/\n",
        "\n",
        "gcloud compute instances create backend \\\n",
        "    --zone=zone \\\n",
        "    --machine-type=e2-standard-2 \\\n",
        "    --tags=backend \\\n",
        "   --metadata=startup-script-url=https://storage.googleapis.com/fancy-store-Project ID/startup-script.sh\n",
        "\n",
        "gcloud compute instances list\n",
        "\n",
        "cd ~/monolith-to-microservices/react-app\n",
        "npm install && npm run-script build\n",
        "\n",
        "cd ~\n",
        "rm -rf monolith-to-microservices/*/node_modules\n",
        "gsutil -m cp -r monolith-to-microservices gs://fancy-store-Project ID/\n",
        "\n",
        "gcloud compute instances create frontend \\\n",
        "    --zone=zone \\\n",
        "    --machine-type=e2-standard-2 \\\n",
        "    --tags=frontend \\\n",
        "    --metadata=startup-script-url=https://storage.googleapis.com/fancy-store-Project ID/startup-script.sh\n",
        "\n",
        "gcloud compute firewall-rules create fw-fe \\\n",
        "    --allow tcp:8080 \\\n",
        "    --target-tags=frontend\n",
        "\n",
        "gcloud compute firewall-rules create fw-be \\\n",
        "    --allow tcp:8081-8082 \\\n",
        "    --target-tags=backend\n",
        "\n",
        "gcloud compute instances list"
      ],
      "metadata": {
        "id": "0AOHPGlaetil"
      },
      "execution_count": null,
      "outputs": []
    },
    {
      "cell_type": "markdown",
      "source": [
        "### Task 5. Create managed instance groups"
      ],
      "metadata": {
        "id": "f0lrPNRCfUdC"
      }
    },
    {
      "cell_type": "code",
      "source": [
        "gcloud compute instances stop frontend --zone=zone\n",
        "\n",
        "gcloud compute instances stop backend --zone=zone\n",
        "\n",
        "gcloud compute instance-templates create fancy-fe \\\n",
        "    --source-instance-zone=zone \\\n",
        "    --source-instance=frontend\n",
        "\n",
        "gcloud compute instance-templates create fancy-be \\\n",
        "    --source-instance-zone=zone \\\n",
        "    --source-instance=backend\n",
        "\n",
        "gcloud compute instance-templates list\n",
        "\n",
        "gcloud compute instances delete backend --zone=zone\n",
        "\n",
        "gcloud compute instance-groups managed create fancy-fe-mig \\\n",
        "    --zone=zone \\\n",
        "    --base-instance-name fancy-fe \\\n",
        "    --size 2 \\\n",
        "    --template fancy-fe\n",
        "\n",
        "gcloud compute instance-groups managed create fancy-be-mig \\\n",
        "    --zone=zone \\\n",
        "    --base-instance-name fancy-be \\\n",
        "    --size 2 \\\n",
        "    --template fancy-be\n",
        "\n",
        "gcloud compute instance-groups set-named-ports fancy-fe-mig \\\n",
        "    --zone=zone \\\n",
        "    --named-ports frontend:8080\n",
        "\n",
        "gcloud compute instance-groups set-named-ports fancy-be-mig \\\n",
        "    --zone=zone \\\n",
        "    --named-ports orders:8081,products:8082\n",
        "\n",
        "gcloud compute health-checks create http fancy-fe-hc \\\n",
        "    --port 8080 \\\n",
        "    --check-interval 30s \\\n",
        "    --healthy-threshold 1 \\\n",
        "    --timeout 10s \\\n",
        "    --unhealthy-threshold 3\n",
        "\n",
        "gcloud compute health-checks create http fancy-be-hc \\\n",
        "    --port 8081 \\\n",
        "    --request-path=/api/orders \\\n",
        "    --check-interval 30s \\\n",
        "    --healthy-threshold 1 \\\n",
        "    --timeout 10s \\\n",
        "    --unhealthy-threshold 3\n",
        "\n",
        "gcloud compute firewall-rules create allow-health-check \\\n",
        "    --allow tcp:8080-8081 \\\n",
        "    --source-ranges 130.211.0.0/22,35.191.0.0/16 \\\n",
        "    --network default\n",
        "\n",
        "gcloud compute instance-groups managed update fancy-fe-mig \\\n",
        "    --zone=zone \\\n",
        "    --health-check fancy-fe-hc \\\n",
        "    --initial-delay 300\n",
        "\n",
        "gcloud compute instance-groups managed update fancy-be-mig \\\n",
        "    --zone=zone \\\n",
        "    --health-check fancy-be-hc \\\n",
        "    --initial-delay 300"
      ],
      "metadata": {
        "id": "6GSZ_GRFewxI"
      },
      "execution_count": null,
      "outputs": []
    },
    {
      "cell_type": "markdown",
      "source": [
        "### Task 6. Create load balancers"
      ],
      "metadata": {
        "id": "A1-PXtm7gHKi"
      }
    },
    {
      "cell_type": "code",
      "source": [
        "gcloud compute http-health-checks create fancy-fe-frontend-hc \\\n",
        "  --request-path / \\\n",
        "  --port 8080\n",
        "\n",
        "gcloud compute http-health-checks create fancy-be-orders-hc \\\n",
        "  --request-path /api/orders \\\n",
        "  --port 8081\n",
        "\n",
        "gcloud compute http-health-checks create fancy-be-products-hc \\\n",
        "  --request-path /api/products \\\n",
        "  --port 8082\n",
        "\n",
        "gcloud compute backend-services create fancy-fe-frontend \\\n",
        "  --http-health-checks fancy-fe-frontend-hc \\\n",
        "  --port-name frontend \\\n",
        "  --global\n",
        "\n",
        "gcloud compute backend-services create fancy-be-orders \\\n",
        "  --http-health-checks fancy-be-orders-hc \\\n",
        "  --port-name orders \\\n",
        "  --global\n",
        "\n",
        "gcloud compute backend-services create fancy-be-products \\\n",
        "  --http-health-checks fancy-be-products-hc \\\n",
        "  --port-name products \\\n",
        "  --global\n",
        "\n",
        "gcloud compute backend-services add-backend fancy-fe-frontend \\\n",
        "  --instance-group-zone=zone \\\n",
        "  --instance-group fancy-fe-mig \\\n",
        "  --global\n",
        "\n",
        "gcloud compute backend-services add-backend fancy-be-orders \\\n",
        "  --instance-group-zone=zone \\\n",
        "  --instance-group fancy-be-mig \\\n",
        "  --global\n",
        "\n",
        "gcloud compute backend-services add-backend fancy-be-products \\\n",
        "  --instance-group-zone=zone \\\n",
        "  --instance-group fancy-be-mig \\\n",
        "  --global\n",
        "\n",
        "gcloud compute url-maps create fancy-map \\\n",
        "  --default-service fancy-fe-frontend\n",
        "\n",
        "gcloud compute url-maps add-path-matcher fancy-map \\\n",
        "   --default-service fancy-fe-frontend \\\n",
        "   --path-matcher-name orders \\\n",
        "   --path-rules \"/api/orders=fancy-be-orders,/api/products=fancy-be-products\"\n",
        "\n",
        "gcloud compute target-http-proxies create fancy-proxy \\\n",
        "  --url-map fancy-map\n",
        "\n",
        "gcloud compute forwarding-rules create fancy-http-rule \\\n",
        "  --global \\\n",
        "  --target-http-proxy fancy-proxy \\\n",
        "  --ports 80\n",
        "\n",
        "cd ~/monolith-to-microservices/react-app/\n",
        "\n",
        "gcloud compute forwarding-rules list --global\n",
        "\n",
        "cd ~/monolith-to-microservices/react-app\n",
        "npm install && npm run-script build\n",
        "\n",
        "cd ~\n",
        "rm -rf monolith-to-microservices/*/node_modules\n",
        "gsutil -m cp -r monolith-to-microservices gs://fancy-store-Project ID/\n",
        "\n",
        "gcloud compute instance-groups managed rolling-action replace fancy-fe-mig \\\n",
        "    --zone=zone \\\n",
        "    --max-unavailable 100%\n",
        "\n",
        "watch -n 2 gcloud compute backend-services get-health fancy-fe-frontend --global"
      ],
      "metadata": {
        "id": "N6UlgR1MgKnV"
      },
      "execution_count": null,
      "outputs": []
    },
    {
      "cell_type": "markdown",
      "source": [
        "### Task 7. Scale Compute Engine"
      ],
      "metadata": {
        "id": "GjDLPAqehCsb"
      }
    },
    {
      "cell_type": "code",
      "source": [
        "gcloud compute instance-groups managed set-autoscaling \\\n",
        "  fancy-fe-mig \\\n",
        "  --zone=zone \\\n",
        "  --max-num-replicas 2 \\\n",
        "  --target-load-balancing-utilization 0.60\n",
        "\n",
        "gcloud compute instance-groups managed set-autoscaling \\\n",
        "  fancy-be-mig \\\n",
        "  --zone=zone \\\n",
        "  --max-num-replicas 2 \\\n",
        "  --target-load-balancing-utilization 0.60\n",
        "\n",
        "gcloud compute backend-services update fancy-fe-frontend \\\n",
        "    --enable-cdn --global"
      ],
      "metadata": {
        "id": "CjGX5rywhI7q"
      },
      "execution_count": null,
      "outputs": []
    },
    {
      "cell_type": "markdown",
      "source": [
        "### Task 8. Update the website"
      ],
      "metadata": {
        "id": "jn2_W9BthZqV"
      }
    },
    {
      "cell_type": "code",
      "source": [
        "gcloud compute instances set-machine-type frontend \\\n",
        "  --zone=zone \\\n",
        "  --machine-type e2-small\n",
        "\n",
        "gcloud compute instance-templates create fancy-fe-new \\\n",
        "    --region=$REGION \\\n",
        "    --source-instance=frontend \\\n",
        "    --source-instance-zone=zone\n",
        "\n",
        "gcloud compute instance-groups managed rolling-action start-update fancy-fe-mig \\\n",
        "  --zone=zone \\\n",
        "  --version template=fancy-fe-new\n",
        "\n",
        "watch -n 2 gcloud compute instance-groups managed list-instances fancy-fe-mig \\\n",
        "  --zone=zone\n",
        "\n",
        "gcloud compute instances describe [VM_NAME] --zone=zone | grep machineType\n",
        "\n",
        "cd ~/monolith-to-microservices/react-app/src/pages/Home\n",
        "mv index.js.new index.js\n",
        "\n",
        "cat ~/monolith-to-microservices/react-app/src/pages/Home/index.js\n",
        "\n",
        "cd ~/monolith-to-microservices/react-app\n",
        "npm install && npm run-script build\n",
        "\n",
        "cd ~\n",
        "rm -rf monolith-to-microservices/*/node_modules\n",
        "gsutil -m cp -r monolith-to-microservices gs://fancy-store-Project ID/\n",
        "\n",
        "gcloud compute instance-groups managed rolling-action replace fancy-fe-mig \\\n",
        "  --zone=zone \\\n",
        "  --max-unavailable=100%\n",
        "\n",
        "watch -n 2 gcloud compute backend-services get-health fancy-fe-frontend --global\n",
        "\n",
        "gcloud compute forwarding-rules list --global\n",
        "\n",
        "gcloud compute instance-groups list-instances fancy-fe-mig --zone=zone\n",
        "\n",
        "gcloud compute ssh [INSTANCE_NAME] --zone=zone\n",
        "\n",
        "sudo supervisorctl stop nodeapp; sudo killall node\n",
        "\n",
        "exit\n",
        "\n",
        "watch -n 2 gcloud compute operations list \\\n",
        "--filter='operationType~compute.instances.repair.*'"
      ],
      "metadata": {
        "id": "8zBhAqWGhdrh"
      },
      "execution_count": null,
      "outputs": []
    },
    {
      "cell_type": "markdown",
      "source": [
        "## The Basics of Google Cloud Compute: Challenge Lab"
      ],
      "metadata": {
        "id": "cAirw7YpkH3b"
      }
    },
    {
      "cell_type": "markdown",
      "source": [
        "### Task 1. Create a Cloud Storage bucket"
      ],
      "metadata": {
        "id": "Rce3g5nYkQBQ"
      }
    },
    {
      "cell_type": "code",
      "source": [
        "gcloud auth list\n",
        "\n",
        "gcloud config list project\n",
        "\n",
        "gcloud config set compute/zone Zone\n",
        "gcloud config set compute/region Region\n",
        "\n",
        "export REGION=Region\n",
        "\n",
        "export ZONE=Zone\n",
        "\n",
        "gsutil mb gs://fancy-store-Project ID"
      ],
      "metadata": {
        "id": "ljTS1mbHkMhG"
      },
      "execution_count": null,
      "outputs": []
    },
    {
      "cell_type": "markdown",
      "source": [
        "### Task 2. Create and attach a persistent disk to a Compute Engine instance"
      ],
      "metadata": {
        "id": "BgkDiNREkXL8"
      }
    },
    {
      "cell_type": "code",
      "source": [
        "gcloud compute instances create gcelab --zone $ZONE --machine-type e2-standard-2\n",
        "\n",
        "gcloud compute disks create mydisk --size=200GB \\\n",
        "--zone $ZONE\n",
        "\n",
        "gcloud compute instances attach-disk gcelab --disk mydisk --zone $ZONE\n",
        "\n",
        "gcloud compute ssh gcelab --zone $ZONE\n",
        "\n",
        "\n",
        "ls -l /dev/disk/by-id/\n",
        "\n",
        "# Formatting and mounting the persistent disk\n",
        "\n",
        "sudo mkdir /mnt/mydisk\n",
        "\n",
        "sudo mkfs.ext4 -F -E lazy_itable_init=0,lazy_journal_init=0,discard /dev/disk/by-id/scsi-0Google_PersistentDisk_persistent-disk-1\n",
        "\n",
        "sudo mount -o discard,defaults /dev/disk/by-id/scsi-0Google_PersistentDisk_persistent-disk-1 /mnt/mydisk\n",
        "\n",
        "# Automatically mount the disk on restart\n",
        "\n",
        "sudo nano /etc/fstab\n",
        "\n",
        "/dev/disk/by-id/scsi-0Google_PersistentDisk_persistent-disk-1 /mnt/mydisk ext4 defaults 1 1"
      ],
      "metadata": {
        "id": "Hv_vqF97kbU_"
      },
      "execution_count": null,
      "outputs": []
    },
    {
      "cell_type": "markdown",
      "source": [
        "### Task 3. Install a NGINX web server"
      ],
      "metadata": {
        "id": "333lK7WTkcEH"
      }
    },
    {
      "cell_type": "code",
      "source": [],
      "metadata": {
        "id": "rkW2jjh4kgeN"
      },
      "execution_count": null,
      "outputs": []
    }
  ]
}