{
 "cells": [
  {
   "cell_type": "markdown",
   "id": "f01b4383-665a-4457-a98f-eb5cd257ab8d",
   "metadata": {},
   "source": [
    "# Build and Optimize Data Warehouses with BigQuery"
   ]
  },
  {
   "cell_type": "code",
   "execution_count": 1,
   "id": "516805ca-3f39-43d3-bbd3-0a3b825f67fe",
   "metadata": {
    "tags": []
   },
   "outputs": [],
   "source": [
    "%%bash\n",
    "\n",
    "python3 -m pip install -q -U pip setuptools wheel\n",
    "python3 -m pip install -q -U numpy pandas matplotlib seaborn pyarrow tqdm\n",
    "python3 -m pip install -q -U google-cloud-bigquery google-cloud-bigquery-storage"
   ]
  },
  {
   "cell_type": "code",
   "execution_count": 2,
   "id": "d67b203f-f9dc-49c5-a6c1-7b06bd2e244b",
   "metadata": {},
   "outputs": [],
   "source": [
    "import os\n",
    "from google.cloud import bigquery\n",
    "\n",
    "os.environ[\"GOOGLE_APPLICATION_CREDENTIALS\"] = \"/home/meng/work/.GCP_SA/mlee-claritas-bigdata-poc.json\""
   ]
  },
  {
   "cell_type": "code",
   "execution_count": 3,
   "id": "41afc744-ef50-4a9e-80a8-ba107b6569b7",
   "metadata": {},
   "outputs": [],
   "source": [
    "%load_ext google.cloud.bigquery"
   ]
  },
  {
   "cell_type": "markdown",
   "id": "68752804-01fb-4389-aa8e-b08a656ed39d",
   "metadata": {},
   "source": [
    "## BigQuery command-line"
   ]
  },
  {
   "cell_type": "code",
   "execution_count": null,
   "id": "a1d35b77-d0bf-4e62-8826-54b731ce6fd1",
   "metadata": {},
   "outputs": [],
   "source": [
    "bq query --use_legacy_sql=false \\\n",
    "\"\"\"SELECT\n",
    "   word,\n",
    "   SUM(word_count) AS count\n",
    " FROM\n",
    "   `bigquery-public-data.samples.shakespeare`\n",
    " WHERE\n",
    "   word LIKE \"%raisin%\"\n",
    " GROUP BY\n",
    "   word\"\"\""
   ]
  },
  {
   "cell_type": "code",
   "execution_count": null,
   "id": "29939786-842f-4834-a119-f9085ed675e6",
   "metadata": {},
   "outputs": [],
   "source": [
    "# Create a new dataset\n",
    "bq mk babynames\n",
    "\n",
    "# Create table\n",
    "bq load babynames.names2010 yob2010.txt \\\n",
    "name:string,gender:string,count:integer\n",
    "\n",
    "# Remove dataset\n",
    "bq rm -r babynames"
   ]
  },
  {
   "cell_type": "markdown",
   "id": "22329a0c-0815-4e48-be9f-6da90aafcaf2",
   "metadata": {},
   "source": [
    "## Joins & Unions"
   ]
  },
  {
   "cell_type": "code",
   "execution_count": null,
   "id": "eff8ae20-9cc0-48ee-a3a1-6828ef6ee993",
   "metadata": {
    "tags": []
   },
   "outputs": [],
   "source": [
    "# calculate ratio and filter\n",
    "SELECT DISTINCT\n",
    "  website.productSKU,\n",
    "  website.total_ordered,\n",
    "  inventory.name,\n",
    "  inventory.stockLevel,\n",
    "  inventory.restockingLeadTime,\n",
    "  inventory.sentimentScore,\n",
    "  inventory.sentimentMagnitude,\n",
    "  SAFE_DIVIDE(website.total_ordered, inventory.stockLevel) AS ratio\n",
    "FROM\n",
    "  ecommerce.sales_by_sku_20170801 AS website\n",
    "  LEFT JOIN `data-to-insights.ecommerce.products` AS inventory\n",
    "  ON website.productSKU = inventory.SKU\n",
    "# gone through more than 50% of inventory for the month\n",
    "WHERE SAFE_DIVIDE(website.total_ordered,inventory.stockLevel) >= .50\n",
    "ORDER BY total_ordered DESC"
   ]
  },
  {
   "cell_type": "code",
   "execution_count": null,
   "id": "741d37cc-f80a-4ef0-bbf4-7c752c3b97ed",
   "metadata": {},
   "outputs": [],
   "source": [
    "# Insert the sales record\n",
    "INSERT INTO ecommerce.sales_by_sku_20170802\n",
    "(productSKU, total_ordered)\n",
    "VALUES('GGOEGHPA002910', 101)"
   ]
  },
  {
   "cell_type": "markdown",
   "id": "35681c08-f599-43a4-a49d-cfa14bc7caa9",
   "metadata": {},
   "source": [
    "The difference between a `UNION` and `UNION ALL` is that a `UNION` will not include duplicate records."
   ]
  },
  {
   "cell_type": "code",
   "execution_count": null,
   "id": "c24a38cb-263f-41f1-94e8-ca94f8a615d3",
   "metadata": {},
   "outputs": [],
   "source": [
    "SELECT * FROM ecommerce.sales_by_sku_20170801\n",
    "UNION ALL\n",
    "SELECT * FROM ecommerce.sales_by_sku_20170802"
   ]
  },
  {
   "cell_type": "code",
   "execution_count": null,
   "id": "27be563c-da21-4306-9992-c779ee99fa33",
   "metadata": {},
   "outputs": [],
   "source": [
    "# Use the table wildcard filter and _TABLE_SUFFIX filter\n",
    "SELECT * FROM `ecommerce.sales_by_sku_2017*`\n",
    "WHERE _TABLE_SUFFIX = '0802'"
   ]
  },
  {
   "cell_type": "markdown",
   "id": "14f9ceae-c945-4628-b826-9bbe832e17be",
   "metadata": {},
   "source": [
    "## Date-Partitioned Tables"
   ]
  },
  {
   "cell_type": "code",
   "execution_count": null,
   "id": "0e34b33a-a61c-4ab9-bdb5-ca6c56d6f674",
   "metadata": {},
   "outputs": [],
   "source": [
    "# Create a new partitioned table based on date\n",
    "CREATE OR REPLACE TABLE ecommerce.partition_by_day\n",
    "PARTITION BY date_formatted\n",
    "OPTIONS(\n",
    "  description=\"a table partitioned by date\"\n",
    ") AS\n",
    "SELECT DISTINCT\n",
    "  PARSE_DATE(\"%Y%m%d\", date) AS date_formatted,\n",
    "  fullvisitorId\n",
    "FROM `data-to-insights.ecommerce.all_sessions_raw`"
   ]
  },
  {
   "cell_type": "code",
   "execution_count": null,
   "id": "66af404d-0fc7-43c6-a54a-708c6fd52a42",
   "metadata": {},
   "outputs": [],
   "source": [
    "# The table wildcard * used in the `FROM` clause to limit the amount of tables \n",
    "# referred to in the `TABLE_SUFFIX` filter.\n",
    "# partition_expiration_days = 60\n",
    " CREATE OR REPLACE TABLE ecommerce.days_with_rain\n",
    " PARTITION BY date\n",
    " OPTIONS (\n",
    "   partition_expiration_days=60,\n",
    "   description=\"weather stations with precipitation, partitioned by day\"\n",
    " ) AS\n",
    " SELECT\n",
    "   DATE(CAST(year AS INT64), CAST(mo AS INT64), CAST(da AS INT64)) AS date,\n",
    "   (SELECT ANY_VALUE(name) FROM `bigquery-public-data.noaa_gsod.stations` AS stations\n",
    "    WHERE stations.usaf = stn) AS station_name,  -- Stations may have multiple names\n",
    "   prcp\n",
    " FROM `bigquery-public-data.noaa_gsod.gsod*` AS weather\n",
    " WHERE prcp < 99.9  -- Filter unknown values\n",
    "   AND prcp > 0      -- Filter\n",
    "   AND CAST(_TABLE_SUFFIX AS int64) >= 2018"
   ]
  },
  {
   "cell_type": "markdown",
   "id": "45ad6ee6-b9fe-4e93-83f0-97499d2566e6",
   "metadata": {},
   "source": [
    "## Join Pitfalls"
   ]
  },
  {
   "cell_type": "code",
   "execution_count": 8,
   "id": "de247d98-83a1-466a-b533-c42c86593fb1",
   "metadata": {},
   "outputs": [
    {
     "name": "stderr",
     "output_type": "stream",
     "text": [
      "Query complete after 0.00s: 100%|██████████| 4/4 [00:00<00:00, 1787.28query/s]                        \n",
      "Downloading: 100%|██████████| 10/10 [00:03<00:00,  2.87rows/s]\n"
     ]
    },
    {
     "data": {
      "text/html": [
       "<div>\n",
       "<style scoped>\n",
       "    .dataframe tbody tr th:only-of-type {\n",
       "        vertical-align: middle;\n",
       "    }\n",
       "\n",
       "    .dataframe tbody tr th {\n",
       "        vertical-align: top;\n",
       "    }\n",
       "\n",
       "    .dataframe thead th {\n",
       "        text-align: right;\n",
       "    }\n",
       "</style>\n",
       "<table border=\"1\" class=\"dataframe\">\n",
       "  <thead>\n",
       "    <tr style=\"text-align: right;\">\n",
       "      <th></th>\n",
       "      <th>v2ProductName</th>\n",
       "      <th>SKU_count</th>\n",
       "      <th>SKU</th>\n",
       "    </tr>\n",
       "  </thead>\n",
       "  <tbody>\n",
       "    <tr>\n",
       "      <th>0</th>\n",
       "      <td>Waze Women's Typography Short Sleeve Tee</td>\n",
       "      <td>12</td>\n",
       "      <td>9184709,GGOEWXXX0834,9184711,9184710,9184705</td>\n",
       "    </tr>\n",
       "    <tr>\n",
       "      <th>1</th>\n",
       "      <td>Google Women's Insulated Thermal Vest Navy</td>\n",
       "      <td>10</td>\n",
       "      <td>9182760,GGOEGAAX0585,GGOEGAPL058513,GGOEGAPL05...</td>\n",
       "    </tr>\n",
       "    <tr>\n",
       "      <th>2</th>\n",
       "      <td>Android Women's Short Sleeve Badge Tee Dark He...</td>\n",
       "      <td>10</td>\n",
       "      <td>GGOEGAAX0282,GGOEAAEJ028213,9182176,GGOEAAEJ02...</td>\n",
       "    </tr>\n",
       "    <tr>\n",
       "      <th>3</th>\n",
       "      <td>Google Men's Watershed Full Zip Hoodie Grey</td>\n",
       "      <td>10</td>\n",
       "      <td>GGOEGAAX0568,9182739,9182383,9182382,GGOEGADJ0...</td>\n",
       "    </tr>\n",
       "    <tr>\n",
       "      <th>4</th>\n",
       "      <td>Google Sunglasses</td>\n",
       "      <td>10</td>\n",
       "      <td>GGOEGAAX0037,9180829,GGOEGHGR019499,GGOEGHGH01...</td>\n",
       "    </tr>\n",
       "    <tr>\n",
       "      <th>5</th>\n",
       "      <td>Google Men's Performance Full Zip Jacket Black</td>\n",
       "      <td>9</td>\n",
       "      <td>GGOEGAAX0569,9182751,9184620,GGOEGADB056915,GG...</td>\n",
       "    </tr>\n",
       "    <tr>\n",
       "      <th>6</th>\n",
       "      <td>Google Women's Yoga Jacket Black</td>\n",
       "      <td>9</td>\n",
       "      <td>9182502,GGOEGAAX0586,9182761,GGOEGAPB058614,GG...</td>\n",
       "    </tr>\n",
       "    <tr>\n",
       "      <th>7</th>\n",
       "      <td>Google Men's Vintage Badge Tee White</td>\n",
       "      <td>9</td>\n",
       "      <td>GGOEGAAX0339,9182525,GGOEGAAQ033914,GGOEGAAQ03...</td>\n",
       "    </tr>\n",
       "    <tr>\n",
       "      <th>8</th>\n",
       "      <td>Android Women's Short Sleeve Hero Tee Black</td>\n",
       "      <td>9</td>\n",
       "      <td>GGOEGAAX0283,GGOEAAEB028314,GGOEAAEB028313,GGO...</td>\n",
       "    </tr>\n",
       "    <tr>\n",
       "      <th>9</th>\n",
       "      <td>Google Women's Short Sleeve Hero Tee Sky Blue</td>\n",
       "      <td>8</td>\n",
       "      <td>GGOEGAAX0291,9182658,9184720,GGOEGAEC029114,GG...</td>\n",
       "    </tr>\n",
       "  </tbody>\n",
       "</table>\n",
       "</div>"
      ],
      "text/plain": [
       "                                       v2ProductName  SKU_count  \\\n",
       "0           Waze Women's Typography Short Sleeve Tee         12   \n",
       "1         Google Women's Insulated Thermal Vest Navy         10   \n",
       "2  Android Women's Short Sleeve Badge Tee Dark He...         10   \n",
       "3        Google Men's Watershed Full Zip Hoodie Grey         10   \n",
       "4                                  Google Sunglasses         10   \n",
       "5     Google Men's Performance Full Zip Jacket Black          9   \n",
       "6                   Google Women's Yoga Jacket Black          9   \n",
       "7               Google Men's Vintage Badge Tee White          9   \n",
       "8        Android Women's Short Sleeve Hero Tee Black          9   \n",
       "9      Google Women's Short Sleeve Hero Tee Sky Blue          8   \n",
       "\n",
       "                                                 SKU  \n",
       "0       9184709,GGOEWXXX0834,9184711,9184710,9184705  \n",
       "1  9182760,GGOEGAAX0585,GGOEGAPL058513,GGOEGAPL05...  \n",
       "2  GGOEGAAX0282,GGOEAAEJ028213,9182176,GGOEAAEJ02...  \n",
       "3  GGOEGAAX0568,9182739,9182383,9182382,GGOEGADJ0...  \n",
       "4  GGOEGAAX0037,9180829,GGOEGHGR019499,GGOEGHGH01...  \n",
       "5  GGOEGAAX0569,9182751,9184620,GGOEGADB056915,GG...  \n",
       "6  9182502,GGOEGAAX0586,9182761,GGOEGAPB058614,GG...  \n",
       "7  GGOEGAAX0339,9182525,GGOEGAAQ033914,GGOEGAAQ03...  \n",
       "8  GGOEGAAX0283,GGOEAAEB028314,GGOEAAEB028313,GGO...  \n",
       "9  GGOEGAAX0291,9182658,9184720,GGOEGAEC029114,GG...  "
      ]
     },
     "execution_count": 8,
     "metadata": {},
     "output_type": "execute_result"
    }
   ],
   "source": [
    "%%bigquery\n",
    "# aggregate all the product SKUs that are associated with one product name\n",
    "SELECT\n",
    "  v2ProductName,\n",
    "  COUNT(DISTINCT productSKU) AS SKU_count,\n",
    "  STRING_AGG(DISTINCT productSKU LIMIT 5) AS SKU\n",
    "FROM `data-to-insights.ecommerce.all_sessions_raw`\n",
    "WHERE productSKU IS NOT NULL\n",
    "GROUP BY v2ProductName\n",
    "HAVING SKU_count > 1\n",
    "ORDER BY SKU_count DESC\n",
    "LIMIT 10;"
   ]
  },
  {
   "cell_type": "code",
   "execution_count": null,
   "id": "d14625bd-f23c-4b00-8d82-d0d7f50a3c14",
   "metadata": {},
   "outputs": [],
   "source": [
    "# Unintentional many-to-one SKU relationship\n",
    "WITH inventory_per_sku AS (\n",
    "  SELECT DISTINCT\n",
    "    website.v2ProductName,\n",
    "    website.productSKU,\n",
    "    inventory.stockLevel\n",
    "  FROM `data-to-insights.ecommerce.all_sessions_raw` AS website\n",
    "  JOIN `data-to-insights.ecommerce.products` AS inventory\n",
    "    ON website.productSKU = inventory.SKU\n",
    "    WHERE productSKU = 'GGOEGPJC019099'\n",
    ")\n",
    "SELECT\n",
    "  productSKU,\n",
    "  SUM(stockLevel) AS total_inventory\n",
    "FROM inventory_per_sku\n",
    "GROUP BY productSKU"
   ]
  },
  {
   "cell_type": "code",
   "execution_count": 10,
   "id": "d782b90f-7c70-4c61-b1b6-d55ec281e5f2",
   "metadata": {},
   "outputs": [
    {
     "name": "stderr",
     "output_type": "stream",
     "text": [
      "Query complete after 0.00s: 100%|██████████| 5/5 [00:00<00:00, 1988.39query/s]                        \n",
      "Downloading: 100%|██████████| 10/10 [00:03<00:00,  2.88rows/s]\n"
     ]
    },
    {
     "data": {
      "text/html": [
       "<div>\n",
       "<style scoped>\n",
       "    .dataframe tbody tr th:only-of-type {\n",
       "        vertical-align: middle;\n",
       "    }\n",
       "\n",
       "    .dataframe tbody tr th {\n",
       "        vertical-align: top;\n",
       "    }\n",
       "\n",
       "    .dataframe thead th {\n",
       "        text-align: right;\n",
       "    }\n",
       "</style>\n",
       "<table border=\"1\" class=\"dataframe\">\n",
       "  <thead>\n",
       "    <tr style=\"text-align: right;\">\n",
       "      <th></th>\n",
       "      <th>website_SKU</th>\n",
       "      <th>inventory_SKU</th>\n",
       "    </tr>\n",
       "  </thead>\n",
       "  <tbody>\n",
       "    <tr>\n",
       "      <th>0</th>\n",
       "      <td>9180874</td>\n",
       "      <td>None</td>\n",
       "    </tr>\n",
       "    <tr>\n",
       "      <th>1</th>\n",
       "      <td>9182713</td>\n",
       "      <td>None</td>\n",
       "    </tr>\n",
       "    <tr>\n",
       "      <th>2</th>\n",
       "      <td>9182784</td>\n",
       "      <td>9182784</td>\n",
       "    </tr>\n",
       "    <tr>\n",
       "      <th>3</th>\n",
       "      <td>GGOEGAFB035816</td>\n",
       "      <td>GGOEGAFB035816</td>\n",
       "    </tr>\n",
       "    <tr>\n",
       "      <th>4</th>\n",
       "      <td>9180803</td>\n",
       "      <td>None</td>\n",
       "    </tr>\n",
       "    <tr>\n",
       "      <th>5</th>\n",
       "      <td>9183074</td>\n",
       "      <td>None</td>\n",
       "    </tr>\n",
       "    <tr>\n",
       "      <th>6</th>\n",
       "      <td>GGOENEBB081499</td>\n",
       "      <td>GGOENEBB081499</td>\n",
       "    </tr>\n",
       "    <tr>\n",
       "      <th>7</th>\n",
       "      <td>GGOEYAAJ033015</td>\n",
       "      <td>GGOEYAAJ033015</td>\n",
       "    </tr>\n",
       "    <tr>\n",
       "      <th>8</th>\n",
       "      <td>GGOEGAAJ073017</td>\n",
       "      <td>None</td>\n",
       "    </tr>\n",
       "    <tr>\n",
       "      <th>9</th>\n",
       "      <td>GGOEGAEB028617</td>\n",
       "      <td>None</td>\n",
       "    </tr>\n",
       "  </tbody>\n",
       "</table>\n",
       "</div>"
      ],
      "text/plain": [
       "      website_SKU   inventory_SKU\n",
       "0         9180874            None\n",
       "1         9182713            None\n",
       "2         9182784         9182784\n",
       "3  GGOEGAFB035816  GGOEGAFB035816\n",
       "4         9180803            None\n",
       "5         9183074            None\n",
       "6  GGOENEBB081499  GGOENEBB081499\n",
       "7  GGOEYAAJ033015  GGOEYAAJ033015\n",
       "8  GGOEGAAJ073017            None\n",
       "9  GGOEGAEB028617            None"
      ]
     },
     "execution_count": 10,
     "metadata": {},
     "output_type": "execute_result"
    }
   ],
   "source": [
    "%%bigquery\n",
    "# Use distinct SKUs before joining\n",
    "SELECT DISTINCT\n",
    "website.productSKU AS website_SKU,\n",
    "inventory.SKU AS inventory_SKU\n",
    "FROM `data-to-insights.ecommerce.all_sessions_raw` AS website\n",
    "FULL JOIN `data-to-insights.ecommerce.products` AS inventory\n",
    "ON website.productSKU = inventory.SKU\n",
    "WHERE website.productSKU IS NOT NULL OR inventory.SKU IS NOT NULL\n",
    "LIMIT 10;"
   ]
  },
  {
   "cell_type": "code",
   "execution_count": null,
   "id": "986e9ae0-43d7-430e-8891-4c529d2cacdb",
   "metadata": {},
   "outputs": [],
   "source": [
    "# Unintentional Cross Join\n",
    "SELECT DISTINCT\n",
    "productSKU,\n",
    "v2ProductCategory,\n",
    "discount\n",
    "FROM `data-to-insights.ecommerce.all_sessions_raw` AS website\n",
    "CROSS JOIN ecommerce.site_wide_promotion\n",
    "WHERE v2ProductCategory LIKE '%Clearance%'\n",
    "AND productSKU = 'GGOEGOLC013299'\n",
    "LIMIT 10;"
   ]
  },
  {
   "cell_type": "markdown",
   "id": "25c59f34-a0d3-4294-9778-16697a4ad00d",
   "metadata": {},
   "source": [
    "## Working with JSON, Arrays, and Structs in BigQuery"
   ]
  },
  {
   "cell_type": "markdown",
   "id": "5e88bbbe-2478-48ef-8225-558e2e99b5e7",
   "metadata": {},
   "source": [
    "### Arrays"
   ]
  },
  {
   "cell_type": "code",
   "execution_count": 13,
   "id": "dbd35606-bd38-453b-a2d6-8426881f49b7",
   "metadata": {},
   "outputs": [
    {
     "name": "stderr",
     "output_type": "stream",
     "text": [
      "Query complete after 0.00s: 100%|██████████| 3/3 [00:00<00:00, 1720.39query/s]                        \n",
      "Downloading: 100%|██████████| 2/2 [00:03<00:00,  1.74s/rows]\n"
     ]
    },
    {
     "data": {
      "text/html": [
       "<div>\n",
       "<style scoped>\n",
       "    .dataframe tbody tr th:only-of-type {\n",
       "        vertical-align: middle;\n",
       "    }\n",
       "\n",
       "    .dataframe tbody tr th {\n",
       "        vertical-align: top;\n",
       "    }\n",
       "\n",
       "    .dataframe thead th {\n",
       "        text-align: right;\n",
       "    }\n",
       "</style>\n",
       "<table border=\"1\" class=\"dataframe\">\n",
       "  <thead>\n",
       "    <tr style=\"text-align: right;\">\n",
       "      <th></th>\n",
       "      <th>fullVisitorId</th>\n",
       "      <th>date</th>\n",
       "      <th>products_viewed</th>\n",
       "      <th>pages_viewed</th>\n",
       "    </tr>\n",
       "  </thead>\n",
       "  <tbody>\n",
       "    <tr>\n",
       "      <th>0</th>\n",
       "      <td>5710379250208908569</td>\n",
       "      <td>20170731</td>\n",
       "      <td>[Google Women's Lightweight Microfleece Jacket...</td>\n",
       "      <td>[Google Snapback Hat Black, Google RFID Journal]</td>\n",
       "    </tr>\n",
       "    <tr>\n",
       "      <th>1</th>\n",
       "      <td>5710379250208908569</td>\n",
       "      <td>20170801</td>\n",
       "      <td>[Android Luggage Tag, 8 pc Android Sticker She...</td>\n",
       "      <td>[Shop by Brand | Google Merchandise Store, Off...</td>\n",
       "    </tr>\n",
       "  </tbody>\n",
       "</table>\n",
       "</div>"
      ],
      "text/plain": [
       "         fullVisitorId      date  \\\n",
       "0  5710379250208908569  20170731   \n",
       "1  5710379250208908569  20170801   \n",
       "\n",
       "                                     products_viewed  \\\n",
       "0  [Google Women's Lightweight Microfleece Jacket...   \n",
       "1  [Android Luggage Tag, 8 pc Android Sticker She...   \n",
       "\n",
       "                                        pages_viewed  \n",
       "0   [Google Snapback Hat Black, Google RFID Journal]  \n",
       "1  [Shop by Brand | Google Merchandise Store, Off...  "
      ]
     },
     "execution_count": 13,
     "metadata": {},
     "output_type": "execute_result"
    }
   ],
   "source": [
    "%%bigquery\n",
    "SELECT\n",
    "  fullVisitorId,\n",
    "  date,\n",
    "  ARRAY_AGG(v2ProductName) AS products_viewed,\n",
    "  ARRAY_AGG(pageTitle) AS pages_viewed\n",
    "  FROM `data-to-insights.ecommerce.all_sessions`\n",
    "WHERE visitId = 1501570398\n",
    "GROUP BY fullVisitorId, date\n",
    "ORDER BY date"
   ]
  },
  {
   "cell_type": "code",
   "execution_count": 14,
   "id": "d238c8c1-6a24-4092-a594-38742371b736",
   "metadata": {},
   "outputs": [
    {
     "name": "stderr",
     "output_type": "stream",
     "text": [
      "Query complete after 0.00s: 100%|██████████| 3/3 [00:00<00:00, 1244.23query/s]                        \n",
      "Downloading: 100%|██████████| 2/2 [00:03<00:00,  1.75s/rows]\n"
     ]
    },
    {
     "data": {
      "text/html": [
       "<div>\n",
       "<style scoped>\n",
       "    .dataframe tbody tr th:only-of-type {\n",
       "        vertical-align: middle;\n",
       "    }\n",
       "\n",
       "    .dataframe tbody tr th {\n",
       "        vertical-align: top;\n",
       "    }\n",
       "\n",
       "    .dataframe thead th {\n",
       "        text-align: right;\n",
       "    }\n",
       "</style>\n",
       "<table border=\"1\" class=\"dataframe\">\n",
       "  <thead>\n",
       "    <tr style=\"text-align: right;\">\n",
       "      <th></th>\n",
       "      <th>fullVisitorId</th>\n",
       "      <th>date</th>\n",
       "      <th>products_viewed</th>\n",
       "      <th>num_products_viewed</th>\n",
       "      <th>pages_viewed</th>\n",
       "      <th>num_pages_viewed</th>\n",
       "    </tr>\n",
       "  </thead>\n",
       "  <tbody>\n",
       "    <tr>\n",
       "      <th>0</th>\n",
       "      <td>5710379250208908569</td>\n",
       "      <td>20170731</td>\n",
       "      <td>[Google Women's Lightweight Microfleece Jacket...</td>\n",
       "      <td>2</td>\n",
       "      <td>[Google Snapback Hat Black, Google RFID Journal]</td>\n",
       "      <td>2</td>\n",
       "    </tr>\n",
       "    <tr>\n",
       "      <th>1</th>\n",
       "      <td>5710379250208908569</td>\n",
       "      <td>20170801</td>\n",
       "      <td>[Metal Texture Roller Pen, Waze Pack of 9 Deca...</td>\n",
       "      <td>109</td>\n",
       "      <td>[Writing Instruments | Office | Google Merchan...</td>\n",
       "      <td>109</td>\n",
       "    </tr>\n",
       "  </tbody>\n",
       "</table>\n",
       "</div>"
      ],
      "text/plain": [
       "         fullVisitorId      date  \\\n",
       "0  5710379250208908569  20170731   \n",
       "1  5710379250208908569  20170801   \n",
       "\n",
       "                                     products_viewed  num_products_viewed  \\\n",
       "0  [Google Women's Lightweight Microfleece Jacket...                    2   \n",
       "1  [Metal Texture Roller Pen, Waze Pack of 9 Deca...                  109   \n",
       "\n",
       "                                        pages_viewed  num_pages_viewed  \n",
       "0   [Google Snapback Hat Black, Google RFID Journal]                 2  \n",
       "1  [Writing Instruments | Office | Google Merchan...               109  "
      ]
     },
     "execution_count": 14,
     "metadata": {},
     "output_type": "execute_result"
    }
   ],
   "source": [
    "%%bigquery\n",
    "SELECT\n",
    "  fullVisitorId,\n",
    "  date,\n",
    "  ARRAY_AGG(v2ProductName) AS products_viewed,\n",
    "  ARRAY_LENGTH(ARRAY_AGG(v2ProductName)) AS num_products_viewed,\n",
    "  ARRAY_AGG(pageTitle) AS pages_viewed,\n",
    "  ARRAY_LENGTH(ARRAY_AGG(pageTitle)) AS num_pages_viewed\n",
    "  FROM `data-to-insights.ecommerce.all_sessions`\n",
    "WHERE visitId = 1501570398\n",
    "GROUP BY fullVisitorId, date\n",
    "ORDER BY date"
   ]
  },
  {
   "cell_type": "code",
   "execution_count": 15,
   "id": "037d2336-bcfc-41ec-97a8-fc69d964264a",
   "metadata": {},
   "outputs": [
    {
     "name": "stderr",
     "output_type": "stream",
     "text": [
      "Query complete after 0.00s: 100%|██████████| 5/5 [00:00<00:00, 2011.66query/s]                        \n",
      "Downloading: 100%|██████████| 2/2 [00:03<00:00,  1.84s/rows]\n"
     ]
    },
    {
     "data": {
      "text/html": [
       "<div>\n",
       "<style scoped>\n",
       "    .dataframe tbody tr th:only-of-type {\n",
       "        vertical-align: middle;\n",
       "    }\n",
       "\n",
       "    .dataframe tbody tr th {\n",
       "        vertical-align: top;\n",
       "    }\n",
       "\n",
       "    .dataframe thead th {\n",
       "        text-align: right;\n",
       "    }\n",
       "</style>\n",
       "<table border=\"1\" class=\"dataframe\">\n",
       "  <thead>\n",
       "    <tr style=\"text-align: right;\">\n",
       "      <th></th>\n",
       "      <th>fullVisitorId</th>\n",
       "      <th>date</th>\n",
       "      <th>products_viewed</th>\n",
       "      <th>distinct_products_viewed</th>\n",
       "      <th>pages_viewed</th>\n",
       "      <th>distinct_pages_viewed</th>\n",
       "    </tr>\n",
       "  </thead>\n",
       "  <tbody>\n",
       "    <tr>\n",
       "      <th>0</th>\n",
       "      <td>5710379250208908569</td>\n",
       "      <td>20170731</td>\n",
       "      <td>[Google Women's Lightweight Microfleece Jacket...</td>\n",
       "      <td>2</td>\n",
       "      <td>[Google Snapback Hat Black, Google RFID Journal]</td>\n",
       "      <td>2</td>\n",
       "    </tr>\n",
       "    <tr>\n",
       "      <th>1</th>\n",
       "      <td>5710379250208908569</td>\n",
       "      <td>20170801</td>\n",
       "      <td>[Android Luggage Tag, 8 pc Android Sticker She...</td>\n",
       "      <td>61</td>\n",
       "      <td>[Shop by Brand | Google Merchandise Store, Off...</td>\n",
       "      <td>8</td>\n",
       "    </tr>\n",
       "  </tbody>\n",
       "</table>\n",
       "</div>"
      ],
      "text/plain": [
       "         fullVisitorId      date  \\\n",
       "0  5710379250208908569  20170731   \n",
       "1  5710379250208908569  20170801   \n",
       "\n",
       "                                     products_viewed  \\\n",
       "0  [Google Women's Lightweight Microfleece Jacket...   \n",
       "1  [Android Luggage Tag, 8 pc Android Sticker She...   \n",
       "\n",
       "   distinct_products_viewed  \\\n",
       "0                         2   \n",
       "1                        61   \n",
       "\n",
       "                                        pages_viewed  distinct_pages_viewed  \n",
       "0   [Google Snapback Hat Black, Google RFID Journal]                      2  \n",
       "1  [Shop by Brand | Google Merchandise Store, Off...                      8  "
      ]
     },
     "execution_count": 15,
     "metadata": {},
     "output_type": "execute_result"
    }
   ],
   "source": [
    "%%bigquery\n",
    "SELECT\n",
    "  fullVisitorId,\n",
    "  date,\n",
    "  ARRAY_AGG(DISTINCT v2ProductName) AS products_viewed,\n",
    "  ARRAY_LENGTH(ARRAY_AGG(DISTINCT v2ProductName)) AS distinct_products_viewed,\n",
    "  ARRAY_AGG(DISTINCT pageTitle) AS pages_viewed,\n",
    "  ARRAY_LENGTH(ARRAY_AGG(DISTINCT pageTitle)) AS distinct_pages_viewed\n",
    "  FROM `data-to-insights.ecommerce.all_sessions`\n",
    "WHERE visitId = 1501570398\n",
    "GROUP BY fullVisitorId, date\n",
    "ORDER BY date"
   ]
  },
  {
   "cell_type": "code",
   "execution_count": 16,
   "id": "05caa932-132b-4269-876f-75a26856cfc7",
   "metadata": {},
   "outputs": [
    {
     "name": "stderr",
     "output_type": "stream",
     "text": [
      "Query complete after 0.00s: 100%|██████████| 3/3 [00:00<00:00, 1760.59query/s]                        \n",
      "Downloading: 100%|██████████| 9/9 [00:02<00:00,  3.79rows/s]\n"
     ]
    },
    {
     "data": {
      "text/html": [
       "<div>\n",
       "<style scoped>\n",
       "    .dataframe tbody tr th:only-of-type {\n",
       "        vertical-align: middle;\n",
       "    }\n",
       "\n",
       "    .dataframe tbody tr th {\n",
       "        vertical-align: top;\n",
       "    }\n",
       "\n",
       "    .dataframe thead th {\n",
       "        text-align: right;\n",
       "    }\n",
       "</style>\n",
       "<table border=\"1\" class=\"dataframe\">\n",
       "  <thead>\n",
       "    <tr style=\"text-align: right;\">\n",
       "      <th></th>\n",
       "      <th>visitId</th>\n",
       "      <th>pageTitle</th>\n",
       "    </tr>\n",
       "  </thead>\n",
       "  <tbody>\n",
       "    <tr>\n",
       "      <th>0</th>\n",
       "      <td>1501570398</td>\n",
       "      <td>Fun | Accessories | Google Merchandise Store</td>\n",
       "    </tr>\n",
       "    <tr>\n",
       "      <th>1</th>\n",
       "      <td>1501570398</td>\n",
       "      <td>Home</td>\n",
       "    </tr>\n",
       "    <tr>\n",
       "      <th>2</th>\n",
       "      <td>1501570398</td>\n",
       "      <td>Shop by Brand | Google Merchandise Store</td>\n",
       "    </tr>\n",
       "    <tr>\n",
       "      <th>3</th>\n",
       "      <td>1501570398</td>\n",
       "      <td>Office | Google Merchandise Store</td>\n",
       "    </tr>\n",
       "    <tr>\n",
       "      <th>4</th>\n",
       "      <td>1501570398</td>\n",
       "      <td>Other | Office | Google Merchandise Store</td>\n",
       "    </tr>\n",
       "    <tr>\n",
       "      <th>5</th>\n",
       "      <td>1501570398</td>\n",
       "      <td>Writing Instruments | Office | Google Merchand...</td>\n",
       "    </tr>\n",
       "    <tr>\n",
       "      <th>6</th>\n",
       "      <td>1501570398</td>\n",
       "      <td>Accessories | Google Merchandise Store</td>\n",
       "    </tr>\n",
       "    <tr>\n",
       "      <th>7</th>\n",
       "      <td>1501570398</td>\n",
       "      <td>Electronics | Google Merchandise Store</td>\n",
       "    </tr>\n",
       "    <tr>\n",
       "      <th>8</th>\n",
       "      <td>1501570398</td>\n",
       "      <td>Apparel | Google Merchandise Store</td>\n",
       "    </tr>\n",
       "  </tbody>\n",
       "</table>\n",
       "</div>"
      ],
      "text/plain": [
       "      visitId                                          pageTitle\n",
       "0  1501570398       Fun | Accessories | Google Merchandise Store\n",
       "1  1501570398                                               Home\n",
       "2  1501570398           Shop by Brand | Google Merchandise Store\n",
       "3  1501570398                  Office | Google Merchandise Store\n",
       "4  1501570398          Other | Office | Google Merchandise Store\n",
       "5  1501570398  Writing Instruments | Office | Google Merchand...\n",
       "6  1501570398             Accessories | Google Merchandise Store\n",
       "7  1501570398             Electronics | Google Merchandise Store\n",
       "8  1501570398                 Apparel | Google Merchandise Store"
      ]
     },
     "execution_count": 16,
     "metadata": {},
     "output_type": "execute_result"
    }
   ],
   "source": [
    "%%bigquery\n",
    "SELECT DISTINCT\n",
    "  visitId,\n",
    "  h.page.pageTitle\n",
    "FROM `bigquery-public-data.google_analytics_sample.ga_sessions_20170801`,\n",
    "UNNEST(hits) AS h\n",
    "WHERE visitId = 1501570398\n",
    "LIMIT 10"
   ]
  },
  {
   "cell_type": "markdown",
   "id": "b5ade0f9-37d3-4bd6-a0f2-d6d337df1904",
   "metadata": {},
   "source": [
    "### STRUCTs\n",
    "\n",
    "A separate table that is already pre-joined into main table.\n",
    "\n",
    "A STRUCT can have:\n",
    "- one or many fields in it\n",
    "- the same or different data types for each field\n",
    "- it's own alias"
   ]
  },
  {
   "cell_type": "code",
   "execution_count": 19,
   "id": "a834f6c1-3ad6-4b73-b9d2-fb6837da4566",
   "metadata": {},
   "outputs": [
    {
     "name": "stderr",
     "output_type": "stream",
     "text": [
      "Query complete after 0.00s: 100%|██████████| 1/1 [00:00<00:00, 787.51query/s]                          \n",
      "Downloading: 100%|██████████| 1/1 [00:03<00:00,  3.27s/rows]\n"
     ]
    },
    {
     "data": {
      "text/html": [
       "<div>\n",
       "<style scoped>\n",
       "    .dataframe tbody tr th:only-of-type {\n",
       "        vertical-align: middle;\n",
       "    }\n",
       "\n",
       "    .dataframe tbody tr th {\n",
       "        vertical-align: top;\n",
       "    }\n",
       "\n",
       "    .dataframe thead th {\n",
       "        text-align: right;\n",
       "    }\n",
       "</style>\n",
       "<table border=\"1\" class=\"dataframe\">\n",
       "  <thead>\n",
       "    <tr style=\"text-align: right;\">\n",
       "      <th></th>\n",
       "      <th>visitId</th>\n",
       "      <th>visits</th>\n",
       "      <th>hits</th>\n",
       "      <th>pageviews</th>\n",
       "      <th>timeOnSite</th>\n",
       "      <th>bounces</th>\n",
       "      <th>transactions</th>\n",
       "      <th>transactionRevenue</th>\n",
       "      <th>newVisits</th>\n",
       "      <th>screenviews</th>\n",
       "      <th>...</th>\n",
       "      <th>mobileDeviceModel</th>\n",
       "      <th>mobileInputSelector</th>\n",
       "      <th>mobileDeviceInfo</th>\n",
       "      <th>mobileDeviceMarketingName</th>\n",
       "      <th>flashVersion</th>\n",
       "      <th>javaEnabled</th>\n",
       "      <th>language</th>\n",
       "      <th>screenColors</th>\n",
       "      <th>screenResolution</th>\n",
       "      <th>deviceCategory</th>\n",
       "    </tr>\n",
       "  </thead>\n",
       "  <tbody>\n",
       "    <tr>\n",
       "      <th>0</th>\n",
       "      <td>1501570398</td>\n",
       "      <td>1</td>\n",
       "      <td>11</td>\n",
       "      <td>11</td>\n",
       "      <td>731</td>\n",
       "      <td>NaN</td>\n",
       "      <td>NaN</td>\n",
       "      <td>NaN</td>\n",
       "      <td>1</td>\n",
       "      <td>NaN</td>\n",
       "      <td>...</td>\n",
       "      <td>not available in demo dataset</td>\n",
       "      <td>not available in demo dataset</td>\n",
       "      <td>not available in demo dataset</td>\n",
       "      <td>not available in demo dataset</td>\n",
       "      <td>not available in demo dataset</td>\n",
       "      <td>None</td>\n",
       "      <td>not available in demo dataset</td>\n",
       "      <td>not available in demo dataset</td>\n",
       "      <td>not available in demo dataset</td>\n",
       "      <td>tablet</td>\n",
       "    </tr>\n",
       "  </tbody>\n",
       "</table>\n",
       "<p>1 rows × 31 columns</p>\n",
       "</div>"
      ],
      "text/plain": [
       "      visitId  visits  hits  pageviews  timeOnSite  bounces  transactions  \\\n",
       "0  1501570398       1    11         11         731      NaN           NaN   \n",
       "\n",
       "   transactionRevenue  newVisits  screenviews  ...  \\\n",
       "0                 NaN          1          NaN  ...   \n",
       "\n",
       "               mobileDeviceModel            mobileInputSelector  \\\n",
       "0  not available in demo dataset  not available in demo dataset   \n",
       "\n",
       "                mobileDeviceInfo      mobileDeviceMarketingName  \\\n",
       "0  not available in demo dataset  not available in demo dataset   \n",
       "\n",
       "                    flashVersion javaEnabled                       language  \\\n",
       "0  not available in demo dataset        None  not available in demo dataset   \n",
       "\n",
       "                    screenColors               screenResolution  \\\n",
       "0  not available in demo dataset  not available in demo dataset   \n",
       "\n",
       "   deviceCategory  \n",
       "0          tablet  \n",
       "\n",
       "[1 rows x 31 columns]"
      ]
     },
     "execution_count": 19,
     "metadata": {},
     "output_type": "execute_result"
    }
   ],
   "source": [
    "%%bigquery\n",
    "SELECT\n",
    "  visitId,\n",
    "  totals.*,\n",
    "  device.*\n",
    "FROM `bigquery-public-data.google_analytics_sample.ga_sessions_20170801`\n",
    "WHERE visitId = 1501570398"
   ]
  },
  {
   "cell_type": "code",
   "execution_count": 20,
   "id": "1a54e22d-8657-4b8e-96b6-c56d5894cf57",
   "metadata": {},
   "outputs": [
    {
     "name": "stderr",
     "output_type": "stream",
     "text": [
      "Query complete after 0.00s: 100%|██████████| 1/1 [00:00<00:00, 432.31query/s]                          \n",
      "Downloading: 100%|██████████| 1/1 [00:03<00:00,  3.45s/rows]\n"
     ]
    },
    {
     "data": {
      "text/html": [
       "<div>\n",
       "<style scoped>\n",
       "    .dataframe tbody tr th:only-of-type {\n",
       "        vertical-align: middle;\n",
       "    }\n",
       "\n",
       "    .dataframe tbody tr th {\n",
       "        vertical-align: top;\n",
       "    }\n",
       "\n",
       "    .dataframe thead th {\n",
       "        text-align: right;\n",
       "    }\n",
       "</style>\n",
       "<table border=\"1\" class=\"dataframe\">\n",
       "  <thead>\n",
       "    <tr style=\"text-align: right;\">\n",
       "      <th></th>\n",
       "      <th>runner</th>\n",
       "    </tr>\n",
       "  </thead>\n",
       "  <tbody>\n",
       "    <tr>\n",
       "      <th>0</th>\n",
       "      <td>{'name': 'Rudisha', 'splits': [23.4, 26.3, 26....</td>\n",
       "    </tr>\n",
       "  </tbody>\n",
       "</table>\n",
       "</div>"
      ],
      "text/plain": [
       "                                              runner\n",
       "0  {'name': 'Rudisha', 'splits': [23.4, 26.3, 26...."
      ]
     },
     "execution_count": 20,
     "metadata": {},
     "output_type": "execute_result"
    }
   ],
   "source": [
    "%%bigquery\n",
    "SELECT STRUCT(\"Rudisha\" as name, [23.4, 26.3, 26.4, 26.1] as splits) AS runner"
   ]
  },
  {
   "cell_type": "code",
   "execution_count": null,
   "id": "b8ed8def-fd33-4c69-ad3e-6bc52d95782c",
   "metadata": {},
   "outputs": [],
   "source": [
    "SELECT race, participants.name\n",
    "FROM racing.race_results\n",
    "CROSS JOIN\n",
    "race_results.participants # full STRUCT name"
   ]
  },
  {
   "cell_type": "code",
   "execution_count": null,
   "id": "94a866e4-3e46-4ebe-b0dc-a9351babb6d3",
   "metadata": {},
   "outputs": [],
   "source": [
    "SELECT race, participants.name\n",
    "FROM racing.race_results AS r, r.participants"
   ]
  },
  {
   "cell_type": "code",
   "execution_count": null,
   "id": "d30e3ecd-c7b7-44d7-945d-d1fc401acee9",
   "metadata": {},
   "outputs": [],
   "source": [
    "SELECT COUNT(p.name) AS racer_count\n",
    "FROM racing.race_results AS r, UNNEST(r.participants) AS p"
   ]
  },
  {
   "cell_type": "code",
   "execution_count": null,
   "id": "1b9ffb11-f965-422e-8c60-19f41db15f0a",
   "metadata": {},
   "outputs": [],
   "source": [
    "SELECT\n",
    "  p.name,\n",
    "  SUM(split_times) as total_race_time\n",
    "FROM racing.race_results AS r\n",
    ", UNNEST(r.participants) AS p\n",
    ", UNNEST(p.splits) AS split_times\n",
    "WHERE p.name LIKE 'R%'\n",
    "GROUP BY p.name\n",
    "ORDER BY total_race_time ASC;"
   ]
  },
  {
   "cell_type": "code",
   "execution_count": null,
   "id": "50621848-c43e-4765-805e-79d9c0384816",
   "metadata": {},
   "outputs": [],
   "source": [
    "SELECT\n",
    "  p.name,\n",
    "  split_time\n",
    "FROM racing.race_results AS r\n",
    ", UNNEST(r.participants) AS p\n",
    ", UNNEST(p.splits) AS split_time\n",
    "WHERE split_time = 23.2;"
   ]
  },
  {
   "cell_type": "markdown",
   "id": "5eead1ee-15ce-4691-958d-d7b11e3a123a",
   "metadata": {},
   "source": [
    "## Covid-19 policy tracker"
   ]
  },
  {
   "cell_type": "code",
   "execution_count": null,
   "id": "f6a7591e-2516-4846-bc28-d340fa3f492c",
   "metadata": {},
   "outputs": [],
   "source": [
    "# Create a table partitioned by date\n",
    "CREATE OR REPLACE TABLE covid_607.oxford_policy_tracker_110\n",
    "PARTITION BY date\n",
    "OPTIONS (\n",
    "    partition_expiration_days=90\n",
    ") AS \n",
    "SELECT \n",
    "*\n",
    "FROM `bigquery-public-data.covid19_govt_response.oxford_policy_tracker`\n",
    "WHERE alpha_3_code NOT IN ('GBR', 'BRA', 'CAN', 'USA');"
   ]
  },
  {
   "cell_type": "code",
   "execution_count": null,
   "id": "690567bf-04b1-4a91-b05b-5844dd6a5eb1",
   "metadata": {},
   "outputs": [],
   "source": [
    "# Add new columns to table\n",
    "ALTER TABLE covid_607.oxford_policy_tracker_110\n",
    "  ADD COLUMN population INTEGER,\n",
    "  ADD COLUMN country_area FLOAT64,\n",
    "  ADD COLUMN mobility STRUCT<\n",
    "    avg_retail FLOAT64,\n",
    "    avg_grocery FLOAT64,\n",
    "    avg_parks FLOAT64,\n",
    "    avg_transit FLOAT64,\n",
    "    avg_workplace FLOAT64,\n",
    "    avg_residential FLOAT64\n",
    "  >"
   ]
  },
  {
   "cell_type": "code",
   "execution_count": null,
   "id": "adc383ca-e19e-4db1-9a3e-429fe2b70729",
   "metadata": {},
   "outputs": [],
   "source": [
    "# Add country population data to the population column\n",
    "UPDATE\n",
    "    covid_607.oxford_policy_tracker_110 AS t0\n",
    "SET\n",
    "    t0.population = t1.pop_data_2019\n",
    "FROM\n",
    "    (SELECT DISTINCT \n",
    "        country_territory_code, pop_data_2019 \n",
    "    FROM \n",
    "        `bigquery-public-data.covid19_ecdc.covid_19_geographic_distribution_worldwide`\n",
    "    ) AS t1\n",
    "WHERE\n",
    "    t0.alpha_3_code = t1.country_territory_code;"
   ]
  },
  {
   "cell_type": "code",
   "execution_count": null,
   "id": "5ca6abc8-1ca9-4216-9b28-8f6583e8b5ca",
   "metadata": {},
   "outputs": [],
   "source": [
    "# Add country area data to the country_area column\n",
    "UPDATE\n",
    "    covid_607.oxford_policy_tracker_110 t0\n",
    "SET\n",
    "    t0.country_area = t1.country_area\n",
    "FROM\n",
    "    (SELECT DISTINCT \n",
    "        country_name, country_area\n",
    "    FROM \n",
    "        `bigquery-public-data.census_bureau_international.country_names_area`\n",
    "    ) AS t1\n",
    "WHERE \n",
    "    t0.country_name = t1.country_name;"
   ]
  },
  {
   "cell_type": "code",
   "execution_count": null,
   "id": "c4595dd0-a8bd-4dac-982f-de0d28e72f52",
   "metadata": {},
   "outputs": [],
   "source": [
    "# Populate the mobility record data\n",
    "UPDATE\n",
    "   covid_607.oxford_policy_tracker_110 AS t0\n",
    "SET\n",
    "    t0.mobility.avg_retail = t1.avg_retail,\n",
    "    t0.mobility.avg_grocery = t1.avg_grocery,\n",
    "    t0.mobility.avg_parks = t1.avg_parks,\n",
    "    t0.mobility.avg_transit = t1.avg_transit,\n",
    "    t0.mobility.avg_workplace = t1.avg_workplace,\n",
    "    t0.mobility.avg_residential = t1.avg_residential\n",
    "FROM\n",
    "    (SELECT country_region, date,\n",
    "        AVG(retail_and_recreation_percent_change_from_baseline) as avg_retail,\n",
    "        AVG(grocery_and_pharmacy_percent_change_from_baseline) as avg_grocery,\n",
    "        AVG(parks_percent_change_from_baseline) as avg_parks,\n",
    "        AVG(transit_stations_percent_change_from_baseline) as avg_transit,\n",
    "        AVG(workplaces_percent_change_from_baseline) as avg_workplace,\n",
    "        AVG(residential_percent_change_from_baseline) as avg_residential\n",
    "    FROM \n",
    "        `bigquery-public-data.covid19_google_mobility.mobility_report`\n",
    "    GROUP BY \n",
    "        country_region, date\n",
    "    ) AS t1\n",
    "WHERE\n",
    "    t0.country_name = t1.country_region\n",
    "    AND t0.date = t1.date;"
   ]
  },
  {
   "cell_type": "code",
   "execution_count": null,
   "id": "5f887589",
   "metadata": {},
   "outputs": [],
   "source": [
    "# Query missing data in population & country_area\n",
    "SELECT DISTINCT country_name\n",
    "FROM covid_458.oxford_policy_tracker_157\n",
    "WHERE population is NULL\n",
    "\n",
    "UNION ALL\n",
    "\n",
    "SELECT DISTINCT country_name\n",
    "FROM covid_458.oxford_policy_tracker_157\n",
    "WHERE country_area is NULL\n",
    "ORDER BY country_name ASC"
   ]
  }
 ],
 "metadata": {
  "kernelspec": {
   "display_name": "Python 3 (ipykernel)",
   "language": "python",
   "name": "python3"
  },
  "language_info": {
   "codemirror_mode": {
    "name": "ipython",
    "version": 3
   },
   "file_extension": ".py",
   "mimetype": "text/x-python",
   "name": "python",
   "nbconvert_exporter": "python",
   "pygments_lexer": "ipython3",
   "version": "3.8.10"
  }
 },
 "nbformat": 4,
 "nbformat_minor": 5
}
