{
 "cells": [
  {
   "cell_type": "markdown",
   "metadata": {
    "id": "title"
   },
   "source": [
    "# Running Distributed TensorFlow on Vertex AI"
   ]
  },
  {
   "cell_type": "markdown",
   "metadata": {
    "id": "overview:custom"
   },
   "source": [
    "## Overview\n",
    "\n",
    "\n",
    "This tutorial demonstrates \n",
    "how to \n",
    "\n",
    "1.   Train a model using distribution strategies on Vertex AI using the SDK for Python\n",
    "2.   Deploy a custom image classification model for online prediction using Vertex AI"
   ]
  },
  {
   "cell_type": "markdown",
   "metadata": {
    "id": "dataset:custom,cifar10,icn"
   },
   "source": [
    "### Dataset\n",
    "\n",
    "The dataset used for this tutorial is the [MNIST dataset](https://www.tensorflow.org/datasets/catalog/mnist) from [TensorFlow Datasets](https://www.tensorflow.org/datasets/catalog/overview). The version of the dataset you will use is built into TensorFlow. The trained model predicts which type of class (digit) an image is from ten classes (0-9)"
   ]
  },
  {
   "cell_type": "markdown",
   "metadata": {
    "id": "objective:custom,training,online_prediction"
   },
   "source": [
    "### Objective\n",
    "\n",
    "In this notebook, you create a custom-trained model from a Python script in a Docker container using the Vertex SDK for Python, and then do a prediction on the deployed model by sending data. Alternatively, you can create custom-trained models using `gcloud` command-line tool, or online using the Cloud Console.\n",
    "\n",
    "The steps performed include:\n",
    "\n",
    "- Create a Vertex AI custom job for training a model in distributed fashion.\n",
    "- Train the model using TensorFlow's `MirroredStrategy`.\n",
    "- Deploy the `Model` resource to a serving `Endpoint` resource.\n",
    "- Make a prediction.\n",
    "- Undeploy the `Model` resource."
   ]
  },
  {
   "cell_type": "markdown",
   "metadata": {
    "id": "costs"
   },
   "source": [
    "### Costs\n",
    "\n",
    "This tutorial uses billable components of Google Cloud (GCP):\n",
    "\n",
    "* Vertex AI\n",
    "* Cloud Storage\n",
    "\n",
    "Learn about [Vertex AI\n",
    "pricing](https://cloud.google.com/vertex-ai/pricing) and [Cloud Storage\n",
    "pricing](https://cloud.google.com/storage/pricing), and use the [Pricing\n",
    "Calculator](https://cloud.google.com/products/calculator/)\n",
    "to generate a cost estimate based on your projected usage."
   ]
  },
  {
   "cell_type": "markdown",
   "metadata": {
    "id": "install_aip"
   },
   "source": [
    "## Installation\n",
    "\n",
    "Install the latest (preview) version of Vertex SDK for Python."
   ]
  },
  {
   "cell_type": "code",
   "execution_count": 1,
   "metadata": {
    "id": "1fd00fa70a2a",
    "vscode": {
     "languageId": "python"
    }
   },
   "outputs": [],
   "source": [
    "import os"
   ]
  },
  {
   "cell_type": "code",
   "execution_count": null,
   "metadata": {
    "id": "YsxCgt1zlugo",
    "tags": [],
    "vscode": {
     "languageId": "python"
    }
   },
   "outputs": [],
   "source": [
    "! pip3 install --user --upgrade google-cloud-aiplatform"
   ]
  },
  {
   "cell_type": "markdown",
   "metadata": {
    "id": "install_storage"
   },
   "source": [
    "Install the latest GA version of *google-cloud-storage* library as well."
   ]
  },
  {
   "cell_type": "code",
   "execution_count": null,
   "metadata": {
    "id": "qssss-KSlugo",
    "tags": [],
    "vscode": {
     "languageId": "python"
    }
   },
   "outputs": [],
   "source": [
    "! pip3 install --user --upgrade google-cloud-storage"
   ]
  },
  {
   "cell_type": "markdown",
   "metadata": {
    "id": "install_pillow"
   },
   "source": [
    "Install the *pillow* library for loading images."
   ]
  },
  {
   "cell_type": "code",
   "execution_count": null,
   "metadata": {
    "id": "vhP4dtWUlugp",
    "tags": [],
    "vscode": {
     "languageId": "python"
    }
   },
   "outputs": [],
   "source": [
    "! pip3 install --user --upgrade pillow"
   ]
  },
  {
   "cell_type": "markdown",
   "metadata": {
    "id": "install_numpy"
   },
   "source": [
    "Install the *numpy* library for manipulation of image data."
   ]
  },
  {
   "cell_type": "code",
   "execution_count": null,
   "metadata": {
    "id": "80-_pO4olugp",
    "tags": [],
    "vscode": {
     "languageId": "python"
    }
   },
   "outputs": [],
   "source": [
    "! pip3 install --user --upgrade numpy"
   ]
  },
  {
   "cell_type": "markdown",
   "metadata": {},
   "source": [
    "You can safely ignore errors during the numpy installation."
   ]
  },
  {
   "cell_type": "code",
   "execution_count": null,
   "metadata": {
    "tags": [],
    "vscode": {
     "languageId": "python"
    }
   },
   "outputs": [],
   "source": [
    "! pip3 install protobuf==3.20.1"
   ]
  },
  {
   "cell_type": "markdown",
   "metadata": {
    "id": "restart"
   },
   "source": [
    "### Restart the kernel\n",
    "\n",
    "Once you've installed everything, you need to restart the notebook kernel so it can find the packages."
   ]
  },
  {
   "cell_type": "code",
   "execution_count": 2,
   "metadata": {
    "id": "bzPxhxS5lugp",
    "vscode": {
     "languageId": "python"
    }
   },
   "outputs": [],
   "source": [
    "import os\n",
    "\n",
    "if not os.getenv(\"IS_TESTING\"):\n",
    "    # Automatically restart kernel after installs\n",
    "    import IPython\n",
    "\n",
    "    app = IPython.Application.instance()\n",
    "    app.kernel.do_shutdown(True)"
   ]
  },
  {
   "cell_type": "markdown",
   "metadata": {
    "id": "project_id"
   },
   "source": [
    "#### Set your project ID\n",
    "\n",
    "**If you don't know your project ID**, you may be able to get your project ID using `gcloud`. "
   ]
  },
  {
   "cell_type": "code",
   "execution_count": 1,
   "metadata": {
    "id": "autoset_project_id",
    "vscode": {
     "languageId": "python"
    }
   },
   "outputs": [
    {
     "name": "stdout",
     "output_type": "stream",
     "text": [
      "Project ID:  qwiklabs-gcp-00-f0730c45a6d4\n"
     ]
    }
   ],
   "source": [
    "import os\n",
    "\n",
    "PROJECT_ID = \"qwiklabs-gcp-00-f0730c45a6d4\"\n",
    "\n",
    "if not os.getenv(\"IS_TESTING\"):\n",
    "    # Get your Google Cloud project ID from gcloud\n",
    "    shell_output=!gcloud config list --format 'value(core.project)' 2>/dev/null\n",
    "    PROJECT_ID = shell_output[0]\n",
    "    print(\"Project ID: \", PROJECT_ID)"
   ]
  },
  {
   "cell_type": "markdown",
   "metadata": {
    "id": "timestamp"
   },
   "source": [
    "#### Timestamp\n",
    "\n",
    "If you are in a live tutorial session, you might be using a shared test account or project. To avoid name collisions between users on resources created, you create a timestamp for each instance session, and append it onto the name of resources you create in this tutorial."
   ]
  },
  {
   "cell_type": "code",
   "execution_count": 2,
   "metadata": {
    "id": "c-pX32xalugs",
    "vscode": {
     "languageId": "python"
    }
   },
   "outputs": [],
   "source": [
    "from datetime import datetime\n",
    "\n",
    "TIMESTAMP = datetime.now().strftime(\"%Y%m%d%H%M%S\")"
   ]
  },
  {
   "cell_type": "markdown",
   "metadata": {
    "id": "bucket:custom"
   },
   "source": [
    "### Create a Cloud Storage bucket\n",
    "\n",
    "**The following steps are required, regardless of your notebook environment.**\n",
    "\n",
    "When you submit a training job using the Cloud SDK, you upload a Python package\n",
    "containing your training code to a Cloud Storage bucket. Vertex AI runs\n",
    "the code from this package. In this tutorial, Vertex AI also saves the\n",
    "trained model that results from your job in the same bucket. Using this model artifact, you can then\n",
    "create Vertex AI model and endpoint resources in order to serve\n",
    "online predictions.\n",
    "\n",
    "Set the name of your Cloud Storage bucket below. It must be unique across all\n",
    "Cloud Storage buckets.\n",
    "\n",
    "You may also change the `REGION` variable, which is used for operations\n",
    "throughout the rest of this notebook. Make sure to [choose a region where Vertex AI services are\n",
    "available](https://cloud.google.com/vertex-ai/docs/general/locations#available_regions). You may\n",
    "not use a Multi-Regional Storage bucket for training with Vertex AI."
   ]
  },
  {
   "cell_type": "code",
   "execution_count": 3,
   "metadata": {
    "id": "bucket",
    "vscode": {
     "languageId": "python"
    }
   },
   "outputs": [],
   "source": [
    "BUCKET_NAME = \"gs://qwiklabs-gcp-00-f0730c45a6d4\"\n",
    "REGION = \"us-central1\"  # @param {type:\"string\"}"
   ]
  },
  {
   "cell_type": "code",
   "execution_count": 4,
   "metadata": {
    "id": "OwTYGx3RHZ4d",
    "vscode": {
     "languageId": "python"
    }
   },
   "outputs": [
    {
     "data": {
      "text/plain": [
       "'qwiklabs-gcp-00-f0730c45a6d4'"
      ]
     },
     "execution_count": 4,
     "metadata": {},
     "output_type": "execute_result"
    }
   ],
   "source": [
    "PROJECT_ID"
   ]
  },
  {
   "cell_type": "code",
   "execution_count": 5,
   "metadata": {
    "id": "autoset_bucket",
    "vscode": {
     "languageId": "python"
    }
   },
   "outputs": [],
   "source": [
    "if BUCKET_NAME == \"\" or BUCKET_NAME is None or BUCKET_NAME == \"gs://[your-bucket-name]\":\n",
    "    BUCKET_NAME = \"gs://\" + PROJECT_ID"
   ]
  },
  {
   "cell_type": "markdown",
   "metadata": {
    "id": "create_bucket"
   },
   "source": [
    "**Only if your bucket doesn't already exist**: Run the following cells to create your Cloud Storage bucket."
   ]
  },
  {
   "cell_type": "code",
   "execution_count": 6,
   "metadata": {
    "id": "ndK7ROaDKbLl",
    "vscode": {
     "languageId": "python"
    }
   },
   "outputs": [
    {
     "data": {
      "text/plain": [
       "'gs://qwiklabs-gcp-00-f0730c45a6d4'"
      ]
     },
     "execution_count": 6,
     "metadata": {},
     "output_type": "execute_result"
    }
   ],
   "source": [
    "BUCKET_NAME"
   ]
  },
  {
   "cell_type": "code",
   "execution_count": 7,
   "metadata": {
    "id": "Oz8J0vmSlugt",
    "vscode": {
     "languageId": "python"
    }
   },
   "outputs": [
    {
     "name": "stdout",
     "output_type": "stream",
     "text": [
      "Creating gs://qwiklabs-gcp-00-f0730c45a6d4/...\n"
     ]
    }
   ],
   "source": [
    "! gsutil mb -l $REGION $BUCKET_NAME"
   ]
  },
  {
   "cell_type": "markdown",
   "metadata": {
    "id": "setup_vars"
   },
   "source": [
    "### Set up variables\n",
    "\n",
    "Next, set up some variables used throughout the tutorial."
   ]
  },
  {
   "cell_type": "markdown",
   "metadata": {
    "id": "import_aip"
   },
   "source": [
    "#### Import Vertex SDK for Python\n",
    "\n",
    "Import the Vertex SDK for Python into your Python environment and initialize it."
   ]
  },
  {
   "cell_type": "code",
   "execution_count": 8,
   "metadata": {
    "id": "cNEiwLd0lugu",
    "vscode": {
     "languageId": "python"
    }
   },
   "outputs": [],
   "source": [
    "import os\n",
    "import sys\n",
    "\n",
    "from google.cloud import aiplatform\n",
    "from google.cloud.aiplatform import gapic as aip\n",
    "\n",
    "aiplatform.init(project=PROJECT_ID, location=REGION, staging_bucket=BUCKET_NAME)"
   ]
  },
  {
   "cell_type": "markdown",
   "metadata": {
    "id": "accelerators:training,prediction"
   },
   "source": [
    "#### Set hardware accelerators\n",
    "\n",
    "Here to run a container image on a CPU, we set the variables `TRAIN_GPU/TRAIN_NGPU` and `DEPLOY_GPU/DEPLOY_NGPU` to `(None, None)` since this notebook is meant to be run in a Qwiklab environment where GPUs cannot be provisioned. \n",
    "  \n",
    "Note: If you happen to be running this notebook from your personal GCP account, set the variables `TRAIN_GPU/TRAIN_NGPU` and `DEPLOY_GPU/DEPLOY_NGPU` to use a container image supporting a GPU and the number of GPUs allocated to the virtual machine (VM) instance. For example, to use a GPU container image with 4 Nvidia Tesla K80 GPUs allocated to each VM, you would specify:\n",
    "\n",
    "    (aip.AcceleratorType.NVIDIA_TESLA_K80, 4)\n",
    "\n",
    "See the [locations where accelerators are available](https://cloud.google.com/vertex-ai/docs/general/locations#accelerators)."
   ]
  },
  {
   "cell_type": "code",
   "execution_count": 9,
   "metadata": {
    "id": "xd5PLXDTlugv",
    "vscode": {
     "languageId": "python"
    }
   },
   "outputs": [],
   "source": [
    "TRAIN_GPU, TRAIN_NGPU = (None, None)\n",
    "DEPLOY_GPU, DEPLOY_NGPU = (None, None)"
   ]
  },
  {
   "cell_type": "markdown",
   "metadata": {
    "id": "container:training,prediction"
   },
   "source": [
    "#### Set pre-built containers\n",
    "\n",
    "Vertex AI provides pre-built containers to run training and prediction.\n",
    "\n",
    "For the latest list, see [Pre-built containers for training](https://cloud.google.com/vertex-ai/docs/training/pre-built-containers) and [Pre-built containers for prediction](https://cloud.google.com/vertex-ai/docs/predictions/pre-built-containers)"
   ]
  },
  {
   "cell_type": "code",
   "execution_count": 10,
   "metadata": {
    "id": "1u1mr18jlugv",
    "vscode": {
     "languageId": "python"
    }
   },
   "outputs": [
    {
     "name": "stdout",
     "output_type": "stream",
     "text": [
      "Training: us-docker.pkg.dev/vertex-ai/training/tf-cpu.2-6:latest None None\n",
      "Deployment: us-docker.pkg.dev/vertex-ai/prediction/tf2-cpu.2-6:latest None None\n"
     ]
    }
   ],
   "source": [
    "TRAIN_VERSION = \"tf-cpu.2-6\"\n",
    "DEPLOY_VERSION = \"tf2-cpu.2-6\"\n",
    "\n",
    "TRAIN_IMAGE = \"us-docker.pkg.dev/vertex-ai/training/{}:latest\".format(TRAIN_VERSION)\n",
    "DEPLOY_IMAGE = \"us-docker.pkg.dev/vertex-ai/prediction/{}:latest\".format(DEPLOY_VERSION)\n",
    "\n",
    "print(\"Training:\", TRAIN_IMAGE, TRAIN_GPU, TRAIN_NGPU)\n",
    "print(\"Deployment:\", DEPLOY_IMAGE, DEPLOY_GPU, DEPLOY_NGPU)"
   ]
  },
  {
   "cell_type": "markdown",
   "metadata": {
    "id": "machine:training,prediction"
   },
   "source": [
    "#### Set machine types\n",
    "\n",
    "Next, set the machine types to use for training and prediction.\n",
    "\n",
    "- Set the variables `TRAIN_COMPUTE` and `DEPLOY_COMPUTE` to configure your compute resources for training and prediction.\n",
    " - `machine type`\n",
    "     - `n1-standard`: 3.75GB of memory per vCPU\n",
    "     - `n1-highmem`: 6.5GB of memory per vCPU\n",
    "     - `n1-highcpu`: 0.9 GB of memory per vCPU\n",
    " - `vCPUs`: number of \\[2, 4, 8, 16, 32, 64, 96 \\]\n",
    "\n",
    "*Note: The following is not supported for training:*\n",
    "\n",
    " - `standard`: 2 vCPUs\n",
    " - `highcpu`: 2, 4 and 8 vCPUs\n",
    "\n",
    "*Note: You may also use n2 and e2 machine types for training and deployment, but they do not support GPUs*."
   ]
  },
  {
   "cell_type": "code",
   "execution_count": 11,
   "metadata": {
    "id": "YAXwbqKKlugv",
    "vscode": {
     "languageId": "python"
    }
   },
   "outputs": [
    {
     "name": "stdout",
     "output_type": "stream",
     "text": [
      "Train machine type n1-standard-4\n",
      "Deploy machine type n1-standard-4\n"
     ]
    }
   ],
   "source": [
    "MACHINE_TYPE = \"n1-standard\"\n",
    "\n",
    "VCPU = \"4\"\n",
    "TRAIN_COMPUTE = MACHINE_TYPE + \"-\" + VCPU\n",
    "print(\"Train machine type\", TRAIN_COMPUTE)\n",
    "\n",
    "MACHINE_TYPE = \"n1-standard\"\n",
    "\n",
    "VCPU = \"4\"\n",
    "DEPLOY_COMPUTE = MACHINE_TYPE + \"-\" + VCPU\n",
    "print(\"Deploy machine type\", DEPLOY_COMPUTE)"
   ]
  },
  {
   "cell_type": "markdown",
   "metadata": {
    "id": "tutorial_start:custom"
   },
   "source": [
    "# Distributed training and deployment\n",
    "\n",
    "Now you are ready to start creating your own custom-trained model with MNIST and deploying it as online prediction service."
   ]
  },
  {
   "cell_type": "markdown",
   "metadata": {
    "id": "train_custom_model"
   },
   "source": [
    "## Train a model\n",
    "\n",
    "There are two ways you can train a custom model using a container image:\n",
    "\n",
    "- **Use a Google Cloud prebuilt container**. If you use a prebuilt container, you will additionally specify a Python package to install into the container image. This Python package contains your code for training a custom model.\n",
    "\n",
    "- **Use your own custom container image**. If you use your own container, the container needs to contain your code for training a custom model."
   ]
  },
  {
   "cell_type": "markdown",
   "metadata": {
    "id": "train_custom_job_args"
   },
   "source": [
    "### Define the command args for the training script\n",
    "\n",
    "Prepare the command-line arguments to pass to your training script.\n",
    "- `args`: The command line arguments to pass to the corresponding Python module. In this example, they will be:\n",
    "  - `\"--epochs=\" + EPOCHS`: The number of epochs for training.\n",
    "  - `\"--steps=\" + STEPS`: The number of steps (batches) per epoch.\n",
    "  - `\"--distribute=\" + TRAIN_STRATEGY\"` : The training distribution strategy to use for single or distributed training.\n",
    "     - `\"single\"`: single device.\n",
    "     - `\"mirror\"`: all GPU devices on a single compute instance.\n",
    "     - `\"multi\"`: all GPU devices on all compute instances."
   ]
  },
  {
   "cell_type": "code",
   "execution_count": 12,
   "metadata": {
    "id": "1npiDcUtlugw",
    "vscode": {
     "languageId": "python"
    }
   },
   "outputs": [],
   "source": [
    "JOB_NAME = \"custom_job_\" + TIMESTAMP\n",
    "MODEL_DIR = \"{}/{}\".format(BUCKET_NAME, JOB_NAME)\n",
    "\n",
    "if not TRAIN_NGPU or TRAIN_NGPU < 2:\n",
    "    TRAIN_STRATEGY = \"single\"\n",
    "else:\n",
    "    TRAIN_STRATEGY = \"mirror\"\n",
    "\n",
    "EPOCHS = 20\n",
    "STEPS = 100\n",
    "\n",
    "CMDARGS = [\n",
    "    \"--epochs=\" + str(EPOCHS),\n",
    "    \"--steps=\" + str(STEPS),\n",
    "    \"--distribute=\" + TRAIN_STRATEGY,\n",
    "]"
   ]
  },
  {
   "cell_type": "code",
   "execution_count": 13,
   "metadata": {
    "id": "3KUafHyiPqmc",
    "vscode": {
     "languageId": "python"
    }
   },
   "outputs": [
    {
     "data": {
      "text/plain": [
       "'single'"
      ]
     },
     "execution_count": 13,
     "metadata": {},
     "output_type": "execute_result"
    }
   ],
   "source": [
    "TRAIN_STRATEGY"
   ]
  },
  {
   "cell_type": "markdown",
   "metadata": {
    "id": "taskpy_contents"
   },
   "source": [
    "#### Training script\n",
    "\n",
    "In the next cell, you will write the contents of the training script, `task.py`. In summary:\n",
    "\n",
    "- Get the directory where to save the model artifacts from the environment variable `AIP_MODEL_DIR`. This variable is set by the training service.\n",
    "- Loads MNIST dataset from TF Datasets (tfds).\n",
    "- Builds a model using TF.Keras model API.\n",
    "- Compiles the model (`compile()`).\n",
    "- Sets a training distribution strategy according to the argument `args.distribute`.\n",
    "- Trains the model (`fit()`) with epochs and steps according to the arguments `args.epochs` and `args.steps`\n",
    "- Saves the trained model (`save(MODEL_DIR)`) to the specified model directory."
   ]
  },
  {
   "cell_type": "code",
   "execution_count": 14,
   "metadata": {
    "id": "72rUqXNFlugx",
    "vscode": {
     "languageId": "python"
    }
   },
   "outputs": [
    {
     "name": "stdout",
     "output_type": "stream",
     "text": [
      "Writing task.py\n"
     ]
    }
   ],
   "source": [
    "%%writefile task.py\n",
    "# Single, Mirror and Multi-Machine Distributed Training for MNIST\n",
    "\n",
    "import tensorflow_datasets as tfds\n",
    "import tensorflow as tf\n",
    "from tensorflow.python.client import device_lib\n",
    "import argparse\n",
    "import os\n",
    "import sys\n",
    "tfds.disable_progress_bar()\n",
    "\n",
    "parser = argparse.ArgumentParser()\n",
    "parser.add_argument('--lr', dest='lr',\n",
    "    default=0.01, type=float, help='Learning rate.')\n",
    "parser.add_argument('--epochs', dest='epochs',\n",
    "    default=10, type=int, help='Number of epochs.')\n",
    "parser.add_argument('--steps', dest='steps',\n",
    "    default=200, type=int, help='Number of steps per epoch.')\n",
    "parser.add_argument('--distribute', dest='distribute', type=str, default='single',\n",
    "    help='distributed training strategy')\n",
    "args = parser.parse_args()\n",
    "\n",
    "print('Python Version = {}'.format(sys.version))\n",
    "print('TensorFlow Version = {}'.format(tf.__version__))\n",
    "print('TF_CONFIG = {}'.format(os.environ.get('TF_CONFIG', 'Not found')))\n",
    "print('DEVICES', device_lib.list_local_devices())\n",
    "\n",
    "# Single Machine, single compute device\n",
    "if args.distribute == 'single':\n",
    "    if tf.test.is_gpu_available():\n",
    "        strategy = tf.distribute.OneDeviceStrategy(device=\"/gpu:0\")\n",
    "    else:\n",
    "        strategy = tf.distribute.OneDeviceStrategy(device=\"/cpu:0\")\n",
    "# Single Machine, multiple compute device\n",
    "elif args.distribute == 'mirror':\n",
    "    strategy = tf.distribute.MirroredStrategy()\n",
    "# Multiple Machine, multiple compute device\n",
    "elif args.distribute == 'multi':\n",
    "    strategy = tf.distribute.experimental.MultiWorkerMirroredStrategy()\n",
    "\n",
    "# Multi-worker configuration\n",
    "print('num_replicas_in_sync = {}'.format(strategy.num_replicas_in_sync))\n",
    "\n",
    "# Preparing dataset\n",
    "BUFFER_SIZE = 10000\n",
    "BATCH_SIZE = 64\n",
    "\n",
    "def make_datasets_unbatched():\n",
    "    # Scaling MNIST data from (0, 255] to (0., 1.]\n",
    "    def scale(image, label):\n",
    "        image = tf.cast(image, tf.float32)\n",
    "        image /= 255.0\n",
    "        return image, label\n",
    "\n",
    "    datasets, info = tfds.load(name='mnist', with_info=True,\n",
    "        as_supervised=True)\n",
    "    \n",
    "    return datasets['train'].map(scale).cache().shuffle(BUFFER_SIZE).repeat()\n",
    "\n",
    "\n",
    "# Build the Keras model\n",
    "def build_and_compile_cnn_model():\n",
    "    model = tf.keras.Sequential([\n",
    "      tf.keras.layers.Conv2D(32, 3, activation='relu', input_shape=(28, 28, 1)),\n",
    "      tf.keras.layers.MaxPooling2D(),\n",
    "      tf.keras.layers.Conv2D(32, 3, activation='relu'),\n",
    "      tf.keras.layers.MaxPooling2D(),\n",
    "      tf.keras.layers.Flatten(),\n",
    "      tf.keras.layers.Dense(10, activation='softmax')\n",
    "    ])\n",
    "    model.compile(\n",
    "      loss=tf.keras.losses.sparse_categorical_crossentropy,\n",
    "      optimizer=tf.keras.optimizers.SGD(learning_rate=args.lr),\n",
    "      metrics=['accuracy']\n",
    "    )\n",
    "    return model\n",
    "\n",
    "# Train the model\n",
    "NUM_WORKERS = strategy.num_replicas_in_sync\n",
    "# Here the batch size scales up by number of workers since\n",
    "# `tf.data.Dataset.batch` expects the global batch size.\n",
    "GLOBAL_BATCH_SIZE = BATCH_SIZE * NUM_WORKERS\n",
    "MODEL_DIR = os.getenv(\"AIP_MODEL_DIR\")\n",
    "\n",
    "train_dataset = make_datasets_unbatched().batch(GLOBAL_BATCH_SIZE)\n",
    "\n",
    "with strategy.scope():\n",
    "    # Creation of dataset, and model building/compiling need to be within\n",
    "    # `strategy.scope()`.\n",
    "    model = build_and_compile_cnn_model()\n",
    "\n",
    "model.fit(x=train_dataset, epochs=args.epochs, steps_per_epoch=args.steps)\n",
    "model.save(MODEL_DIR)"
   ]
  },
  {
   "cell_type": "markdown",
   "metadata": {
    "id": "train_custom_job"
   },
   "source": [
    "### Train the model\n",
    "\n",
    "Define your custom training job on Vertex AI.\n",
    "\n",
    "Use the `CustomTrainingJob` class to define the job, which takes the following parameters:\n",
    "\n",
    "- `display_name`: The user-defined name of this training pipeline.\n",
    "- `script_path`: The local path to the training script.\n",
    "- `container_uri`: The URI of the training container image.\n",
    "- `requirements`: The list of Python package dependencies of the script.\n",
    "- `model_serving_container_image_uri`: The URI of a container that can serve predictions for your model — either a prebuilt container or a custom container.\n",
    "\n",
    "Use the `run` function to start training, which takes the following parameters:\n",
    "\n",
    "- `args`: The command line arguments to be passed to the Python script.\n",
    "- `replica_count`: The number of worker replicas.\n",
    "- `model_display_name`: The display name of the `Model` if the script produces a managed `Model`.\n",
    "- `machine_type`: The type of machine to use for training.\n",
    "- `accelerator_type`: The hardware accelerator type.\n",
    "- `accelerator_count`: The number of accelerators to attach to a worker replica.\n",
    "\n",
    "The `run` function creates a training pipeline that trains and creates a `Model` object. After the training pipeline completes, the `run` function returns the `Model` object.\n",
    "\n",
    "You can read more about the `CustomTrainingJob.run` API [here](https://googleapis.dev/python/aiplatform/latest/aiplatform.html?highlight=customtraining#google.cloud.aiplatform.CustomTrainingJob.run)"
   ]
  },
  {
   "cell_type": "code",
   "execution_count": 15,
   "metadata": {
    "collapsed": true,
    "id": "n5e-ZiLtvf9Y",
    "jupyter": {
     "outputs_hidden": true
    },
    "tags": [],
    "vscode": {
     "languageId": "python"
    }
   },
   "outputs": [
    {
     "name": "stdout",
     "output_type": "stream",
     "text": [
      "Training script copied to:\n",
      "gs://qwiklabs-gcp-00-f0730c45a6d4/aiplatform-2023-07-23-04:32:08.588-aiplatform_custom_trainer_script-0.1.tar.gz.\n",
      "Training Output directory:\n",
      "gs://qwiklabs-gcp-00-f0730c45a6d4/aiplatform-custom-training-2023-07-23-04:32:08.722 \n",
      "View Training:\n",
      "https://console.cloud.google.com/ai/platform/locations/us-central1/training/7090122735107440640?project=541444611797\n",
      "CustomTrainingJob projects/541444611797/locations/us-central1/trainingPipelines/7090122735107440640 current state:\n",
      "PipelineState.PIPELINE_STATE_PENDING\n",
      "CustomTrainingJob projects/541444611797/locations/us-central1/trainingPipelines/7090122735107440640 current state:\n",
      "PipelineState.PIPELINE_STATE_PENDING\n",
      "View backing custom job:\n",
      "https://console.cloud.google.com/ai/platform/locations/us-central1/training/2889368192445054976?project=541444611797\n",
      "CustomTrainingJob projects/541444611797/locations/us-central1/trainingPipelines/7090122735107440640 current state:\n",
      "PipelineState.PIPELINE_STATE_RUNNING\n",
      "CustomTrainingJob projects/541444611797/locations/us-central1/trainingPipelines/7090122735107440640 current state:\n",
      "PipelineState.PIPELINE_STATE_RUNNING\n",
      "CustomTrainingJob projects/541444611797/locations/us-central1/trainingPipelines/7090122735107440640 current state:\n",
      "PipelineState.PIPELINE_STATE_RUNNING\n",
      "CustomTrainingJob projects/541444611797/locations/us-central1/trainingPipelines/7090122735107440640 current state:\n",
      "PipelineState.PIPELINE_STATE_RUNNING\n",
      "CustomTrainingJob run completed. Resource name: projects/541444611797/locations/us-central1/trainingPipelines/7090122735107440640\n",
      "Model available at projects/541444611797/locations/us-central1/models/3313727935000608768\n"
     ]
    }
   ],
   "source": [
    "job = aiplatform.CustomTrainingJob(\n",
    "    display_name=JOB_NAME,\n",
    "    script_path=\"task.py\",\n",
    "    container_uri=TRAIN_IMAGE,\n",
    "    requirements=[\"tensorflow_datasets==1.3.0\"],\n",
    "    model_serving_container_image_uri=DEPLOY_IMAGE,\n",
    ")\n",
    "\n",
    "MODEL_DISPLAY_NAME = \"mnist-\" + TIMESTAMP\n",
    "\n",
    "# Start the training\n",
    "if TRAIN_GPU:\n",
    "    model = job.run(\n",
    "        model_display_name=MODEL_DISPLAY_NAME,\n",
    "        args=CMDARGS,\n",
    "        replica_count=1,\n",
    "        machine_type=TRAIN_COMPUTE,\n",
    "        accelerator_type=TRAIN_GPU.name,\n",
    "        accelerator_count=TRAIN_NGPU,\n",
    "    )\n",
    "else:\n",
    "    model = job.run(\n",
    "        model_display_name=MODEL_DISPLAY_NAME,\n",
    "        args=CMDARGS,\n",
    "        replica_count=1,\n",
    "        machine_type=TRAIN_COMPUTE,\n",
    "        accelerator_count=0,\n",
    "    )"
   ]
  },
  {
   "cell_type": "markdown",
   "metadata": {
    "id": "Q0vDo4BxfOQy"
   },
   "source": [
    "To view the training pipeline status, you have to navigate to **Vertex AI** ➞ **Training**  "
   ]
  },
  {
   "cell_type": "markdown",
   "metadata": {
    "id": "AOOMLTe7eyxu"
   },
   "source": [
    "<img src=\"https://i.ibb.co/Xs3myZQ/vertex-ai-training.png\" width=\"200\">"
   ]
  },
  {
   "cell_type": "markdown",
   "metadata": {
    "id": "oFzYqiVhfmji"
   },
   "source": [
    "You can see the status of the current training pipeline as seen below"
   ]
  },
  {
   "cell_type": "markdown",
   "metadata": {
    "id": "CpxL8bSyftNK"
   },
   "source": [
    "![TrainingPipeline](img/TrainingPipeline.png)"
   ]
  },
  {
   "cell_type": "markdown",
   "metadata": {
    "id": "T67d8CMIqV4q"
   },
   "source": [
    "Once the model has been successfully trained, you can see a custom trained model if you head to **Vertex AI** ➞ **Model Registry**."
   ]
  },
  {
   "cell_type": "markdown",
   "metadata": {
    "id": "7EP_KtTewKzw"
   },
   "source": [
    "![ModelRegistry](img/ModelRegistry.png)"
   ]
  },
  {
   "cell_type": "markdown",
   "metadata": {
    "id": "deploy_model:dedicated"
   },
   "source": [
    "### Deploy the model\n",
    "\n",
    "Before you use your model to make predictions, you need to deploy it to an `Endpoint`. You can do this by calling the `deploy` function on the `Model` resource. This will do two things:\n",
    "\n",
    "1. Create an `Endpoint` resource for deploying the `Model` resource to.\n",
    "2. Deploy the `Model` resource to the `Endpoint` resource.\n",
    "\n",
    "\n",
    "The function takes the following parameters:\n",
    "\n",
    "- `deployed_model_display_name`: A human readable name for the deployed model.\n",
    "- `traffic_split`: Percent of traffic at the endpoint that goes to this model, which is specified as a dictionary of one or more key/value pairs.\n",
    "   - If only one model, then specify as **{ \"0\": 100 }**, where \"0\" refers to this model being uploaded and 100 means 100% of the traffic.\n",
    "   - If there are existing models on the endpoint, for which the traffic will be split, then use `model_id` to specify as **{ \"0\": percent, model_id: percent, ... }**, where `model_id` is the model id of an existing model to the deployed endpoint. The percents must add up to 100.\n",
    "- `machine_type`: The type of machine to use for training.\n",
    "- `accelerator_type`: The hardware accelerator type.\n",
    "- `accelerator_count`: The number of accelerators to attach to a worker replica.\n",
    "- `starting_replica_count`: The number of compute instances to initially provision.\n",
    "- `max_replica_count`: The maximum number of compute instances to scale to. In this tutorial, only one instance is provisioned.\n",
    "\n",
    "### Traffic split\n",
    "\n",
    "The `traffic_split` parameter is specified as a Python dictionary. You can deploy more than one instance of your model to an endpoint, and then set the percentage of traffic that goes to each instance.\n",
    "\n",
    "You can use a traffic split to introduce a new model gradually into production. For example, if you had one existing model in production with 100% of the traffic, you could deploy a new model to the same endpoint, direct 10% of traffic to it, and reduce the original model's traffic to 90%. This allows you to monitor the new model's performance while minimizing the distruption to the majority of users.\n",
    "\n",
    "### Compute instance scaling\n",
    "\n",
    "You can specify a single instance (or node) to serve your online prediction requests. This tutorial uses a single node, so the variables `MIN_NODES` and `MAX_NODES` are both set to `1`.\n",
    "\n",
    "If you want to use multiple nodes to serve your online prediction requests, set `MAX_NODES` to the maximum number of nodes you want to use. Vertex AI autoscales the number of nodes used to serve your predictions, up to the maximum number you set. Refer to the [pricing page](https://cloud.google.com/vertex-ai/pricing#prediction-prices) to understand the costs of autoscaling with multiple nodes.\n",
    "\n",
    "### Endpoint\n",
    "\n",
    "The method will block until the model is deployed and eventually return an `Endpoint` object. If this is the first time a model is deployed to the endpoint, it may take a few additional minutes to complete provisioning of resources."
   ]
  },
  {
   "cell_type": "code",
   "execution_count": 16,
   "metadata": {
    "collapsed": true,
    "id": "7coB1rL2vjK0",
    "jupyter": {
     "outputs_hidden": true
    },
    "tags": [],
    "vscode": {
     "languageId": "python"
    }
   },
   "outputs": [
    {
     "name": "stdout",
     "output_type": "stream",
     "text": [
      "Creating Endpoint\n",
      "Create Endpoint backing LRO: projects/541444611797/locations/us-central1/endpoints/5830609007026372608/operations/6702639581755342848\n",
      "Endpoint created. Resource name: projects/541444611797/locations/us-central1/endpoints/5830609007026372608\n",
      "To use this Endpoint in another session:\n",
      "endpoint = aiplatform.Endpoint('projects/541444611797/locations/us-central1/endpoints/5830609007026372608')\n",
      "Deploying model to Endpoint : projects/541444611797/locations/us-central1/endpoints/5830609007026372608\n",
      "Deploy Endpoint model backing LRO: projects/541444611797/locations/us-central1/endpoints/5830609007026372608/operations/2172018356620623872\n",
      "Endpoint model deployed. Resource name: projects/541444611797/locations/us-central1/endpoints/5830609007026372608\n"
     ]
    }
   ],
   "source": [
    "DEPLOYED_NAME = \"mnist_deployed-\" + TIMESTAMP\n",
    "\n",
    "TRAFFIC_SPLIT = {\"0\": 100}\n",
    "\n",
    "MIN_NODES = 1\n",
    "MAX_NODES = 1\n",
    "\n",
    "if DEPLOY_GPU:\n",
    "    endpoint = model.deploy(\n",
    "        deployed_model_display_name=DEPLOYED_NAME,\n",
    "        traffic_split=TRAFFIC_SPLIT,\n",
    "        machine_type=DEPLOY_COMPUTE,\n",
    "        accelerator_type=DEPLOY_GPU.name,\n",
    "        accelerator_count=DEPLOY_NGPU,\n",
    "        min_replica_count=MIN_NODES,\n",
    "        max_replica_count=MAX_NODES,\n",
    "    )\n",
    "else:\n",
    "    endpoint = model.deploy(\n",
    "        deployed_model_display_name=DEPLOYED_NAME,\n",
    "        traffic_split=TRAFFIC_SPLIT,\n",
    "        machine_type=DEPLOY_COMPUTE,\n",
    "        accelerator_type=None,\n",
    "        accelerator_count=0,\n",
    "        min_replica_count=MIN_NODES,\n",
    "        max_replica_count=MAX_NODES,\n",
    "    )"
   ]
  },
  {
   "cell_type": "markdown",
   "metadata": {
    "id": "_LcTafS4qjOd"
   },
   "source": [
    "In order to view your deployed endpoint, you can head over to **Vertex AI** ➞ **Endpoints**"
   ]
  },
  {
   "cell_type": "markdown",
   "metadata": {
    "id": "PQTMCgmSm8Xw"
   },
   "source": [
    "<img src=\"https://i.ibb.co/qBmmYVB/vertex-ai-endpoints.png\" width=\"200\">\n",
    "\n"
   ]
  },
  {
   "cell_type": "markdown",
   "metadata": {
    "id": "N8hh97ierIsZ"
   },
   "source": [
    "You can check if your endpoint is in the list of the currently deployed/deploying endpoints."
   ]
  },
  {
   "cell_type": "markdown",
   "metadata": {
    "id": "qwqhxw1Aoh93"
   },
   "source": [
    "![screenshot-2021-08-19-at-7-00-22-pm.png](data:image/png;base64,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)"
   ]
  },
  {
   "cell_type": "markdown",
   "metadata": {
    "id": "_aUET4fuqx8H"
   },
   "source": [
    "To view the details of the endpoint that is currently deploying, you can simply click on the endpoint name.\n",
    "\n",
    "Once deployment is successfull, you should be able to see a green tick next to the endpoint name in the above screenshot."
   ]
  },
  {
   "cell_type": "markdown",
   "metadata": {
    "id": "suAADbYToxX6"
   },
   "source": [
    "![screenshot-2021-08-19-at-7-06-14-pm.png](data:image/png;base64,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)"
   ]
  },
  {
   "cell_type": "markdown",
   "metadata": {
    "id": "make_prediction"
   },
   "source": [
    "## Make an online prediction request\n",
    "\n",
    "Send an online prediction request to your deployed model."
   ]
  },
  {
   "cell_type": "markdown",
   "metadata": {
    "id": "iYbOUHHhYNGL"
   },
   "source": [
    "### Testing\n",
    "\n",
    "Get the test dataset and load the images/labels."
   ]
  },
  {
   "cell_type": "markdown",
   "metadata": {
    "id": "a1pUvFaubOct"
   },
   "source": [
    "Set the batch size to -1 to load the entire dataset."
   ]
  },
  {
   "cell_type": "code",
   "execution_count": 1,
   "metadata": {
    "id": "daBBECf1khBk",
    "vscode": {
     "languageId": "python"
    }
   },
   "outputs": [],
   "source": [
    "import tensorflow_datasets as tfds\n",
    "import numpy as np"
   ]
  },
  {
   "cell_type": "code",
   "execution_count": 2,
   "metadata": {
    "collapsed": true,
    "id": "iUYnz-neYX2x",
    "jupyter": {
     "outputs_hidden": true
    },
    "tags": [],
    "vscode": {
     "languageId": "python"
    }
   },
   "outputs": [
    {
     "name": "stderr",
     "output_type": "stream",
     "text": [
      "/opt/conda/lib/python3.9/site-packages/tensorflow/python/framework/dtypes.py:585: FutureWarning: In the future `np.object` will be defined as the corresponding NumPy scalar.\n",
      "  np.object,\n",
      "/opt/conda/lib/python3.9/site-packages/tensorflow/python/framework/dtypes.py:585: FutureWarning: In the future `np.object` will be defined as the corresponding NumPy scalar.\n",
      "  np.object,\n"
     ]
    },
    {
     "ename": "AttributeError",
     "evalue": "Failed to construct dataset mnist: module 'numpy' has no attribute 'object'.\n`np.object` was a deprecated alias for the builtin `object`. To avoid this error in existing code, use `object` by itself. Doing this will not modify any behavior and is safe. \nThe aliases was originally deprecated in NumPy 1.20; for more details and guidance see the original release note at:\n    https://numpy.org/devdocs/release/1.20.0-notes.html#deprecations",
     "output_type": "error",
     "traceback": [
      "\u001b[0;31m---------------------------------------------------------------------------\u001b[0m",
      "\u001b[0;31mAttributeError\u001b[0m                            Traceback (most recent call last)",
      "File \u001b[0;32m/opt/conda/lib/python3.9/site-packages/tensorflow_datasets/core/utils/gcs_utils.py:76\u001b[0m, in \u001b[0;36mexists\u001b[0;34m(path)\u001b[0m\n\u001b[1;32m     75\u001b[0m \u001b[38;5;28;01mtry\u001b[39;00m:\n\u001b[0;32m---> 76\u001b[0m   \u001b[38;5;28;01mreturn\u001b[39;00m \u001b[43mpath\u001b[49m\u001b[38;5;241;43m.\u001b[39;49m\u001b[43mexists\u001b[49m\u001b[43m(\u001b[49m\u001b[43m)\u001b[49m\n\u001b[1;32m     77\u001b[0m \u001b[38;5;28;01mexcept\u001b[39;00m gcs_unavailable_exceptions():  \u001b[38;5;66;03m# pylint: disable=catching-non-exception\u001b[39;00m\n",
      "File \u001b[0;32m/opt/conda/lib/python3.9/site-packages/etils/epath/gpath.py:130\u001b[0m, in \u001b[0;36m_GPath.exists\u001b[0;34m(self)\u001b[0m\n\u001b[1;32m    129\u001b[0m \u001b[38;5;250m\u001b[39m\u001b[38;5;124;03m\"\"\"Returns True if self exists.\"\"\"\u001b[39;00m\n\u001b[0;32m--> 130\u001b[0m \u001b[38;5;28;01mreturn\u001b[39;00m \u001b[38;5;28;43mself\u001b[39;49m\u001b[38;5;241;43m.\u001b[39;49m\u001b[43m_backend\u001b[49m\u001b[38;5;241;43m.\u001b[39;49m\u001b[43mexists\u001b[49m\u001b[43m(\u001b[49m\u001b[38;5;28;43mself\u001b[39;49m\u001b[38;5;241;43m.\u001b[39;49m\u001b[43m_path_str\u001b[49m\u001b[43m)\u001b[49m\n",
      "File \u001b[0;32m/opt/conda/lib/python3.9/site-packages/etils/epath/backend.py:204\u001b[0m, in \u001b[0;36m_TfBackend.exists\u001b[0;34m(self, path)\u001b[0m\n\u001b[1;32m    203\u001b[0m \u001b[38;5;28;01mdef\u001b[39;00m \u001b[38;5;21mexists\u001b[39m(\u001b[38;5;28mself\u001b[39m, path: PathLike) \u001b[38;5;241m-\u001b[39m\u001b[38;5;241m>\u001b[39m \u001b[38;5;28mbool\u001b[39m:\n\u001b[0;32m--> 204\u001b[0m   \u001b[38;5;28;01mreturn\u001b[39;00m \u001b[38;5;28;43mself\u001b[39;49m\u001b[38;5;241;43m.\u001b[39;49m\u001b[43mgfile\u001b[49m\u001b[38;5;241m.\u001b[39mexists(path)\n",
      "File \u001b[0;32m/opt/conda/lib/python3.9/site-packages/etils/epath/backend.py:194\u001b[0m, in \u001b[0;36m_TfBackend.gfile\u001b[0;34m(self)\u001b[0m\n\u001b[1;32m    192\u001b[0m \u001b[38;5;129m@property\u001b[39m\n\u001b[1;32m    193\u001b[0m \u001b[38;5;28;01mdef\u001b[39;00m \u001b[38;5;21mgfile\u001b[39m(\u001b[38;5;28mself\u001b[39m):\n\u001b[0;32m--> 194\u001b[0m   \u001b[38;5;28;01mreturn\u001b[39;00m \u001b[38;5;28;43mself\u001b[39;49m\u001b[38;5;241;43m.\u001b[39;49m\u001b[43mtf\u001b[49m\u001b[38;5;241m.\u001b[39mio\u001b[38;5;241m.\u001b[39mgfile\n",
      "File \u001b[0;32m/opt/conda/lib/python3.9/site-packages/etils/epath/backend.py:185\u001b[0m, in \u001b[0;36m_TfBackend.tf\u001b[0;34m(self)\u001b[0m\n\u001b[1;32m    184\u001b[0m \u001b[38;5;28;01mtry\u001b[39;00m:\n\u001b[0;32m--> 185\u001b[0m   \u001b[38;5;28;01mimport\u001b[39;00m \u001b[38;5;21;01mtensorflow\u001b[39;00m  \u001b[38;5;66;03m# pylint: disable=g-import-not-at-top  # pytype: disable=import-error\u001b[39;00m\n\u001b[1;32m    186\u001b[0m \u001b[38;5;28;01mexcept\u001b[39;00m \u001b[38;5;167;01mImportError\u001b[39;00m \u001b[38;5;28;01mas\u001b[39;00m e:\n",
      "File \u001b[0;32m/opt/conda/lib/python3.9/site-packages/tensorflow/__init__.py:41\u001b[0m\n\u001b[1;32m     39\u001b[0m \u001b[38;5;28;01mimport\u001b[39;00m \u001b[38;5;21;01msys\u001b[39;00m \u001b[38;5;28;01mas\u001b[39;00m \u001b[38;5;21;01m_sys\u001b[39;00m\n\u001b[0;32m---> 41\u001b[0m \u001b[38;5;28;01mfrom\u001b[39;00m \u001b[38;5;21;01mtensorflow\u001b[39;00m\u001b[38;5;21;01m.\u001b[39;00m\u001b[38;5;21;01mpython\u001b[39;00m\u001b[38;5;21;01m.\u001b[39;00m\u001b[38;5;21;01mtools\u001b[39;00m \u001b[38;5;28;01mimport\u001b[39;00m module_util \u001b[38;5;28;01mas\u001b[39;00m _module_util\n\u001b[1;32m     42\u001b[0m \u001b[38;5;28;01mfrom\u001b[39;00m \u001b[38;5;21;01mtensorflow\u001b[39;00m\u001b[38;5;21;01m.\u001b[39;00m\u001b[38;5;21;01mpython\u001b[39;00m\u001b[38;5;21;01m.\u001b[39;00m\u001b[38;5;21;01mutil\u001b[39;00m\u001b[38;5;21;01m.\u001b[39;00m\u001b[38;5;21;01mlazy_loader\u001b[39;00m \u001b[38;5;28;01mimport\u001b[39;00m LazyLoader \u001b[38;5;28;01mas\u001b[39;00m _LazyLoader\n",
      "File \u001b[0;32m/opt/conda/lib/python3.9/site-packages/tensorflow/python/__init__.py:46\u001b[0m\n\u001b[1;32m     43\u001b[0m \u001b[38;5;66;03m# pylint: enable=wildcard-import\u001b[39;00m\n\u001b[1;32m     44\u001b[0m \n\u001b[1;32m     45\u001b[0m \u001b[38;5;66;03m# Bring in subpackages.\u001b[39;00m\n\u001b[0;32m---> 46\u001b[0m \u001b[38;5;28;01mfrom\u001b[39;00m \u001b[38;5;21;01mtensorflow\u001b[39;00m\u001b[38;5;21;01m.\u001b[39;00m\u001b[38;5;21;01mpython\u001b[39;00m \u001b[38;5;28;01mimport\u001b[39;00m data\n\u001b[1;32m     47\u001b[0m \u001b[38;5;28;01mfrom\u001b[39;00m \u001b[38;5;21;01mtensorflow\u001b[39;00m\u001b[38;5;21;01m.\u001b[39;00m\u001b[38;5;21;01mpython\u001b[39;00m \u001b[38;5;28;01mimport\u001b[39;00m distribute\n",
      "File \u001b[0;32m/opt/conda/lib/python3.9/site-packages/tensorflow/python/data/__init__.py:25\u001b[0m\n\u001b[1;32m     24\u001b[0m \u001b[38;5;66;03m# pylint: disable=unused-import\u001b[39;00m\n\u001b[0;32m---> 25\u001b[0m \u001b[38;5;28;01mfrom\u001b[39;00m \u001b[38;5;21;01mtensorflow\u001b[39;00m\u001b[38;5;21;01m.\u001b[39;00m\u001b[38;5;21;01mpython\u001b[39;00m\u001b[38;5;21;01m.\u001b[39;00m\u001b[38;5;21;01mdata\u001b[39;00m \u001b[38;5;28;01mimport\u001b[39;00m experimental\n\u001b[1;32m     26\u001b[0m \u001b[38;5;28;01mfrom\u001b[39;00m \u001b[38;5;21;01mtensorflow\u001b[39;00m\u001b[38;5;21;01m.\u001b[39;00m\u001b[38;5;21;01mpython\u001b[39;00m\u001b[38;5;21;01m.\u001b[39;00m\u001b[38;5;21;01mdata\u001b[39;00m\u001b[38;5;21;01m.\u001b[39;00m\u001b[38;5;21;01mops\u001b[39;00m\u001b[38;5;21;01m.\u001b[39;00m\u001b[38;5;21;01mdataset_ops\u001b[39;00m \u001b[38;5;28;01mimport\u001b[39;00m AUTOTUNE\n",
      "File \u001b[0;32m/opt/conda/lib/python3.9/site-packages/tensorflow/python/data/experimental/__init__.py:97\u001b[0m\n\u001b[1;32m     96\u001b[0m \u001b[38;5;66;03m# pylint: disable=unused-import\u001b[39;00m\n\u001b[0;32m---> 97\u001b[0m \u001b[38;5;28;01mfrom\u001b[39;00m \u001b[38;5;21;01mtensorflow\u001b[39;00m\u001b[38;5;21;01m.\u001b[39;00m\u001b[38;5;21;01mpython\u001b[39;00m\u001b[38;5;21;01m.\u001b[39;00m\u001b[38;5;21;01mdata\u001b[39;00m\u001b[38;5;21;01m.\u001b[39;00m\u001b[38;5;21;01mexperimental\u001b[39;00m \u001b[38;5;28;01mimport\u001b[39;00m service\n\u001b[1;32m     98\u001b[0m \u001b[38;5;28;01mfrom\u001b[39;00m \u001b[38;5;21;01mtensorflow\u001b[39;00m\u001b[38;5;21;01m.\u001b[39;00m\u001b[38;5;21;01mpython\u001b[39;00m\u001b[38;5;21;01m.\u001b[39;00m\u001b[38;5;21;01mdata\u001b[39;00m\u001b[38;5;21;01m.\u001b[39;00m\u001b[38;5;21;01mexperimental\u001b[39;00m\u001b[38;5;21;01m.\u001b[39;00m\u001b[38;5;21;01mops\u001b[39;00m\u001b[38;5;21;01m.\u001b[39;00m\u001b[38;5;21;01mbatching\u001b[39;00m \u001b[38;5;28;01mimport\u001b[39;00m dense_to_ragged_batch\n",
      "File \u001b[0;32m/opt/conda/lib/python3.9/site-packages/tensorflow/python/data/experimental/service/__init__.py:353\u001b[0m\n\u001b[1;32m    351\u001b[0m \u001b[38;5;28;01mfrom\u001b[39;00m \u001b[38;5;21;01m__future__\u001b[39;00m \u001b[38;5;28;01mimport\u001b[39;00m print_function\n\u001b[0;32m--> 353\u001b[0m \u001b[38;5;28;01mfrom\u001b[39;00m \u001b[38;5;21;01mtensorflow\u001b[39;00m\u001b[38;5;21;01m.\u001b[39;00m\u001b[38;5;21;01mpython\u001b[39;00m\u001b[38;5;21;01m.\u001b[39;00m\u001b[38;5;21;01mdata\u001b[39;00m\u001b[38;5;21;01m.\u001b[39;00m\u001b[38;5;21;01mexperimental\u001b[39;00m\u001b[38;5;21;01m.\u001b[39;00m\u001b[38;5;21;01mops\u001b[39;00m\u001b[38;5;21;01m.\u001b[39;00m\u001b[38;5;21;01mdata_service_ops\u001b[39;00m \u001b[38;5;28;01mimport\u001b[39;00m distribute\n\u001b[1;32m    354\u001b[0m \u001b[38;5;28;01mfrom\u001b[39;00m \u001b[38;5;21;01mtensorflow\u001b[39;00m\u001b[38;5;21;01m.\u001b[39;00m\u001b[38;5;21;01mpython\u001b[39;00m\u001b[38;5;21;01m.\u001b[39;00m\u001b[38;5;21;01mdata\u001b[39;00m\u001b[38;5;21;01m.\u001b[39;00m\u001b[38;5;21;01mexperimental\u001b[39;00m\u001b[38;5;21;01m.\u001b[39;00m\u001b[38;5;21;01mops\u001b[39;00m\u001b[38;5;21;01m.\u001b[39;00m\u001b[38;5;21;01mdata_service_ops\u001b[39;00m \u001b[38;5;28;01mimport\u001b[39;00m from_dataset_id\n",
      "File \u001b[0;32m/opt/conda/lib/python3.9/site-packages/tensorflow/python/data/experimental/ops/data_service_ops.py:26\u001b[0m\n\u001b[1;32m     25\u001b[0m \u001b[38;5;28;01mfrom\u001b[39;00m \u001b[38;5;21;01mtensorflow\u001b[39;00m\u001b[38;5;21;01m.\u001b[39;00m\u001b[38;5;21;01mpython\u001b[39;00m\u001b[38;5;21;01m.\u001b[39;00m\u001b[38;5;21;01mcompat\u001b[39;00m \u001b[38;5;28;01mimport\u001b[39;00m compat\n\u001b[0;32m---> 26\u001b[0m \u001b[38;5;28;01mfrom\u001b[39;00m \u001b[38;5;21;01mtensorflow\u001b[39;00m\u001b[38;5;21;01m.\u001b[39;00m\u001b[38;5;21;01mpython\u001b[39;00m\u001b[38;5;21;01m.\u001b[39;00m\u001b[38;5;21;01mdata\u001b[39;00m\u001b[38;5;21;01m.\u001b[39;00m\u001b[38;5;21;01mexperimental\u001b[39;00m\u001b[38;5;21;01m.\u001b[39;00m\u001b[38;5;21;01mops\u001b[39;00m \u001b[38;5;28;01mimport\u001b[39;00m compression_ops\n\u001b[1;32m     27\u001b[0m \u001b[38;5;28;01mfrom\u001b[39;00m \u001b[38;5;21;01mtensorflow\u001b[39;00m\u001b[38;5;21;01m.\u001b[39;00m\u001b[38;5;21;01mpython\u001b[39;00m\u001b[38;5;21;01m.\u001b[39;00m\u001b[38;5;21;01mdata\u001b[39;00m\u001b[38;5;21;01m.\u001b[39;00m\u001b[38;5;21;01mexperimental\u001b[39;00m\u001b[38;5;21;01m.\u001b[39;00m\u001b[38;5;21;01mops\u001b[39;00m\u001b[38;5;21;01m.\u001b[39;00m\u001b[38;5;21;01mdistribute_options\u001b[39;00m \u001b[38;5;28;01mimport\u001b[39;00m AutoShardPolicy\n",
      "File \u001b[0;32m/opt/conda/lib/python3.9/site-packages/tensorflow/python/data/experimental/ops/compression_ops.py:20\u001b[0m\n\u001b[1;32m     18\u001b[0m \u001b[38;5;28;01mfrom\u001b[39;00m \u001b[38;5;21;01m__future__\u001b[39;00m \u001b[38;5;28;01mimport\u001b[39;00m print_function\n\u001b[0;32m---> 20\u001b[0m \u001b[38;5;28;01mfrom\u001b[39;00m \u001b[38;5;21;01mtensorflow\u001b[39;00m\u001b[38;5;21;01m.\u001b[39;00m\u001b[38;5;21;01mpython\u001b[39;00m\u001b[38;5;21;01m.\u001b[39;00m\u001b[38;5;21;01mdata\u001b[39;00m\u001b[38;5;21;01m.\u001b[39;00m\u001b[38;5;21;01mutil\u001b[39;00m \u001b[38;5;28;01mimport\u001b[39;00m structure\n\u001b[1;32m     21\u001b[0m \u001b[38;5;28;01mfrom\u001b[39;00m \u001b[38;5;21;01mtensorflow\u001b[39;00m\u001b[38;5;21;01m.\u001b[39;00m\u001b[38;5;21;01mpython\u001b[39;00m\u001b[38;5;21;01m.\u001b[39;00m\u001b[38;5;21;01mops\u001b[39;00m \u001b[38;5;28;01mimport\u001b[39;00m gen_experimental_dataset_ops \u001b[38;5;28;01mas\u001b[39;00m ged_ops\n",
      "File \u001b[0;32m/opt/conda/lib/python3.9/site-packages/tensorflow/python/data/util/structure.py:26\u001b[0m\n\u001b[1;32m     24\u001b[0m \u001b[38;5;28;01mimport\u001b[39;00m \u001b[38;5;21;01mwrapt\u001b[39;00m\n\u001b[0;32m---> 26\u001b[0m \u001b[38;5;28;01mfrom\u001b[39;00m \u001b[38;5;21;01mtensorflow\u001b[39;00m\u001b[38;5;21;01m.\u001b[39;00m\u001b[38;5;21;01mpython\u001b[39;00m\u001b[38;5;21;01m.\u001b[39;00m\u001b[38;5;21;01mdata\u001b[39;00m\u001b[38;5;21;01m.\u001b[39;00m\u001b[38;5;21;01mutil\u001b[39;00m \u001b[38;5;28;01mimport\u001b[39;00m nest\n\u001b[1;32m     27\u001b[0m \u001b[38;5;28;01mfrom\u001b[39;00m \u001b[38;5;21;01mtensorflow\u001b[39;00m\u001b[38;5;21;01m.\u001b[39;00m\u001b[38;5;21;01mpython\u001b[39;00m\u001b[38;5;21;01m.\u001b[39;00m\u001b[38;5;21;01mframework\u001b[39;00m \u001b[38;5;28;01mimport\u001b[39;00m composite_tensor\n",
      "File \u001b[0;32m/opt/conda/lib/python3.9/site-packages/tensorflow/python/data/util/nest.py:40\u001b[0m\n\u001b[1;32m     38\u001b[0m \u001b[38;5;28;01mimport\u001b[39;00m \u001b[38;5;21;01msix\u001b[39;00m \u001b[38;5;28;01mas\u001b[39;00m \u001b[38;5;21;01m_six\u001b[39;00m\n\u001b[0;32m---> 40\u001b[0m \u001b[38;5;28;01mfrom\u001b[39;00m \u001b[38;5;21;01mtensorflow\u001b[39;00m\u001b[38;5;21;01m.\u001b[39;00m\u001b[38;5;21;01mpython\u001b[39;00m\u001b[38;5;21;01m.\u001b[39;00m\u001b[38;5;21;01mframework\u001b[39;00m \u001b[38;5;28;01mimport\u001b[39;00m sparse_tensor \u001b[38;5;28;01mas\u001b[39;00m _sparse_tensor\n\u001b[1;32m     41\u001b[0m \u001b[38;5;28;01mfrom\u001b[39;00m \u001b[38;5;21;01mtensorflow\u001b[39;00m\u001b[38;5;21;01m.\u001b[39;00m\u001b[38;5;21;01mpython\u001b[39;00m\u001b[38;5;21;01m.\u001b[39;00m\u001b[38;5;21;01mutil\u001b[39;00m \u001b[38;5;28;01mimport\u001b[39;00m _pywrap_utils\n",
      "File \u001b[0;32m/opt/conda/lib/python3.9/site-packages/tensorflow/python/framework/sparse_tensor.py:28\u001b[0m\n\u001b[1;32m     27\u001b[0m \u001b[38;5;28;01mfrom\u001b[39;00m \u001b[38;5;21;01mtensorflow\u001b[39;00m\u001b[38;5;21;01m.\u001b[39;00m\u001b[38;5;21;01mpython\u001b[39;00m\u001b[38;5;21;01m.\u001b[39;00m\u001b[38;5;21;01mframework\u001b[39;00m \u001b[38;5;28;01mimport\u001b[39;00m composite_tensor\n\u001b[0;32m---> 28\u001b[0m \u001b[38;5;28;01mfrom\u001b[39;00m \u001b[38;5;21;01mtensorflow\u001b[39;00m\u001b[38;5;21;01m.\u001b[39;00m\u001b[38;5;21;01mpython\u001b[39;00m\u001b[38;5;21;01m.\u001b[39;00m\u001b[38;5;21;01mframework\u001b[39;00m \u001b[38;5;28;01mimport\u001b[39;00m constant_op\n\u001b[1;32m     29\u001b[0m \u001b[38;5;28;01mfrom\u001b[39;00m \u001b[38;5;21;01mtensorflow\u001b[39;00m\u001b[38;5;21;01m.\u001b[39;00m\u001b[38;5;21;01mpython\u001b[39;00m\u001b[38;5;21;01m.\u001b[39;00m\u001b[38;5;21;01mframework\u001b[39;00m \u001b[38;5;28;01mimport\u001b[39;00m dtypes\n",
      "File \u001b[0;32m/opt/conda/lib/python3.9/site-packages/tensorflow/python/framework/constant_op.py:29\u001b[0m\n\u001b[1;32m     28\u001b[0m \u001b[38;5;28;01mfrom\u001b[39;00m \u001b[38;5;21;01mtensorflow\u001b[39;00m\u001b[38;5;21;01m.\u001b[39;00m\u001b[38;5;21;01mpython\u001b[39;00m\u001b[38;5;21;01m.\u001b[39;00m\u001b[38;5;21;01meager\u001b[39;00m \u001b[38;5;28;01mimport\u001b[39;00m context\n\u001b[0;32m---> 29\u001b[0m \u001b[38;5;28;01mfrom\u001b[39;00m \u001b[38;5;21;01mtensorflow\u001b[39;00m\u001b[38;5;21;01m.\u001b[39;00m\u001b[38;5;21;01mpython\u001b[39;00m\u001b[38;5;21;01m.\u001b[39;00m\u001b[38;5;21;01meager\u001b[39;00m \u001b[38;5;28;01mimport\u001b[39;00m execute\n\u001b[1;32m     30\u001b[0m \u001b[38;5;28;01mfrom\u001b[39;00m \u001b[38;5;21;01mtensorflow\u001b[39;00m\u001b[38;5;21;01m.\u001b[39;00m\u001b[38;5;21;01mpython\u001b[39;00m\u001b[38;5;21;01m.\u001b[39;00m\u001b[38;5;21;01mframework\u001b[39;00m \u001b[38;5;28;01mimport\u001b[39;00m dtypes\n",
      "File \u001b[0;32m/opt/conda/lib/python3.9/site-packages/tensorflow/python/eager/execute.py:27\u001b[0m\n\u001b[1;32m     26\u001b[0m \u001b[38;5;28;01mfrom\u001b[39;00m \u001b[38;5;21;01mtensorflow\u001b[39;00m\u001b[38;5;21;01m.\u001b[39;00m\u001b[38;5;21;01mpython\u001b[39;00m\u001b[38;5;21;01m.\u001b[39;00m\u001b[38;5;21;01meager\u001b[39;00m \u001b[38;5;28;01mimport\u001b[39;00m core\n\u001b[0;32m---> 27\u001b[0m \u001b[38;5;28;01mfrom\u001b[39;00m \u001b[38;5;21;01mtensorflow\u001b[39;00m\u001b[38;5;21;01m.\u001b[39;00m\u001b[38;5;21;01mpython\u001b[39;00m\u001b[38;5;21;01m.\u001b[39;00m\u001b[38;5;21;01mframework\u001b[39;00m \u001b[38;5;28;01mimport\u001b[39;00m dtypes\n\u001b[1;32m     28\u001b[0m \u001b[38;5;28;01mfrom\u001b[39;00m \u001b[38;5;21;01mtensorflow\u001b[39;00m\u001b[38;5;21;01m.\u001b[39;00m\u001b[38;5;21;01mpython\u001b[39;00m\u001b[38;5;21;01m.\u001b[39;00m\u001b[38;5;21;01mframework\u001b[39;00m \u001b[38;5;28;01mimport\u001b[39;00m ops\n",
      "File \u001b[0;32m/opt/conda/lib/python3.9/site-packages/tensorflow/python/framework/dtypes.py:585\u001b[0m\n\u001b[1;32m    559\u001b[0m TF_VALUE_DTYPES \u001b[38;5;241m=\u001b[39m \u001b[38;5;28mset\u001b[39m(_NP_TO_TF\u001b[38;5;241m.\u001b[39mvalues())\n\u001b[1;32m    561\u001b[0m _TF_TO_NP \u001b[38;5;241m=\u001b[39m {\n\u001b[1;32m    562\u001b[0m     types_pb2\u001b[38;5;241m.\u001b[39mDT_HALF:\n\u001b[1;32m    563\u001b[0m         np\u001b[38;5;241m.\u001b[39mfloat16,\n\u001b[1;32m    564\u001b[0m     types_pb2\u001b[38;5;241m.\u001b[39mDT_FLOAT:\n\u001b[1;32m    565\u001b[0m         np\u001b[38;5;241m.\u001b[39mfloat32,\n\u001b[1;32m    566\u001b[0m     types_pb2\u001b[38;5;241m.\u001b[39mDT_DOUBLE:\n\u001b[1;32m    567\u001b[0m         np\u001b[38;5;241m.\u001b[39mfloat64,\n\u001b[1;32m    568\u001b[0m     types_pb2\u001b[38;5;241m.\u001b[39mDT_INT32:\n\u001b[1;32m    569\u001b[0m         np\u001b[38;5;241m.\u001b[39mint32,\n\u001b[1;32m    570\u001b[0m     types_pb2\u001b[38;5;241m.\u001b[39mDT_UINT8:\n\u001b[1;32m    571\u001b[0m         np\u001b[38;5;241m.\u001b[39muint8,\n\u001b[1;32m    572\u001b[0m     types_pb2\u001b[38;5;241m.\u001b[39mDT_UINT16:\n\u001b[1;32m    573\u001b[0m         np\u001b[38;5;241m.\u001b[39muint16,\n\u001b[1;32m    574\u001b[0m     types_pb2\u001b[38;5;241m.\u001b[39mDT_UINT32:\n\u001b[1;32m    575\u001b[0m         np\u001b[38;5;241m.\u001b[39muint32,\n\u001b[1;32m    576\u001b[0m     types_pb2\u001b[38;5;241m.\u001b[39mDT_UINT64:\n\u001b[1;32m    577\u001b[0m         np\u001b[38;5;241m.\u001b[39muint64,\n\u001b[1;32m    578\u001b[0m     types_pb2\u001b[38;5;241m.\u001b[39mDT_INT16:\n\u001b[1;32m    579\u001b[0m         np\u001b[38;5;241m.\u001b[39mint16,\n\u001b[1;32m    580\u001b[0m     types_pb2\u001b[38;5;241m.\u001b[39mDT_INT8:\n\u001b[1;32m    581\u001b[0m         np\u001b[38;5;241m.\u001b[39mint8,\n\u001b[1;32m    582\u001b[0m     \u001b[38;5;66;03m# NOTE(touts): For strings we use np.object as it supports variable length\u001b[39;00m\n\u001b[1;32m    583\u001b[0m     \u001b[38;5;66;03m# strings.\u001b[39;00m\n\u001b[1;32m    584\u001b[0m     types_pb2\u001b[38;5;241m.\u001b[39mDT_STRING:\n\u001b[0;32m--> 585\u001b[0m         \u001b[43mnp\u001b[49m\u001b[38;5;241;43m.\u001b[39;49m\u001b[43mobject\u001b[49m,\n\u001b[1;32m    586\u001b[0m     types_pb2\u001b[38;5;241m.\u001b[39mDT_COMPLEX64:\n\u001b[1;32m    587\u001b[0m         np\u001b[38;5;241m.\u001b[39mcomplex64,\n\u001b[1;32m    588\u001b[0m     types_pb2\u001b[38;5;241m.\u001b[39mDT_COMPLEX128:\n\u001b[1;32m    589\u001b[0m         np\u001b[38;5;241m.\u001b[39mcomplex128,\n\u001b[1;32m    590\u001b[0m     types_pb2\u001b[38;5;241m.\u001b[39mDT_INT64:\n\u001b[1;32m    591\u001b[0m         np\u001b[38;5;241m.\u001b[39mint64,\n\u001b[1;32m    592\u001b[0m     types_pb2\u001b[38;5;241m.\u001b[39mDT_BOOL:\n\u001b[1;32m    593\u001b[0m         np\u001b[38;5;241m.\u001b[39mbool_,\n\u001b[1;32m    594\u001b[0m     types_pb2\u001b[38;5;241m.\u001b[39mDT_QINT8:\n\u001b[1;32m    595\u001b[0m         _np_qint8,\n\u001b[1;32m    596\u001b[0m     types_pb2\u001b[38;5;241m.\u001b[39mDT_QUINT8:\n\u001b[1;32m    597\u001b[0m         _np_quint8,\n\u001b[1;32m    598\u001b[0m     types_pb2\u001b[38;5;241m.\u001b[39mDT_QINT16:\n\u001b[1;32m    599\u001b[0m         _np_qint16,\n\u001b[1;32m    600\u001b[0m     types_pb2\u001b[38;5;241m.\u001b[39mDT_QUINT16:\n\u001b[1;32m    601\u001b[0m         _np_quint16,\n\u001b[1;32m    602\u001b[0m     types_pb2\u001b[38;5;241m.\u001b[39mDT_QINT32:\n\u001b[1;32m    603\u001b[0m         _np_qint32,\n\u001b[1;32m    604\u001b[0m     types_pb2\u001b[38;5;241m.\u001b[39mDT_BFLOAT16:\n\u001b[1;32m    605\u001b[0m         _np_bfloat16,\n\u001b[1;32m    606\u001b[0m \n\u001b[1;32m    607\u001b[0m     \u001b[38;5;66;03m# Ref types\u001b[39;00m\n\u001b[1;32m    608\u001b[0m     types_pb2\u001b[38;5;241m.\u001b[39mDT_HALF_REF:\n\u001b[1;32m    609\u001b[0m         np\u001b[38;5;241m.\u001b[39mfloat16,\n\u001b[1;32m    610\u001b[0m     types_pb2\u001b[38;5;241m.\u001b[39mDT_FLOAT_REF:\n\u001b[1;32m    611\u001b[0m         np\u001b[38;5;241m.\u001b[39mfloat32,\n\u001b[1;32m    612\u001b[0m     types_pb2\u001b[38;5;241m.\u001b[39mDT_DOUBLE_REF:\n\u001b[1;32m    613\u001b[0m         np\u001b[38;5;241m.\u001b[39mfloat64,\n\u001b[1;32m    614\u001b[0m     types_pb2\u001b[38;5;241m.\u001b[39mDT_INT32_REF:\n\u001b[1;32m    615\u001b[0m         np\u001b[38;5;241m.\u001b[39mint32,\n\u001b[1;32m    616\u001b[0m     types_pb2\u001b[38;5;241m.\u001b[39mDT_UINT32_REF:\n\u001b[1;32m    617\u001b[0m         np\u001b[38;5;241m.\u001b[39muint32,\n\u001b[1;32m    618\u001b[0m     types_pb2\u001b[38;5;241m.\u001b[39mDT_UINT8_REF:\n\u001b[1;32m    619\u001b[0m         np\u001b[38;5;241m.\u001b[39muint8,\n\u001b[1;32m    620\u001b[0m     types_pb2\u001b[38;5;241m.\u001b[39mDT_UINT16_REF:\n\u001b[1;32m    621\u001b[0m         np\u001b[38;5;241m.\u001b[39muint16,\n\u001b[1;32m    622\u001b[0m     types_pb2\u001b[38;5;241m.\u001b[39mDT_INT16_REF:\n\u001b[1;32m    623\u001b[0m         np\u001b[38;5;241m.\u001b[39mint16,\n\u001b[1;32m    624\u001b[0m     types_pb2\u001b[38;5;241m.\u001b[39mDT_INT8_REF:\n\u001b[1;32m    625\u001b[0m         np\u001b[38;5;241m.\u001b[39mint8,\n\u001b[1;32m    626\u001b[0m     types_pb2\u001b[38;5;241m.\u001b[39mDT_STRING_REF:\n\u001b[1;32m    627\u001b[0m         np\u001b[38;5;241m.\u001b[39mobject,\n\u001b[1;32m    628\u001b[0m     types_pb2\u001b[38;5;241m.\u001b[39mDT_COMPLEX64_REF:\n\u001b[1;32m    629\u001b[0m         np\u001b[38;5;241m.\u001b[39mcomplex64,\n\u001b[1;32m    630\u001b[0m     types_pb2\u001b[38;5;241m.\u001b[39mDT_COMPLEX128_REF:\n\u001b[1;32m    631\u001b[0m         np\u001b[38;5;241m.\u001b[39mcomplex128,\n\u001b[1;32m    632\u001b[0m     types_pb2\u001b[38;5;241m.\u001b[39mDT_INT64_REF:\n\u001b[1;32m    633\u001b[0m         np\u001b[38;5;241m.\u001b[39mint64,\n\u001b[1;32m    634\u001b[0m     types_pb2\u001b[38;5;241m.\u001b[39mDT_UINT64_REF:\n\u001b[1;32m    635\u001b[0m         np\u001b[38;5;241m.\u001b[39muint64,\n\u001b[1;32m    636\u001b[0m     types_pb2\u001b[38;5;241m.\u001b[39mDT_BOOL_REF:\n\u001b[1;32m    637\u001b[0m         np\u001b[38;5;241m.\u001b[39mbool,\n\u001b[1;32m    638\u001b[0m     types_pb2\u001b[38;5;241m.\u001b[39mDT_QINT8_REF:\n\u001b[1;32m    639\u001b[0m         _np_qint8,\n\u001b[1;32m    640\u001b[0m     types_pb2\u001b[38;5;241m.\u001b[39mDT_QUINT8_REF:\n\u001b[1;32m    641\u001b[0m         _np_quint8,\n\u001b[1;32m    642\u001b[0m     types_pb2\u001b[38;5;241m.\u001b[39mDT_QINT16_REF:\n\u001b[1;32m    643\u001b[0m         _np_qint16,\n\u001b[1;32m    644\u001b[0m     types_pb2\u001b[38;5;241m.\u001b[39mDT_QUINT16_REF:\n\u001b[1;32m    645\u001b[0m         _np_quint16,\n\u001b[1;32m    646\u001b[0m     types_pb2\u001b[38;5;241m.\u001b[39mDT_QINT32_REF:\n\u001b[1;32m    647\u001b[0m         _np_qint32,\n\u001b[1;32m    648\u001b[0m     types_pb2\u001b[38;5;241m.\u001b[39mDT_BFLOAT16_REF:\n\u001b[1;32m    649\u001b[0m         _np_bfloat16,\n\u001b[1;32m    650\u001b[0m }\n\u001b[1;32m    652\u001b[0m _QUANTIZED_DTYPES_NO_REF \u001b[38;5;241m=\u001b[39m \u001b[38;5;28mfrozenset\u001b[39m([qint8, quint8, qint16, quint16, qint32])\n",
      "File \u001b[0;32m~/.local/lib/python3.9/site-packages/numpy/__init__.py:313\u001b[0m, in \u001b[0;36m__getattr__\u001b[0;34m(attr)\u001b[0m\n\u001b[1;32m    312\u001b[0m \u001b[38;5;28;01mif\u001b[39;00m attr \u001b[38;5;129;01min\u001b[39;00m __former_attrs__:\n\u001b[0;32m--> 313\u001b[0m     \u001b[38;5;28;01mraise\u001b[39;00m \u001b[38;5;167;01mAttributeError\u001b[39;00m(__former_attrs__[attr])\n\u001b[1;32m    315\u001b[0m \u001b[38;5;28;01mif\u001b[39;00m attr \u001b[38;5;241m==\u001b[39m \u001b[38;5;124m'\u001b[39m\u001b[38;5;124mtesting\u001b[39m\u001b[38;5;124m'\u001b[39m:\n",
      "\u001b[0;31mAttributeError\u001b[0m: module 'numpy' has no attribute 'object'.\n`np.object` was a deprecated alias for the builtin `object`. To avoid this error in existing code, use `object` by itself. Doing this will not modify any behavior and is safe. \nThe aliases was originally deprecated in NumPy 1.20; for more details and guidance see the original release note at:\n    https://numpy.org/devdocs/release/1.20.0-notes.html#deprecations",
      "\nDuring handling of the above exception, another exception occurred:\n",
      "\u001b[0;31mAttributeError\u001b[0m                            Traceback (most recent call last)",
      "Cell \u001b[0;32mIn[2], line 1\u001b[0m\n\u001b[0;32m----> 1\u001b[0m datasets, info \u001b[38;5;241m=\u001b[39m \u001b[43mtfds\u001b[49m\u001b[38;5;241;43m.\u001b[39;49m\u001b[43mload\u001b[49m\u001b[43m(\u001b[49m\u001b[43mname\u001b[49m\u001b[38;5;241;43m=\u001b[39;49m\u001b[38;5;124;43m'\u001b[39;49m\u001b[38;5;124;43mmnist\u001b[39;49m\u001b[38;5;124;43m'\u001b[39;49m\u001b[43m,\u001b[49m\n\u001b[1;32m      2\u001b[0m \u001b[43m    \u001b[49m\u001b[43mwith_info\u001b[49m\u001b[38;5;241;43m=\u001b[39;49m\u001b[38;5;28;43;01mTrue\u001b[39;49;00m\u001b[43m,\u001b[49m\u001b[43m \u001b[49m\u001b[43mbatch_size\u001b[49m\u001b[38;5;241;43m=\u001b[39;49m\u001b[38;5;241;43m-\u001b[39;49m\u001b[38;5;241;43m1\u001b[39;49m\u001b[43m,\u001b[49m\u001b[43m \u001b[49m\u001b[43mas_supervised\u001b[49m\u001b[38;5;241;43m=\u001b[39;49m\u001b[38;5;28;43;01mTrue\u001b[39;49;00m\u001b[43m)\u001b[49m\n\u001b[1;32m      4\u001b[0m test_dataset \u001b[38;5;241m=\u001b[39m datasets[\u001b[38;5;124m'\u001b[39m\u001b[38;5;124mtest\u001b[39m\u001b[38;5;124m'\u001b[39m]\n",
      "File \u001b[0;32m/opt/conda/lib/python3.9/site-packages/tensorflow_datasets/core/logging/__init__.py:169\u001b[0m, in \u001b[0;36m_FunctionDecorator.__call__\u001b[0;34m(self, function, instance, args, kwargs)\u001b[0m\n\u001b[1;32m    167\u001b[0m metadata \u001b[38;5;241m=\u001b[39m \u001b[38;5;28mself\u001b[39m\u001b[38;5;241m.\u001b[39m_start_call()\n\u001b[1;32m    168\u001b[0m \u001b[38;5;28;01mtry\u001b[39;00m:\n\u001b[0;32m--> 169\u001b[0m   \u001b[38;5;28;01mreturn\u001b[39;00m \u001b[43mfunction\u001b[49m\u001b[43m(\u001b[49m\u001b[38;5;241;43m*\u001b[39;49m\u001b[43margs\u001b[49m\u001b[43m,\u001b[49m\u001b[43m \u001b[49m\u001b[38;5;241;43m*\u001b[39;49m\u001b[38;5;241;43m*\u001b[39;49m\u001b[43mkwargs\u001b[49m\u001b[43m)\u001b[49m\n\u001b[1;32m    170\u001b[0m \u001b[38;5;28;01mexcept\u001b[39;00m \u001b[38;5;167;01mException\u001b[39;00m:\n\u001b[1;32m    171\u001b[0m   metadata\u001b[38;5;241m.\u001b[39mmark_error()\n",
      "File \u001b[0;32m/opt/conda/lib/python3.9/site-packages/tensorflow_datasets/core/load.py:634\u001b[0m, in \u001b[0;36mload\u001b[0;34m(name, split, data_dir, batch_size, shuffle_files, download, as_supervised, decoders, read_config, with_info, builder_kwargs, download_and_prepare_kwargs, as_dataset_kwargs, try_gcs)\u001b[0m\n\u001b[1;32m    502\u001b[0m \u001b[38;5;129m@tfds_logging\u001b[39m\u001b[38;5;241m.\u001b[39mload()\n\u001b[1;32m    503\u001b[0m \u001b[38;5;28;01mdef\u001b[39;00m \u001b[38;5;21mload\u001b[39m(\n\u001b[1;32m    504\u001b[0m     name: \u001b[38;5;28mstr\u001b[39m,\n\u001b[0;32m   (...)\u001b[0m\n\u001b[1;32m    519\u001b[0m ):\n\u001b[1;32m    520\u001b[0m   \u001b[38;5;66;03m# pylint: disable=line-too-long\u001b[39;00m\n\u001b[1;32m    521\u001b[0m \u001b[38;5;250m  \u001b[39m\u001b[38;5;124;03m\"\"\"Loads the named dataset into a `tf.data.Dataset`.\u001b[39;00m\n\u001b[1;32m    522\u001b[0m \n\u001b[1;32m    523\u001b[0m \u001b[38;5;124;03m  `tfds.load` is a convenience method that:\u001b[39;00m\n\u001b[0;32m   (...)\u001b[0m\n\u001b[1;32m    632\u001b[0m \u001b[38;5;124;03m      Split-specific information is available in `ds_info.splits`.\u001b[39;00m\n\u001b[1;32m    633\u001b[0m \u001b[38;5;124;03m  \"\"\"\u001b[39;00m\n\u001b[0;32m--> 634\u001b[0m   dbuilder \u001b[38;5;241m=\u001b[39m \u001b[43m_fetch_builder\u001b[49m\u001b[43m(\u001b[49m\n\u001b[1;32m    635\u001b[0m \u001b[43m      \u001b[49m\u001b[43mname\u001b[49m\u001b[43m,\u001b[49m\n\u001b[1;32m    636\u001b[0m \u001b[43m      \u001b[49m\u001b[43mdata_dir\u001b[49m\u001b[43m,\u001b[49m\n\u001b[1;32m    637\u001b[0m \u001b[43m      \u001b[49m\u001b[43mbuilder_kwargs\u001b[49m\u001b[43m,\u001b[49m\n\u001b[1;32m    638\u001b[0m \u001b[43m      \u001b[49m\u001b[43mtry_gcs\u001b[49m\u001b[43m,\u001b[49m\n\u001b[1;32m    639\u001b[0m \u001b[43m  \u001b[49m\u001b[43m)\u001b[49m\n\u001b[1;32m    640\u001b[0m   _download_and_prepare_builder(dbuilder, download, download_and_prepare_kwargs)\n\u001b[1;32m    642\u001b[0m   \u001b[38;5;28;01mif\u001b[39;00m as_dataset_kwargs \u001b[38;5;129;01mis\u001b[39;00m \u001b[38;5;28;01mNone\u001b[39;00m:\n",
      "File \u001b[0;32m/opt/conda/lib/python3.9/site-packages/tensorflow_datasets/core/load.py:489\u001b[0m, in \u001b[0;36m_fetch_builder\u001b[0;34m(name, data_dir, builder_kwargs, try_gcs)\u001b[0m\n\u001b[1;32m    486\u001b[0m \u001b[38;5;28;01mif\u001b[39;00m builder_kwargs \u001b[38;5;129;01mis\u001b[39;00m \u001b[38;5;28;01mNone\u001b[39;00m:\n\u001b[1;32m    487\u001b[0m   builder_kwargs \u001b[38;5;241m=\u001b[39m {}\n\u001b[0;32m--> 489\u001b[0m \u001b[38;5;28;01mreturn\u001b[39;00m \u001b[43mbuilder\u001b[49m\u001b[43m(\u001b[49m\u001b[43mname\u001b[49m\u001b[43m,\u001b[49m\u001b[43m \u001b[49m\u001b[43mdata_dir\u001b[49m\u001b[38;5;241;43m=\u001b[39;49m\u001b[43mdata_dir\u001b[49m\u001b[43m,\u001b[49m\u001b[43m \u001b[49m\u001b[43mtry_gcs\u001b[49m\u001b[38;5;241;43m=\u001b[39;49m\u001b[43mtry_gcs\u001b[49m\u001b[43m,\u001b[49m\u001b[43m \u001b[49m\u001b[38;5;241;43m*\u001b[39;49m\u001b[38;5;241;43m*\u001b[39;49m\u001b[43mbuilder_kwargs\u001b[49m\u001b[43m)\u001b[49m\n",
      "File \u001b[0;32m/opt/conda/lib/python3.9/contextlib.py:79\u001b[0m, in \u001b[0;36mContextDecorator.__call__.<locals>.inner\u001b[0;34m(*args, **kwds)\u001b[0m\n\u001b[1;32m     76\u001b[0m \u001b[38;5;129m@wraps\u001b[39m(func)\n\u001b[1;32m     77\u001b[0m \u001b[38;5;28;01mdef\u001b[39;00m \u001b[38;5;21minner\u001b[39m(\u001b[38;5;241m*\u001b[39margs, \u001b[38;5;241m*\u001b[39m\u001b[38;5;241m*\u001b[39mkwds):\n\u001b[1;32m     78\u001b[0m     \u001b[38;5;28;01mwith\u001b[39;00m \u001b[38;5;28mself\u001b[39m\u001b[38;5;241m.\u001b[39m_recreate_cm():\n\u001b[0;32m---> 79\u001b[0m         \u001b[38;5;28;01mreturn\u001b[39;00m \u001b[43mfunc\u001b[49m\u001b[43m(\u001b[49m\u001b[38;5;241;43m*\u001b[39;49m\u001b[43margs\u001b[49m\u001b[43m,\u001b[49m\u001b[43m \u001b[49m\u001b[38;5;241;43m*\u001b[39;49m\u001b[38;5;241;43m*\u001b[39;49m\u001b[43mkwds\u001b[49m\u001b[43m)\u001b[49m\n",
      "File \u001b[0;32m/opt/conda/lib/python3.9/site-packages/tensorflow_datasets/core/logging/__init__.py:169\u001b[0m, in \u001b[0;36m_FunctionDecorator.__call__\u001b[0;34m(self, function, instance, args, kwargs)\u001b[0m\n\u001b[1;32m    167\u001b[0m metadata \u001b[38;5;241m=\u001b[39m \u001b[38;5;28mself\u001b[39m\u001b[38;5;241m.\u001b[39m_start_call()\n\u001b[1;32m    168\u001b[0m \u001b[38;5;28;01mtry\u001b[39;00m:\n\u001b[0;32m--> 169\u001b[0m   \u001b[38;5;28;01mreturn\u001b[39;00m \u001b[43mfunction\u001b[49m\u001b[43m(\u001b[49m\u001b[38;5;241;43m*\u001b[39;49m\u001b[43margs\u001b[49m\u001b[43m,\u001b[49m\u001b[43m \u001b[49m\u001b[38;5;241;43m*\u001b[39;49m\u001b[38;5;241;43m*\u001b[39;49m\u001b[43mkwargs\u001b[49m\u001b[43m)\u001b[49m\n\u001b[1;32m    170\u001b[0m \u001b[38;5;28;01mexcept\u001b[39;00m \u001b[38;5;167;01mException\u001b[39;00m:\n\u001b[1;32m    171\u001b[0m   metadata\u001b[38;5;241m.\u001b[39mmark_error()\n",
      "File \u001b[0;32m/opt/conda/lib/python3.9/site-packages/tensorflow_datasets/core/load.py:212\u001b[0m, in \u001b[0;36mbuilder\u001b[0;34m(name, try_gcs, **builder_kwargs)\u001b[0m\n\u001b[1;32m    210\u001b[0m \u001b[38;5;28;01mif\u001b[39;00m \u001b[38;5;28mcls\u001b[39m:\n\u001b[1;32m    211\u001b[0m   \u001b[38;5;28;01mwith\u001b[39;00m py_utils\u001b[38;5;241m.\u001b[39mtry_reraise(prefix\u001b[38;5;241m=\u001b[39m\u001b[38;5;124mf\u001b[39m\u001b[38;5;124m'\u001b[39m\u001b[38;5;124mFailed to construct dataset \u001b[39m\u001b[38;5;132;01m{\u001b[39;00mname\u001b[38;5;132;01m}\u001b[39;00m\u001b[38;5;124m: \u001b[39m\u001b[38;5;124m'\u001b[39m):\n\u001b[0;32m--> 212\u001b[0m     \u001b[38;5;28;01mreturn\u001b[39;00m \u001b[38;5;28;43mcls\u001b[39;49m\u001b[43m(\u001b[49m\u001b[38;5;241;43m*\u001b[39;49m\u001b[38;5;241;43m*\u001b[39;49m\u001b[43mbuilder_kwargs\u001b[49m\u001b[43m)\u001b[49m  \u001b[38;5;66;03m# pytype: disable=not-instantiable\u001b[39;00m\n\u001b[1;32m    214\u001b[0m \u001b[38;5;66;03m# If neither the code nor the files are found, raise DatasetNotFoundError\u001b[39;00m\n\u001b[1;32m    215\u001b[0m \u001b[38;5;28;01mraise\u001b[39;00m not_found_error\n",
      "File \u001b[0;32m/opt/conda/lib/python3.9/site-packages/tensorflow_datasets/core/logging/__init__.py:288\u001b[0m, in \u001b[0;36mbuilder_init.<locals>.decorator\u001b[0;34m(function, dsbuilder, args, kwargs)\u001b[0m\n\u001b[1;32m    286\u001b[0m _thread_id_to_builder_init_count[metadata\u001b[38;5;241m.\u001b[39mthread_id] \u001b[38;5;241m+\u001b[39m\u001b[38;5;241m=\u001b[39m \u001b[38;5;241m1\u001b[39m\n\u001b[1;32m    287\u001b[0m \u001b[38;5;28;01mtry\u001b[39;00m:\n\u001b[0;32m--> 288\u001b[0m   \u001b[38;5;28;01mreturn\u001b[39;00m \u001b[43mfunction\u001b[49m\u001b[43m(\u001b[49m\u001b[38;5;241;43m*\u001b[39;49m\u001b[43margs\u001b[49m\u001b[43m,\u001b[49m\u001b[43m \u001b[49m\u001b[38;5;241;43m*\u001b[39;49m\u001b[38;5;241;43m*\u001b[39;49m\u001b[43mkwargs\u001b[49m\u001b[43m)\u001b[49m\n\u001b[1;32m    289\u001b[0m \u001b[38;5;28;01mexcept\u001b[39;00m \u001b[38;5;167;01mException\u001b[39;00m:\n\u001b[1;32m    290\u001b[0m   metadata\u001b[38;5;241m.\u001b[39mmark_error()\n",
      "File \u001b[0;32m/opt/conda/lib/python3.9/site-packages/tensorflow_datasets/core/dataset_builder.py:1259\u001b[0m, in \u001b[0;36mFileReaderBuilder.__init__\u001b[0;34m(self, file_format, **kwargs)\u001b[0m\n\u001b[1;32m   1242\u001b[0m \u001b[38;5;129m@tfds_logging\u001b[39m\u001b[38;5;241m.\u001b[39mbuilder_init()\n\u001b[1;32m   1243\u001b[0m \u001b[38;5;28;01mdef\u001b[39;00m \u001b[38;5;21m__init__\u001b[39m(\n\u001b[1;32m   1244\u001b[0m     \u001b[38;5;28mself\u001b[39m,\n\u001b[0;32m   (...)\u001b[0m\n\u001b[1;32m   1247\u001b[0m     \u001b[38;5;241m*\u001b[39m\u001b[38;5;241m*\u001b[39mkwargs: Any,\n\u001b[1;32m   1248\u001b[0m ):\n\u001b[1;32m   1249\u001b[0m \u001b[38;5;250m  \u001b[39m\u001b[38;5;124;03m\"\"\"Initializes an instance of FileReaderBuilder.\u001b[39;00m\n\u001b[1;32m   1250\u001b[0m \n\u001b[1;32m   1251\u001b[0m \u001b[38;5;124;03m  Callers must pass arguments as keyword arguments.\u001b[39;00m\n\u001b[0;32m   (...)\u001b[0m\n\u001b[1;32m   1257\u001b[0m \u001b[38;5;124;03m    **kwargs: Arguments passed to `DatasetBuilder`.\u001b[39;00m\n\u001b[1;32m   1258\u001b[0m \u001b[38;5;124;03m  \"\"\"\u001b[39;00m\n\u001b[0;32m-> 1259\u001b[0m   \u001b[38;5;28;43msuper\u001b[39;49m\u001b[43m(\u001b[49m\u001b[43m)\u001b[49m\u001b[38;5;241;43m.\u001b[39;49m\u001b[38;5;21;43m__init__\u001b[39;49m\u001b[43m(\u001b[49m\u001b[38;5;241;43m*\u001b[39;49m\u001b[38;5;241;43m*\u001b[39;49m\u001b[43mkwargs\u001b[49m\u001b[43m)\u001b[49m\n\u001b[1;32m   1260\u001b[0m   \u001b[38;5;28mself\u001b[39m\u001b[38;5;241m.\u001b[39minfo\u001b[38;5;241m.\u001b[39mset_file_format(file_format)\n",
      "File \u001b[0;32m/opt/conda/lib/python3.9/site-packages/tensorflow_datasets/core/logging/__init__.py:288\u001b[0m, in \u001b[0;36mbuilder_init.<locals>.decorator\u001b[0;34m(function, dsbuilder, args, kwargs)\u001b[0m\n\u001b[1;32m    286\u001b[0m _thread_id_to_builder_init_count[metadata\u001b[38;5;241m.\u001b[39mthread_id] \u001b[38;5;241m+\u001b[39m\u001b[38;5;241m=\u001b[39m \u001b[38;5;241m1\u001b[39m\n\u001b[1;32m    287\u001b[0m \u001b[38;5;28;01mtry\u001b[39;00m:\n\u001b[0;32m--> 288\u001b[0m   \u001b[38;5;28;01mreturn\u001b[39;00m \u001b[43mfunction\u001b[49m\u001b[43m(\u001b[49m\u001b[38;5;241;43m*\u001b[39;49m\u001b[43margs\u001b[49m\u001b[43m,\u001b[49m\u001b[43m \u001b[49m\u001b[38;5;241;43m*\u001b[39;49m\u001b[38;5;241;43m*\u001b[39;49m\u001b[43mkwargs\u001b[49m\u001b[43m)\u001b[49m\n\u001b[1;32m    289\u001b[0m \u001b[38;5;28;01mexcept\u001b[39;00m \u001b[38;5;167;01mException\u001b[39;00m:\n\u001b[1;32m    290\u001b[0m   metadata\u001b[38;5;241m.\u001b[39mmark_error()\n",
      "File \u001b[0;32m/opt/conda/lib/python3.9/site-packages/tensorflow_datasets/core/dataset_builder.py:264\u001b[0m, in \u001b[0;36mDatasetBuilder.__init__\u001b[0;34m(self, data_dir, config, version)\u001b[0m\n\u001b[1;32m    262\u001b[0m   \u001b[38;5;28mself\u001b[39m\u001b[38;5;241m.\u001b[39minfo\u001b[38;5;241m.\u001b[39mread_from_directory(\u001b[38;5;28mself\u001b[39m\u001b[38;5;241m.\u001b[39m_data_dir)\n\u001b[1;32m    263\u001b[0m \u001b[38;5;28;01melse\u001b[39;00m:  \u001b[38;5;66;03m# Use the code version (do not restore data)\u001b[39;00m\n\u001b[0;32m--> 264\u001b[0m   \u001b[38;5;28;43mself\u001b[39;49m\u001b[38;5;241;43m.\u001b[39;49m\u001b[43minfo\u001b[49m\u001b[38;5;241;43m.\u001b[39;49m\u001b[43minitialize_from_bucket\u001b[49m\u001b[43m(\u001b[49m\u001b[43m)\u001b[49m\n",
      "File \u001b[0;32m/opt/conda/lib/python3.9/site-packages/tensorflow_datasets/core/dataset_info.py:719\u001b[0m, in \u001b[0;36mDatasetInfo.initialize_from_bucket\u001b[0;34m(self)\u001b[0m\n\u001b[1;32m    716\u001b[0m \u001b[38;5;66;03m# In order to support Colab, we use the HTTP GCS API to access the metadata\u001b[39;00m\n\u001b[1;32m    717\u001b[0m \u001b[38;5;66;03m# files. They are copied locally and then loaded.\u001b[39;00m\n\u001b[1;32m    718\u001b[0m tmp_dir \u001b[38;5;241m=\u001b[39m epath\u001b[38;5;241m.\u001b[39mPath(tempfile\u001b[38;5;241m.\u001b[39mmkdtemp(\u001b[38;5;124m\"\u001b[39m\u001b[38;5;124mtfds\u001b[39m\u001b[38;5;124m\"\u001b[39m))\n\u001b[0;32m--> 719\u001b[0m data_files \u001b[38;5;241m=\u001b[39m \u001b[43mgcs_utils\u001b[49m\u001b[38;5;241;43m.\u001b[39;49m\u001b[43mgcs_dataset_info_files\u001b[49m\u001b[43m(\u001b[49m\u001b[38;5;28;43mself\u001b[39;49m\u001b[38;5;241;43m.\u001b[39;49m\u001b[43mfull_name\u001b[49m\u001b[43m)\u001b[49m\n\u001b[1;32m    720\u001b[0m \u001b[38;5;28;01mif\u001b[39;00m \u001b[38;5;129;01mnot\u001b[39;00m data_files:\n\u001b[1;32m    721\u001b[0m   \u001b[38;5;28;01mreturn\u001b[39;00m\n",
      "File \u001b[0;32m/opt/conda/lib/python3.9/site-packages/tensorflow_datasets/core/utils/gcs_utils.py:100\u001b[0m, in \u001b[0;36mgcs_dataset_info_files\u001b[0;34m(dataset_name)\u001b[0m\n\u001b[1;32m     98\u001b[0m \u001b[38;5;28;01mdef\u001b[39;00m \u001b[38;5;21mgcs_dataset_info_files\u001b[39m(dataset_name: \u001b[38;5;28mstr\u001b[39m) \u001b[38;5;241m-\u001b[39m\u001b[38;5;241m>\u001b[39m Optional[List[epath\u001b[38;5;241m.\u001b[39mPath]]:\n\u001b[1;32m     99\u001b[0m \u001b[38;5;250m  \u001b[39m\u001b[38;5;124;03m\"\"\"Return paths to the dataset info files of the given dataset in gs://tfds-data.\"\"\"\u001b[39;00m\n\u001b[0;32m--> 100\u001b[0m   path \u001b[38;5;241m=\u001b[39m \u001b[43mgcs_dataset_info_path\u001b[49m\u001b[43m(\u001b[49m\u001b[43mdataset_name\u001b[49m\u001b[43m)\u001b[49m\n\u001b[1;32m    101\u001b[0m   \u001b[38;5;28;01mif\u001b[39;00m path \u001b[38;5;129;01mis\u001b[39;00m \u001b[38;5;28;01mNone\u001b[39;00m:\n\u001b[1;32m    102\u001b[0m     \u001b[38;5;28;01mreturn\u001b[39;00m \u001b[38;5;28;01mNone\u001b[39;00m\n",
      "File \u001b[0;32m/opt/conda/lib/python3.9/site-packages/tensorflow_datasets/core/utils/gcs_utils.py:93\u001b[0m, in \u001b[0;36mgcs_dataset_info_path\u001b[0;34m(dataset_name)\u001b[0m\n\u001b[1;32m     91\u001b[0m \u001b[38;5;250m\u001b[39m\u001b[38;5;124;03m\"\"\"Return paths to the dataset info files of the given dataset in gs://tfds-data.\"\"\"\u001b[39;00m\n\u001b[1;32m     92\u001b[0m path \u001b[38;5;241m=\u001b[39m gcs_path(posixpath\u001b[38;5;241m.\u001b[39mjoin(GCS_DATASET_INFO_DIR, dataset_name))\n\u001b[0;32m---> 93\u001b[0m \u001b[38;5;28;01mif\u001b[39;00m _is_gcs_disabled \u001b[38;5;129;01mor\u001b[39;00m \u001b[38;5;129;01mnot\u001b[39;00m \u001b[43mexists\u001b[49m\u001b[43m(\u001b[49m\u001b[43mpath\u001b[49m\u001b[43m)\u001b[49m:\n\u001b[1;32m     94\u001b[0m   \u001b[38;5;28;01mreturn\u001b[39;00m \u001b[38;5;28;01mNone\u001b[39;00m\n\u001b[1;32m     95\u001b[0m \u001b[38;5;28;01mreturn\u001b[39;00m path\n",
      "File \u001b[0;32m/opt/conda/lib/python3.9/site-packages/tensorflow_datasets/core/utils/gcs_utils.py:77\u001b[0m, in \u001b[0;36mexists\u001b[0;34m(path)\u001b[0m\n\u001b[1;32m     75\u001b[0m \u001b[38;5;28;01mtry\u001b[39;00m:\n\u001b[1;32m     76\u001b[0m   \u001b[38;5;28;01mreturn\u001b[39;00m path\u001b[38;5;241m.\u001b[39mexists()\n\u001b[0;32m---> 77\u001b[0m \u001b[38;5;28;01mexcept\u001b[39;00m \u001b[43mgcs_unavailable_exceptions\u001b[49m\u001b[43m(\u001b[49m\u001b[43m)\u001b[49m:  \u001b[38;5;66;03m# pylint: disable=catching-non-exception\u001b[39;00m\n\u001b[1;32m     78\u001b[0m   \u001b[38;5;28;01mreturn\u001b[39;00m \u001b[38;5;28;01mFalse\u001b[39;00m\n",
      "File \u001b[0;32m/opt/conda/lib/python3.9/site-packages/tensorflow_datasets/core/utils/gcs_utils.py:46\u001b[0m, in \u001b[0;36mgcs_unavailable_exceptions\u001b[0;34m()\u001b[0m\n\u001b[1;32m     43\u001b[0m \u001b[38;5;28;01mdef\u001b[39;00m \u001b[38;5;21mgcs_unavailable_exceptions\u001b[39m():\n\u001b[1;32m     44\u001b[0m   \u001b[38;5;28;01mreturn\u001b[39;00m (\n\u001b[1;32m     45\u001b[0m       \u001b[38;5;167;01mOSError\u001b[39;00m,\n\u001b[0;32m---> 46\u001b[0m       \u001b[43mtf\u001b[49m\u001b[38;5;241;43m.\u001b[39;49m\u001b[43merrors\u001b[49m\u001b[38;5;241m.\u001b[39mUnimplementedError,\n\u001b[1;32m     47\u001b[0m       tf\u001b[38;5;241m.\u001b[39merrors\u001b[38;5;241m.\u001b[39mFailedPreconditionError,\n\u001b[1;32m     48\u001b[0m       tf\u001b[38;5;241m.\u001b[39merrors\u001b[38;5;241m.\u001b[39mPermissionDeniedError,\n\u001b[1;32m     49\u001b[0m       tf\u001b[38;5;241m.\u001b[39merrors\u001b[38;5;241m.\u001b[39mAbortedError,\n\u001b[1;32m     50\u001b[0m   )\n",
      "File \u001b[0;32m/opt/conda/lib/python3.9/site-packages/tensorflow_datasets/core/utils/lazy_imports_utils.py:68\u001b[0m, in \u001b[0;36mLazyModule.__getattr__\u001b[0;34m(self, name)\u001b[0m\n\u001b[1;32m     66\u001b[0m \u001b[38;5;28;01mtry\u001b[39;00m:\n\u001b[1;32m     67\u001b[0m   start_import_time \u001b[38;5;241m=\u001b[39m time\u001b[38;5;241m.\u001b[39mperf_counter()\n\u001b[0;32m---> 68\u001b[0m   \u001b[38;5;28mself\u001b[39m\u001b[38;5;241m.\u001b[39mmodule \u001b[38;5;241m=\u001b[39m \u001b[43mimportlib\u001b[49m\u001b[38;5;241;43m.\u001b[39;49m\u001b[43mimport_module\u001b[49m\u001b[43m(\u001b[49m\u001b[38;5;28;43mself\u001b[39;49m\u001b[38;5;241;43m.\u001b[39;49m\u001b[43mmodule_name\u001b[49m\u001b[43m)\u001b[49m\n\u001b[1;32m     69\u001b[0m   import_time_ms \u001b[38;5;241m=\u001b[39m (time\u001b[38;5;241m.\u001b[39mperf_counter() \u001b[38;5;241m-\u001b[39m start_import_time) \u001b[38;5;241m*\u001b[39m \u001b[38;5;241m1000\u001b[39m\n\u001b[1;32m     70\u001b[0m   \u001b[38;5;28;01mif\u001b[39;00m \u001b[38;5;28mself\u001b[39m\u001b[38;5;241m.\u001b[39msuccess_callback \u001b[38;5;129;01mis\u001b[39;00m \u001b[38;5;129;01mnot\u001b[39;00m \u001b[38;5;28;01mNone\u001b[39;00m:\n",
      "File \u001b[0;32m/opt/conda/lib/python3.9/importlib/__init__.py:127\u001b[0m, in \u001b[0;36mimport_module\u001b[0;34m(name, package)\u001b[0m\n\u001b[1;32m    125\u001b[0m             \u001b[38;5;28;01mbreak\u001b[39;00m\n\u001b[1;32m    126\u001b[0m         level \u001b[38;5;241m+\u001b[39m\u001b[38;5;241m=\u001b[39m \u001b[38;5;241m1\u001b[39m\n\u001b[0;32m--> 127\u001b[0m \u001b[38;5;28;01mreturn\u001b[39;00m \u001b[43m_bootstrap\u001b[49m\u001b[38;5;241;43m.\u001b[39;49m\u001b[43m_gcd_import\u001b[49m\u001b[43m(\u001b[49m\u001b[43mname\u001b[49m\u001b[43m[\u001b[49m\u001b[43mlevel\u001b[49m\u001b[43m:\u001b[49m\u001b[43m]\u001b[49m\u001b[43m,\u001b[49m\u001b[43m \u001b[49m\u001b[43mpackage\u001b[49m\u001b[43m,\u001b[49m\u001b[43m \u001b[49m\u001b[43mlevel\u001b[49m\u001b[43m)\u001b[49m\n",
      "File \u001b[0;32m<frozen importlib._bootstrap>:1030\u001b[0m, in \u001b[0;36m_gcd_import\u001b[0;34m(name, package, level)\u001b[0m\n",
      "File \u001b[0;32m<frozen importlib._bootstrap>:1007\u001b[0m, in \u001b[0;36m_find_and_load\u001b[0;34m(name, import_)\u001b[0m\n",
      "File \u001b[0;32m<frozen importlib._bootstrap>:986\u001b[0m, in \u001b[0;36m_find_and_load_unlocked\u001b[0;34m(name, import_)\u001b[0m\n",
      "File \u001b[0;32m<frozen importlib._bootstrap>:680\u001b[0m, in \u001b[0;36m_load_unlocked\u001b[0;34m(spec)\u001b[0m\n",
      "File \u001b[0;32m<frozen importlib._bootstrap_external>:850\u001b[0m, in \u001b[0;36mexec_module\u001b[0;34m(self, module)\u001b[0m\n",
      "File \u001b[0;32m<frozen importlib._bootstrap>:228\u001b[0m, in \u001b[0;36m_call_with_frames_removed\u001b[0;34m(f, *args, **kwds)\u001b[0m\n",
      "File \u001b[0;32m/opt/conda/lib/python3.9/site-packages/tensorflow/__init__.py:41\u001b[0m\n\u001b[1;32m     38\u001b[0m \u001b[38;5;28;01mimport\u001b[39;00m \u001b[38;5;21;01msix\u001b[39;00m \u001b[38;5;28;01mas\u001b[39;00m \u001b[38;5;21;01m_six\u001b[39;00m\n\u001b[1;32m     39\u001b[0m \u001b[38;5;28;01mimport\u001b[39;00m \u001b[38;5;21;01msys\u001b[39;00m \u001b[38;5;28;01mas\u001b[39;00m \u001b[38;5;21;01m_sys\u001b[39;00m\n\u001b[0;32m---> 41\u001b[0m \u001b[38;5;28;01mfrom\u001b[39;00m \u001b[38;5;21;01mtensorflow\u001b[39;00m\u001b[38;5;21;01m.\u001b[39;00m\u001b[38;5;21;01mpython\u001b[39;00m\u001b[38;5;21;01m.\u001b[39;00m\u001b[38;5;21;01mtools\u001b[39;00m \u001b[38;5;28;01mimport\u001b[39;00m module_util \u001b[38;5;28;01mas\u001b[39;00m _module_util\n\u001b[1;32m     42\u001b[0m \u001b[38;5;28;01mfrom\u001b[39;00m \u001b[38;5;21;01mtensorflow\u001b[39;00m\u001b[38;5;21;01m.\u001b[39;00m\u001b[38;5;21;01mpython\u001b[39;00m\u001b[38;5;21;01m.\u001b[39;00m\u001b[38;5;21;01mutil\u001b[39;00m\u001b[38;5;21;01m.\u001b[39;00m\u001b[38;5;21;01mlazy_loader\u001b[39;00m \u001b[38;5;28;01mimport\u001b[39;00m LazyLoader \u001b[38;5;28;01mas\u001b[39;00m _LazyLoader\n\u001b[1;32m     44\u001b[0m \u001b[38;5;66;03m# Make sure code inside the TensorFlow codebase can use tf2.enabled() at import.\u001b[39;00m\n",
      "File \u001b[0;32m/opt/conda/lib/python3.9/site-packages/tensorflow/python/__init__.py:46\u001b[0m\n\u001b[1;32m     41\u001b[0m \u001b[38;5;28;01mfrom\u001b[39;00m \u001b[38;5;21;01mtensorflow\u001b[39;00m\u001b[38;5;21;01m.\u001b[39;00m\u001b[38;5;21;01mpython\u001b[39;00m \u001b[38;5;28;01mimport\u001b[39;00m pywrap_tensorflow \u001b[38;5;28;01mas\u001b[39;00m _pywrap_tensorflow\n\u001b[1;32m     43\u001b[0m \u001b[38;5;66;03m# pylint: enable=wildcard-import\u001b[39;00m\n\u001b[1;32m     44\u001b[0m \n\u001b[1;32m     45\u001b[0m \u001b[38;5;66;03m# Bring in subpackages.\u001b[39;00m\n\u001b[0;32m---> 46\u001b[0m \u001b[38;5;28;01mfrom\u001b[39;00m \u001b[38;5;21;01mtensorflow\u001b[39;00m\u001b[38;5;21;01m.\u001b[39;00m\u001b[38;5;21;01mpython\u001b[39;00m \u001b[38;5;28;01mimport\u001b[39;00m data\n\u001b[1;32m     47\u001b[0m \u001b[38;5;28;01mfrom\u001b[39;00m \u001b[38;5;21;01mtensorflow\u001b[39;00m\u001b[38;5;21;01m.\u001b[39;00m\u001b[38;5;21;01mpython\u001b[39;00m \u001b[38;5;28;01mimport\u001b[39;00m distribute\n\u001b[1;32m     48\u001b[0m \u001b[38;5;66;03m# from tensorflow.python import keras\u001b[39;00m\n",
      "File \u001b[0;32m/opt/conda/lib/python3.9/site-packages/tensorflow/python/data/__init__.py:25\u001b[0m\n\u001b[1;32m     22\u001b[0m \u001b[38;5;28;01mfrom\u001b[39;00m \u001b[38;5;21;01m__future__\u001b[39;00m \u001b[38;5;28;01mimport\u001b[39;00m print_function\n\u001b[1;32m     24\u001b[0m \u001b[38;5;66;03m# pylint: disable=unused-import\u001b[39;00m\n\u001b[0;32m---> 25\u001b[0m \u001b[38;5;28;01mfrom\u001b[39;00m \u001b[38;5;21;01mtensorflow\u001b[39;00m\u001b[38;5;21;01m.\u001b[39;00m\u001b[38;5;21;01mpython\u001b[39;00m\u001b[38;5;21;01m.\u001b[39;00m\u001b[38;5;21;01mdata\u001b[39;00m \u001b[38;5;28;01mimport\u001b[39;00m experimental\n\u001b[1;32m     26\u001b[0m \u001b[38;5;28;01mfrom\u001b[39;00m \u001b[38;5;21;01mtensorflow\u001b[39;00m\u001b[38;5;21;01m.\u001b[39;00m\u001b[38;5;21;01mpython\u001b[39;00m\u001b[38;5;21;01m.\u001b[39;00m\u001b[38;5;21;01mdata\u001b[39;00m\u001b[38;5;21;01m.\u001b[39;00m\u001b[38;5;21;01mops\u001b[39;00m\u001b[38;5;21;01m.\u001b[39;00m\u001b[38;5;21;01mdataset_ops\u001b[39;00m \u001b[38;5;28;01mimport\u001b[39;00m AUTOTUNE\n\u001b[1;32m     27\u001b[0m \u001b[38;5;28;01mfrom\u001b[39;00m \u001b[38;5;21;01mtensorflow\u001b[39;00m\u001b[38;5;21;01m.\u001b[39;00m\u001b[38;5;21;01mpython\u001b[39;00m\u001b[38;5;21;01m.\u001b[39;00m\u001b[38;5;21;01mdata\u001b[39;00m\u001b[38;5;21;01m.\u001b[39;00m\u001b[38;5;21;01mops\u001b[39;00m\u001b[38;5;21;01m.\u001b[39;00m\u001b[38;5;21;01mdataset_ops\u001b[39;00m \u001b[38;5;28;01mimport\u001b[39;00m Dataset\n",
      "File \u001b[0;32m/opt/conda/lib/python3.9/site-packages/tensorflow/python/data/experimental/__init__.py:97\u001b[0m\n\u001b[1;32m     94\u001b[0m \u001b[38;5;28;01mfrom\u001b[39;00m \u001b[38;5;21;01m__future__\u001b[39;00m \u001b[38;5;28;01mimport\u001b[39;00m print_function\n\u001b[1;32m     96\u001b[0m \u001b[38;5;66;03m# pylint: disable=unused-import\u001b[39;00m\n\u001b[0;32m---> 97\u001b[0m \u001b[38;5;28;01mfrom\u001b[39;00m \u001b[38;5;21;01mtensorflow\u001b[39;00m\u001b[38;5;21;01m.\u001b[39;00m\u001b[38;5;21;01mpython\u001b[39;00m\u001b[38;5;21;01m.\u001b[39;00m\u001b[38;5;21;01mdata\u001b[39;00m\u001b[38;5;21;01m.\u001b[39;00m\u001b[38;5;21;01mexperimental\u001b[39;00m \u001b[38;5;28;01mimport\u001b[39;00m service\n\u001b[1;32m     98\u001b[0m \u001b[38;5;28;01mfrom\u001b[39;00m \u001b[38;5;21;01mtensorflow\u001b[39;00m\u001b[38;5;21;01m.\u001b[39;00m\u001b[38;5;21;01mpython\u001b[39;00m\u001b[38;5;21;01m.\u001b[39;00m\u001b[38;5;21;01mdata\u001b[39;00m\u001b[38;5;21;01m.\u001b[39;00m\u001b[38;5;21;01mexperimental\u001b[39;00m\u001b[38;5;21;01m.\u001b[39;00m\u001b[38;5;21;01mops\u001b[39;00m\u001b[38;5;21;01m.\u001b[39;00m\u001b[38;5;21;01mbatching\u001b[39;00m \u001b[38;5;28;01mimport\u001b[39;00m dense_to_ragged_batch\n\u001b[1;32m     99\u001b[0m \u001b[38;5;28;01mfrom\u001b[39;00m \u001b[38;5;21;01mtensorflow\u001b[39;00m\u001b[38;5;21;01m.\u001b[39;00m\u001b[38;5;21;01mpython\u001b[39;00m\u001b[38;5;21;01m.\u001b[39;00m\u001b[38;5;21;01mdata\u001b[39;00m\u001b[38;5;21;01m.\u001b[39;00m\u001b[38;5;21;01mexperimental\u001b[39;00m\u001b[38;5;21;01m.\u001b[39;00m\u001b[38;5;21;01mops\u001b[39;00m\u001b[38;5;21;01m.\u001b[39;00m\u001b[38;5;21;01mbatching\u001b[39;00m \u001b[38;5;28;01mimport\u001b[39;00m dense_to_sparse_batch\n",
      "File \u001b[0;32m/opt/conda/lib/python3.9/site-packages/tensorflow/python/data/experimental/service/__init__.py:353\u001b[0m\n\u001b[1;32m    350\u001b[0m \u001b[38;5;28;01mfrom\u001b[39;00m \u001b[38;5;21;01m__future__\u001b[39;00m \u001b[38;5;28;01mimport\u001b[39;00m division\n\u001b[1;32m    351\u001b[0m \u001b[38;5;28;01mfrom\u001b[39;00m \u001b[38;5;21;01m__future__\u001b[39;00m \u001b[38;5;28;01mimport\u001b[39;00m print_function\n\u001b[0;32m--> 353\u001b[0m \u001b[38;5;28;01mfrom\u001b[39;00m \u001b[38;5;21;01mtensorflow\u001b[39;00m\u001b[38;5;21;01m.\u001b[39;00m\u001b[38;5;21;01mpython\u001b[39;00m\u001b[38;5;21;01m.\u001b[39;00m\u001b[38;5;21;01mdata\u001b[39;00m\u001b[38;5;21;01m.\u001b[39;00m\u001b[38;5;21;01mexperimental\u001b[39;00m\u001b[38;5;21;01m.\u001b[39;00m\u001b[38;5;21;01mops\u001b[39;00m\u001b[38;5;21;01m.\u001b[39;00m\u001b[38;5;21;01mdata_service_ops\u001b[39;00m \u001b[38;5;28;01mimport\u001b[39;00m distribute\n\u001b[1;32m    354\u001b[0m \u001b[38;5;28;01mfrom\u001b[39;00m \u001b[38;5;21;01mtensorflow\u001b[39;00m\u001b[38;5;21;01m.\u001b[39;00m\u001b[38;5;21;01mpython\u001b[39;00m\u001b[38;5;21;01m.\u001b[39;00m\u001b[38;5;21;01mdata\u001b[39;00m\u001b[38;5;21;01m.\u001b[39;00m\u001b[38;5;21;01mexperimental\u001b[39;00m\u001b[38;5;21;01m.\u001b[39;00m\u001b[38;5;21;01mops\u001b[39;00m\u001b[38;5;21;01m.\u001b[39;00m\u001b[38;5;21;01mdata_service_ops\u001b[39;00m \u001b[38;5;28;01mimport\u001b[39;00m from_dataset_id\n\u001b[1;32m    355\u001b[0m \u001b[38;5;28;01mfrom\u001b[39;00m \u001b[38;5;21;01mtensorflow\u001b[39;00m\u001b[38;5;21;01m.\u001b[39;00m\u001b[38;5;21;01mpython\u001b[39;00m\u001b[38;5;21;01m.\u001b[39;00m\u001b[38;5;21;01mdata\u001b[39;00m\u001b[38;5;21;01m.\u001b[39;00m\u001b[38;5;21;01mexperimental\u001b[39;00m\u001b[38;5;21;01m.\u001b[39;00m\u001b[38;5;21;01mops\u001b[39;00m\u001b[38;5;21;01m.\u001b[39;00m\u001b[38;5;21;01mdata_service_ops\u001b[39;00m \u001b[38;5;28;01mimport\u001b[39;00m register_dataset\n",
      "File \u001b[0;32m/opt/conda/lib/python3.9/site-packages/tensorflow/python/data/experimental/ops/data_service_ops.py:26\u001b[0m\n\u001b[1;32m     24\u001b[0m \u001b[38;5;28;01mfrom\u001b[39;00m \u001b[38;5;21;01mtensorflow\u001b[39;00m\u001b[38;5;21;01m.\u001b[39;00m\u001b[38;5;21;01mpython\u001b[39;00m \u001b[38;5;28;01mimport\u001b[39;00m tf2\n\u001b[1;32m     25\u001b[0m \u001b[38;5;28;01mfrom\u001b[39;00m \u001b[38;5;21;01mtensorflow\u001b[39;00m\u001b[38;5;21;01m.\u001b[39;00m\u001b[38;5;21;01mpython\u001b[39;00m\u001b[38;5;21;01m.\u001b[39;00m\u001b[38;5;21;01mcompat\u001b[39;00m \u001b[38;5;28;01mimport\u001b[39;00m compat\n\u001b[0;32m---> 26\u001b[0m \u001b[38;5;28;01mfrom\u001b[39;00m \u001b[38;5;21;01mtensorflow\u001b[39;00m\u001b[38;5;21;01m.\u001b[39;00m\u001b[38;5;21;01mpython\u001b[39;00m\u001b[38;5;21;01m.\u001b[39;00m\u001b[38;5;21;01mdata\u001b[39;00m\u001b[38;5;21;01m.\u001b[39;00m\u001b[38;5;21;01mexperimental\u001b[39;00m\u001b[38;5;21;01m.\u001b[39;00m\u001b[38;5;21;01mops\u001b[39;00m \u001b[38;5;28;01mimport\u001b[39;00m compression_ops\n\u001b[1;32m     27\u001b[0m \u001b[38;5;28;01mfrom\u001b[39;00m \u001b[38;5;21;01mtensorflow\u001b[39;00m\u001b[38;5;21;01m.\u001b[39;00m\u001b[38;5;21;01mpython\u001b[39;00m\u001b[38;5;21;01m.\u001b[39;00m\u001b[38;5;21;01mdata\u001b[39;00m\u001b[38;5;21;01m.\u001b[39;00m\u001b[38;5;21;01mexperimental\u001b[39;00m\u001b[38;5;21;01m.\u001b[39;00m\u001b[38;5;21;01mops\u001b[39;00m\u001b[38;5;21;01m.\u001b[39;00m\u001b[38;5;21;01mdistribute_options\u001b[39;00m \u001b[38;5;28;01mimport\u001b[39;00m AutoShardPolicy\n\u001b[1;32m     28\u001b[0m \u001b[38;5;28;01mfrom\u001b[39;00m \u001b[38;5;21;01mtensorflow\u001b[39;00m\u001b[38;5;21;01m.\u001b[39;00m\u001b[38;5;21;01mpython\u001b[39;00m\u001b[38;5;21;01m.\u001b[39;00m\u001b[38;5;21;01mdata\u001b[39;00m\u001b[38;5;21;01m.\u001b[39;00m\u001b[38;5;21;01mexperimental\u001b[39;00m\u001b[38;5;21;01m.\u001b[39;00m\u001b[38;5;21;01mops\u001b[39;00m\u001b[38;5;21;01m.\u001b[39;00m\u001b[38;5;21;01mdistribute_options\u001b[39;00m \u001b[38;5;28;01mimport\u001b[39;00m ExternalStatePolicy\n",
      "File \u001b[0;32m/opt/conda/lib/python3.9/site-packages/tensorflow/python/data/experimental/ops/compression_ops.py:20\u001b[0m\n\u001b[1;32m     17\u001b[0m \u001b[38;5;28;01mfrom\u001b[39;00m \u001b[38;5;21;01m__future__\u001b[39;00m \u001b[38;5;28;01mimport\u001b[39;00m division\n\u001b[1;32m     18\u001b[0m \u001b[38;5;28;01mfrom\u001b[39;00m \u001b[38;5;21;01m__future__\u001b[39;00m \u001b[38;5;28;01mimport\u001b[39;00m print_function\n\u001b[0;32m---> 20\u001b[0m \u001b[38;5;28;01mfrom\u001b[39;00m \u001b[38;5;21;01mtensorflow\u001b[39;00m\u001b[38;5;21;01m.\u001b[39;00m\u001b[38;5;21;01mpython\u001b[39;00m\u001b[38;5;21;01m.\u001b[39;00m\u001b[38;5;21;01mdata\u001b[39;00m\u001b[38;5;21;01m.\u001b[39;00m\u001b[38;5;21;01mutil\u001b[39;00m \u001b[38;5;28;01mimport\u001b[39;00m structure\n\u001b[1;32m     21\u001b[0m \u001b[38;5;28;01mfrom\u001b[39;00m \u001b[38;5;21;01mtensorflow\u001b[39;00m\u001b[38;5;21;01m.\u001b[39;00m\u001b[38;5;21;01mpython\u001b[39;00m\u001b[38;5;21;01m.\u001b[39;00m\u001b[38;5;21;01mops\u001b[39;00m \u001b[38;5;28;01mimport\u001b[39;00m gen_experimental_dataset_ops \u001b[38;5;28;01mas\u001b[39;00m ged_ops\n\u001b[1;32m     24\u001b[0m \u001b[38;5;28;01mdef\u001b[39;00m \u001b[38;5;21mcompress\u001b[39m(element):\n",
      "File \u001b[0;32m/opt/conda/lib/python3.9/site-packages/tensorflow/python/data/util/structure.py:26\u001b[0m\n\u001b[1;32m     23\u001b[0m \u001b[38;5;28;01mimport\u001b[39;00m \u001b[38;5;21;01msix\u001b[39;00m\n\u001b[1;32m     24\u001b[0m \u001b[38;5;28;01mimport\u001b[39;00m \u001b[38;5;21;01mwrapt\u001b[39;00m\n\u001b[0;32m---> 26\u001b[0m \u001b[38;5;28;01mfrom\u001b[39;00m \u001b[38;5;21;01mtensorflow\u001b[39;00m\u001b[38;5;21;01m.\u001b[39;00m\u001b[38;5;21;01mpython\u001b[39;00m\u001b[38;5;21;01m.\u001b[39;00m\u001b[38;5;21;01mdata\u001b[39;00m\u001b[38;5;21;01m.\u001b[39;00m\u001b[38;5;21;01mutil\u001b[39;00m \u001b[38;5;28;01mimport\u001b[39;00m nest\n\u001b[1;32m     27\u001b[0m \u001b[38;5;28;01mfrom\u001b[39;00m \u001b[38;5;21;01mtensorflow\u001b[39;00m\u001b[38;5;21;01m.\u001b[39;00m\u001b[38;5;21;01mpython\u001b[39;00m\u001b[38;5;21;01m.\u001b[39;00m\u001b[38;5;21;01mframework\u001b[39;00m \u001b[38;5;28;01mimport\u001b[39;00m composite_tensor\n\u001b[1;32m     28\u001b[0m \u001b[38;5;28;01mfrom\u001b[39;00m \u001b[38;5;21;01mtensorflow\u001b[39;00m\u001b[38;5;21;01m.\u001b[39;00m\u001b[38;5;21;01mpython\u001b[39;00m\u001b[38;5;21;01m.\u001b[39;00m\u001b[38;5;21;01mframework\u001b[39;00m \u001b[38;5;28;01mimport\u001b[39;00m ops\n",
      "File \u001b[0;32m/opt/conda/lib/python3.9/site-packages/tensorflow/python/data/util/nest.py:40\u001b[0m\n\u001b[1;32m     36\u001b[0m \u001b[38;5;28;01mfrom\u001b[39;00m \u001b[38;5;21;01m__future__\u001b[39;00m \u001b[38;5;28;01mimport\u001b[39;00m print_function\n\u001b[1;32m     38\u001b[0m \u001b[38;5;28;01mimport\u001b[39;00m \u001b[38;5;21;01msix\u001b[39;00m \u001b[38;5;28;01mas\u001b[39;00m \u001b[38;5;21;01m_six\u001b[39;00m\n\u001b[0;32m---> 40\u001b[0m \u001b[38;5;28;01mfrom\u001b[39;00m \u001b[38;5;21;01mtensorflow\u001b[39;00m\u001b[38;5;21;01m.\u001b[39;00m\u001b[38;5;21;01mpython\u001b[39;00m\u001b[38;5;21;01m.\u001b[39;00m\u001b[38;5;21;01mframework\u001b[39;00m \u001b[38;5;28;01mimport\u001b[39;00m sparse_tensor \u001b[38;5;28;01mas\u001b[39;00m _sparse_tensor\n\u001b[1;32m     41\u001b[0m \u001b[38;5;28;01mfrom\u001b[39;00m \u001b[38;5;21;01mtensorflow\u001b[39;00m\u001b[38;5;21;01m.\u001b[39;00m\u001b[38;5;21;01mpython\u001b[39;00m\u001b[38;5;21;01m.\u001b[39;00m\u001b[38;5;21;01mutil\u001b[39;00m \u001b[38;5;28;01mimport\u001b[39;00m _pywrap_utils\n\u001b[1;32m     42\u001b[0m \u001b[38;5;28;01mfrom\u001b[39;00m \u001b[38;5;21;01mtensorflow\u001b[39;00m\u001b[38;5;21;01m.\u001b[39;00m\u001b[38;5;21;01mpython\u001b[39;00m\u001b[38;5;21;01m.\u001b[39;00m\u001b[38;5;21;01mutil\u001b[39;00m \u001b[38;5;28;01mimport\u001b[39;00m nest\n",
      "File \u001b[0;32m/opt/conda/lib/python3.9/site-packages/tensorflow/python/framework/sparse_tensor.py:28\u001b[0m\n\u001b[1;32m     26\u001b[0m \u001b[38;5;28;01mfrom\u001b[39;00m \u001b[38;5;21;01mtensorflow\u001b[39;00m\u001b[38;5;21;01m.\u001b[39;00m\u001b[38;5;21;01mpython\u001b[39;00m \u001b[38;5;28;01mimport\u001b[39;00m tf2\n\u001b[1;32m     27\u001b[0m \u001b[38;5;28;01mfrom\u001b[39;00m \u001b[38;5;21;01mtensorflow\u001b[39;00m\u001b[38;5;21;01m.\u001b[39;00m\u001b[38;5;21;01mpython\u001b[39;00m\u001b[38;5;21;01m.\u001b[39;00m\u001b[38;5;21;01mframework\u001b[39;00m \u001b[38;5;28;01mimport\u001b[39;00m composite_tensor\n\u001b[0;32m---> 28\u001b[0m \u001b[38;5;28;01mfrom\u001b[39;00m \u001b[38;5;21;01mtensorflow\u001b[39;00m\u001b[38;5;21;01m.\u001b[39;00m\u001b[38;5;21;01mpython\u001b[39;00m\u001b[38;5;21;01m.\u001b[39;00m\u001b[38;5;21;01mframework\u001b[39;00m \u001b[38;5;28;01mimport\u001b[39;00m constant_op\n\u001b[1;32m     29\u001b[0m \u001b[38;5;28;01mfrom\u001b[39;00m \u001b[38;5;21;01mtensorflow\u001b[39;00m\u001b[38;5;21;01m.\u001b[39;00m\u001b[38;5;21;01mpython\u001b[39;00m\u001b[38;5;21;01m.\u001b[39;00m\u001b[38;5;21;01mframework\u001b[39;00m \u001b[38;5;28;01mimport\u001b[39;00m dtypes\n\u001b[1;32m     30\u001b[0m \u001b[38;5;28;01mfrom\u001b[39;00m \u001b[38;5;21;01mtensorflow\u001b[39;00m\u001b[38;5;21;01m.\u001b[39;00m\u001b[38;5;21;01mpython\u001b[39;00m\u001b[38;5;21;01m.\u001b[39;00m\u001b[38;5;21;01mframework\u001b[39;00m \u001b[38;5;28;01mimport\u001b[39;00m ops\n",
      "File \u001b[0;32m/opt/conda/lib/python3.9/site-packages/tensorflow/python/framework/constant_op.py:29\u001b[0m\n\u001b[1;32m     27\u001b[0m \u001b[38;5;28;01mfrom\u001b[39;00m \u001b[38;5;21;01mtensorflow\u001b[39;00m\u001b[38;5;21;01m.\u001b[39;00m\u001b[38;5;21;01mcore\u001b[39;00m\u001b[38;5;21;01m.\u001b[39;00m\u001b[38;5;21;01mframework\u001b[39;00m \u001b[38;5;28;01mimport\u001b[39;00m types_pb2\n\u001b[1;32m     28\u001b[0m \u001b[38;5;28;01mfrom\u001b[39;00m \u001b[38;5;21;01mtensorflow\u001b[39;00m\u001b[38;5;21;01m.\u001b[39;00m\u001b[38;5;21;01mpython\u001b[39;00m\u001b[38;5;21;01m.\u001b[39;00m\u001b[38;5;21;01meager\u001b[39;00m \u001b[38;5;28;01mimport\u001b[39;00m context\n\u001b[0;32m---> 29\u001b[0m \u001b[38;5;28;01mfrom\u001b[39;00m \u001b[38;5;21;01mtensorflow\u001b[39;00m\u001b[38;5;21;01m.\u001b[39;00m\u001b[38;5;21;01mpython\u001b[39;00m\u001b[38;5;21;01m.\u001b[39;00m\u001b[38;5;21;01meager\u001b[39;00m \u001b[38;5;28;01mimport\u001b[39;00m execute\n\u001b[1;32m     30\u001b[0m \u001b[38;5;28;01mfrom\u001b[39;00m \u001b[38;5;21;01mtensorflow\u001b[39;00m\u001b[38;5;21;01m.\u001b[39;00m\u001b[38;5;21;01mpython\u001b[39;00m\u001b[38;5;21;01m.\u001b[39;00m\u001b[38;5;21;01mframework\u001b[39;00m \u001b[38;5;28;01mimport\u001b[39;00m dtypes\n\u001b[1;32m     31\u001b[0m \u001b[38;5;28;01mfrom\u001b[39;00m \u001b[38;5;21;01mtensorflow\u001b[39;00m\u001b[38;5;21;01m.\u001b[39;00m\u001b[38;5;21;01mpython\u001b[39;00m\u001b[38;5;21;01m.\u001b[39;00m\u001b[38;5;21;01mframework\u001b[39;00m \u001b[38;5;28;01mimport\u001b[39;00m op_callbacks\n",
      "File \u001b[0;32m/opt/conda/lib/python3.9/site-packages/tensorflow/python/eager/execute.py:27\u001b[0m\n\u001b[1;32m     25\u001b[0m \u001b[38;5;28;01mfrom\u001b[39;00m \u001b[38;5;21;01mtensorflow\u001b[39;00m\u001b[38;5;21;01m.\u001b[39;00m\u001b[38;5;21;01mpython\u001b[39;00m \u001b[38;5;28;01mimport\u001b[39;00m pywrap_tfe\n\u001b[1;32m     26\u001b[0m \u001b[38;5;28;01mfrom\u001b[39;00m \u001b[38;5;21;01mtensorflow\u001b[39;00m\u001b[38;5;21;01m.\u001b[39;00m\u001b[38;5;21;01mpython\u001b[39;00m\u001b[38;5;21;01m.\u001b[39;00m\u001b[38;5;21;01meager\u001b[39;00m \u001b[38;5;28;01mimport\u001b[39;00m core\n\u001b[0;32m---> 27\u001b[0m \u001b[38;5;28;01mfrom\u001b[39;00m \u001b[38;5;21;01mtensorflow\u001b[39;00m\u001b[38;5;21;01m.\u001b[39;00m\u001b[38;5;21;01mpython\u001b[39;00m\u001b[38;5;21;01m.\u001b[39;00m\u001b[38;5;21;01mframework\u001b[39;00m \u001b[38;5;28;01mimport\u001b[39;00m dtypes\n\u001b[1;32m     28\u001b[0m \u001b[38;5;28;01mfrom\u001b[39;00m \u001b[38;5;21;01mtensorflow\u001b[39;00m\u001b[38;5;21;01m.\u001b[39;00m\u001b[38;5;21;01mpython\u001b[39;00m\u001b[38;5;21;01m.\u001b[39;00m\u001b[38;5;21;01mframework\u001b[39;00m \u001b[38;5;28;01mimport\u001b[39;00m ops\n\u001b[1;32m     29\u001b[0m \u001b[38;5;28;01mfrom\u001b[39;00m \u001b[38;5;21;01mtensorflow\u001b[39;00m\u001b[38;5;21;01m.\u001b[39;00m\u001b[38;5;21;01mpython\u001b[39;00m\u001b[38;5;21;01m.\u001b[39;00m\u001b[38;5;21;01mframework\u001b[39;00m \u001b[38;5;28;01mimport\u001b[39;00m tensor_shape\n",
      "File \u001b[0;32m/opt/conda/lib/python3.9/site-packages/tensorflow/python/framework/dtypes.py:585\u001b[0m\n\u001b[1;32m    556\u001b[0m     _NP_TO_TF[pdt] \u001b[38;5;241m=\u001b[39m \u001b[38;5;28mnext\u001b[39m(\n\u001b[1;32m    557\u001b[0m         _NP_TO_TF[dt] \u001b[38;5;28;01mfor\u001b[39;00m dt \u001b[38;5;129;01min\u001b[39;00m _NP_TO_TF \u001b[38;5;28;01mif\u001b[39;00m dt \u001b[38;5;241m==\u001b[39m pdt()\u001b[38;5;241m.\u001b[39mdtype)  \u001b[38;5;66;03m# pylint: disable=no-value-for-parameter\u001b[39;00m\n\u001b[1;32m    559\u001b[0m TF_VALUE_DTYPES \u001b[38;5;241m=\u001b[39m \u001b[38;5;28mset\u001b[39m(_NP_TO_TF\u001b[38;5;241m.\u001b[39mvalues())\n\u001b[1;32m    561\u001b[0m _TF_TO_NP \u001b[38;5;241m=\u001b[39m {\n\u001b[1;32m    562\u001b[0m     types_pb2\u001b[38;5;241m.\u001b[39mDT_HALF:\n\u001b[1;32m    563\u001b[0m         np\u001b[38;5;241m.\u001b[39mfloat16,\n\u001b[1;32m    564\u001b[0m     types_pb2\u001b[38;5;241m.\u001b[39mDT_FLOAT:\n\u001b[1;32m    565\u001b[0m         np\u001b[38;5;241m.\u001b[39mfloat32,\n\u001b[1;32m    566\u001b[0m     types_pb2\u001b[38;5;241m.\u001b[39mDT_DOUBLE:\n\u001b[1;32m    567\u001b[0m         np\u001b[38;5;241m.\u001b[39mfloat64,\n\u001b[1;32m    568\u001b[0m     types_pb2\u001b[38;5;241m.\u001b[39mDT_INT32:\n\u001b[1;32m    569\u001b[0m         np\u001b[38;5;241m.\u001b[39mint32,\n\u001b[1;32m    570\u001b[0m     types_pb2\u001b[38;5;241m.\u001b[39mDT_UINT8:\n\u001b[1;32m    571\u001b[0m         np\u001b[38;5;241m.\u001b[39muint8,\n\u001b[1;32m    572\u001b[0m     types_pb2\u001b[38;5;241m.\u001b[39mDT_UINT16:\n\u001b[1;32m    573\u001b[0m         np\u001b[38;5;241m.\u001b[39muint16,\n\u001b[1;32m    574\u001b[0m     types_pb2\u001b[38;5;241m.\u001b[39mDT_UINT32:\n\u001b[1;32m    575\u001b[0m         np\u001b[38;5;241m.\u001b[39muint32,\n\u001b[1;32m    576\u001b[0m     types_pb2\u001b[38;5;241m.\u001b[39mDT_UINT64:\n\u001b[1;32m    577\u001b[0m         np\u001b[38;5;241m.\u001b[39muint64,\n\u001b[1;32m    578\u001b[0m     types_pb2\u001b[38;5;241m.\u001b[39mDT_INT16:\n\u001b[1;32m    579\u001b[0m         np\u001b[38;5;241m.\u001b[39mint16,\n\u001b[1;32m    580\u001b[0m     types_pb2\u001b[38;5;241m.\u001b[39mDT_INT8:\n\u001b[1;32m    581\u001b[0m         np\u001b[38;5;241m.\u001b[39mint8,\n\u001b[1;32m    582\u001b[0m     \u001b[38;5;66;03m# NOTE(touts): For strings we use np.object as it supports variable length\u001b[39;00m\n\u001b[1;32m    583\u001b[0m     \u001b[38;5;66;03m# strings.\u001b[39;00m\n\u001b[1;32m    584\u001b[0m     types_pb2\u001b[38;5;241m.\u001b[39mDT_STRING:\n\u001b[0;32m--> 585\u001b[0m         \u001b[43mnp\u001b[49m\u001b[38;5;241;43m.\u001b[39;49m\u001b[43mobject\u001b[49m,\n\u001b[1;32m    586\u001b[0m     types_pb2\u001b[38;5;241m.\u001b[39mDT_COMPLEX64:\n\u001b[1;32m    587\u001b[0m         np\u001b[38;5;241m.\u001b[39mcomplex64,\n\u001b[1;32m    588\u001b[0m     types_pb2\u001b[38;5;241m.\u001b[39mDT_COMPLEX128:\n\u001b[1;32m    589\u001b[0m         np\u001b[38;5;241m.\u001b[39mcomplex128,\n\u001b[1;32m    590\u001b[0m     types_pb2\u001b[38;5;241m.\u001b[39mDT_INT64:\n\u001b[1;32m    591\u001b[0m         np\u001b[38;5;241m.\u001b[39mint64,\n\u001b[1;32m    592\u001b[0m     types_pb2\u001b[38;5;241m.\u001b[39mDT_BOOL:\n\u001b[1;32m    593\u001b[0m         np\u001b[38;5;241m.\u001b[39mbool_,\n\u001b[1;32m    594\u001b[0m     types_pb2\u001b[38;5;241m.\u001b[39mDT_QINT8:\n\u001b[1;32m    595\u001b[0m         _np_qint8,\n\u001b[1;32m    596\u001b[0m     types_pb2\u001b[38;5;241m.\u001b[39mDT_QUINT8:\n\u001b[1;32m    597\u001b[0m         _np_quint8,\n\u001b[1;32m    598\u001b[0m     types_pb2\u001b[38;5;241m.\u001b[39mDT_QINT16:\n\u001b[1;32m    599\u001b[0m         _np_qint16,\n\u001b[1;32m    600\u001b[0m     types_pb2\u001b[38;5;241m.\u001b[39mDT_QUINT16:\n\u001b[1;32m    601\u001b[0m         _np_quint16,\n\u001b[1;32m    602\u001b[0m     types_pb2\u001b[38;5;241m.\u001b[39mDT_QINT32:\n\u001b[1;32m    603\u001b[0m         _np_qint32,\n\u001b[1;32m    604\u001b[0m     types_pb2\u001b[38;5;241m.\u001b[39mDT_BFLOAT16:\n\u001b[1;32m    605\u001b[0m         _np_bfloat16,\n\u001b[1;32m    606\u001b[0m \n\u001b[1;32m    607\u001b[0m     \u001b[38;5;66;03m# Ref types\u001b[39;00m\n\u001b[1;32m    608\u001b[0m     types_pb2\u001b[38;5;241m.\u001b[39mDT_HALF_REF:\n\u001b[1;32m    609\u001b[0m         np\u001b[38;5;241m.\u001b[39mfloat16,\n\u001b[1;32m    610\u001b[0m     types_pb2\u001b[38;5;241m.\u001b[39mDT_FLOAT_REF:\n\u001b[1;32m    611\u001b[0m         np\u001b[38;5;241m.\u001b[39mfloat32,\n\u001b[1;32m    612\u001b[0m     types_pb2\u001b[38;5;241m.\u001b[39mDT_DOUBLE_REF:\n\u001b[1;32m    613\u001b[0m         np\u001b[38;5;241m.\u001b[39mfloat64,\n\u001b[1;32m    614\u001b[0m     types_pb2\u001b[38;5;241m.\u001b[39mDT_INT32_REF:\n\u001b[1;32m    615\u001b[0m         np\u001b[38;5;241m.\u001b[39mint32,\n\u001b[1;32m    616\u001b[0m     types_pb2\u001b[38;5;241m.\u001b[39mDT_UINT32_REF:\n\u001b[1;32m    617\u001b[0m         np\u001b[38;5;241m.\u001b[39muint32,\n\u001b[1;32m    618\u001b[0m     types_pb2\u001b[38;5;241m.\u001b[39mDT_UINT8_REF:\n\u001b[1;32m    619\u001b[0m         np\u001b[38;5;241m.\u001b[39muint8,\n\u001b[1;32m    620\u001b[0m     types_pb2\u001b[38;5;241m.\u001b[39mDT_UINT16_REF:\n\u001b[1;32m    621\u001b[0m         np\u001b[38;5;241m.\u001b[39muint16,\n\u001b[1;32m    622\u001b[0m     types_pb2\u001b[38;5;241m.\u001b[39mDT_INT16_REF:\n\u001b[1;32m    623\u001b[0m         np\u001b[38;5;241m.\u001b[39mint16,\n\u001b[1;32m    624\u001b[0m     types_pb2\u001b[38;5;241m.\u001b[39mDT_INT8_REF:\n\u001b[1;32m    625\u001b[0m         np\u001b[38;5;241m.\u001b[39mint8,\n\u001b[1;32m    626\u001b[0m     types_pb2\u001b[38;5;241m.\u001b[39mDT_STRING_REF:\n\u001b[1;32m    627\u001b[0m         np\u001b[38;5;241m.\u001b[39mobject,\n\u001b[1;32m    628\u001b[0m     types_pb2\u001b[38;5;241m.\u001b[39mDT_COMPLEX64_REF:\n\u001b[1;32m    629\u001b[0m         np\u001b[38;5;241m.\u001b[39mcomplex64,\n\u001b[1;32m    630\u001b[0m     types_pb2\u001b[38;5;241m.\u001b[39mDT_COMPLEX128_REF:\n\u001b[1;32m    631\u001b[0m         np\u001b[38;5;241m.\u001b[39mcomplex128,\n\u001b[1;32m    632\u001b[0m     types_pb2\u001b[38;5;241m.\u001b[39mDT_INT64_REF:\n\u001b[1;32m    633\u001b[0m         np\u001b[38;5;241m.\u001b[39mint64,\n\u001b[1;32m    634\u001b[0m     types_pb2\u001b[38;5;241m.\u001b[39mDT_UINT64_REF:\n\u001b[1;32m    635\u001b[0m         np\u001b[38;5;241m.\u001b[39muint64,\n\u001b[1;32m    636\u001b[0m     types_pb2\u001b[38;5;241m.\u001b[39mDT_BOOL_REF:\n\u001b[1;32m    637\u001b[0m         np\u001b[38;5;241m.\u001b[39mbool,\n\u001b[1;32m    638\u001b[0m     types_pb2\u001b[38;5;241m.\u001b[39mDT_QINT8_REF:\n\u001b[1;32m    639\u001b[0m         _np_qint8,\n\u001b[1;32m    640\u001b[0m     types_pb2\u001b[38;5;241m.\u001b[39mDT_QUINT8_REF:\n\u001b[1;32m    641\u001b[0m         _np_quint8,\n\u001b[1;32m    642\u001b[0m     types_pb2\u001b[38;5;241m.\u001b[39mDT_QINT16_REF:\n\u001b[1;32m    643\u001b[0m         _np_qint16,\n\u001b[1;32m    644\u001b[0m     types_pb2\u001b[38;5;241m.\u001b[39mDT_QUINT16_REF:\n\u001b[1;32m    645\u001b[0m         _np_quint16,\n\u001b[1;32m    646\u001b[0m     types_pb2\u001b[38;5;241m.\u001b[39mDT_QINT32_REF:\n\u001b[1;32m    647\u001b[0m         _np_qint32,\n\u001b[1;32m    648\u001b[0m     types_pb2\u001b[38;5;241m.\u001b[39mDT_BFLOAT16_REF:\n\u001b[1;32m    649\u001b[0m         _np_bfloat16,\n\u001b[1;32m    650\u001b[0m }\n\u001b[1;32m    652\u001b[0m _QUANTIZED_DTYPES_NO_REF \u001b[38;5;241m=\u001b[39m \u001b[38;5;28mfrozenset\u001b[39m([qint8, quint8, qint16, quint16, qint32])\n\u001b[1;32m    653\u001b[0m _QUANTIZED_DTYPES_REF \u001b[38;5;241m=\u001b[39m \u001b[38;5;28mfrozenset\u001b[39m(\n\u001b[1;32m    654\u001b[0m     [qint8_ref, quint8_ref, qint16_ref, quint16_ref, qint32_ref])\n",
      "File \u001b[0;32m~/.local/lib/python3.9/site-packages/numpy/__init__.py:313\u001b[0m, in \u001b[0;36m__getattr__\u001b[0;34m(attr)\u001b[0m\n\u001b[1;32m    308\u001b[0m     warnings\u001b[38;5;241m.\u001b[39mwarn(\n\u001b[1;32m    309\u001b[0m         \u001b[38;5;124mf\u001b[39m\u001b[38;5;124m\"\u001b[39m\u001b[38;5;124mIn the future `np.\u001b[39m\u001b[38;5;132;01m{\u001b[39;00mattr\u001b[38;5;132;01m}\u001b[39;00m\u001b[38;5;124m` will be defined as the \u001b[39m\u001b[38;5;124m\"\u001b[39m\n\u001b[1;32m    310\u001b[0m         \u001b[38;5;124m\"\u001b[39m\u001b[38;5;124mcorresponding NumPy scalar.\u001b[39m\u001b[38;5;124m\"\u001b[39m, \u001b[38;5;167;01mFutureWarning\u001b[39;00m, stacklevel\u001b[38;5;241m=\u001b[39m\u001b[38;5;241m2\u001b[39m)\n\u001b[1;32m    312\u001b[0m \u001b[38;5;28;01mif\u001b[39;00m attr \u001b[38;5;129;01min\u001b[39;00m __former_attrs__:\n\u001b[0;32m--> 313\u001b[0m     \u001b[38;5;28;01mraise\u001b[39;00m \u001b[38;5;167;01mAttributeError\u001b[39;00m(__former_attrs__[attr])\n\u001b[1;32m    315\u001b[0m \u001b[38;5;28;01mif\u001b[39;00m attr \u001b[38;5;241m==\u001b[39m \u001b[38;5;124m'\u001b[39m\u001b[38;5;124mtesting\u001b[39m\u001b[38;5;124m'\u001b[39m:\n\u001b[1;32m    316\u001b[0m     \u001b[38;5;28;01mimport\u001b[39;00m \u001b[38;5;21;01mnumpy\u001b[39;00m\u001b[38;5;21;01m.\u001b[39;00m\u001b[38;5;21;01mtesting\u001b[39;00m \u001b[38;5;28;01mas\u001b[39;00m \u001b[38;5;21;01mtesting\u001b[39;00m\n",
      "\u001b[0;31mAttributeError\u001b[0m: Failed to construct dataset mnist: module 'numpy' has no attribute 'object'.\n`np.object` was a deprecated alias for the builtin `object`. To avoid this error in existing code, use `object` by itself. Doing this will not modify any behavior and is safe. \nThe aliases was originally deprecated in NumPy 1.20; for more details and guidance see the original release note at:\n    https://numpy.org/devdocs/release/1.20.0-notes.html#deprecations"
     ]
    }
   ],
   "source": [
    "datasets, info = tfds.load(name='mnist',\n",
    "    with_info=True, batch_size=-1, as_supervised=True)\n",
    "\n",
    "test_dataset = datasets['test']"
   ]
  },
  {
   "cell_type": "markdown",
   "metadata": {
    "id": "emtNjL1ObpI1"
   },
   "source": [
    "Load the TensorFlow Dataset as NumPy arrays (images, labels)"
   ]
  },
  {
   "cell_type": "code",
   "execution_count": null,
   "metadata": {
    "id": "OBF1x0i3bIWS",
    "vscode": {
     "languageId": "python"
    }
   },
   "outputs": [],
   "source": [
    "x_test, y_test = tfds.as_numpy(test_dataset)\n",
    "\n",
    "# Normalize (rescale) the pixel data by dividing each pixel by 255. \n",
    "x_test = x_test.astype('float32') / 255."
   ]
  },
  {
   "cell_type": "markdown",
   "metadata": {
    "id": "vGRBKaPdbwrj"
   },
   "source": [
    "Ensure the shapes are correct here"
   ]
  },
  {
   "cell_type": "code",
   "execution_count": null,
   "metadata": {
    "id": "Gkk7JG8NbLiJ",
    "vscode": {
     "languageId": "python"
    }
   },
   "outputs": [],
   "source": [
    "x_test.shape, y_test.shape"
   ]
  },
  {
   "cell_type": "code",
   "execution_count": null,
   "metadata": {
    "cellView": "form",
    "id": "vGOL5gb-oZo5",
    "vscode": {
     "languageId": "python"
    }
   },
   "outputs": [],
   "source": [
    "#@title Pick the number of test images\n",
    "NUM_TEST_IMAGES = 20 #@param {type:\"slider\", min:1, max:20, step:1}\n",
    "x_test, y_test = x_test[:NUM_TEST_IMAGES], y_test[:NUM_TEST_IMAGES]"
   ]
  },
  {
   "cell_type": "markdown",
   "metadata": {
    "id": "send_prediction_request:image"
   },
   "source": [
    "### Send the prediction request\n",
    "\n",
    "Now that you have test images, you can use them to send a prediction request. Use the `Endpoint` object's `predict` function, which takes the following parameters:\n",
    "\n",
    "- `instances`: A list of image instances. According to your custom model, each image instance should be a 3-dimensional matrix of floats. This was prepared in the previous step.\n",
    "\n",
    "The `predict` function returns a list, where each element in the list corresponds to the corresponding image in the request. You will see in the output for each prediction:\n",
    "\n",
    "- Confidence level for the prediction (`predictions`), between 0 and 1, for each of the ten classes.\n",
    "\n",
    "You can then run a quick evaluation on the prediction results:\n",
    "1. `np.argmax`: Convert each list of confidence levels to a label\n",
    "2. Compare the predicted labels to the actual labels\n",
    "3. Calculate `accuracy` as `correct/total`"
   ]
  },
  {
   "cell_type": "code",
   "execution_count": null,
   "metadata": {
    "id": "UywuX7fRlugz",
    "vscode": {
     "languageId": "python"
    }
   },
   "outputs": [],
   "source": [
    "predictions = endpoint.predict(instances=x_test.tolist())\n",
    "y_predicted = np.argmax(predictions.predictions, axis=1)\n",
    "\n",
    "correct = sum(y_predicted == np.array(y_test.tolist()))\n",
    "accuracy = len(y_predicted)\n",
    "print(f\"Correct predictions = {correct}, Total predictions = {accuracy}, \n",
    "    Accuracy = {correct/accuracy}\")"
   ]
  },
  {
   "cell_type": "markdown",
   "metadata": {
    "id": "undeploy_model"
   },
   "source": [
    "## Undeploy the model\n",
    "\n",
    "To undeploy your `Model` resource from the serving `Endpoint` resource, use the endpoint's `undeploy` method with the following parameter:\n",
    "\n",
    "- `deployed_model_id`: The model deployment identifier returned by the endpoint service when the `Model` resource was deployed. You can retrieve the deployed models using the endpoint's `deployed_models` property.\n",
    "\n",
    "Since this is the only deployed model on the `Endpoint` resource, you can omit `traffic_split`."
   ]
  },
  {
   "cell_type": "code",
   "execution_count": null,
   "metadata": {
    "id": "khPSAO1tlug0",
    "vscode": {
     "languageId": "python"
    }
   },
   "outputs": [],
   "source": [
    "deployed_model_id = endpoint.list_models()[0].id\n",
    "endpoint.undeploy(deployed_model_id=deployed_model_id)"
   ]
  },
  {
   "cell_type": "markdown",
   "metadata": {
    "id": "cleanup:custom"
   },
   "source": [
    "# Cleaning up\n",
    "\n",
    "To clean up all Google Cloud resources used in this project, you can [delete the Google Cloud project](https://cloud.google.com/resource-manager/docs/creating-managing-projects#shutting_down_projects) you used for the tutorial.\n",
    "\n",
    "Otherwise, you can delete the individual resources you created in this tutorial:\n",
    "\n",
    "- Training Job\n",
    "- Model\n",
    "- Endpoint\n",
    "- Cloud Storage Bucket"
   ]
  },
  {
   "cell_type": "code",
   "execution_count": null,
   "metadata": {
    "id": "NNmebHf7lug0",
    "vscode": {
     "languageId": "python"
    }
   },
   "outputs": [],
   "source": [
    "delete_training_job = True\n",
    "delete_model = True\n",
    "delete_endpoint = True\n",
    "\n",
    "# Warning: Setting this to true will delete everything in your bucket\n",
    "delete_bucket = True\n",
    "\n",
    "# Delete the training job\n",
    "job.delete()\n",
    "\n",
    "# Delete the model\n",
    "model.delete()\n",
    "\n",
    "# Delete the endpoint\n",
    "endpoint.delete()\n",
    "\n",
    "if delete_bucket and \"BUCKET_NAME\" in globals():\n",
    "    ! gsutil -m rm -r $BUCKET_NAME"
   ]
  }
 ],
 "metadata": {
  "colab": {
   "collapsed_sections": [],
   "name": "Qwiklab: Running_Distributed_TensorFlow_using_Vertex_AI.ipynb",
   "provenance": []
  },
  "environment": {
   "kernel": "python3",
   "name": "tf2-gpu.2-6.m109",
   "type": "gcloud",
   "uri": "gcr.io/deeplearning-platform-release/tf2-gpu.2-6:m109"
  },
  "kernelspec": {
   "display_name": "Python 3 (ipykernel)",
   "language": "python",
   "name": "python3"
  },
  "language_info": {
   "codemirror_mode": {
    "name": "ipython",
    "version": 3
   },
   "file_extension": ".py",
   "mimetype": "text/x-python",
   "name": "python",
   "nbconvert_exporter": "python",
   "pygments_lexer": "ipython3",
   "version": "3.8.10"
  }
 },
 "nbformat": 4,
 "nbformat_minor": 4
}
