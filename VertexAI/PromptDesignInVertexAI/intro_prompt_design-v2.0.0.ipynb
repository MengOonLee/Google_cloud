{
 "cells": [
  {
   "cell_type": "code",
   "execution_count": null,
   "metadata": {
    "id": "ur8xi4C7S06n"
   },
   "outputs": [],
   "source": [
    "# Copyright 2025 Google LLC\n",
    "#\n",
    "# Licensed under the Apache License, Version 2.0 (the \"License\");\n",
    "# you may not use this file except in compliance with the License.\n",
    "# You may obtain a copy of the License at\n",
    "#\n",
    "#     https://www.apache.org/licenses/LICENSE-2.0\n",
    "#\n",
    "# Unless required by applicable law or agreed to in writing, software\n",
    "# distributed under the License is distributed on an \"AS IS\" BASIS,\n",
    "# WITHOUT WARRANTIES OR CONDITIONS OF ANY KIND, either express or implied.\n",
    "# See the License for the specific language governing permissions and\n",
    "# limitations under the License."
   ]
  },
  {
   "cell_type": "markdown",
   "metadata": {
    "id": "JAPoU8Sm5E6e"
   },
   "source": [
    "# Prompt Design - Best Practices\n",
    "\n",
    "<table align=\"left\">\n",
    "  <td style=\"text-align: center\">\n",
    "    <a href=\"https://colab.research.google.com/github/GoogleCloudPlatform/generative-ai/blob/main/gemini/prompts/intro_prompt_design.ipynb\">\n",
    "      <img width=\"32px\" src=\"https://www.gstatic.com/pantheon/images/bigquery/welcome_page/colab-logo.svg\" alt=\"Google Colaboratory logo\"><br> Open in Colab\n",
    "    </a>\n",
    "  </td>\n",
    "  <td style=\"text-align: center\">\n",
    "    <a href=\"https://console.cloud.google.com/vertex-ai/colab/import/https:%2F%2Fraw.githubusercontent.com%2FGoogleCloudPlatform%2Fgenerative-ai%2Fmain%2Fgemini%2Fprompts%2Fintro_prompt_design.ipynb\">\n",
    "      <img width=\"32px\" src=\"https://lh3.googleusercontent.com/JmcxdQi-qOpctIvWKgPtrzZdJJK-J3sWE1RsfjZNwshCFgE_9fULcNpuXYTilIR2hjwN\" alt=\"Google Cloud Colab Enterprise logo\"><br> Open in Colab Enterprise\n",
    "    </a>\n",
    "  </td>\n",
    "  <td style=\"text-align: center\">\n",
    "    <a href=\"https://console.cloud.google.com/vertex-ai/workbench/deploy-notebook?download_url=https://raw.githubusercontent.com/GoogleCloudPlatform/generative-ai/main/gemini/prompts/intro_prompt_design.ipynb\">\n",
    "      <img src=\"https://www.gstatic.com/images/branding/gcpiconscolors/vertexai/v1/32px.svg\" alt=\"Vertex AI logo\"><br> Open in Workbench\n",
    "    </a>\n",
    "  </td>\n",
    "  <td style=\"text-align: center\">\n",
    "    <a href=\"https://github.com/GoogleCloudPlatform/generative-ai/blob/main/gemini/prompts/intro_prompt_design.ipynb\">\n",
    "      <img width=\"32px\" src=\"https://www.svgrepo.com/download/217753/github.svg\" alt=\"GitHub logo\"><br> View on GitHub\n",
    "    </a>\n",
    "  </td>\n",
    "  <td style=\"text-align: center\">\n",
    "    <a href=\"https://goo.gle/4fWHlze\">\n",
    "      <img width=\"32px\" src=\"https://cdn.qwiklabs.com/assets/gcp_cloud-e3a77215f0b8bfa9b3f611c0d2208c7e8708ed31.svg\" alt=\"Google Cloud logo\"><br> Open in  Cloud Skills Boost\n",
    "    </a>\n",
    "  </td>\n",
    "</table>\n",
    "\n",
    "<div style=\"clear: both;\"></div>\n",
    "\n",
    "<b>Share to:</b>\n",
    "\n",
    "<a href=\"https://www.linkedin.com/sharing/share-offsite/?url=https%3A//github.com/GoogleCloudPlatform/generative-ai/blob/main/gemini/prompts/intro_prompt_design.ipynb\" target=\"_blank\">\n",
    "  <img width=\"20px\" src=\"https://upload.wikimedia.org/wikipedia/commons/8/81/LinkedIn_icon.svg\" alt=\"LinkedIn logo\">\n",
    "</a>\n",
    "<a href=\"https://bsky.app/intent/compose?text=https%3A//github.com/GoogleCloudPlatform/generative-ai/blob/main/gemini/prompts/intro_prompt_design.ipynb\" target=\"_blank\">\n",
    "  <img width=\"20px\" src=\"https://upload.wikimedia.org/wikipedia/commons/7/7a/Bluesky_Logo.svg\" alt=\"Bluesky logo\">\n",
    "</a>\n",
    "<a href=\"https://twitter.com/intent/tweet?url=https%3A//github.com/GoogleCloudPlatform/generative-ai/blob/main/gemini/prompts/intro_prompt_design.ipynb\" target=\"_blank\">\n",
    "  <img width=\"20px\" src=\"https://upload.wikimedia.org/wikipedia/commons/5/5a/X_icon_2.svg\" alt=\"X logo\">\n",
    "</a>\n",
    "<a href=\"https://reddit.com/submit?url=https%3A//github.com/GoogleCloudPlatform/generative-ai/blob/main/gemini/prompts/intro_prompt_design.ipynb\" target=\"_blank\">\n",
    "  <img width=\"20px\" src=\"https://redditinc.com/hubfs/Reddit%20Inc/Brand/Reddit_Logo.png\" alt=\"Reddit logo\">\n",
    "</a>\n",
    "<a href=\"https://www.facebook.com/sharer/sharer.php?u=https%3A//github.com/GoogleCloudPlatform/generative-ai/blob/main/gemini/prompts/intro_prompt_design.ipynb\" target=\"_blank\">\n",
    "  <img width=\"20px\" src=\"https://upload.wikimedia.org/wikipedia/commons/5/51/Facebook_f_logo_%282019%29.svg\" alt=\"Facebook logo\">\n",
    "</a>"
   ]
  },
  {
   "cell_type": "markdown",
   "metadata": {
    "id": "84f0f73a0f76"
   },
   "source": [
    "| Authors |\n",
    "| --- |\n",
    "| [Polong Lin](https://github.com/polong-lin) |\n",
    "| [Karl Weinmeister](https://github.com/kweinmeister) |"
   ]
  },
  {
   "cell_type": "markdown",
   "metadata": {
    "id": "tvgnzT1CKxrO"
   },
   "source": [
    "## Overview\n",
    "\n",
    "This notebook covers the essentials of prompt engineering, including some best practices.\n",
    "\n",
    "Learn more about prompt design in the [official documentation](https://cloud.google.com/vertex-ai/docs/generative-ai/text/text-overview).\n",
    "\n",
    "In this notebook, you learn best practices around prompt engineering -- how to design prompts to improve the quality of your responses.\n",
    "\n",
    "This notebook covers the following best practices for prompt engineering:\n",
    "\n",
    "- Be concise\n",
    "- Be specific and well-defined\n",
    "- Ask one task at a time\n",
    "- Turn generative tasks into classification tasks\n",
    "- Improve response quality by including examples"
   ]
  },
  {
   "cell_type": "markdown",
   "metadata": {
    "id": "61RBz8LLbxCR"
   },
   "source": [
    "## Getting Started"
   ]
  },
  {
   "cell_type": "markdown",
   "metadata": {
    "id": "No17Cw5hgx12"
   },
   "source": [
    "### Install Google Gen AI SDK\n"
   ]
  },
  {
   "cell_type": "code",
   "execution_count": 1,
   "metadata": {
    "id": "tFy3H3aPgx12",
    "tags": []
   },
   "outputs": [
    {
     "name": "stdout",
     "output_type": "stream",
     "text": [
      "Note: you may need to restart the kernel to use updated packages.\n"
     ]
    }
   ],
   "source": [
    "%pip install --upgrade --quiet google-genai"
   ]
  },
  {
   "cell_type": "markdown",
   "metadata": {
    "id": "06489bd14f16"
   },
   "source": [
    "### Import libraries\n"
   ]
  },
  {
   "cell_type": "code",
   "execution_count": 1,
   "metadata": {
    "id": "154137022fb6",
    "tags": []
   },
   "outputs": [],
   "source": [
    "from IPython.display import Markdown, display\n",
    "from google import genai\n",
    "from google.genai.types import GenerateContentConfig"
   ]
  },
  {
   "cell_type": "markdown",
   "metadata": {
    "id": "DF4l8DTdWgPY"
   },
   "source": [
    "### Set Google Cloud project information and create client\n",
    "\n",
    "To get started using Vertex AI, you must have an existing Google Cloud project and [enable the Vertex AI API](https://console.cloud.google.com/flows/enableapi?apiid=aiplatform.googleapis.com).\n",
    "\n",
    "Learn more about [setting up a project and a development environment](https://cloud.google.com/vertex-ai/docs/start/cloud-environment)."
   ]
  },
  {
   "cell_type": "code",
   "execution_count": 2,
   "metadata": {
    "id": "Nqwi-5ufWp_B",
    "tags": []
   },
   "outputs": [],
   "source": [
    "import os\n",
    "\n",
    "PROJECT_ID = \"qwiklabs-gcp-03-f2607cb7d766\"  # @param {type: \"string\", placeholder: \"[your-project-id]\", isTemplate: true}\n",
    "if not PROJECT_ID or PROJECT_ID == \"qwiklabs-gcp-03-f2607cb7d766\":\n",
    "    PROJECT_ID = str(os.environ.get(\"GOOGLE_CLOUD_PROJECT\"))\n",
    "\n",
    "LOCATION = \"europe-west4\""
   ]
  },
  {
   "cell_type": "code",
   "execution_count": 3,
   "metadata": {
    "id": "QqRWdPGmW3NJ",
    "tags": []
   },
   "outputs": [],
   "source": [
    "client = genai.Client(vertexai=True, project=PROJECT_ID, location=LOCATION)"
   ]
  },
  {
   "cell_type": "markdown",
   "metadata": {
    "id": "OnFPpCRtXRl4"
   },
   "source": [
    "### Load model\n",
    "\n",
    "Learn more about all [Gemini models on Vertex AI](https://cloud.google.com/vertex-ai/generative-ai/docs/learn/models#gemini-models)."
   ]
  },
  {
   "cell_type": "code",
   "execution_count": 4,
   "metadata": {
    "id": "IQYu_9SvXQah",
    "tags": []
   },
   "outputs": [],
   "source": [
    "MODEL_ID = \"gemini-2.5-flash\"  # @param {type: \"string\"}"
   ]
  },
  {
   "cell_type": "markdown",
   "metadata": {
    "id": "cVOtUNJ5X0PY"
   },
   "source": [
    "## Prompt engineering best practices"
   ]
  },
  {
   "cell_type": "markdown",
   "metadata": {
    "id": "uv_e0fEPX60q"
   },
   "source": [
    "Prompt engineering is all about how to design your prompts so that the response is what you were indeed hoping to see.\n",
    "\n",
    "The idea of using \"unfancy\" prompts is to minimize the noise in your prompt to reduce the possibility of the LLM misinterpreting the intent of the prompt. Below are a few guidelines on how to engineer \"unfancy\" prompts.\n",
    "\n",
    "In this section, you'll cover the following best practices when engineering prompts:\n",
    "\n",
    "* Be concise\n",
    "* Be specific, and well-defined\n",
    "* Ask one task at a time\n",
    "* Improve response quality by including examples\n",
    "* Turn generative tasks to classification tasks to improve safety"
   ]
  },
  {
   "cell_type": "markdown",
   "metadata": {
    "id": "0pY4XX0OX9_Y"
   },
   "source": [
    "### Be concise"
   ]
  },
  {
   "cell_type": "markdown",
   "metadata": {
    "id": "xlRpxyxGYA1K"
   },
   "source": [
    "🛑 Not recommended. The prompt below is unnecessarily verbose."
   ]
  },
  {
   "cell_type": "code",
   "execution_count": 5,
   "metadata": {
    "id": "YKV4G-CfXdbi",
    "tags": []
   },
   "outputs": [
    {
     "data": {
      "text/markdown": [
       "That's a fantastic niche! Dried flowers evoke a sense of timelessness, rustic charm, and enduring beauty. Here are some name ideas, categorized by the vibe they convey:\n",
       "\n",
       "**Focusing on Longevity & Timelessness:**\n",
       "\n",
       "1.  **Everbloom Co.**\n",
       "2.  **The Enduring Petal**\n",
       "3.  **Timeless Tints**\n",
       "4.  **Forever Flora**\n",
       "5.  **A Memory in Bloom**\n",
       "6.  **The Unfading Blossom**\n",
       "7.  **Perennial Petals**\n",
       "8.  **Heirloom & Bloom**\n",
       "9.  **Echoing Blooms**\n",
       "10. **Still Life Blooms**\n",
       "\n",
       "**Evoking Rustic & Natural Charm:**\n",
       "\n",
       "11. **Dust & Blooms** (playful, earthy)\n",
       "12. **Meadow & Moss**\n",
       "13. **Sun-Kissed Stems**\n",
       "14. **The Dried Garden**\n",
       "15. **Wild Bloom Preserve**\n",
       "16. **Rust & Bloom** (implies earthy tones, rustic)\n",
       "17. **Earth & Stem**\n",
       "18. **The Curated Crop**\n",
       "19. **Botanical Keepsakes**\n",
       "20. **Root & Bloom**\n",
       "\n",
       "**Highlighting Craft & Artistry (Atelier/Studio feel):**\n",
       "\n",
       "21. **The Preserved Posy**\n",
       "22. **Atelier Botanica (Dried)**\n",
       "23. **The Floral Archive**\n",
       "24. **Petal & Press Studio**\n",
       "25. **The Dried Bouquet Co.**\n",
       "26. **Curated & Dried**\n",
       "27. **Bloom & Twine**\n",
       "28. **The Gathered Bloom**\n",
       "29. **The Artisan Bloom**\n",
       "30. **Dried Floral Artistry**\n",
       "\n",
       "**Whimsical & Charming:**\n",
       "\n",
       "31. **The Curious Bloom**\n",
       "32. **Whispering Wildflowers**\n",
       "33. **Fairy Dust Florals** (if your style leans whimsical)\n",
       "34. **Bloom & Bone** (if you want something a bit more edgy/natural)\n",
       "35. **The Little Dried Flower Shop**\n",
       "\n",
       "**Tips for Choosing:**\n",
       "\n",
       "*   **Say it out loud:** Does it roll off the tongue?\n",
       "*   **Check for availability:** Is the name (and domain name) available?\n",
       "*   **Reflects your brand:** Does it match the aesthetic and feeling you want your shop to convey?\n",
       "*   **Memorability:** Is it easy to remember and spell?\n",
       "\n",
       "Good luck with your new venture!"
      ],
      "text/plain": [
       "<IPython.core.display.Markdown object>"
      ]
     },
     "metadata": {},
     "output_type": "display_data"
    }
   ],
   "source": [
    "prompt = \"What do you think could be a good name for a flower shop that specializes in selling bouquets of dried flowers more than fresh flowers?\"\n",
    "\n",
    "response = client.models.generate_content(model=MODEL_ID, contents=prompt)\n",
    "display(Markdown(response.text))"
   ]
  },
  {
   "cell_type": "markdown",
   "metadata": {
    "id": "YrJexRHJYnmC"
   },
   "source": [
    "✅ Recommended. The prompt below is to the point and concise."
   ]
  },
  {
   "cell_type": "code",
   "execution_count": 6,
   "metadata": {
    "id": "VHetn9lCYrXB",
    "tags": []
   },
   "outputs": [
    {
     "data": {
      "text/markdown": [
       "Here are some name suggestions for a flower shop specializing in dried flower bouquets, categorized by their vibe:\n",
       "\n",
       "**Evoking Longevity & Timelessness:**\n",
       "\n",
       "1.  **Everlasting Blooms:** Simple, clear, and highlights the main benefit.\n",
       "2.  **The Enduring Bloom:** Suggests lasting beauty.\n",
       "3.  **Timeless Petals:** Elegant and classic.\n",
       "4.  **Forever Flora:** Short, sweet, and memorable.\n",
       "5.  **Perennial Petals:** \"Perennial\" implies long-lasting, recurring beauty.\n",
       "6.  **The Lasting Bloom:** Direct and warm.\n",
       "7.  **Legacy Petals:** Suggests heirloom quality and sentimental value.\n",
       "\n",
       "**Highlighting Natural Beauty & Preservation:**\n",
       "\n",
       "8.  **The Botanical Preserve:** Sounds sophisticated and emphasizes conservation.\n",
       "9.  **Curated Blooms (Dried):** Implies artistry and selection.\n",
       "10. **Heirloom Botanicals:** Conveys a sense of cherished, vintage beauty.\n",
       "11. **Arbor & Bloom:** \"Arbor\" suggests a natural, established setting.\n",
       "12. **Sun-Kissed Petals:** Evokes the natural drying process.\n",
       "13. **Wild Bloom Preserves:** Suggests untamed beauty, perfectly preserved.\n",
       "\n",
       "**Whimsical & Poetic:**\n",
       "\n",
       "14. **Whispering Petals:** Gentle, ethereal, and romantic.\n",
       "15. **Dusty Bloom Co.:** A charming, rustic, and slightly vintage feel.\n",
       "16. **Amber Bloom:** \"Amber\" suggests warmth, preservation, and a golden glow.\n",
       "17. **The Dried Daisy:** Simple, sweet, and familiar.\n",
       "18. **Bloom & Bramble:** Conveys natural, slightly wild beauty.\n",
       "19. **Petal Postscript:** Like an enduring message or beautiful afterthought.\n",
       "\n",
       "**Modern & Chic:**\n",
       "\n",
       "20. **Bloom & Dry:** Concise, modern, and descriptive.\n",
       "21. **The Dried Edit:** Implies a curated collection.\n",
       "22. **Petal Archive:** Suggests a collection of preserved beauty.\n",
       "23. **Preserved Collective:** Modern and community-oriented.\n",
       "24. **Dried + True:** A playful twist on \"tried and true.\"\n",
       "\n",
       "**Tips for Choosing:**\n",
       "\n",
       "*   **Check Availability:** See if the name is available as a domain name (.com), social media handle, and business registration in your area.\n",
       "*   **Say It Aloud:** Does it roll off the tongue? Is it easy to pronounce and remember?\n",
       "*   **Reflect Your Brand:** Does the name evoke the specific aesthetic and feeling you want your shop to convey?\n",
       "*   **Target Audience:** Who are you trying to attract? A name that appeals to a younger, trendier crowd might differ from one targeting a more traditional clientele.\n",
       "\n",
       "Good luck with your flower shop!"
      ],
      "text/plain": [
       "<IPython.core.display.Markdown object>"
      ]
     },
     "metadata": {},
     "output_type": "display_data"
    }
   ],
   "source": [
    "prompt = \"Suggest a name for a flower shop that sells bouquets of dried flowers\"\n",
    "\n",
    "response = client.models.generate_content(model=MODEL_ID, contents=prompt)\n",
    "display(Markdown(response.text))"
   ]
  },
  {
   "cell_type": "markdown",
   "metadata": {
    "id": "eXTAvdOHY0OC"
   },
   "source": [
    "### Be specific, and well-defined"
   ]
  },
  {
   "cell_type": "markdown",
   "metadata": {
    "id": "FTH4GEIgY1dp"
   },
   "source": [
    "Suppose that you want to brainstorm creative ways to describe Earth."
   ]
  },
  {
   "cell_type": "markdown",
   "metadata": {
    "id": "o5BmXBiGY4KC"
   },
   "source": [
    "🛑 The prompt below might be a bit too generic (which is certainly OK if you'd like to ask a generic question!)"
   ]
  },
  {
   "cell_type": "code",
   "execution_count": 7,
   "metadata": {
    "id": "eHBaMvv7Y6mR",
    "tags": []
   },
   "outputs": [
    {
     "data": {
      "text/markdown": [
       "Earth, our home, is a truly remarkable and unique planet in the vast expanse of the cosmos. It's the **third planet from the Sun** and the **only known astronomical object to harbor life.**\n",
       "\n",
       "Here's a breakdown of what makes Earth so special:\n",
       "\n",
       "1.  **A Terrestrial Planet:**\n",
       "    *   **Composition:** Earth is a rocky, terrestrial planet, meaning it's primarily composed of silicate rocks and metals.\n",
       "    *   **Size:** It's the fifth-largest planet in our solar system by diameter.\n",
       "    *   **Shape:** While often depicted as a perfect sphere, Earth is actually an **oblate spheroid** – slightly flattened at the poles and bulging at the equator due to its rotation.\n",
       "\n",
       "2.  **Internal Structure:**\n",
       "    *   Earth has a layered structure:\n",
       "        *   **Crust:** The thin, outermost layer we live on, varying in thickness.\n",
       "        *   **Mantle:** A thick, semi-solid layer beneath the crust, where convection currents drive plate tectonics.\n",
       "        *   **Outer Core:** A liquid layer of iron and nickel, responsible for generating Earth's magnetic field.\n",
       "        *   **Inner Core:** A solid sphere of iron and nickel at the very center, under immense pressure and heat.\n",
       "\n",
       "3.  **Dynamic Surface and Plate Tectonics:**\n",
       "    *   Earth's crust is broken into several large pieces called **tectonic plates**. These plates are constantly moving, albeit slowly, driven by the convection currents in the mantle.\n",
       "    *   This movement causes:\n",
       "        *   **Earthquakes:** When plates slide past each other.\n",
       "        *   **Volcanoes:** Where magma rises to the surface at plate boundaries.\n",
       "        *   **Mountain ranges:** When plates collide and crumple.\n",
       "        *   **Oceanic trenches:** Where one plate slides beneath another (subduction).\n",
       "    *   This geological activity continuously reshapes Earth's surface.\n",
       "\n",
       "4.  **The Hydrosphere (Water Planet):**\n",
       "    *   Approximately **71% of Earth's surface is covered by water**, earning it the nickname \"the Blue Planet.\"\n",
       "    *   **Oceans:** The vast majority of this water is saltwater found in oceans (Pacific, Atlantic, Indian, Southern, Arctic).\n",
       "    *   **Freshwater:** A small percentage is freshwater, found in glaciers, ice caps, lakes, rivers, and groundwater.\n",
       "    *   **Water Cycle:** Earth's water is constantly moving through a cycle of evaporation, condensation, precipitation, and runoff, crucial for life and climate regulation.\n",
       "\n",
       "5.  **The Atmosphere:**\n",
       "    *   A protective blanket of gases surrounding the planet, held in place by gravity.\n",
       "    *   **Composition:** Primarily **Nitrogen (78%)** and **Oxygen (21%)**, with trace amounts of Argon, Carbon Dioxide, and other gases.\n",
       "    *   **Layers:** Divided into several layers: Troposphere (where weather occurs), Stratosphere (contains the ozone layer, protecting from harmful UV radiation), Mesosphere, Thermosphere, and Exosphere.\n",
       "    *   **Function:** Regulates temperature, creates weather patterns, burns up most incoming meteors, and shields life from solar radiation.\n",
       "\n",
       "6.  **Orbit and Rotation:**\n",
       "    *   **Orbit:** Earth orbits the Sun in an elliptical path, completing one revolution in approximately **365.25 days**, defining a year.\n",
       "    *   **Axial Tilt:** Earth is tilted on its axis at about **23.5 degrees**. This tilt is responsible for the **seasons** we experience, as different parts of the planet receive more direct sunlight at different times of the year.\n",
       "    *   **Rotation:** Earth rotates on its axis once every **24 hours**, creating **day and night**.\n",
       "\n",
       "7.  **The Moon:**\n",
       "    *   Earth's only natural satellite.\n",
       "    *   Plays a vital role in stabilizing Earth's axial tilt, which helps maintain a relatively stable climate over long periods.\n",
       "    *   Its gravitational pull is the primary cause of Earth's **tides**.\n",
       "\n",
       "8.  **The Biosphere (Life):**\n",
       "    *   This is arguably Earth's most defining characteristic. It's the only place we know of where life exists.\n",
       "    *   **Biodiversity:** Earth teems with an incredible diversity of life forms, from microscopic organisms to massive whales, adapted to every environment imaginable.\n",
       "    *   **Ecosystems:** Life is organized into complex ecosystems, where organisms interact with each other and their environment, forming intricate food webs and nutrient cycles.\n",
       "    *   The presence of liquid water, a stable atmosphere, a magnetic field (protecting from solar wind), and a suitable temperature range are all crucial factors enabling life to flourish.\n",
       "\n",
       "9.  **Human Impact:**\n",
       "    *   With a population of over 8 billion, humans have become the dominant species, significantly impacting the planet.\n",
       "    *   **Resource Use:** We rely heavily on Earth's natural resources (water, minerals, fossil fuels).\n",
       "    *   **Environmental Challenges:** Our activities have led to significant environmental issues, including climate change (global warming), pollution, deforestation, and biodiversity loss.\n",
       "    *   **Stewardship:** There's a growing global awareness of the need for sustainable practices to protect Earth for future generations.\n",
       "\n",
       "In essence, Earth is a complex, interconnected system of geological, atmospheric, oceanic, and biological processes that have evolved over billions of years to create the vibrant, living world we inhabit. It truly is a \"pale blue dot\" of unparalleled beauty and significance in the vastness of space."
      ],
      "text/plain": [
       "<IPython.core.display.Markdown object>"
      ]
     },
     "metadata": {},
     "output_type": "display_data"
    }
   ],
   "source": [
    "prompt = \"Tell me about Earth\"\n",
    "\n",
    "response = client.models.generate_content(model=MODEL_ID, contents=prompt)\n",
    "display(Markdown(response.text))"
   ]
  },
  {
   "cell_type": "markdown",
   "metadata": {
    "id": "4iyvEbteZnFL"
   },
   "source": [
    "✅ Recommended. The prompt below is specific and well-defined."
   ]
  },
  {
   "cell_type": "code",
   "execution_count": 8,
   "metadata": {
    "id": "JQ80z8urZnne",
    "tags": []
   },
   "outputs": [
    {
     "data": {
      "text/markdown": [
       "Earth possesses a remarkable combination of characteristics that, as far as we currently know, make it truly unique among the planets discovered so far, especially within our own solar system.\n",
       "\n",
       "Here's a list of ways Earth stands out:\n",
       "\n",
       "1.  **Abundance of Surface Liquid Water:** While water ice is common in the solar system, Earth is the only planet with vast oceans of *liquid* water on its surface. This is fundamental for life as we know it, acting as a solvent, temperature regulator, and medium for chemical reactions.\n",
       "\n",
       "2.  **Presence of Complex and Diverse Life:** Earth is the only planet confirmed to host life – not just simple microbial life, but an astonishing diversity of complex, multicellular organisms, including intelligent life. This \"biosphere\" actively shapes the planet's geology and atmosphere.\n",
       "\n",
       "3.  **Oxygen-Rich Atmosphere:** Unlike any other planet in our solar system, Earth's atmosphere is rich in free molecular oxygen (about 21%). This high oxygen content is a direct result of billions of years of photosynthesis by living organisms (plants, algae, cyanobacteria), making it a bio-generated atmosphere.\n",
       "\n",
       "4.  **Active Plate Tectonics:** Earth is the only planet known to have active plate tectonics, where its outer crust is broken into large plates that constantly move, collide, and slide under one another. This process drives volcanism, earthquakes, mountain building, and is crucial for regulating the planet's temperature and carbon cycle over geological timescales.\n",
       "\n",
       "5.  **Strong and Stable Magnetic Field (Magnetosphere):** Earth has a powerful global magnetic field generated by its liquid outer core. This magnetosphere acts as a shield, deflecting harmful charged particles from the solar wind and cosmic rays, preventing atmospheric stripping, and protecting surface life. While other planets have magnetic fields, Earth's is particularly strong and stable over long periods.\n",
       "\n",
       "6.  **Large, Stabilizing Moon:** Earth has an unusually large moon relative to its size. The Moon plays a critical role in stabilizing Earth's axial tilt, preventing dramatic wobbles that could lead to extreme climate variations. It also generates tides, which may have been important for the early evolution of life.\n",
       "\n",
       "7.  **\"Goldilocks\" Position in the Habitable Zone:** Earth orbits the Sun at just the right distance (\"not too hot, not too cold\") for liquid water to exist on its surface. This \"habitable zone\" (or Goldilocks zone) is crucial, but Earth combines this with all the other factors.\n",
       "\n",
       "8.  **Existence of an Ozone Layer:** Within its atmosphere, Earth has a protective ozone layer (O3) in the stratosphere. This layer absorbs most of the Sun's harmful ultraviolet (UV) radiation, making it safe for life to exist on the surface. The ozone layer is a direct consequence of the oxygen-rich atmosphere, which is itself a product of life.\n",
       "\n",
       "9.  **Self-Regulating Systems (Gaia Hypothesis):** The intricate interplay between Earth's geology, atmosphere, oceans, and life forms creates complex feedback loops that maintain relatively stable conditions favorable for life over geological timescales. This concept is sometimes referred to as the Gaia Hypothesis.\n",
       "\n",
       "While scientists are constantly discovering new exoplanets, and some may share one or two of these characteristics, the *combination* and *synergy* of all these factors make Earth a truly exceptional and, so far, unique cosmic oasis."
      ],
      "text/plain": [
       "<IPython.core.display.Markdown object>"
      ]
     },
     "metadata": {},
     "output_type": "display_data"
    }
   ],
   "source": [
    "prompt = \"Generate a list of ways that makes Earth unique compared to other planets\"\n",
    "\n",
    "response = client.models.generate_content(model=MODEL_ID, contents=prompt)\n",
    "display(Markdown(response.text))"
   ]
  },
  {
   "cell_type": "markdown",
   "metadata": {
    "id": "R5kmfZYHZsJ7"
   },
   "source": [
    "### Ask one task at a time"
   ]
  },
  {
   "cell_type": "markdown",
   "metadata": {
    "id": "rsAezxeYZuUN"
   },
   "source": [
    "🛑 Not recommended. The prompt below has two parts to the question that could be asked separately."
   ]
  },
  {
   "cell_type": "code",
   "execution_count": 9,
   "metadata": {
    "id": "ElywPXpuZtWf",
    "tags": []
   },
   "outputs": [
    {
     "data": {
      "text/markdown": [
       "Let's break down these two very different, but equally interesting, questions!\n",
       "\n",
       "---\n",
       "\n",
       "## What's the Best Method of Boiling Water?\n",
       "\n",
       "The \"best\" method depends on your priorities: speed, energy efficiency, convenience, or volume.\n",
       "\n",
       "**Generally, for most household uses (1-2 liters), the best method is an: Electric Kettle**\n",
       "\n",
       "**Why it's often the best:**\n",
       "\n",
       "1.  **Speed:** Electric kettles are incredibly fast, especially compared to stovetop methods for similar volumes. They typically heat water directly via a submerged element.\n",
       "2.  **Energy Efficiency:** They are highly efficient because the heating element is immersed directly in the water, minimizing heat loss to the surrounding air or cookware. Stovetop methods, especially gas, lose a significant amount of heat to the air around the pot.\n",
       "3.  **Convenience & Safety:** Most electric kettles have an automatic shut-off feature once the water reaches boiling point, preventing over-boiling and potential hazards. This also means you don't need to monitor it constantly.\n",
       "4.  **Portability:** You can use them anywhere with an electrical outlet.\n",
       "\n",
       "**Other Methods & When They Are Best:**\n",
       "\n",
       "*   **Stovetop Pot/Kettle (Electric or Gas):**\n",
       "    *   **Best For:** Large volumes of water (e.g., boiling pasta, canning), or if you don't have an electric kettle.\n",
       "    *   **Pros:** Versatile (use any size pot), no specialized appliance needed beyond a burner.\n",
       "    *   **Cons:** Slower than an electric kettle for small volumes, less energy-efficient due to heat loss to the air, requires monitoring to prevent boiling dry or overflowing.\n",
       "*   **Microwave Oven:**\n",
       "    *   **Best For:** Very small volumes (e.g., a single mug of water for tea), extreme convenience if no other option.\n",
       "    *   **Pros:** Quick for tiny amounts, no additional equipment needed beyond a microwave-safe mug.\n",
       "    *   **Cons:** Not energy-efficient for boiling, slow for larger amounts, can lead to \"superheated\" water (water that heats above its boiling point without actually bubbling) which can suddenly and explosively boil when disturbed – making it potentially dangerous. Uneven heating.\n",
       "\n",
       "**Summary for Boiling Water:**\n",
       "\n",
       "For everyday use in a home kitchen, an **electric kettle** is generally the superior choice due to its speed, energy efficiency, and safety features.\n",
       "\n",
       "---\n",
       "\n",
       "## Why Is the Sky Blue?\n",
       "\n",
       "The blue color of the sky is primarily due to a phenomenon called **Rayleigh Scattering**.\n",
       "\n",
       "Here's a breakdown:\n",
       "\n",
       "1.  **Sunlight is White Light:** Sunlight, which appears white to us, is actually composed of all the colors of the rainbow (red, orange, yellow, green, blue, indigo, violet). Each color has a different wavelength – red light has the longest wavelength, and violet light has the shortest.\n",
       "\n",
       "2.  **Earth's Atmosphere:** Our atmosphere is made up of tiny molecules, primarily nitrogen (about 78%) and oxygen (about 21%), along with other trace gases and particles.\n",
       "\n",
       "3.  **Rayleigh Scattering:** When sunlight enters the Earth's atmosphere, it interacts with these tiny gas molecules.\n",
       "    *   **Scattering of Light:** Light is \"scattered\" when it bounces off particles.\n",
       "    *   **Wavelength Dependence:** Rayleigh scattering states that the amount of scattering is inversely proportional to the fourth power of the wavelength of light (1/λ⁴). This means **shorter wavelengths of light (like blue and violet) are scattered much more effectively than longer wavelengths (like red and yellow).**\n",
       "\n",
       "4.  **Why Blue Dominates:**\n",
       "    *   As sunlight passes through the atmosphere, the tiny nitrogen and oxygen molecules scatter the blue and violet light in all directions, much more so than the other colors.\n",
       "    *   This scattered blue light reaches our eyes from all parts of the sky, making it appear blue.\n",
       "\n",
       "5.  **Why Not Violet (Since it's Scattered Even More)?**\n",
       "    *   While violet light is scattered *more* than blue light, there are a few reasons why we perceive the sky as blue rather than violet:\n",
       "        *   **Sun's Emission:** The sun emits slightly less violet light than blue light.\n",
       "        *   **Our Eyes' Sensitivity:** Human eyes are more sensitive to blue light than to violet light.\n",
       "        *   **Atmospheric Absorption:** Some of the violet light is absorbed higher in the atmosphere.\n",
       "    *   The combination of these factors results in our perception of a beautiful blue sky.\n",
       "\n",
       "**Related Phenomena:**\n",
       "\n",
       "*   **Sunrises and Sunsets:** When the sun is low on the horizon (sunrise or sunset), its light has to travel through much more of the atmosphere to reach our eyes. By the time it reaches us, most of the blue and violet light has been scattered away, leaving primarily the longer-wavelength colors like red, orange, and yellow to be seen.\n",
       "*   **Clouds:** Clouds appear white or gray because they are made of larger water droplets or ice crystals, which scatter *all* wavelengths of light relatively equally (a process called Mie scattering), resulting in a white appearance. If the clouds are very thick, less light gets through, making them appear gray.\n",
       "*   **Space is Black:** In space, there's no atmosphere or particles to scatter sunlight, which is why astronauts see a black sky even when the sun is shining brightly."
      ],
      "text/plain": [
       "<IPython.core.display.Markdown object>"
      ]
     },
     "metadata": {},
     "output_type": "display_data"
    }
   ],
   "source": [
    "prompt = \"What's the best method of boiling water and why is the sky blue?\"\n",
    "\n",
    "response = client.models.generate_content(model=MODEL_ID, contents=prompt)\n",
    "display(Markdown(response.text))"
   ]
  },
  {
   "cell_type": "markdown",
   "metadata": {
    "id": "ejzahazBZ8vk"
   },
   "source": [
    "✅ Recommended. The prompts below asks one task a time."
   ]
  },
  {
   "cell_type": "code",
   "execution_count": 10,
   "metadata": {
    "id": "C5ckp2F0Z_Ba",
    "tags": []
   },
   "outputs": [
    {
     "data": {
      "text/markdown": [
       "The \"best\" method for boiling water really depends on your priorities: **speed, energy efficiency, convenience, and location.**\n",
       "\n",
       "Here's a breakdown of the most common methods and their pros/cons:\n",
       "\n",
       "---\n",
       "\n",
       "### 1. Electric Kettle (Overall Best for Home Use)\n",
       "\n",
       "*   **Pros:**\n",
       "    *   **Speed:** Extremely fast, especially for 1-2 liters. Often faster than a stovetop burner for common quantities.\n",
       "    *   **Energy Efficiency:** Very efficient. The heating element is directly in contact with the water, and most kettles are well-insulated, minimizing heat loss. Many have automatic shut-off when boiling, preventing wasted energy.\n",
       "    *   **Convenience:** Simple to use, cordless designs allow pouring without unplugging, and automatic shut-off means you don't have to monitor it.\n",
       "    *   **Safety:** Most have boil-dry protection and automatic shut-off.\n",
       "\n",
       "*   **Cons:**\n",
       "    *   Requires a power outlet.\n",
       "    *   Limited capacity (usually 1-2 liters).\n",
       "    *   Initial purchase cost.\n",
       "\n",
       "*   **Best for:** Daily use, making tea/coffee, instant noodles, or any small to medium quantity of boiling water.\n",
       "\n",
       "---\n",
       "\n",
       "### 2. Stovetop Pot (Great All-Rounder, Especially for Larger Quantities)\n",
       "\n",
       "*   **Pros:**\n",
       "    *   **Versatility:** Can boil any quantity of water in any size pot.\n",
       "    *   **No Special Appliance:** Uses existing kitchen equipment.\n",
       "    *   **Works with various heat sources:** Gas, electric coil, glass top, induction.\n",
       "\n",
       "*   **Cons:**\n",
       "    *   **Energy Efficiency:** Generally less efficient than an electric kettle, as heat can escape to the surrounding air.\n",
       "    *   **Speed:** Can be slower than an electric kettle for small quantities.\n",
       "    *   Requires monitoring to prevent boil-overs.\n",
       "\n",
       "*   **Types of Stovetops:**\n",
       "    *   **Induction Cooktop:** **Very fast and efficient** because it directly heats the pot through magnetic fields. Often rivals or surpasses electric kettles for speed.\n",
       "    *   **Gas Cooktop:** Fast and offers good control over heat.\n",
       "    *   **Electric Coil/Glass Top:** Can be slower and less efficient due to radiant heat transfer.\n",
       "\n",
       "*   **Best for:** Boiling large quantities of water (e.g., for pasta), when an electric kettle isn't available, or for specific cooking needs.\n",
       "\n",
       "---\n",
       "\n",
       "### 3. Microwave (Least Recommended for Boiling Water)\n",
       "\n",
       "*   **Pros:**\n",
       "    *   Convenient for a single mug of water.\n",
       "    *   No extra dishes needed if boiling in your mug.\n",
       "\n",
       "*   **Cons:**\n",
       "    *   **Energy Inefficient:** Not designed for boiling water; it heats through molecular friction, which isn't optimal for bulk water.\n",
       "    *   **Safety Risk (Superheating):** Water can become \"superheated\" in a microwave (heated above its boiling point without actually boiling). When disturbed (e.g., adding a tea bag), it can violently erupt, causing severe burns.\n",
       "    *   No \"rolling boil.\"\n",
       "    *   Slow for larger quantities.\n",
       "\n",
       "*   **Best for:** **Generally not recommended** for boiling water due to safety concerns and inefficiency. If you must, place a non-metallic object (like a wooden spoon or ceramic stirrer) in the cup to provide nucleation sites for bubbles to form safely.\n",
       "\n",
       "---\n",
       "\n",
       "### 4. Immersion Heater (Portable, But Use with Caution)\n",
       "\n",
       "*   **Pros:**\n",
       "    *   Highly portable and compact.\n",
       "    *   Can heat water directly in a mug or small container.\n",
       "\n",
       "*   **Cons:**\n",
       "    *   **Safety Risk:** Can be dangerous if used improperly (e.g., touching the element, short-circuiting, fire risk). Requires constant supervision.\n",
       "    *   No automatic shut-off.\n",
       "    *   Not as common for general home use.\n",
       "\n",
       "*   **Best for:** Travel, camping, or situations where a traditional power source or kettle isn't available and you need a small amount of hot water. Use with extreme caution.\n",
       "\n",
       "---\n",
       "\n",
       "### 5. Outdoor Methods (Camping Stove, Campfire, Solar Kettle)\n",
       "\n",
       "*   **Pros:**\n",
       "    *   Essential for off-grid or outdoor situations.\n",
       "    *   Can boil large quantities.\n",
       "\n",
       "*   **Cons:**\n",
       "    *   Slower than indoor methods.\n",
       "    *   Requires specific fuel (gas, wood) or sunlight.\n",
       "    *   Not suitable for indoor use (campfire) or quick daily needs.\n",
       "\n",
       "*   **Best for:** Camping, emergencies, or survival situations.\n",
       "\n",
       "---\n",
       "\n",
       "### General Tips for Efficient Boiling:\n",
       "\n",
       "1.  **Use a Lid:** Always cover the pot/kettle when boiling water on a stovetop. This traps heat, reduces evaporation, and significantly speeds up boiling time while saving energy.\n",
       "2.  **Only Boil What You Need:** Don't fill the kettle or pot more than necessary. Boiling excess water wastes energy.\n",
       "3.  **Start with Cold Water:** Use fresh, cold water from the tap. Hot tap water can contain impurities from your water heater or pipes.\n",
       "4.  **Descale Your Kettle:** If you live in an area with hard water, limescale buildup in an electric kettle can reduce its efficiency. Descale it regularly with vinegar or a commercial descaler.\n",
       "5.  **Consider Altitude:** At higher altitudes, water boils at a lower temperature. While it will still kill most pathogens, food cooking times may need adjustment.\n",
       "\n",
       "---\n",
       "\n",
       "**In summary:**\n",
       "\n",
       "*   For **speed and energy efficiency** for typical home use (tea, coffee, instant foods): **Electric Kettle**.\n",
       "*   For **large quantities** or if you have an **induction stovetop**: **Stovetop Pot (with a lid!)**.\n",
       "*   **Avoid the microwave** for boiling water unless absolutely necessary and with extreme caution."
      ],
      "text/plain": [
       "<IPython.core.display.Markdown object>"
      ]
     },
     "metadata": {},
     "output_type": "display_data"
    }
   ],
   "source": [
    "prompt = \"What's the best method of boiling water?\"\n",
    "\n",
    "response = client.models.generate_content(model=MODEL_ID, contents=prompt)\n",
    "display(Markdown(response.text))"
   ]
  },
  {
   "cell_type": "code",
   "execution_count": 11,
   "metadata": {
    "id": "KwUzhud4aA89",
    "tags": []
   },
   "outputs": [
    {
     "data": {
      "text/markdown": [
       "The sky appears blue due to a phenomenon called **Rayleigh scattering**, which describes how sunlight interacts with the Earth's atmosphere. Here's a breakdown:\n",
       "\n",
       "1.  **Sunlight is White Light (All Colors):** Sunlight, which appears white to us, is actually made up of all the colors of the rainbow. We see these colors when light is separated, like in a prism or a rainbow. Each color has a different **wavelength** – red has the longest wavelength, and violet/blue have the shortest.\n",
       "\n",
       "2.  **The Earth's Atmosphere:** The Earth's atmosphere is composed of tiny gas molecules (mostly nitrogen and oxygen) and small particles.\n",
       "\n",
       "3.  **Scattering:** When sunlight enters the atmosphere, it collides with these tiny molecules and particles. This causes the light to be **scattered** in all directions.\n",
       "\n",
       "4.  **Rayleigh Scattering & Wavelengths:** Here's the crucial part: **Rayleigh scattering is much more effective at scattering shorter wavelengths of light than longer ones.**\n",
       "    *   This means blue and violet light (which have the shortest wavelengths) are scattered *much more* than red, orange, or yellow light.\n",
       "\n",
       "5.  **Why Blue, Not Violet?**\n",
       "    *   While violet light is scattered even *more* than blue, our eyes are more sensitive to blue light.\n",
       "    *   Also, sunlight isn't perfectly balanced across all colors; it contains slightly less violet light than blue.\n",
       "    *   So, we perceive the overall scattered light as blue.\n",
       "\n",
       "6.  **Why the Sky is Blue During the Day:** When the sun is high in the sky, blue light is scattered all over the atmosphere, reaching our eyes from all directions. This makes the sky appear blue to us. The other colors (red, orange, yellow) tend to travel more directly from the sun to our eyes, so they make the sun appear yellow/white.\n",
       "\n",
       "**What About Sunrises and Sunsets?**\n",
       "\n",
       "At sunrise or sunset, the sun's light has to travel through *much more* of the atmosphere to reach our eyes. By the time it reaches us, most of the blue and violet light has been scattered *away* from our direct line of sight. This leaves primarily the longer-wavelength colors – red, orange, and yellow – to reach our eyes, which is why the sky looks red or orange around the setting or rising sun.\n",
       "\n",
       "In essence, the sky is blue because the Earth's atmosphere preferentially scatters blue light from the sun in all directions, creating the blue canopy we see."
      ],
      "text/plain": [
       "<IPython.core.display.Markdown object>"
      ]
     },
     "metadata": {},
     "output_type": "display_data"
    }
   ],
   "source": [
    "prompt = \"Why is the sky blue?\"\n",
    "\n",
    "response = client.models.generate_content(model=MODEL_ID, contents=prompt)\n",
    "display(Markdown(response.text))"
   ]
  },
  {
   "cell_type": "markdown",
   "metadata": {
    "id": "PJIL2RTQaGcT"
   },
   "source": [
    "### Watch out for hallucinations"
   ]
  },
  {
   "cell_type": "markdown",
   "metadata": {
    "id": "8Y8kYxrSaHE9"
   },
   "source": [
    "Although LLMs have been trained on a large amount of data, they can generate text containing statements not grounded in truth or reality; these responses from the LLM are often referred to as \"hallucinations\" due to their limited memorization capabilities. Note that simply prompting the LLM to provide a citation isn't a fix to this problem, as there are instances of LLMs providing false or inaccurate citations. Dealing with hallucinations is a fundamental challenge of LLMs and an ongoing research area, so it is important to be cognizant that LLMs may seem to give you confident, correct-sounding statements that are in fact incorrect.\n",
    "\n",
    "Note that if you intend to use LLMs for the creative use cases, hallucinating could actually be quite useful."
   ]
  },
  {
   "cell_type": "markdown",
   "metadata": {
    "id": "8NY5nAGeaJYS"
   },
   "source": [
    "Try the prompt like the one below repeatedly. We set the temperature to `1.0` so that it takes more risks in its choices. It's possible that it may provide an inaccurate, but confident answer."
   ]
  },
  {
   "cell_type": "code",
   "execution_count": 12,
   "metadata": {
    "id": "QALPjEILaM62",
    "tags": []
   },
   "outputs": [
    {
     "data": {
      "text/markdown": [
       "As an AI, I don't have a \"current\" date in the same way a human does, as my internal clock isn't tied to real-world time.\n",
       "\n",
       "To find out what day it is today, you can check your device's clock or a reliable online source!"
      ],
      "text/plain": [
       "<IPython.core.display.Markdown object>"
      ]
     },
     "metadata": {},
     "output_type": "display_data"
    }
   ],
   "source": [
    "generation_config = GenerateContentConfig(temperature=1.0)\n",
    "\n",
    "prompt = \"What day is it today?\"\n",
    "\n",
    "response = client.models.generate_content(model=MODEL_ID, contents=prompt)\n",
    "display(Markdown(response.text))"
   ]
  },
  {
   "cell_type": "markdown",
   "metadata": {
    "id": "BRkwzbgRbhKt"
   },
   "source": [
    "Since LLMs do not have access to real-time information without further integrations, you may have noticed it hallucinates what day it is today in some of the outputs."
   ]
  },
  {
   "cell_type": "markdown",
   "metadata": {
    "id": "3c811e310d02"
   },
   "source": [
    "### Using system instructions to guardrail the model from irrelevant responses\n",
    "\n",
    "How can we attempt to reduce the chances of irrelevant responses and hallucinations?\n",
    "\n",
    "One way is to provide the LLM with [system instructions](https://cloud.google.com/vertex-ai/generative-ai/docs/learn/prompts/system-instruction-introduction).\n",
    "\n",
    "Let's see how system instructions works and how you can use them to reduce hallucinations or irrelevant questions for a travel chatbot.\n",
    "\n",
    "Suppose we ask a simple question about one of Italy's most famous tourist spots."
   ]
  },
  {
   "cell_type": "code",
   "execution_count": 13,
   "metadata": {
    "id": "rB6zJU76biFK",
    "tags": []
   },
   "outputs": [
    {
     "data": {
      "text/markdown": [
       "That's a great question for a traveler! Milan offers many incredible sights, but for sightseeing, the **Duomo di Milano (Milan Cathedral)** is truly the iconic centerpiece and often considered the best place to start.\n",
       "\n",
       "Here's why:\n",
       "*   **Architectural Marvel:** It's one of the largest and most intricate Gothic cathedrals in the world, with stunning spires, statues, and stained glass.\n",
       "*   **Panoramic Views:** You can take an elevator or stairs up to the Duomo Terraces for breathtaking panoramic views of Milan and on a clear day, even the Alps.\n",
       "*   **Central Location:** It's located right in the heart of the city, making it easy to combine with other activities like visiting the Galleria Vittorio Emanuele II (an elegant shopping arcade) or exploring the nearby fashion district.\n",
       "\n",
       "While there are many other wonderful places to see in Milan, the Duomo is an absolute must-see for anyone interested in sightseeing."
      ],
      "text/plain": [
       "<IPython.core.display.Markdown object>"
      ]
     },
     "metadata": {},
     "output_type": "display_data"
    }
   ],
   "source": [
    "generation_config = GenerateContentConfig(temperature=1.0)\n",
    "\n",
    "chat = client.chats.create(\n",
    "    model=MODEL_ID,\n",
    "    config=GenerateContentConfig(\n",
    "        system_instruction=[\n",
    "            \"Hello! You are an AI chatbot for a travel web site.\",\n",
    "            \"Your mission is to provide helpful queries for travelers.\",\n",
    "            \"Remember that before you answer a question, you must check to see if it complies with your mission.\",\n",
    "            \"If not, you can say, Sorry I can't answer that question.\",\n",
    "        ]\n",
    "    ),\n",
    ")\n",
    "\n",
    "prompt = \"What is the best place for sightseeing in Milan, Italy?\"\n",
    "\n",
    "response = chat.send_message(prompt)\n",
    "display(Markdown(response.text))"
   ]
  },
  {
   "cell_type": "markdown",
   "metadata": {
    "id": "WZa-Qcf9cF4A"
   },
   "source": [
    "Now let us pretend to be a user asks the chatbot a question that is unrelated to travel."
   ]
  },
  {
   "cell_type": "code",
   "execution_count": 14,
   "metadata": {
    "id": "AZKBIDr2cGnu",
    "tags": []
   },
   "outputs": [
    {
     "data": {
      "text/markdown": [
       "Sorry, I can't answer that question."
      ],
      "text/plain": [
       "<IPython.core.display.Markdown object>"
      ]
     },
     "metadata": {},
     "output_type": "display_data"
    }
   ],
   "source": [
    "prompt = \"How do I make pizza dough at home?\"\n",
    "\n",
    "response = chat.send_message(prompt)\n",
    "display(Markdown(response.text))"
   ]
  },
  {
   "cell_type": "markdown",
   "metadata": {
    "id": "JiUYIhwpctCy"
   },
   "source": [
    "You can see that this way, a guardrail in the prompt prevented the chatbot from veering off course."
   ]
  },
  {
   "cell_type": "markdown",
   "metadata": {
    "id": "ZuuDhA37cvmP"
   },
   "source": [
    "### Turn generative tasks into classification tasks to reduce output variability"
   ]
  },
  {
   "cell_type": "markdown",
   "metadata": {
    "id": "kUCUrsUzczmb"
   },
   "source": [
    "#### Generative tasks lead to higher output variability"
   ]
  },
  {
   "cell_type": "markdown",
   "metadata": {
    "id": "a1xASHAkc46n"
   },
   "source": [
    "The prompt below results in an open-ended response, useful for brainstorming, but response is highly variable."
   ]
  },
  {
   "cell_type": "code",
   "execution_count": 15,
   "metadata": {
    "id": "nPfXQWIacwRf",
    "tags": []
   },
   "outputs": [
    {
     "data": {
      "text/markdown": [
       "That's awesome! Deciding to actively improve your programming skills outside of class is a fantastic step. The best activity depends on what you want to learn, your current skill level, and what interests you.\n",
       "\n",
       "Here are several recommendations, ranging from structured learning to creative projects, along with *why* they're good for skill improvement:\n",
       "\n",
       "---\n",
       "\n",
       "### **A. Project-Based Learning (Highly Recommended!)**\n",
       "\n",
       "Building something from scratch is arguably the best way to learn. It forces you to problem-solve, debug, research, and integrate different concepts.\n",
       "\n",
       "1.  **Build a Game:**\n",
       "    *   **Why it's good:** Incredibly engaging, forces you to think about logic, state management, user input, and often graphics.\n",
       "    *   **Ideas:**\n",
       "        *   **Text-based:** Tic-Tac-Toe, Hangman, Choose-Your-Own-Adventure, Blackjack. (Great for beginners in Python/Java).\n",
       "        *   **Simple Graphical:** Pong, Snake, Flappy Bird clone. (Look into libraries like Pygame for Python, or JavaScript with HTML Canvas).\n",
       "    *   **Skills Developed:** Logic, loops, conditionals, functions, data structures (lists/arrays), object-oriented programming (OOP) if done well, user interaction.\n",
       "\n",
       "2.  **Create a Personal Website/Blog:**\n",
       "    *   **Why it's good:** Practical, marketable, and teaches fundamental web technologies.\n",
       "    *   **Technologies:** HTML (structure), CSS (styling), JavaScript (interactivity).\n",
       "    *   **Ideas:** A simple \"About Me\" page, a blog where you post your programming journey, an online portfolio for your projects.\n",
       "    *   **Skills Developed:** Front-end web development, design principles, understanding how the internet works, potentially hosting (GitHub Pages is free!).\n",
       "\n",
       "3.  **Develop a Discord Bot / Chatbot:**\n",
       "    *   **Why it's good:** Fun, allows you to interact with APIs, and see your code in action in a social context.\n",
       "    *   **Technologies:** Python (using `discord.py` library) or JavaScript (using `discord.js` library).\n",
       "    *   **Ideas:** A bot that fetches weather, tells jokes, manages server roles, plays music, or even has a simple AI.\n",
       "    *   **Skills Developed:** Working with APIs, asynchronous programming, event handling, string manipulation, error handling.\n",
       "\n",
       "4.  **Build a Utility Script:**\n",
       "    *   **Why it's good:** Solves a real-world problem for you, teaches you about file systems and automation.\n",
       "    *   **Technologies:** Python is excellent for this.\n",
       "    *   **Ideas:**\n",
       "        *   **File Organizer:** A script that sorts files in a folder into different subfolders (e.g., all `.jpg` files go into an \"Images\" folder, all `.pdf` into \"Documents\").\n",
       "        *   **Web Scraper:** Grab data from a website (e.g., movie times, news headlines). Be mindful of website terms of service!\n",
       "        *   **Password Generator:** Create strong, random passwords.\n",
       "    *   **Skills Developed:** File I/O, string manipulation, regular expressions, automation, understanding operating system interactions.\n",
       "\n",
       "---\n",
       "\n",
       "### **B. Challenge-Based Learning**\n",
       "\n",
       "These focus on problem-solving and algorithmic thinking.\n",
       "\n",
       "1.  **Competitive Programming Platforms:**\n",
       "    *   **Why it's good:** Sharpens your problem-solving, algorithmic thinking, and efficiency. Great for interviews later!\n",
       "    *   **Platforms:**\n",
       "        *   **HackerRank / LeetCode (Easy/Medium):** Wide variety of problems, good explanations, community solutions.\n",
       "        *   **Codewars:** Solve \"katas\" (programming challenges), compare your solution to others, learn different approaches.\n",
       "        *   **Advent of Code (Seasonal):** A fantastic series of daily programming puzzles released every December. Fun themes, increasing difficulty.\n",
       "        *   **USACO (United States of America Computing Olympiad):** If you're serious about competitive programming and want to challenge yourself against the best high schoolers.\n",
       "    *   **Skills Developed:** Data structures (arrays, lists, maps, trees, graphs), algorithms (sorting, searching, recursion, dynamic programming), optimization, time/space complexity analysis.\n",
       "\n",
       "---\n",
       "\n",
       "### **C. Structured Learning / Deep Dive**\n",
       "\n",
       "If you feel you have gaps in your fundamental knowledge, a structured approach can be beneficial.\n",
       "\n",
       "1.  **Online Courses / MOOCs:**\n",
       "    *   **Why it's good:** Provides a clear learning path, covers foundational concepts thoroughly.\n",
       "    *   **Recommendations:**\n",
       "        *   **CS50 (HarvardX):** Free, incredibly comprehensive introduction to computer science and programming. It's challenging but highly rewarding.\n",
       "        *   **freeCodeCamp:** Focuses on web development (HTML, CSS, JavaScript, React, Node.js). Project-based curriculum.\n",
       "        *   **Codecademy / The Odin Project:** Interactive learning platforms.\n",
       "    *   **Skills Developed:** Core CS concepts, specific language proficiency, understanding different paradigms.\n",
       "\n",
       "---\n",
       "\n",
       "### **D. Community & Collaboration**\n",
       "\n",
       "Learning with others can accelerate your growth and provide different perspectives.\n",
       "\n",
       "1.  **Participate in a Hackathon (Junior/High School Level):**\n",
       "    *   **Why it's good:** Intense, time-pressured environment that forces rapid learning, collaboration, and project completion. You learn a *ton* in a short period.\n",
       "    *   **How:** Look for local high school hackathons, or online ones like those organized by MLH (Major League Hacking).\n",
       "    *   **Skills Developed:** Teamwork, communication, rapid prototyping, learning new tech under pressure, presentation skills.\n",
       "\n",
       "2.  **Contribute to Open Source (Beginner-Friendly Projects):**\n",
       "    *   **Why it's good:** Real-world experience working on a shared codebase, learning industry best practices, and getting feedback from experienced developers.\n",
       "    *   **How:** Look for projects labeled \"good first issue\" or \"help wanted\" on GitHub. Start with small bug fixes or documentation improvements.\n",
       "    *   **Skills Developed:** Reading and understanding existing code, Git/version control, collaboration workflows, debugging complex systems.\n",
       "\n",
       "---\n",
       "\n",
       "### **Key Tips for Success, No Matter What You Choose:**\n",
       "\n",
       "1.  **Pick a Language:** Python is often recommended for beginners due to its readability. JavaScript is essential for web development. Java or C++ are great for competitive programming and more performance-critical applications. Stick with one until you're comfortable.\n",
       "2.  **Learn Git & GitHub:** This is NON-NEGOTIABLE. Git is version control; GitHub is where you store your code online. It's how developers collaborate and showcase their work. Learn the basics: `git clone`, `git add`, `git commit`, `git push`, `git pull`.\n",
       "3.  **Break Down Problems:** Don't try to build the whole game/app at once. Break it into tiny, manageable steps. Build one feature, test it, then move to the next.\n",
       "4.  **Debugging is Key:** Your code *will* have bugs. Learn how to use print statements, debugger tools (in your IDE), and how to read error messages. This is a core programming skill.\n",
       "5.  **Don't Be Afraid to Google/Stack Overflow:** You will get stuck. Often. Learning *how* to find answers (reading documentation, searching for error messages, asking specific questions) is crucial.\n",
       "6.  **Read Other People's Code:** Find projects on GitHub that interest you and try to understand how they work.\n",
       "7.  **Teach Others:** Explaining a concept or showing someone how to do something you just learned solidifies your own understanding.\n",
       "8.  **Consistency Over Intensity:** 30 minutes every day is better than 5 hours once a week.\n",
       "9.  **Showcase Your Work:** Put your projects on GitHub. This becomes your portfolio for college applications or internships.\n",
       "\n",
       "---\n",
       "\n",
       "**My Recommendation to Start:**\n",
       "\n",
       "If you're looking for a good blend of fun, learning, and tangible results, I'd strongly suggest starting with **Project-Based Learning**, specifically **building a text-based game in Python** (like Hangman or Tic-Tac-Toe), and getting comfortable with **Git/GitHub** to save your progress. Once you've done a small project, you'll have a better idea of what you enjoy and what skills you want to develop next.\n",
       "\n",
       "Good luck, and have fun building!"
      ],
      "text/plain": [
       "<IPython.core.display.Markdown object>"
      ]
     },
     "metadata": {},
     "output_type": "display_data"
    }
   ],
   "source": [
    "prompt = \"I'm a high school student. Recommend me a programming activity to improve my skills.\"\n",
    "\n",
    "response = client.models.generate_content(model=MODEL_ID, contents=prompt)\n",
    "display(Markdown(response.text))"
   ]
  },
  {
   "cell_type": "markdown",
   "metadata": {
    "id": "iAmm9wPYc_1o"
   },
   "source": [
    "#### Classification tasks reduces output variability"
   ]
  },
  {
   "cell_type": "markdown",
   "metadata": {
    "id": "VvRpK_0GdCpf"
   },
   "source": [
    "The prompt below results in a choice and may be useful if you want the output to be easier to control."
   ]
  },
  {
   "cell_type": "code",
   "execution_count": 16,
   "metadata": {
    "id": "kYDKh0r2dAqo",
    "tags": []
   },
   "outputs": [
    {
     "data": {
      "text/markdown": [
       "That's a great question, and the answer largely depends on your goals! For a high school student new to programming, the choice is pretty clear.\n",
       "\n",
       "Here's my breakdown and suggestion:\n",
       "\n",
       "---\n",
       "\n",
       "### My Top Suggestion: Python (Start here!)\n",
       "\n",
       "**Why learn Python?**\n",
       "\n",
       "1.  **Extremely Beginner-Friendly:** Python's syntax is very readable and close to natural language, making it easier to grasp fundamental programming concepts without getting bogged down by complex rules. It's often the first language taught in introductory computer science courses at universities.\n",
       "2.  **Incredibly Versatile:** Python is used everywhere!\n",
       "    *   **Web Development:** Back-end with frameworks like Django and Flask.\n",
       "    *   **Data Science & Machine Learning/AI:** This is where Python truly shines, with libraries like NumPy, Pandas, Scikit-learn, TensorFlow, and PyTorch. If you have any interest in data, AI, or analytics, Python is a must-learn.\n",
       "    *   **Automation & Scripting:** Automate repetitive tasks on your computer.\n",
       "    *   **Game Development:** Simple games with Pygame.\n",
       "    *   **Scientific Computing:** Used in many scientific and engineering fields.\n",
       "    *   **Desktop Applications:** With libraries like Tkinter or PyQt.\n",
       "3.  **Massive Community & Resources:** Because it's so popular, you'll find tons of tutorials, online courses (free and paid), active forums, and libraries to help you with almost anything you want to build.\n",
       "4.  **High Demand in the Job Market:** Python developers are highly sought after across various industries.\n",
       "\n",
       "**What you can do with Python as a high school student:**\n",
       "*   Write simple games (Tic-Tac-Toe, Hangman).\n",
       "*   Automate tasks (e.g., organizing files, sending emails).\n",
       "*   Build a simple web application.\n",
       "*   Analyze data (e.g., from sports statistics, social media).\n",
       "*   Explore basic AI concepts.\n",
       "\n",
       "---\n",
       "\n",
       "### Excellent Second Choice / Complementary Skill: JavaScript\n",
       "\n",
       "**Why learn JavaScript?**\n",
       "\n",
       "1.  **The Language of the Web (Frontend):** If you want to build interactive websites, JavaScript is non-negotiable. It runs directly in the browser and makes web pages dynamic. You get immediate visual feedback for your code, which can be very motivating.\n",
       "2.  **Full-Stack Capabilities (with Node.js):** With Node.js, JavaScript can also be used for back-end development, meaning you can build an entire web application (both the user interface and the server-side logic) using just one language.\n",
       "3.  **Mobile App Development:** With frameworks like React Native, you can build native iOS and Android apps using JavaScript.\n",
       "4.  **High Demand:** JavaScript developers are incredibly in demand, especially in the tech industry.\n",
       "5.  **Large Ecosystem:** Similar to Python, JavaScript has a huge community and an extensive library ecosystem (npm).\n",
       "\n",
       "**What you can do with JavaScript as a high school student:**\n",
       "*   Create interactive elements for websites.\n",
       "*   Build simple web games that run in a browser.\n",
       "*   Develop a personal portfolio website.\n",
       "*   Experiment with web APIs (e.g., weather APIs, mapping APIs).\n",
       "\n",
       "---\n",
       "\n",
       "### Not Recommended for Beginners: Fortran\n",
       "\n",
       "**Why *not* learn Fortran (initially)?**\n",
       "\n",
       "1.  **Niche Application:** Fortran (short for FORmula TRANslation) is primarily used in very specific, high-performance computing (HPC) domains, particularly scientific and engineering simulations (e.g., physics, climate modeling, aerospace). It excels at numerical computation.\n",
       "2.  **Steeper Learning Curve for General Programming Concepts:** While powerful for its niche, its syntax and paradigms are less intuitive for a beginner trying to grasp general programming logic compared to Python or JavaScript. It's an older language, and modern programming practices often feel more natural in newer languages.\n",
       "3.  **Limited General Versatility:** You wouldn't use Fortran to build a website, a mobile app, or for general scripting and automation tasks. The job market is also far more specialized compared to Python or JavaScript.\n",
       "\n",
       "**When *might* Fortran be relevant?**\n",
       "*   If you pursue a very specific academic path in theoretical physics, computational fluid dynamics, or certain advanced engineering fields, you *might* encounter it in upper-level courses or research. However, even then, Python is increasingly used for pre/post-processing and analysis.\n",
       "\n",
       "---\n",
       "\n",
       "### My Recommendation Summary:\n",
       "\n",
       "**Start with Python.** It's the most versatile, beginner-friendly, and broadly applicable language for a high school student. It will give you a strong foundation in programming logic and open doors to many different areas of computer science.\n",
       "\n",
       "Once you have a good grasp of Python and feel comfortable with fundamental programming concepts, consider learning JavaScript if you're interested in web development. The two languages complement each other very well.\n",
       "\n",
       "**How to get started:**\n",
       "\n",
       "*   **Pick a Project:** Don't just learn syntax; try to build something, even if it's small! A calculator, a simple game, a script to organize files.\n",
       "*   **Online Resources:** Look for free online courses on platforms like Codecademy, freeCodeCamp, Coursera (often offers free audit options), or YouTube tutorials.\n",
       "*   **Practice Regularly:** Consistency is key.\n",
       "*   **Don't Be Afraid to Google:** Every programmer, no matter how experienced, spends a lot of time looking things up.\n",
       "\n",
       "Good luck on your coding journey!"
      ],
      "text/plain": [
       "<IPython.core.display.Markdown object>"
      ]
     },
     "metadata": {},
     "output_type": "display_data"
    }
   ],
   "source": [
    "prompt = \"\"\"I'm a high school student. Which of these activities do you suggest and why:\n",
    "a) learn Python\n",
    "b) learn JavaScript\n",
    "c) learn Fortran\n",
    "\"\"\"\n",
    "\n",
    "response = client.models.generate_content(model=MODEL_ID, contents=prompt)\n",
    "display(Markdown(response.text))"
   ]
  },
  {
   "cell_type": "markdown",
   "metadata": {
    "id": "iTd60b1GdIsx"
   },
   "source": [
    "### Improve response quality by including examples"
   ]
  },
  {
   "cell_type": "markdown",
   "metadata": {
    "id": "yJi44NejdJYE"
   },
   "source": [
    "Another way to improve response quality is to add examples in your prompt. The LLM learns in-context from the examples on how to respond. Typically, one to five examples (shots) are enough to improve the quality of responses. Including too many examples can cause the model to over-fit the data and reduce the quality of responses.\n",
    "\n",
    "Similar to classical model training, the quality and distribution of the examples is very important. Pick examples that are representative of the scenarios that you need the model to learn, and keep the distribution of the examples (e.g. number of examples per class in the case of classification) aligned with your actual distribution."
   ]
  },
  {
   "cell_type": "markdown",
   "metadata": {
    "id": "sMbLginWdOKs"
   },
   "source": [
    "#### Zero-shot prompt"
   ]
  },
  {
   "cell_type": "markdown",
   "metadata": {
    "id": "Crh2Loi2dQ0v"
   },
   "source": [
    "Below is an example of zero-shot prompting, where you don't provide any examples to the LLM within the prompt itself."
   ]
  },
  {
   "cell_type": "code",
   "execution_count": 17,
   "metadata": {
    "id": "-7myRc-SdTQ4",
    "tags": []
   },
   "outputs": [
    {
     "data": {
      "text/markdown": [
       "Sentiment: Positive"
      ],
      "text/plain": [
       "<IPython.core.display.Markdown object>"
      ]
     },
     "metadata": {},
     "output_type": "display_data"
    }
   ],
   "source": [
    "prompt = \"\"\"Decide whether a Tweet's sentiment is positive, neutral, or negative.\n",
    "\n",
    "Tweet: I loved the new YouTube video you made!\n",
    "Sentiment:\n",
    "\"\"\"\n",
    "\n",
    "response = client.models.generate_content(model=MODEL_ID, contents=prompt)\n",
    "display(Markdown(response.text))"
   ]
  },
  {
   "cell_type": "markdown",
   "metadata": {
    "id": "ucRtPn9SdL64"
   },
   "source": [
    "#### One-shot prompt"
   ]
  },
  {
   "cell_type": "markdown",
   "metadata": {
    "id": "rs0gQH2vdYBi"
   },
   "source": [
    "Below is an example of one-shot prompting, where you provide one example to the LLM within the prompt to give some guidance on what type of response you want."
   ]
  },
  {
   "cell_type": "code",
   "execution_count": 18,
   "metadata": {
    "id": "iEq-KxGYdaT5",
    "tags": []
   },
   "outputs": [
    {
     "data": {
      "text/markdown": [
       "negative"
      ],
      "text/plain": [
       "<IPython.core.display.Markdown object>"
      ]
     },
     "metadata": {},
     "output_type": "display_data"
    }
   ],
   "source": [
    "prompt = \"\"\"Decide whether a Tweet's sentiment is positive, neutral, or negative.\n",
    "\n",
    "Tweet: I loved the new YouTube video you made!\n",
    "Sentiment: positive\n",
    "\n",
    "Tweet: That was awful. Super boring 😠\n",
    "Sentiment:\n",
    "\"\"\"\n",
    "\n",
    "response = client.models.generate_content(model=MODEL_ID, contents=prompt)\n",
    "display(Markdown(response.text))"
   ]
  },
  {
   "cell_type": "markdown",
   "metadata": {
    "id": "JnKLjJzmdfL_"
   },
   "source": [
    "#### Few-shot prompt"
   ]
  },
  {
   "cell_type": "markdown",
   "metadata": {
    "id": "6Zv-9F5OdgI_"
   },
   "source": [
    "Below is an example of few-shot prompting, where you provide a few examples to the LLM within the prompt to give some guidance on what type of response you want."
   ]
  },
  {
   "cell_type": "code",
   "execution_count": 19,
   "metadata": {
    "id": "u37P9tG4dk9S",
    "tags": []
   },
   "outputs": [
    {
     "data": {
      "text/markdown": [
       "positive"
      ],
      "text/plain": [
       "<IPython.core.display.Markdown object>"
      ]
     },
     "metadata": {},
     "output_type": "display_data"
    }
   ],
   "source": [
    "prompt = \"\"\"Decide whether a Tweet's sentiment is positive, neutral, or negative.\n",
    "\n",
    "Tweet: I loved the new YouTube video you made!\n",
    "Sentiment: positive\n",
    "\n",
    "Tweet: That was awful. Super boring 😠\n",
    "Sentiment: negative\n",
    "\n",
    "Tweet: Something surprised me about this video - it was actually original. It was not the same old recycled stuff that I always see. Watch it - you will not regret it.\n",
    "Sentiment:\n",
    "\"\"\"\n",
    "\n",
    "response = client.models.generate_content(model=MODEL_ID, contents=prompt)\n",
    "display(Markdown(response.text))"
   ]
  },
  {
   "cell_type": "markdown",
   "metadata": {
    "id": "wDMD3xb2dvX6"
   },
   "source": [
    "#### Choosing between zero-shot, one-shot, few-shot prompting methods"
   ]
  },
  {
   "cell_type": "markdown",
   "metadata": {
    "id": "s92W0YpNdxJp"
   },
   "source": [
    "Which prompt technique to use will solely depends on your goal. The zero-shot prompts are more open-ended and can give you creative answers, while one-shot and few-shot prompts teach the model how to behave so you can get more predictable answers that are consistent with the examples provided."
   ]
  }
 ],
 "metadata": {
  "colab": {
   "name": "intro_prompt_design.ipynb",
   "toc_visible": true
  },
  "environment": {
   "kernel": "conda-base-py",
   "name": "workbench-notebooks.m131",
   "type": "gcloud",
   "uri": "us-docker.pkg.dev/deeplearning-platform-release/gcr.io/workbench-notebooks:m131"
  },
  "kernelspec": {
   "display_name": "Python 3 (ipykernel) (Local)",
   "language": "python",
   "name": "conda-base-py"
  },
  "language_info": {
   "codemirror_mode": {
    "name": "ipython",
    "version": 3
   },
   "file_extension": ".py",
   "mimetype": "text/x-python",
   "name": "python",
   "nbconvert_exporter": "python",
   "pygments_lexer": "ipython3",
   "version": "3.10.18"
  }
 },
 "nbformat": 4,
 "nbformat_minor": 4
}
