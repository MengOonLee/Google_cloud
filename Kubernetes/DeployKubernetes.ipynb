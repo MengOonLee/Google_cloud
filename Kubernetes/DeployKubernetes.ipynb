{
 "cells": [
  {
   "cell_type": "markdown",
   "id": "e65655b9-be58-462f-8cef-33c4be1c313e",
   "metadata": {},
   "source": [
    "# Deploy to Kubernetes in Google Cloud"
   ]
  },
  {
   "cell_type": "code",
   "execution_count": null,
   "id": "e04f5924-8cbe-488d-972e-ac4936ef9012",
   "metadata": {},
   "outputs": [],
   "source": [
    "gcloud auth list\n",
    "gcloud config list project\n",
    "gcloud config set compute/region us-central1\n",
    "\n",
    "export PROJECT_ID=$(gcloud config get-value project)\n",
    "export IMAGE_NAME=\"valkyrie-app\"\n",
    "export TAG_NAME=\"v0.0.2\"\n",
    "export REPOSITORY_NAME=\"valkyrie-repository\""
   ]
  },
  {
   "cell_type": "markdown",
   "id": "b7db2c9c-689d-40e2-9b99-824d720bac57",
   "metadata": {},
   "source": [
    "### Task 1. Create a Docker image and store the Dockerfile"
   ]
  },
  {
   "cell_type": "code",
   "execution_count": null,
   "id": "5eb18f3b-432f-4731-a884-764d7fc39724",
   "metadata": {},
   "outputs": [],
   "source": [
    "source <(gsutil cat gs://cloud-training/gsp318/marking/setup_marking_v2.sh)\n",
    "gcloud source repos clone valkyrie-app\n",
    "\n",
    "cd ~/marking/valkyrie-app\n",
    "cat > Dockerfile <<EOF\n",
    "FROM golang:1.10\n",
    "WORKDIR /go/src/app\n",
    "COPY source .\n",
    "RUN go install -v\n",
    "ENTRYPOINT [\"app\",\"-single=true\",\"-port=8080\"]\n",
    "EOF\n",
    "\n",
    "docker build -t $IMAGE_NAME:$TAG_NAME .\n",
    "\n",
    "bash ~/marking/step1_v2.sh"
   ]
  },
  {
   "cell_type": "markdown",
   "id": "f5089c91-d314-4e5f-b420-c2a0c3dcafd8",
   "metadata": {},
   "source": [
    "### Task 2. Test the created Docker image"
   ]
  },
  {
   "cell_type": "code",
   "execution_count": null,
   "id": "824dd225-715d-4b8d-be28-ce6ce49bbb90",
   "metadata": {},
   "outputs": [],
   "source": [
    "cd ~/marking/valkyrie-app\n",
    "docker run -p 8080:8080 $IMAGE_NAME:$TAG_NAME &\n",
    "\n",
    "bash ~/marking/step2_v2.sh"
   ]
  },
  {
   "cell_type": "markdown",
   "id": "d56525be-2bf0-443c-90aa-e69d821622ca",
   "metadata": {},
   "source": [
    "### Task 3. Push the Docker image to the Artifact Registry"
   ]
  },
  {
   "cell_type": "code",
   "execution_count": null,
   "id": "1f955dd1-8abf-4b4d-ab5d-079597963fbc",
   "metadata": {},
   "outputs": [],
   "source": [
    "cd ~/marking/valkyrie-app\n",
    "gcloud auth configure-docker us-central1-docker.pkg.dev\n",
    "\n",
    "gcloud artifacts repositories create $REPOSITORY_NAME \\\n",
    "--repository-format=docker \\\n",
    "--location=us-central1 \n",
    "\n",
    "docker build -t us-central1-docker.pkg.dev/$PROJECT_ID/$REPOSITORY_NAME/$IMAGE_NAME:$TAG_NAME .\n",
    "\n",
    "docker push us-central1-docker.pkg.dev/$PROJECT_ID/$REPOSITORY_NAME/$IMAGE_NAME:$TAG_NAME"
   ]
  },
  {
   "cell_type": "markdown",
   "id": "1ee444d1-f1bc-478b-b130-d5fe9e8e6752",
   "metadata": {},
   "source": [
    "### Task 4. Create and expose a deployment in Kubernetes"
   ]
  },
  {
   "cell_type": "code",
   "execution_count": null,
   "id": "e5cb7c38-8cb9-4777-89e5-608c6b562dd5",
   "metadata": {},
   "outputs": [],
   "source": [
    "gcloud container clusters get-credentials valkyrie-dev \\\n",
    "--zone=us-east1-d\n",
    "\n",
    "sed -i s#IMAGE_HERE#us-central1-docker.pkg.dev/$PROJECT_ID/$REPOSITORY_NAME/$IMAGE_NAME:$TAG_NAME#g ~/marking/valkyrie-app/k8s/deployment.yaml\n",
    "\n",
    "kubectl create -f ~/marking/valkyrie-app/k8s/deployment.yaml\n",
    "kubectl create -f ~/marking/valkyrie-app/k8s/service.yaml"
   ]
  }
 ],
 "metadata": {
  "kernelspec": {
   "display_name": "venv",
   "language": "python",
   "name": "venv"
  },
  "language_info": {
   "codemirror_mode": {
    "name": "ipython",
    "version": 3
   },
   "file_extension": ".py",
   "mimetype": "text/x-python",
   "name": "python",
   "nbconvert_exporter": "python",
   "pygments_lexer": "ipython3",
   "version": "3.8.10"
  }
 },
 "nbformat": 4,
 "nbformat_minor": 5
}
