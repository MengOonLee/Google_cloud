{
 "cells": [
  {
   "cell_type": "markdown",
   "id": "19eae818-301e-4f55-b365-0c026f709deb",
   "metadata": {},
   "source": [
    "# Implementing Canary Releases of TensorFlow Model Deployments with Kubernetes and Anthos Service Mesh"
   ]
  },
  {
   "cell_type": "code",
   "execution_count": null,
   "id": "e8d33dfa-99de-44d5-8b1d-4e25d699e555",
   "metadata": {},
   "outputs": [],
   "source": [
    "gcloud auth list\n",
    "gcloud config list project"
   ]
  },
  {
   "cell_type": "markdown",
   "id": "fd6b345d-1d4e-47e3-a7d5-2bd5c86e2aee",
   "metadata": {},
   "source": [
    "### Task 1: Set up project"
   ]
  },
  {
   "cell_type": "code",
   "execution_count": null,
   "id": "5558aaab-114f-45f5-9fbc-08dd03c94e1f",
   "metadata": {},
   "outputs": [],
   "source": [
    "cd\n",
    "SRC_REPO=https://github.com/GoogleCloudPlatform/mlops-on-gcp\n",
    "kpt pkg get $SRC_REPO/workshops/mlep-qwiklabs/tfserving-canary-gke tfserving-canary\n",
    "\n",
    "export PROJECT_ID=$(gcloud config get-value project)\n",
    "export PROJECT_NUMBER=$(gcloud projects describe ${PROJECT_ID} \\\n",
    "    --format=\"value(projectNumber)\")\n",
    "export CLUSTER_NAME=cluster-1\n",
    "export CLUSTER_ZONE=us-west1-c\n",
    "export WORKLOAD_POOL=${PROJECT_ID}.svc.id.goog\n",
    "export MESH_ID=\"proj-${PROJECT_NUMBER}\""
   ]
  },
  {
   "cell_type": "markdown",
   "id": "bdb592e6-d03f-4720-bd07-59a4c444d8a9",
   "metadata": {},
   "source": [
    "### Task 2: Set up GKE cluster"
   ]
  },
  {
   "cell_type": "code",
   "execution_count": null,
   "id": "2ea98002-4077-412c-894f-303f8fe6fa48",
   "metadata": {},
   "outputs": [],
   "source": [
    "gcloud config set compute/zone ${CLUSTER_ZONE}\n",
    "gcloud beta container clusters create ${CLUSTER_NAME} \\\n",
    "    --machine-type=n1-standard-4 \\\n",
    "    --num-nodes=5 \\\n",
    "    --workload-pool=${WORKLOAD_POOL} \\\n",
    "    --logging=SYSTEM,WORKLOAD \\\n",
    "    --monitoring=SYSTEM \\\n",
    "    --subnetwork=default \\\n",
    "    --release-channel=stable \\\n",
    "    --labels mesh_id=${MESH_ID}\n",
    "\n",
    "kubectl create clusterrolebinding cluster-admin-binding   --clusterrole=cluster-admin   --user=$(whoami)@qwiklabs.net"
   ]
  },
  {
   "cell_type": "markdown",
   "id": "044beb91-8d25-4646-87ab-1d2012f97b3a",
   "metadata": {},
   "source": [
    "#### Anthos Service Mesh"
   ]
  },
  {
   "cell_type": "code",
   "execution_count": null,
   "id": "37a77d06-c69b-4ee9-b8f0-16c912caf8c9",
   "metadata": {},
   "outputs": [],
   "source": [
    "curl https://storage.googleapis.com/csm-artifacts/asm/asmcli_1.15 > asmcli\n",
    "\n",
    "chmod +x asmcli\n",
    "\n",
    "./asmcli install \\\n",
    "  --project_id $PROJECT_ID \\\n",
    "  --cluster_name $CLUSTER_NAME \\\n",
    "  --cluster_location $CLUSTER_ZONE \\\n",
    "  --fleet_id $PROJECT_ID \\\n",
    "  --output_dir ./asm_output \\\n",
    "  --enable_all \\\n",
    "  --option legacy-default-ingressgateway \\\n",
    "  --ca mesh_ca \\\n",
    "  --enable_gcp_components"
   ]
  },
  {
   "cell_type": "markdown",
   "id": "c6da34bc-ae2d-4455-b0a6-52d7a1c0cc0e",
   "metadata": {},
   "source": [
    "### Task 3. Install an ingress gateway"
   ]
  },
  {
   "cell_type": "code",
   "execution_count": null,
   "id": "6e7df9e0-186a-4998-ad3b-9a419c21555a",
   "metadata": {},
   "outputs": [],
   "source": [
    "GATEWAY_NS=istio-gateway\n",
    "kubectl create namespace $GATEWAY_NS\n",
    "\n",
    "REVISION=$(kubectl get deploy -n istio-system -l app=istiod -o \\\n",
    "jsonpath={.items[*].metadata.labels.'istio\\.io\\/rev'}'{\"\\n\"}')\n",
    "\n",
    "kubectl label namespace $GATEWAY_NS \\\n",
    "istio.io/rev=$REVISION --overwrite\n",
    "\n",
    "cd ~/asm_output\n",
    "\n",
    "kubectl apply -n $GATEWAY_NS \\\n",
    "  -f samples/gateways/istio-ingressgateway"
   ]
  },
  {
   "cell_type": "markdown",
   "id": "8a953d3a-ce6e-43d7-bd5c-b174adbc18e3",
   "metadata": {},
   "source": [
    "### Task 4. Enable sidecar injection"
   ]
  },
  {
   "cell_type": "code",
   "execution_count": null,
   "id": "93737fb6-00b2-4ce0-a598-c127ec839592",
   "metadata": {},
   "outputs": [],
   "source": [
    "kubectl label namespace default istio-injection- istio.io/rev=$REVISION --overwrite"
   ]
  },
  {
   "cell_type": "markdown",
   "id": "a36fadb7-86f2-4b91-bf9b-a4e72356aed6",
   "metadata": {},
   "source": [
    "### Task 5. Deploying Resnet50"
   ]
  },
  {
   "cell_type": "code",
   "execution_count": null,
   "id": "467b013c-2415-43e0-83b8-63a78b16e426",
   "metadata": {},
   "outputs": [],
   "source": [
    "export MODEL_BUCKET=${PROJECT_ID}-bucket\n",
    "gsutil mb gs://${MODEL_BUCKET}\n",
    "\n",
    "gsutil cp -r gs://spls/gsp778/resnet_101 gs://${MODEL_BUCKET}\n",
    "gsutil cp -r gs://spls/gsp778/resnet_50 gs://${MODEL_BUCKET}\n",
    "\n",
    "gsutil uniformbucketlevelaccess set on gs://${MODEL_BUCKET}\n",
    "\n",
    "gsutil iam ch allUsers:objectViewer gs://${MODEL_BUCKET}"
   ]
  },
  {
   "cell_type": "markdown",
   "id": "56ece1fb-be7d-4084-9fab-6c9ebd281c18",
   "metadata": {},
   "source": [
    "#### Creating ConfigMap"
   ]
  },
  {
   "cell_type": "code",
   "execution_count": null,
   "id": "975b1bfa-cf5a-4943-8a61-742afedf9d64",
   "metadata": {},
   "outputs": [],
   "source": [
    "cd ~/tfserving-canary\n",
    "\n",
    "sed -i \"s@\\[YOUR_BUCKET\\]@$MODEL_BUCKET@g\" tf-serving/configmap-resnet50.yaml\n",
    "\n",
    "kubectl apply -f tf-serving/configmap-resnet50.yaml"
   ]
  },
  {
   "cell_type": "markdown",
   "id": "60b0f1cf-1339-46bf-8b3b-b29628ec7a3e",
   "metadata": {},
   "source": [
    "### Task 6. Creating TensorFlow Serving deployment"
   ]
  },
  {
   "cell_type": "code",
   "execution_count": null,
   "id": "212836b8-7e43-4ea7-86e0-f6448df7f959",
   "metadata": {},
   "outputs": [],
   "source": [
    "cat tf-serving/deployment-resnet50.yaml\n",
    "\n",
    "kubectl apply -f tf-serving/deployment-resnet50.yaml\n",
    "\n",
    "kubectl get deployments\n",
    "\n",
    "kubectl apply -f tf-serving/service.yaml"
   ]
  },
  {
   "cell_type": "markdown",
   "id": "6b35be89-7ee1-4d53-a8cc-86129624e5fe",
   "metadata": {},
   "source": [
    "### Task 7. Install ingress gateway"
   ]
  },
  {
   "cell_type": "code",
   "execution_count": null,
   "id": "6027c4fe-e2d8-4a22-a01a-e617096e2fe8",
   "metadata": {},
   "outputs": [],
   "source": [
    "kubectl apply -f tf-serving/gateway.yaml\n",
    "\n",
    "kubectl apply -f tf-serving/virtualservice.yaml"
   ]
  },
  {
   "cell_type": "markdown",
   "id": "1f44580e-3918-45ff-9323-b4f7f6d8a904",
   "metadata": {},
   "source": [
    "### Task 8. Access to the ResNet50 model"
   ]
  },
  {
   "cell_type": "code",
   "execution_count": null,
   "id": "a173c44c-70dc-4c3a-ad6a-3462e53663c2",
   "metadata": {},
   "outputs": [],
   "source": [
    "export INGRESS_HOST=$(kubectl -n istio-system get service istio-ingressgateway -o jsonpath='{.status.loadBalancer.ingress[0].ip}')\n",
    "export INGRESS_PORT=$(kubectl -n istio-system get service istio-ingressgateway -o jsonpath='{.spec.ports[?(@.name==\"http2\")].port}')\n",
    "\n",
    "export GATEWAY_URL=$INGRESS_HOST:$INGRESS_PORT\n",
    "echo $GATEWAY_URL\n",
    "\n",
    "curl -d @payloads/request-body.json -X POST http://$GATEWAY_URL/v1/models/image_classifier:predict"
   ]
  },
  {
   "cell_type": "markdown",
   "id": "c827da8e-6591-4f06-a47e-e371c63d8351",
   "metadata": {},
   "source": [
    "### Task 9. Deploying ResNet101 as a canary release"
   ]
  },
  {
   "cell_type": "code",
   "execution_count": null,
   "id": "81980e79-c95a-4dc2-96cd-73f5836d2986",
   "metadata": {},
   "outputs": [],
   "source": [
    "kubectl apply -f tf-serving/destinationrule.yaml\n",
    "\n",
    "kubectl apply -f tf-serving/virtualservice-weight-100.yaml\n",
    "\n",
    "cd ~/tfserving-canary\n",
    "sed -i \"s@\\[YOUR_BUCKET\\]@$MODEL_BUCKET@g\" tf-serving/configmap-resnet101.yaml\n",
    "\n",
    "kubectl apply -f tf-serving/configmap-resnet101.yaml\n",
    "\n",
    "kubectl apply -f tf-serving/deployment-resnet101.yaml\n",
    "\n",
    "curl -d @payloads/request-body.json -X POST http://$GATEWAY_URL/v1/models/image_classifier:predict"
   ]
  },
  {
   "cell_type": "markdown",
   "id": "ffd7559d-8957-45df-b95c-d68458ee8ef6",
   "metadata": {},
   "source": [
    "### Task 10. Configuring weighted load balancing"
   ]
  },
  {
   "cell_type": "code",
   "execution_count": null,
   "id": "2cb69035-657b-4a31-8044-61ad30be9827",
   "metadata": {},
   "outputs": [],
   "source": [
    "kubectl apply -f tf-serving/virtualservice-weight-70.yaml\n",
    "\n",
    "curl -d @payloads/request-body.json -X POST http://$GATEWAY_URL/v1/models/image_classifier:predict"
   ]
  },
  {
   "cell_type": "markdown",
   "id": "34ce274e-0360-485a-b7a2-1704da46bf76",
   "metadata": {},
   "source": [
    "### Task 11. Configuring focused canary testing"
   ]
  },
  {
   "cell_type": "code",
   "execution_count": null,
   "id": "f4892165-8f8b-49a1-9554-b852b0c2ff9e",
   "metadata": {},
   "outputs": [],
   "source": [
    "kubectl apply -f tf-serving/virtualservice-focused-routing.yaml\n",
    "\n",
    "curl -d @payloads/request-body.json -X POST http://$GATEWAY_URL/v1/models/image_classifier:predict\n",
    "\n",
    "curl -d @payloads/request-body.json -H \"user-group: canary\" -X POST http://$GATEWAY_URL/v1/models/image_classifier:predict"
   ]
  }
 ],
 "metadata": {
  "kernelspec": {
   "display_name": "venv",
   "language": "python",
   "name": "venv"
  },
  "language_info": {
   "codemirror_mode": {
    "name": "ipython",
    "version": 3
   },
   "file_extension": ".py",
   "mimetype": "text/x-python",
   "name": "python",
   "nbconvert_exporter": "python",
   "pygments_lexer": "ipython3",
   "version": "3.8.10"
  }
 },
 "nbformat": 4,
 "nbformat_minor": 5
}
