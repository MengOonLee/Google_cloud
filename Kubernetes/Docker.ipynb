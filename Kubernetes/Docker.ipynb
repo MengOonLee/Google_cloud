{
 "cells": [
  {
   "cell_type": "markdown",
   "id": "163a7d72-4e3e-4bf5-957f-3d11f29fc247",
   "metadata": {},
   "source": [
    "# Introduction to Docker"
   ]
  },
  {
   "cell_type": "code",
   "execution_count": null,
   "id": "d703879c-86a4-49f8-8784-2c962ecb952b",
   "metadata": {},
   "outputs": [],
   "source": [
    "gcloud auth list\n",
    "gcloud config list project"
   ]
  },
  {
   "cell_type": "markdown",
   "id": "fb6e635b-0dab-4b2b-8727-4b9e522117b7",
   "metadata": {},
   "source": [
    "### Task 1. Hello world"
   ]
  },
  {
   "cell_type": "code",
   "execution_count": null,
   "id": "d2ee1342-a4b0-4116-b30f-57a713818e64",
   "metadata": {},
   "outputs": [],
   "source": [
    "docker run hello-world\n",
    "docker images\n",
    "docker ps -a"
   ]
  },
  {
   "cell_type": "markdown",
   "id": "131b4bdf-5549-4755-bd09-22036a79c20a",
   "metadata": {},
   "source": [
    "### Task 2. Build"
   ]
  },
  {
   "cell_type": "code",
   "execution_count": null,
   "id": "e40c41bb-c3de-4e21-ba19-5205bcd57e9f",
   "metadata": {},
   "outputs": [],
   "source": [
    "cat > Dockerfile <<EOF\n",
    "# Use an official Node runtime as the parent image\n",
    "FROM node:lts\n",
    "# Set the working directory in the container to /app\n",
    "WORKDIR /app\n",
    "# Copy the current directory contents into the container at /app\n",
    "ADD . /app\n",
    "# Make the container's port 80 available to the outside world\n",
    "EXPOSE 80\n",
    "# Run app.js using node when the container launches\n",
    "CMD [\"node\", \"app.js\"]\n",
    "EOF"
   ]
  },
  {
   "cell_type": "code",
   "execution_count": null,
   "id": "ee1354ec-3132-48be-b7b3-1db7ed4109bb",
   "metadata": {},
   "outputs": [],
   "source": [
    "cat > app.js <<EOF\n",
    "const http = require('http');\n",
    "const hostname = '0.0.0.0';\n",
    "const port = 80;\n",
    "const server = http.createServer((req, res) => {\n",
    "    res.statusCode = 200;\n",
    "    res.setHeader('Content-Type', 'text/plain');\n",
    "    res.end('Hello World\\n');\n",
    "});\n",
    "server.listen(port, hostname, () => {\n",
    "    console.log('Server running at http://%s:%s/', hostname, port);\n",
    "});\n",
    "process.on('SIGINT', function() {\n",
    "    console.log('Caught interrupt signal and will exit');\n",
    "    process.exit();\n",
    "});\n",
    "EOF"
   ]
  },
  {
   "cell_type": "code",
   "execution_count": null,
   "id": "fdcd0bf2-4f9d-4e51-8dca-36ee801c9424",
   "metadata": {},
   "outputs": [],
   "source": [
    "docker build -t node-app:0.1 .\n",
    "docker images"
   ]
  },
  {
   "cell_type": "markdown",
   "id": "333cf26f-7fd8-4acf-8e14-e1dd87ea87d0",
   "metadata": {},
   "source": [
    "### Task 3. Run"
   ]
  },
  {
   "cell_type": "code",
   "execution_count": null,
   "id": "ae78ff70-ad4b-461b-a44e-7b640de92a94",
   "metadata": {},
   "outputs": [],
   "source": [
    "docker run -p 4000:80 --name my-app node-app:0.1\n",
    "curl http://localhost:4000"
   ]
  },
  {
   "cell_type": "code",
   "execution_count": null,
   "id": "295d65aa-90e8-434e-a1c2-f924dce62ec3",
   "metadata": {},
   "outputs": [],
   "source": [
    "docker stop my-app && docker rm my-app\n",
    "\n",
    "docker run -p 4000:80 --name my-app -d node-app:0.1\n",
    "docker ps\n",
    "docker psdocker logs b0433130e779"
   ]
  },
  {
   "cell_type": "code",
   "execution_count": null,
   "id": "ef6411cf-5859-40fb-a635-c40d1d453f80",
   "metadata": {},
   "outputs": [],
   "source": [
    "cat > app.js <<EOF\n",
    "const http = require('http');\n",
    "const hostname = '0.0.0.0';\n",
    "const port = 80;\n",
    "const server = http.createServer((req, res) => {\n",
    "    res.statusCode = 200;\n",
    "    res.setHeader('Content-Type', 'text/plain');\n",
    "    res.end('Welcome to Cloud\\n');\n",
    "});\n",
    "server.listen(port, hostname, () => {\n",
    "    console.log('Server running at http://%s:%s/', hostname, port);\n",
    "});\n",
    "process.on('SIGINT', function() {\n",
    "    console.log('Caught interrupt signal and will exit');\n",
    "    process.exit();\n",
    "});\n",
    "EOF"
   ]
  },
  {
   "cell_type": "code",
   "execution_count": null,
   "id": "11a1d398-324f-461e-8302-9fbca61ef51d",
   "metadata": {},
   "outputs": [],
   "source": [
    "docker build -t node-app:0.2 .\n",
    "docker run -p 8080:80 --name my-app-2 -d node-app:0.2\n",
    "docker ps\n",
    "curl http://localhost:8080"
   ]
  },
  {
   "cell_type": "markdown",
   "id": "4429a1f3-6948-4ff1-b900-04f1abedce73",
   "metadata": {},
   "source": [
    "### Task 4. Debug"
   ]
  },
  {
   "cell_type": "code",
   "execution_count": null,
   "id": "7e35fcde-4af3-4196-8ca8-1ccfd337a1ed",
   "metadata": {},
   "outputs": [],
   "source": [
    "docker logs -f b0433130e779\n",
    "\n",
    "docker exec -it b0433130e779 bash\n",
    "\n",
    "docker inspect b0433130e779\n",
    "docker inspect --format='{{range .NetworkSettings.Networks}}{{.IPAddress}}{{end}}' b0433130e779"
   ]
  },
  {
   "cell_type": "markdown",
   "id": "83465df9-2487-4276-8930-4336189e2d20",
   "metadata": {},
   "source": [
    "### Task 5. Publish"
   ]
  },
  {
   "cell_type": "code",
   "execution_count": null,
   "id": "48bd9d59-d080-4e25-9c85-b68e80586dd8",
   "metadata": {},
   "outputs": [],
   "source": [
    "gcloud auth configure-docker us-central1-docker.pkg.dev\n",
    "\n",
    "export PROJECT_ID=$(gcloud config get-value project)\n",
    "\n",
    "docker build -t us-central1-docker.pkg.dev/$PROJECT_ID/my-repository/node-app:0.2 .\n",
    "docker images\n",
    "\n",
    "docker push us-central1-docker.pkg.dev/$PROJECT_ID/my-repository/node-app:0.2"
   ]
  },
  {
   "cell_type": "code",
   "execution_count": null,
   "id": "7665f87f-2307-4c6b-ad3e-114346ddb499",
   "metadata": {},
   "outputs": [],
   "source": [
    "docker stop $(docker ps -q)\n",
    "docker rm $(docker ps -aq)"
   ]
  },
  {
   "cell_type": "code",
   "execution_count": null,
   "id": "58cf439f-0dfa-4bd2-8691-461c167228d7",
   "metadata": {},
   "outputs": [],
   "source": [
    "docker rmi us-central1-docker.pkg.dev/$PROJECT_ID/my-repository/node-app:0.2\n",
    "docker rmi node:lts\n",
    "docker rmi -f $(docker images -aq) # remove remaining images\n",
    "docker images"
   ]
  },
  {
   "cell_type": "code",
   "execution_count": null,
   "id": "9de3c60b-a99d-4efe-9e45-6533abe06dae",
   "metadata": {},
   "outputs": [],
   "source": [
    "docker pull us-central1-docker.pkg.dev/$PROJECT_ID/my-repository/node-app:0.2\n",
    "docker run -p 4000:80 -d us-central1-docker.pkg.dev/$PROJECT_ID/my-repository/node-app:0.2\n",
    "curl http://localhost:4000"
   ]
  }
 ],
 "metadata": {
  "kernelspec": {
   "display_name": "venv",
   "language": "python",
   "name": "venv"
  },
  "language_info": {
   "codemirror_mode": {
    "name": "ipython",
    "version": 3
   },
   "file_extension": ".py",
   "mimetype": "text/x-python",
   "name": "python",
   "nbconvert_exporter": "python",
   "pygments_lexer": "ipython3",
   "version": "3.8.10"
  }
 },
 "nbformat": 4,
 "nbformat_minor": 5
}
