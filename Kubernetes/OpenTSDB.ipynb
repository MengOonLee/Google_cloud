{
 "cells": [
  {
   "cell_type": "markdown",
   "id": "ab6c228c-51b9-408b-a0a8-b043cb19c604",
   "metadata": {},
   "source": [
    "# Using OpenTSDB to Monitor Time-Series Data on Cloud Platform"
   ]
  },
  {
   "cell_type": "markdown",
   "id": "ca4718e2-7cc6-445f-bd75-a385a62cdd02",
   "metadata": {},
   "source": [
    "### Task 1. Setup environment"
   ]
  },
  {
   "cell_type": "code",
   "execution_count": null,
   "id": "bb0d86a1-9e44-4997-b543-0ba75ba89946",
   "metadata": {},
   "outputs": [],
   "source": [
    "gcloud auth list\n",
    "gcloud config list project\n",
    "\n",
    "gcloud config set compute/zone us-central1-f\n",
    "\n",
    "git clone https://github.com/GoogleCloudPlatform/opentsdb-bigtable.git\n",
    "\n",
    "cd opentsdb-bigtable"
   ]
  },
  {
   "cell_type": "markdown",
   "id": "6ce0103f-05b8-4478-ad04-3bbd0e23b25d",
   "metadata": {},
   "source": [
    "### Task 2. Creating a Bigtable instance"
   ]
  },
  {
   "cell_type": "code",
   "execution_count": null,
   "id": "d3627a73-381c-4aca-84bc-1bcc69868946",
   "metadata": {},
   "outputs": [],
   "source": [
    "export BIGTABLE_INSTANCE_ID=bt-opentsdb\n",
    "export ZONE=us-central1-f\n",
    "\n",
    "gcloud bigtable instances create ${BIGTABLE_INSTANCE_ID} \\\n",
    "    --cluster-config=id=${BIGTABLE_INSTANCE_ID}-${ZONE},zone=${ZONE},nodes=1 \\\n",
    "    --display-name=OpenTSDB"
   ]
  },
  {
   "cell_type": "markdown",
   "id": "5c493be0-5510-4cbe-8caa-7eaea3e51b7f",
   "metadata": {},
   "source": [
    "### Task 3. Creating a Kubernetes Engine cluster"
   ]
  },
  {
   "cell_type": "code",
   "execution_count": null,
   "id": "0cebbfbb-603e-4083-be2e-9bd10a057d80",
   "metadata": {},
   "outputs": [],
   "source": [
    "gcloud container clusters create opentsdb-cluster \\\n",
    "    --zone=us-central1-f \\\n",
    "    --machine-type=n1-standard-4 \\\n",
    "    --scopes=\"https://www.googleapis.com/auth/cloud-platform\""
   ]
  },
  {
   "cell_type": "markdown",
   "id": "953a340e-b3a9-4e3f-88db-2eef8ce5ed17",
   "metadata": {},
   "source": [
    "### Task 4. Create the images used to test OpenTSDB"
   ]
  },
  {
   "cell_type": "code",
   "execution_count": null,
   "id": "d51b79f7-ecd3-4b2e-b9d1-d5c0a94bdadd",
   "metadata": {},
   "outputs": [],
   "source": [
    "export PROJECT_ID=$(gcloud config get project)\n",
    "export REGION=us-central1\n",
    "export AR_REPO=opentsdb-bt-repo\n",
    "export BIGTABLE_INSTANCE_ID=bt-opentsdb\n",
    "export ZONE=us-central1-f\n",
    "\n",
    "gcloud artifacts repositories create ${AR_REPO} \\\n",
    "    --repository-format=docker  \\\n",
    "    --location=${REGION} \\\n",
    "    --description=\"OpenTSDB on bigtable container images\""
   ]
  },
  {
   "cell_type": "markdown",
   "id": "bac0c37c-2898-40dd-8711-2fd2c1907640",
   "metadata": {},
   "source": [
    "### Task 5. Create the imaes used to deploy OpenTSDB"
   ]
  },
  {
   "cell_type": "code",
   "execution_count": null,
   "id": "f500c7ee-0cfc-4c13-906c-66bea2a5534c",
   "metadata": {},
   "outputs": [],
   "source": [
    "export SERVER_IMAGE_NAME=opentsdb-server-bigtable\n",
    "export SERVER_IMAGE_TAG=2.4.1\n",
    "\n",
    "gcloud builds submit \\\n",
    "--tag ${REGION}-docker.pkg.dev/${PROJECT_ID}/${AR_REPO}/${SERVER_IMAGE_NAME}:${SERVER_IMAGE_TAG} \\\n",
    "build\n",
    "\n",
    "export GEN_IMAGE_NAME=opentsdb-timeseries-generate\n",
    "export GEN_IMAGE_TAG=0.1\n",
    "\n",
    "cd generate-ts\n",
    "./build-cloud.sh\n",
    "cd .."
   ]
  },
  {
   "cell_type": "markdown",
   "id": "a1960bc3-5c4c-4837-9d3f-168039277c87",
   "metadata": {},
   "source": [
    "### Task 6. Create a ConfigMap"
   ]
  },
  {
   "cell_type": "code",
   "execution_count": null,
   "id": "eb4e9468-62e1-46ab-a506-c4e670dcd41f",
   "metadata": {},
   "outputs": [],
   "source": [
    "envsubst < configmaps/opentsdb-config.yaml.tpl | kubectl create -f -"
   ]
  },
  {
   "cell_type": "markdown",
   "id": "cd6aabb5-7ed3-4af1-aa3d-aca7528e3e40",
   "metadata": {},
   "source": [
    "### Task 7. Create OpenTSDB tables in Bigtable"
   ]
  },
  {
   "cell_type": "code",
   "execution_count": null,
   "id": "a87bf0a6-06ad-48fd-966b-ac39511430e4",
   "metadata": {},
   "outputs": [],
   "source": [
    "envsubst < jobs/opentsdb-init.yaml.tpl | kubectl create -f -\n",
    "\n",
    "kubectl describe jobs\n",
    "\n",
    "OPENTSDB_INIT_POD=$(kubectl get pods \\\n",
    "    --selector=job-name=opentsdb-init \\\n",
    "    --output=jsonpath={.items..metadata.name})\n",
    "\n",
    "kubectl logs $OPENTSDB_INIT_POD"
   ]
  },
  {
   "cell_type": "markdown",
   "id": "0f113a54-b195-49ee-866e-3054aed23f07",
   "metadata": {},
   "source": [
    "### Task 8. Deploy OpenTSDB"
   ]
  },
  {
   "cell_type": "code",
   "execution_count": null,
   "id": "6093861c-1644-4975-b0db-e9d04a1a4be6",
   "metadata": {},
   "outputs": [],
   "source": [
    "envsubst < deployments/opentsdb-write.yaml.tpl | kubectl create -f  -\n",
    "\n",
    "envsubst < deployments/opentsdb-read.yaml.tpl | kubectl create -f  -\n",
    "\n",
    "kubectl get pods"
   ]
  },
  {
   "cell_type": "markdown",
   "id": "448b2546-bec7-46fc-b3e9-63dccdac2366",
   "metadata": {},
   "source": [
    "### Task 9. Create the OpenTSDB services"
   ]
  },
  {
   "cell_type": "code",
   "execution_count": null,
   "id": "d895bbaf-322d-447d-b853-276795ca250f",
   "metadata": {},
   "outputs": [],
   "source": [
    "kubectl create -f services/opentsdb-write.yaml\n",
    "\n",
    "kubectl create -f services/opentsdb-read.yaml\n",
    "\n",
    "kubectl get services"
   ]
  },
  {
   "cell_type": "markdown",
   "id": "1c4bfee4-b9c8-4331-bc0a-7a700305961e",
   "metadata": {},
   "source": [
    "### Task 10. Writing to OpenTSDB"
   ]
  },
  {
   "cell_type": "code",
   "execution_count": null,
   "id": "7d93ab48-08ed-4531-b0a2-17a8a41fbecc",
   "metadata": {},
   "outputs": [],
   "source": [
    "envsubst < deployments/generate.yaml.tpl | kubectl create -f -"
   ]
  },
  {
   "cell_type": "markdown",
   "id": "16fb2660-3c14-4bd3-b5bb-adebee069bc9",
   "metadata": {},
   "source": [
    "### Task 11. Examine the time series data with Open TDB"
   ]
  },
  {
   "cell_type": "code",
   "execution_count": null,
   "id": "f807d98f-0626-49e7-8359-83ed9898f40d",
   "metadata": {},
   "outputs": [],
   "source": [
    "kubectl create -f configmaps/grafana.yaml\n",
    "\n",
    "kubectl get configmaps\n",
    "\n",
    "kubectl create -f deployments/grafana.yaml\n",
    "\n",
    "kubectl get deployments\n",
    "\n",
    "GRAFANA_PODS=$(kubectl get pods --selector=app=grafana \\\n",
    "    --output=jsonpath={.items..metadata.name})\n",
    "\n",
    "kubectl port-forward $GRAFANA_PODS 8080:3000"
   ]
  }
 ],
 "metadata": {
  "kernelspec": {
   "display_name": "venv",
   "language": "python",
   "name": "venv"
  },
  "language_info": {
   "codemirror_mode": {
    "name": "ipython",
    "version": 3
   },
   "file_extension": ".py",
   "mimetype": "text/x-python",
   "name": "python",
   "nbconvert_exporter": "python",
   "pygments_lexer": "ipython3",
   "version": "3.8.10"
  }
 },
 "nbformat": 4,
 "nbformat_minor": 5
}
