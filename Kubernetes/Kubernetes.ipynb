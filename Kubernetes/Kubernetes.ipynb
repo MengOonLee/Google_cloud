{
 "cells": [
  {
   "cell_type": "markdown",
   "id": "5e527c64-f0e0-46ae-a71d-2333b8a5d900",
   "metadata": {},
   "source": [
    "# Containers"
   ]
  },
  {
   "cell_type": "markdown",
   "id": "1ffc8f01-1973-4ec6-b108-3d347b74633d",
   "metadata": {
    "tags": []
   },
   "source": [
    "## Building Containers with DockerFile and Cloud Build"
   ]
  },
  {
   "cell_type": "code",
   "execution_count": null,
   "id": "9926d4f8-6b42-498d-ac69-09b7c948f651",
   "metadata": {},
   "outputs": [],
   "source": [
    "%%writefile quickstart.sh\n",
    "#!/bin/sh\n",
    "echo \"Hello, world! The time is $(date).\" "
   ]
  },
  {
   "cell_type": "code",
   "execution_count": null,
   "id": "426ed819-fd88-4fae-93c5-799b062c32d3",
   "metadata": {},
   "outputs": [],
   "source": [
    "%%writefile Dockerfile\n",
    "FROM alpine\n",
    "COPY quickstart.sh /\n",
    "CMD [\"/quickstart.sh\"]"
   ]
  },
  {
   "cell_type": "code",
   "execution_count": null,
   "id": "25020fc7-70ec-4284-baa1-406006612e7a",
   "metadata": {},
   "outputs": [],
   "source": [
    "%%bash\n",
    "chmod +x quickstart.sh\n",
    "gcloud builds submit --tag gcr.io/${GOOGLE_CLOUD_PROJECT}/quickstart-image ."
   ]
  },
  {
   "cell_type": "markdown",
   "id": "bfdeadda-1e19-4c4e-88e7-73e6762829be",
   "metadata": {
    "tags": []
   },
   "source": [
    "## Building Containers with a build configuration file and Cloud Build"
   ]
  },
  {
   "cell_type": "code",
   "execution_count": null,
   "id": "560cae3d-c05d-42a0-8040-5ceb257596c5",
   "metadata": {},
   "outputs": [],
   "source": [
    "%%writefile cloudbuild.yaml\n",
    "steps:\n",
    "- name: 'gcr.io/cloud-builders/docker'\n",
    "  args: [ 'build', '-t', 'gcr.io/$PROJECT_ID/quickstart-image', '.' ]\n",
    "images:\n",
    "- 'gcr.io/$PROJECT_ID/quickstart-image'"
   ]
  },
  {
   "cell_type": "code",
   "execution_count": null,
   "id": "44e2d757-66e1-48b1-b283-ed4846fa1783",
   "metadata": {},
   "outputs": [],
   "source": [
    "%%bash\n",
    "gcloud builds submit --config cloudbuild.yaml ."
   ]
  },
  {
   "cell_type": "markdown",
   "id": "79c813d2-6100-489c-8468-32bf186a6d30",
   "metadata": {
    "tags": []
   },
   "source": [
    "## Building and Testing Containers with a build configuration file and Cloud Build "
   ]
  },
  {
   "cell_type": "code",
   "execution_count": null,
   "id": "79374165-696e-4813-8d5f-3f329adb9f7a",
   "metadata": {},
   "outputs": [],
   "source": [
    "%%writefile quickstart.sh\n",
    "#!/bin/sh\n",
    "if [ -z \"$1\" ]\n",
    "then\n",
    "  echo \"Hello, world! The time is $(date).\"\n",
    "  exit 0\n",
    "else\n",
    "  exit 1\n",
    "fi"
   ]
  },
  {
   "cell_type": "code",
   "execution_count": null,
   "id": "ccec9a62-da34-4ab0-ae20-3d243350717a",
   "metadata": {},
   "outputs": [],
   "source": [
    "%%writefile cloudbuild.yaml\n",
    "steps:\n",
    "- name: 'gcr.io/cloud-builders/docker'\n",
    "  args: [ 'build', '-t', 'gcr.io/$PROJECT_ID/quickstart-image', '.' ]\n",
    "- name: 'gcr.io/$PROJECT_ID/quickstart-image'\n",
    "  args: ['fail']\n",
    "images:\n",
    "- 'gcr.io/$PROJECT_ID/quickstart-image"
   ]
  },
  {
   "cell_type": "code",
   "execution_count": null,
   "id": "c6412181-8311-424b-83d2-41778f9453a8",
   "metadata": {},
   "outputs": [],
   "source": [
    "%%bash\n",
    "gcloud builds submit --config cloudbuild.yaml ."
   ]
  },
  {
   "cell_type": "markdown",
   "id": "3ee9b294-2c77-45b3-9699-0e8f586ae9de",
   "metadata": {},
   "source": [
    "# Kubernetes"
   ]
  },
  {
   "cell_type": "markdown",
   "id": "9a261fc7-37fc-4129-ac08-e100ee1173c0",
   "metadata": {},
   "source": [
    "## Google Kubernetes Engine Deployments"
   ]
  },
  {
   "cell_type": "code",
   "execution_count": null,
   "id": "c524ec29-5a6d-4c80-a130-db7a62d06749",
   "metadata": {},
   "outputs": [],
   "source": [
    "# set the environment variable for the zone and cluster name.\n",
    "export my_zone=us-central1-a\n",
    "export my_cluster=standard-cluster-1\n",
    "\n",
    "# Configure kubectl tab completion\n",
    "source <(kubectl completion bash)\n",
    "\n",
    "# configure access to cluster\n",
    "gcloud container clusters get-credentials $my_cluster --zone $my_zone"
   ]
  },
  {
   "cell_type": "code",
   "execution_count": null,
   "id": "63f907c6-0dde-4e1a-9905-7ca797c5f50a",
   "metadata": {},
   "outputs": [],
   "source": [
    "%%writefile nginx-deployment.yaml\n",
    "# create a deployment using deployment manifest\n",
    "apiVersion: apps/v1\n",
    "kind: Deployment\n",
    "metadata:\n",
    "  name: nginx-deployment\n",
    "  labels:\n",
    "    app: nginx\n",
    "spec:\n",
    "  replicas: 3\n",
    "  selector:\n",
    "    matchLabels:\n",
    "      app: nginx\n",
    "  template:\n",
    "    metadata:\n",
    "      labels:\n",
    "        app: nginx\n",
    "    spec:\n",
    "      containers:\n",
    "      - name: nginx\n",
    "        image: nginx:1.7.9\n",
    "        ports:\n",
    "        - containerPort: 80"
   ]
  },
  {
   "cell_type": "code",
   "execution_count": null,
   "id": "d147c484-a19f-4c3c-bf6d-ce98da5c2e87",
   "metadata": {},
   "outputs": [],
   "source": [
    "# deploy manifest\n",
    "kubectl apply -f ./nginx-deployment.yaml\n",
    "\n",
    "kubectl get deployments\n",
    "\n",
    "# scale the Pod\n",
    "kubectl scale --replicas=3 deployment nginx-deployment\n",
    "\n",
    "# update the version of nginx\n",
    "kubectl set image deployment.v1.apps/nginx-deployment nginx=nginx:1.9.1 --record\n",
    "\n",
    "# rollout status\n",
    "kubectl rollout status deployment.v1.apps/nginx-deployment\n",
    "\n",
    "# View the rollout history\n",
    "kubectl rollout history deployment nginx-deployment\n",
    "\n",
    "# roll back to the previous version\n",
    "kubectl rollout undo deployments nginx-deployment\n",
    "\n",
    "# View the details of the latest deployment revision\n",
    "kubectl rollout history deployment/nginx-deployment --revision=3"
   ]
  },
  {
   "cell_type": "code",
   "execution_count": null,
   "id": "4ad40c7a-2418-4ba7-b27e-4e5121c93edb",
   "metadata": {},
   "outputs": [],
   "source": [
    "%%writefile service-nginx.yaml\n",
    "# deploys a LoadBalancer service\n",
    "apiVersion: v1\n",
    "kind: Service\n",
    "metadata:\n",
    "  name: nginx\n",
    "spec:\n",
    "  type: LoadBalancer\n",
    "  selector:\n",
    "    app: nginx\n",
    "  ports:\n",
    "  - protocol: TCP\n",
    "    port: 60000\n",
    "    targetPort: 80"
   ]
  },
  {
   "cell_type": "code",
   "execution_count": null,
   "id": "051de0f1-1b1d-4441-9846-8f96aef3064c",
   "metadata": {},
   "outputs": [],
   "source": [
    "# deploy service\n",
    "kubectl apply -f ./service-nginx.yaml\n",
    "\n",
    "# Verify the LoadBalancer creation\n",
    "kubectl get service nginx"
   ]
  },
  {
   "cell_type": "code",
   "execution_count": null,
   "id": "0982e70d-6104-4b03-bf9e-30311ed9b902",
   "metadata": {},
   "outputs": [],
   "source": [
    "%%writefile nginx-canary.yaml\n",
    "# canary deployment directs a subset of users to the canary version\n",
    "apiVersion: apps/v1\n",
    "kind: Deployment\n",
    "metadata:\n",
    "  name: nginx-canary\n",
    "  labels:\n",
    "    app: nginx\n",
    "spec:\n",
    "  replicas: 1\n",
    "  selector:\n",
    "    matchLabels:\n",
    "      app: nginx\n",
    "  template:\n",
    "    metadata:\n",
    "      labels:\n",
    "        app: nginx\n",
    "        track: canary\n",
    "        Version: 1.9.1\n",
    "    spec:\n",
    "      containers:\n",
    "      - name: nginx\n",
    "        image: nginx:1.9.1\n",
    "        ports:\n",
    "        - containerPort: 80"
   ]
  },
  {
   "cell_type": "code",
   "execution_count": null,
   "id": "9675c22d-0d83-4ba9-b611-86e411d54ed8",
   "metadata": {},
   "outputs": [],
   "source": [
    "# Create the canary deployment\n",
    "kubectl apply -f nginx-canary.yaml\n",
    "\n",
    "# verify\n",
    "kubectl get deployments\n",
    "\n",
    "# scale down the primary deployment to 0 replicas\n",
    "kubectl scale --replicas=0 deployment nginx-deployment"
   ]
  },
  {
   "cell_type": "code",
   "execution_count": null,
   "id": "9e1e4ec3-7725-4236-a162-e22a262517ea",
   "metadata": {},
   "outputs": [],
   "source": [
    "%%writefile service-nginx-canary.yaml\n",
    "# Session affinity\n",
    "apiVersion: v1\n",
    "kind: Service\n",
    "metadata:\n",
    "  name: nginx\n",
    "spec:\n",
    "  type: LoadBalancer\n",
    "  sessionAffinity: ClientIP\n",
    "  selector:\n",
    "    app: nginx\n",
    "  ports:\n",
    "  - protocol: TCP\n",
    "    port: 60000\n",
    "    targetPort: 80"
   ]
  }
 ],
 "metadata": {
  "kernelspec": {
   "display_name": "Python 3 (ipykernel)",
   "language": "python",
   "name": "python3"
  },
  "language_info": {
   "codemirror_mode": {
    "name": "ipython",
    "version": 3
   },
   "file_extension": ".py",
   "mimetype": "text/x-python",
   "name": "python",
   "nbconvert_exporter": "python",
   "pygments_lexer": "ipython3",
   "version": "3.8.10"
  }
 },
 "nbformat": 4,
 "nbformat_minor": 5
}
