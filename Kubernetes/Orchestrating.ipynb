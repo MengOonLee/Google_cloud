{
 "cells": [
  {
   "cell_type": "markdown",
   "id": "ada2d924-14ae-48c0-be8b-06296964d81b",
   "metadata": {},
   "source": [
    "# Orchestrating the Cloud with Kubernetes"
   ]
  },
  {
   "cell_type": "code",
   "execution_count": null,
   "id": "0625daa5-0fdc-4c85-a50b-9db70449cd01",
   "metadata": {},
   "outputs": [],
   "source": [
    "gcloud auth list\n",
    "gcloud config list project\n",
    "\n",
    "gcloud config set compute/zone us-central1-b\n",
    "gcloud container clusters create io\n",
    "gcloud container clusters get-credentials io"
   ]
  },
  {
   "cell_type": "markdown",
   "id": "5ebb6888-9bdb-4bd8-b661-db129b54600b",
   "metadata": {},
   "source": [
    "### Task 1. Get the sample code"
   ]
  },
  {
   "cell_type": "code",
   "execution_count": null,
   "id": "6c8ef762-6d6c-4ef4-b0b8-ead1aaa774d7",
   "metadata": {},
   "outputs": [],
   "source": [
    "gsutil cp -r gs://spls/gsp021/* .\n",
    "cd orchestrate-with-kubernetes/kubernetes"
   ]
  },
  {
   "cell_type": "markdown",
   "id": "a6750303-e1f0-4c8c-b3e5-330dcec73137",
   "metadata": {},
   "source": [
    "### Task 2. Quick Kubernetes Demo"
   ]
  },
  {
   "cell_type": "code",
   "execution_count": null,
   "id": "171100bd-e914-4135-bcc8-d3b1d9db2dde",
   "metadata": {},
   "outputs": [],
   "source": [
    "kubectl create deployment nginx --image=nginx:1.10.0\n",
    "kubectl get pods\n",
    "kubectl expose deployment nginx --port 80 --type LoadBalancer\n",
    "kubectl get services\n",
    "curl http://<External IP>:80"
   ]
  },
  {
   "cell_type": "markdown",
   "id": "de7ff95f-aa30-40ca-92e6-690c4fc329f1",
   "metadata": {},
   "source": [
    "### Task 4. Creating Pods"
   ]
  },
  {
   "cell_type": "code",
   "execution_count": null,
   "id": "a132b9ff-add6-402b-bafb-d6b3873dd8d3",
   "metadata": {},
   "outputs": [],
   "source": [
    "%%writefile pods/monolith.yaml\n",
    "apiVersion: v1\n",
    "kind: Pod\n",
    "metadata:\n",
    "  name: monolith\n",
    "  labels:\n",
    "    app: monolith\n",
    "spec:\n",
    "  containers:\n",
    "    - name: monolith\n",
    "      image: kelseyhightower/monolith:1.0.0\n",
    "      args:\n",
    "        - \"-http=0.0.0.0:80\"\n",
    "        - \"-health=0.0.0.0:81\"\n",
    "        - \"-secret=secret\"\n",
    "      ports:\n",
    "        - name: http\n",
    "          containerPort: 80\n",
    "        - name: health\n",
    "          containerPort: 81\n",
    "      resources:\n",
    "        limits:\n",
    "          cpu: 0.2\n",
    "          memory: \"10Mi\""
   ]
  },
  {
   "cell_type": "code",
   "execution_count": null,
   "id": "56c9260c-ab39-42e3-a28e-4fe6d6210179",
   "metadata": {},
   "outputs": [],
   "source": [
    "kubectl create -f pods/monolith.yaml\n",
    "kubectl get pods\n",
    "kubectl describe pods monolith"
   ]
  },
  {
   "cell_type": "markdown",
   "id": "f00914b7-95d1-4551-93be-7aa028285420",
   "metadata": {},
   "source": [
    "### Task 5. Interacting with pods"
   ]
  },
  {
   "cell_type": "code",
   "execution_count": null,
   "id": "68055525-6245-48ef-95cd-1740427129a8",
   "metadata": {},
   "outputs": [],
   "source": [
    "kubectl port-forward monolith 10080:80\n",
    "curl http://127.0.0.1:10080\n",
    "curl http://127.0.0.1:10080/secure\n",
    "curl -u user http://127.0.0.1:10080/login\n",
    "\n",
    "TOKEN=$(curl http://127.0.0.1:10080/login -u user|jq -r '.token')\n",
    "curl -H \"Authorization: Bearer $TOKEN\" \n",
    "http://127.0.0.1:10080/secure\n",
    "\n",
    "kubectl logs monolith\n",
    "kubectl logs -f monolith\n",
    "\n",
    "curl http://127.0.0.1:10080\n",
    "\n",
    "kubectl exec monolith --stdin --tty -c monolith -- /bin/sh\n",
    "\n",
    "ping -c 3 google.com"
   ]
  },
  {
   "cell_type": "markdown",
   "id": "1bcced8b-2188-45c5-9478-4e51eec2ab9b",
   "metadata": {},
   "source": [
    "### Task 7. Creating a services"
   ]
  },
  {
   "cell_type": "code",
   "execution_count": null,
   "id": "2b084503-662f-4132-8ceb-8183b22c6959",
   "metadata": {},
   "outputs": [],
   "source": [
    "kubectl create secret generic tls-certs --from-file tls/\n",
    "kubectl create configmap nginx-proxy-conf --from-file nginx/proxy.conf\n",
    "kubectl create -f pods/secure-monolith.yaml"
   ]
  },
  {
   "cell_type": "code",
   "execution_count": null,
   "id": "cc91bead-b849-4125-b4f9-4d9cadc7b821",
   "metadata": {},
   "outputs": [],
   "source": [
    "%%writefile services/monolith.yaml\n",
    "kind: Service\n",
    "apiVersion: v1\n",
    "metadata:\n",
    "  name: \"monolith\"\n",
    "spec:\n",
    "  selector:\n",
    "    app: \"monolith\"\n",
    "    secure: \"enabled\"\n",
    "  ports:\n",
    "    - protocol: \"TCP\"\n",
    "      port: 443\n",
    "      targetPort: 443\n",
    "      nodePort: 31000\n",
    "  type: NodePort"
   ]
  },
  {
   "cell_type": "code",
   "execution_count": null,
   "id": "33ba4414-5fab-4f0b-b629-1e4beed76f90",
   "metadata": {},
   "outputs": [],
   "source": [
    "kubectl create -f services/monolith.yaml\n",
    "\n",
    "gcloud compute firewall-rules create allow-monolith-nodeport \\\n",
    "  --allow=tcp:31000\n",
    "\n",
    "gcloud compute instances list\n",
    "\n",
    "kubectl get services monolith\n",
    "kubectl describe services monolith\n",
    "\n",
    "curl -k https://<EXTERNAL_IP>:31000"
   ]
  },
  {
   "cell_type": "markdown",
   "id": "ca3160bf-1e20-4281-b8af-e10bb2b77e82",
   "metadata": {},
   "source": [
    "### Task 8. Adding labels to pods"
   ]
  },
  {
   "cell_type": "code",
   "execution_count": null,
   "id": "cf546de8-69c7-45d9-9b8f-5326f88030f7",
   "metadata": {},
   "outputs": [],
   "source": [
    "kubectl get pods -l \"app=monolith\"\n",
    "\n",
    "kubectl get pods -l \"app=monolith,secure=enabled\"\n",
    "\n",
    "kubectl label pods secure-monolith 'secure=enabled'\n",
    "kubectl get pods secure-monolith --show-labels\n",
    "\n",
    "kubectl describe services monolith | grep Endpoints\n",
    "\n",
    "gcloud compute instances list\n",
    "curl -k https://<EXTERNAL_IP>:31000"
   ]
  },
  {
   "cell_type": "markdown",
   "id": "14cf7486-9a4a-4bf2-9312-4ed7b3798387",
   "metadata": {},
   "source": [
    "### Task 10. Creating deployments"
   ]
  },
  {
   "cell_type": "code",
   "execution_count": null,
   "id": "631fdc40-277f-4839-aee4-630b74f51b7b",
   "metadata": {},
   "outputs": [],
   "source": [
    "%%writefile deployments/auth.yaml\n",
    "apiVersion: apps/v1\n",
    "kind: Deployment\n",
    "metadata:\n",
    "  name: auth\n",
    "spec:\n",
    "  selector:\n",
    "    matchlabels:\n",
    "      app: auth\n",
    "  replicas: 1\n",
    "  template:\n",
    "    metadata:\n",
    "      labels:\n",
    "        app: auth\n",
    "        track: stable\n",
    "    spec:\n",
    "      containers:\n",
    "        - name: auth\n",
    "          image: \"kelseyhightower/auth:2.0.0\"\n",
    "          ports:\n",
    "            - name: http\n",
    "              containerPort: 80\n",
    "            - name: health\n",
    "              containerPort: 81"
   ]
  },
  {
   "cell_type": "code",
   "execution_count": null,
   "id": "e65ca526-6198-4baf-b1cf-1818edff7851",
   "metadata": {},
   "outputs": [],
   "source": [
    "kubectl create -f deployments/auth.yaml\n",
    "kubectl create -f services/auth.yaml\n",
    "\n",
    "kubectl create -f deployments/hello.yaml\n",
    "kubectl create -f services/hello.yaml\n",
    "\n",
    "kubectl create configmap nginx-frontend-conf --from-file=nginx/frontend.conf\n",
    "kubectl create -f deployments/frontend.yaml\n",
    "kubectl create -f services/frontend.yaml\n",
    "\n",
    "kubectl get services frontend\n",
    "curl -k https://<EXTERNAL-IP>"
   ]
  }
 ],
 "metadata": {
  "kernelspec": {
   "display_name": "venv",
   "language": "python",
   "name": "venv"
  },
  "language_info": {
   "codemirror_mode": {
    "name": "ipython",
    "version": 3
   },
   "file_extension": ".py",
   "mimetype": "text/x-python",
   "name": "python",
   "nbconvert_exporter": "python",
   "pygments_lexer": "ipython3",
   "version": "3.8.10"
  }
 },
 "nbformat": 4,
 "nbformat_minor": 5
}
