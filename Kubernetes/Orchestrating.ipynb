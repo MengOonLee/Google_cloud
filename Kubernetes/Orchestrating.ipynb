{
 "cells": [
  {
   "cell_type": "markdown",
   "id": "ada2d924-14ae-48c0-be8b-06296964d81b",
   "metadata": {},
   "source": [
    "# Orchestrating the Cloud with Kubernetes"
   ]
  },
  {
   "cell_type": "code",
   "execution_count": null,
   "id": "0625daa5-0fdc-4c85-a50b-9db70449cd01",
   "metadata": {},
   "outputs": [],
   "source": [
    "gcloud auth list\n",
    "gcloud config list project\n",
    "\n",
    "gcloud config set compute/zone us-central1-b\n",
    "gcloud container clusters create io\n",
    "gcloud container clusters get-credentials io"
   ]
  },
  {
   "cell_type": "markdown",
   "id": "5ebb6888-9bdb-4bd8-b661-db129b54600b",
   "metadata": {},
   "source": [
    "### Task 1. Get the sample code"
   ]
  },
  {
   "cell_type": "code",
   "execution_count": null,
   "id": "6c8ef762-6d6c-4ef4-b0b8-ead1aaa774d7",
   "metadata": {},
   "outputs": [],
   "source": [
    "gsutil cp -r gs://spls/gsp021/* .\n",
    "cd orchestrate-with-kubernetes/kubernetes"
   ]
  },
  {
   "cell_type": "markdown",
   "id": "a6750303-e1f0-4c8c-b3e5-330dcec73137",
   "metadata": {},
   "source": [
    "### Task 2. Quick Kubernetes Demo"
   ]
  },
  {
   "cell_type": "code",
   "execution_count": null,
   "id": "171100bd-e914-4135-bcc8-d3b1d9db2dde",
   "metadata": {},
   "outputs": [],
   "source": [
    "kubectl create deployment nginx --image=nginx:1.10.0\n",
    "kubectl get pods\n",
    "kubectl expose deployment nginx --port 80 --type LoadBalancer\n",
    "kubectl get services\n",
    "curl http://<External IP>:80"
   ]
  },
  {
   "cell_type": "markdown",
   "id": "de7ff95f-aa30-40ca-92e6-690c4fc329f1",
   "metadata": {},
   "source": [
    "### Task 3. Pods"
   ]
  },
  {
   "cell_type": "code",
   "execution_count": null,
   "id": "a132b9ff-add6-402b-bafb-d6b3873dd8d3",
   "metadata": {},
   "outputs": [],
   "source": []
  }
 ],
 "metadata": {
  "kernelspec": {
   "display_name": "venv",
   "language": "python",
   "name": "venv"
  },
  "language_info": {
   "codemirror_mode": {
    "name": "ipython",
    "version": 3
   },
   "file_extension": ".py",
   "mimetype": "text/x-python",
   "name": "python",
   "nbconvert_exporter": "python",
   "pygments_lexer": "ipython3",
   "version": "3.8.10"
  }
 },
 "nbformat": 4,
 "nbformat_minor": 5
}
