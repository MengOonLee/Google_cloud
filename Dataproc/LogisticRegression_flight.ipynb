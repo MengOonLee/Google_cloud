{
 "cells": [
  {
   "cell_type": "markdown",
   "id": "b3d75e3e-4a82-496f-9faa-0c116bb8b8af",
   "metadata": {},
   "source": [
    "# Machine Learning with Spark on Google Cloud Dataproc"
   ]
  },
  {
   "cell_type": "markdown",
   "id": "d4789a5b-614d-4e8b-aa32-ad4962570601",
   "metadata": {},
   "source": [
    "## Create a Dataproc cluster"
   ]
  },
  {
   "cell_type": "code",
   "execution_count": null,
   "id": "8379b8eb-7b6e-452b-9020-6c75b5f7f0dc",
   "metadata": {},
   "outputs": [],
   "source": [
    "%%bash\n",
    "# Clone the repository\n",
    "git clone https://github.com/GoogleCloudPlatform/data-science-on-gcp/\n",
    "cd ~/data-science-on-gcp/06_dataproc\n",
    "\n",
    "# Set the project and bucket variable\n",
    "export PROJECT_ID=$(gcloud info --format='value(config.project)')\n",
    "export BUCKET_NAME=$PROJECT_ID-dsongcp\n",
    "\n",
    "# Create a Dataproc cluster\n",
    "./create_cluster.sh $BUCKET_NAME us-central1"
   ]
  },
  {
   "cell_type": "markdown",
   "id": "2aa2201f-e395-4c51-908c-9b3e3e729e49",
   "metadata": {},
   "source": [
    "## Start pyspark session"
   ]
  },
  {
   "cell_type": "code",
   "execution_count": 1,
   "id": "c6d4e96d-2b39-4013-b4c1-fb014656a1df",
   "metadata": {},
   "outputs": [],
   "source": [
    "# Set up google cloud storage bucket \n",
    "PROJECT=!gcloud config get-value project\n",
    "PROJECT=PROJECT[0]\n",
    "BUCKET = PROJECT + '-dsongcp'\n",
    "import os\n",
    "os.environ['BUCKET'] = PROJECT + '-dsongcp'"
   ]
  },
  {
   "cell_type": "code",
   "execution_count": 2,
   "id": "7cc4978c-5e1d-4035-bd0c-dbd4d285ba43",
   "metadata": {},
   "outputs": [
    {
     "name": "stderr",
     "output_type": "stream",
     "text": [
      "Setting default log level to \"WARN\".\n",
      "To adjust logging level use sc.setLogLevel(newLevel). For SparkR, use setLogLevel(newLevel).\n",
      "22/05/29 07:51:58 INFO org.apache.spark.SparkEnv: Registering MapOutputTracker\n",
      "22/05/29 07:51:58 INFO org.apache.spark.SparkEnv: Registering BlockManagerMaster\n",
      "22/05/29 07:51:58 INFO org.apache.spark.SparkEnv: Registering BlockManagerMasterHeartbeat\n",
      "22/05/29 07:51:58 INFO org.apache.spark.SparkEnv: Registering OutputCommitCoordinator\n"
     ]
    }
   ],
   "source": [
    "# Create a spark session\n",
    "from pyspark.sql import SparkSession\n",
    "from pyspark import SparkContext\n",
    "sc = SparkContext('local', 'logistic')\n",
    "spark = SparkSession \\\n",
    "    .builder \\\n",
    "    .appName(\"Logistic regression w/ Spark ML\") \\\n",
    "    .getOrCreate()"
   ]
  },
  {
   "cell_type": "code",
   "execution_count": 3,
   "id": "6cc9d97a-79b2-4dac-a4b7-fefcb05255c8",
   "metadata": {},
   "outputs": [],
   "source": [
    "# Create a Spark Dataframe for training\n",
    "from pyspark.mllib.classification import LogisticRegressionWithLBFGS\n",
    "from pyspark.mllib.regression import LabeledPoint"
   ]
  },
  {
   "cell_type": "markdown",
   "id": "bb03ee61-02fc-4a35-ae1e-7bf0989dbc58",
   "metadata": {},
   "source": [
    "## Read and clean up dataset"
   ]
  },
  {
   "cell_type": "code",
   "execution_count": 4,
   "id": "94f98efe-0a54-4308-8ba3-fd9e4c301d92",
   "metadata": {
    "tags": []
   },
   "outputs": [
    {
     "name": "stderr",
     "output_type": "stream",
     "text": [
      "                                                                                \r"
     ]
    }
   ],
   "source": [
    "# Read the dataset\n",
    "traindays = spark.read \\\n",
    "    .option(\"header\", \"true\") \\\n",
    "    .csv('gs://{}/flights/trainday.csv'.format(BUCKET))\n",
    "traindays.createOrReplaceTempView('traindays')"
   ]
  },
  {
   "cell_type": "code",
   "execution_count": 5,
   "id": "b5adf76b-b706-4016-bbfe-a76df09208b7",
   "metadata": {},
   "outputs": [],
   "source": [
    "# Create a Spark SQL view\n",
    "traindays.createOrReplaceTempView('traindays')"
   ]
  },
  {
   "cell_type": "code",
   "execution_count": 6,
   "id": "538f844c-96ff-410a-b922-c9e87ede6c88",
   "metadata": {},
   "outputs": [
    {
     "name": "stdout",
     "output_type": "stream",
     "text": [
      "+----------+------------+\n",
      "|   FL_DATE|is_train_day|\n",
      "+----------+------------+\n",
      "|2015-01-01|        True|\n",
      "|2015-01-02|       False|\n",
      "|2015-01-03|       False|\n",
      "|2015-01-04|        True|\n",
      "|2015-01-05|        True|\n",
      "+----------+------------+\n",
      "\n"
     ]
    }
   ],
   "source": [
    "# Query the first few records from the training dataset view\n",
    "spark.sql(\"SELECT * from traindays LIMIT 5\").show()"
   ]
  },
  {
   "cell_type": "code",
   "execution_count": 7,
   "id": "0442c499-b83c-42d2-9916-2a8950f180d1",
   "metadata": {},
   "outputs": [],
   "source": [
    "# Use shard files, a representative subset of the full dataset\n",
    "inputs = 'gs://{}/flights/tzcorr/all_flights-00000-*'.format(BUCKET)"
   ]
  },
  {
   "cell_type": "code",
   "execution_count": 8,
   "id": "78a9d311-6e67-4627-b79a-f0b6c54a326c",
   "metadata": {},
   "outputs": [
    {
     "name": "stderr",
     "output_type": "stream",
     "text": [
      "                                                                                \r"
     ]
    }
   ],
   "source": [
    "# Read the data into SparkSQL\n",
    "flights = spark.read.json(inputs)\n",
    "flights.createOrReplaceTempView('flights')"
   ]
  },
  {
   "cell_type": "code",
   "execution_count": 9,
   "id": "2944f251-7346-4f78-9e32-5f52089bec37",
   "metadata": {},
   "outputs": [],
   "source": [
    "# Create a query that uses data only from days identified as part of the training dataset\n",
    "trainquery = \"\"\"\n",
    "SELECT\n",
    "  DEP_DELAY, TAXI_OUT, ARR_DELAY, DISTANCE\n",
    "FROM flights f\n",
    "JOIN traindays t\n",
    "ON f.FL_DATE == t.FL_DATE\n",
    "WHERE\n",
    "  t.is_train_day == 'True'\n",
    "\"\"\"\n",
    "traindata = spark.sql(trainquery)"
   ]
  },
  {
   "cell_type": "code",
   "execution_count": 10,
   "id": "55d90f87-dadb-4c30-86e6-98c26bfeceaa",
   "metadata": {},
   "outputs": [
    {
     "name": "stdout",
     "output_type": "stream",
     "text": [
      "[Row(DEP_DELAY=-3.0, TAXI_OUT=14.0, ARR_DELAY=-16.0, DISTANCE='370.00'), Row(DEP_DELAY=24.0, TAXI_OUT=12.0, ARR_DELAY=12.0, DISTANCE='370.00')]\n"
     ]
    }
   ],
   "source": [
    "# Inspect the data\n",
    "print(traindata.head(2))"
   ]
  },
  {
   "cell_type": "code",
   "execution_count": 11,
   "id": "cdf567e3-5256-4c2f-b52b-7b5323a8af52",
   "metadata": {},
   "outputs": [
    {
     "name": "stderr",
     "output_type": "stream",
     "text": [
      "[Stage 6:>                                                          (0 + 1) / 1]\r"
     ]
    },
    {
     "name": "stdout",
     "output_type": "stream",
     "text": [
      "+-------+------------------+------------------+------------------+-----------------+\n",
      "|summary|         DEP_DELAY|          TAXI_OUT|         ARR_DELAY|         DISTANCE|\n",
      "+-------+------------------+------------------+------------------+-----------------+\n",
      "|  count|             46439|             46422|             46355|            46936|\n",
      "|   mean| 8.561769202609876|15.427685149282668|3.2853413871211306|916.0707133117437|\n",
      "| stddev|30.752752455053308| 8.427384168645757| 32.98848343691196|591.9164453757172|\n",
      "|    min|             -22.0|               2.0|             -77.0|          1009.00|\n",
      "|    max|             711.0|             178.0|             719.0|           980.00|\n",
      "+-------+------------------+------------------+------------------+-----------------+\n",
      "\n"
     ]
    },
    {
     "name": "stderr",
     "output_type": "stream",
     "text": [
      "                                                                                \r"
     ]
    }
   ],
   "source": [
    "# Some analysis of the dataset\n",
    "traindata.describe().show()"
   ]
  },
  {
   "cell_type": "code",
   "execution_count": 12,
   "id": "873c17fa-3908-4920-b2b8-7eb6e32fabcd",
   "metadata": {},
   "outputs": [
    {
     "name": "stderr",
     "output_type": "stream",
     "text": [
      "[Stage 10:>                                                         (0 + 1) / 1]\r"
     ]
    },
    {
     "name": "stdout",
     "output_type": "stream",
     "text": [
      "+-------+------------------+------------------+------------------+-----------------+\n",
      "|summary|         DEP_DELAY|          TAXI_OUT|         ARR_DELAY|         DISTANCE|\n",
      "+-------+------------------+------------------+------------------+-----------------+\n",
      "|  count|             46355|             46355|             46355|            46355|\n",
      "|   mean| 8.539531873584295|15.421507927947363|3.2853413871211306| 917.660230827311|\n",
      "| stddev|30.700034730525516|  8.41130660980497| 32.98848343691196|592.0960248192869|\n",
      "|    min|             -22.0|               2.0|             -77.0|          1009.00|\n",
      "|    max|             711.0|             178.0|             719.0|           980.00|\n",
      "+-------+------------------+------------------+------------------+-----------------+\n",
      "\n"
     ]
    },
    {
     "name": "stderr",
     "output_type": "stream",
     "text": [
      "                                                                                \r"
     ]
    }
   ],
   "source": [
    "# Clean the dataset\n",
    "# There are different count stats for all of the variables beause:\n",
    "# - Flights are scheduled but never depart\n",
    "# - Some depart but are cancelled before take off\n",
    "# - Sone flights are diverted and therefore never arrive\n",
    "# Remove NULLs in the delay variables (these correspond to canceled or diverted flights).\n",
    "trainquery = \"\"\"\n",
    "SELECT\n",
    "DEP_DELAY, TAXI_OUT, ARR_DELAY, DISTANCE\n",
    "FROM flights f\n",
    "JOIN traindays t\n",
    "ON f.FL_DATE == t.FL_DATE\n",
    "WHERE\n",
    "t.is_train_day == 'True' AND\n",
    "f.dep_delay IS NOT NULL AND \n",
    "f.arr_delay IS NOT NULL\n",
    "\"\"\"\n",
    "traindata = spark.sql(trainquery)\n",
    "traindata.describe().show()"
   ]
  },
  {
   "cell_type": "code",
   "execution_count": 13,
   "id": "cb2d78cc-59d7-4893-8276-925ff9369afc",
   "metadata": {},
   "outputs": [
    {
     "name": "stderr",
     "output_type": "stream",
     "text": [
      "[Stage 14:>                                                         (0 + 1) / 1]\r"
     ]
    },
    {
     "name": "stdout",
     "output_type": "stream",
     "text": [
      "+-------+------------------+------------------+------------------+-----------------+\n",
      "|summary|         DEP_DELAY|          TAXI_OUT|         ARR_DELAY|         DISTANCE|\n",
      "+-------+------------------+------------------+------------------+-----------------+\n",
      "|  count|             46355|             46355|             46355|            46355|\n",
      "|   mean| 8.539531873584295|15.421507927947363|3.2853413871211306| 917.660230827311|\n",
      "| stddev|30.700034730525516|  8.41130660980497| 32.98848343691196|592.0960248192869|\n",
      "|    min|             -22.0|               2.0|             -77.0|          1009.00|\n",
      "|    max|             711.0|             178.0|             719.0|           980.00|\n",
      "+-------+------------------+------------------+------------------+-----------------+\n",
      "\n"
     ]
    },
    {
     "name": "stderr",
     "output_type": "stream",
     "text": [
      "                                                                                \r"
     ]
    }
   ],
   "source": [
    "# Remove flights that have been cancelled or diverted\n",
    "trainquery = \"\"\"\n",
    "SELECT\n",
    "  DEP_DELAY, TAXI_OUT, ARR_DELAY, DISTANCE\n",
    "FROM flights f\n",
    "JOIN traindays t\n",
    "ON f.FL_DATE == t.FL_DATE\n",
    "WHERE\n",
    "  t.is_train_day == 'True' AND\n",
    "  f.CANCELLED == 'False' AND \n",
    "  f.DIVERTED == 'False'\n",
    "\"\"\"\n",
    "traindata = spark.sql(trainquery)\n",
    "traindata.describe().show()"
   ]
  },
  {
   "cell_type": "markdown",
   "id": "f99946d2-37dc-47ee-90fc-c627b8e3d2e6",
   "metadata": {},
   "source": [
    "## Develop a logistic regression model"
   ]
  },
  {
   "cell_type": "code",
   "execution_count": 14,
   "id": "227facf4-3b30-49b5-a58c-388c5b450711",
   "metadata": {},
   "outputs": [],
   "source": [
    "# Converts data into a training example, which contains a sample of the input features\n",
    "# and the correct label for those inputs\n",
    "# Label = arrival delay < 15 mins\n",
    "# Inputs = departure delay, taxi out and flight distance\n",
    "def to_example(fields):\n",
    "    return LabeledPoint(\\\n",
    "              float(fields['ARR_DELAY'] < 15), #ontime? \\\n",
    "              [ \\\n",
    "                  fields['DEP_DELAY'], \\\n",
    "                  fields['TAXI_OUT'],  \\\n",
    "                  fields['DISTANCE'],  \\\n",
    "              ])"
   ]
  },
  {
   "cell_type": "code",
   "execution_count": 15,
   "id": "dc8f9c22-fdc7-40e4-b947-9cbdcb983d82",
   "metadata": {},
   "outputs": [],
   "source": [
    "# Map training example function to the training dataset\n",
    "examples = traindata.rdd.map(to_example)"
   ]
  },
  {
   "cell_type": "code",
   "execution_count": 16,
   "id": "c552fd11-4304-4e5b-9486-970f0ac76ff1",
   "metadata": {},
   "outputs": [
    {
     "name": "stderr",
     "output_type": "stream",
     "text": [
      "22/05/29 07:54:35 WARN com.github.fommil.netlib.BLAS: Failed to load implementation from: com.github.fommil.netlib.NativeSystemBLAS\n",
      "22/05/29 07:54:35 WARN com.github.fommil.netlib.BLAS: Failed to load implementation from: com.github.fommil.netlib.NativeRefBLAS\n"
     ]
    }
   ],
   "source": [
    "# Creates a logistic regression model based on training dataset\n",
    "# <intercept=True> because the prediction of arrival delay is nonzero when \n",
    "# all of the inputs are zero \n",
    "lrmodel = LogisticRegressionWithLBFGS.train(examples, intercept=True)"
   ]
  },
  {
   "cell_type": "code",
   "execution_count": 17,
   "id": "28599a05-e377-4f2c-9bb6-3c724ce6c50b",
   "metadata": {},
   "outputs": [
    {
     "name": "stdout",
     "output_type": "stream",
     "text": [
      "[-0.17926510230641074,-0.1353410840270897,0.00047781052266304745] 5.403405250989946\n"
     ]
    }
   ],
   "source": [
    "# The lrmodel object will have weights and an intercept\n",
    "print(lrmodel.weights, lrmodel.intercept)"
   ]
  },
  {
   "cell_type": "code",
   "execution_count": 18,
   "id": "7d9b411b-1b3d-4d28-85fd-be42de229cb8",
   "metadata": {},
   "outputs": [
    {
     "name": "stdout",
     "output_type": "stream",
     "text": [
      "1\n"
     ]
    }
   ],
   "source": [
    "# Departure delay of 6 mins,\n",
    "# Taxi-out time of 12 mins,\n",
    "# Flight distance of 594 miles\n",
    "# predicts the flight will be on time\n",
    "print(lrmodel.predict([6.0,12.0,594.0]))"
   ]
  },
  {
   "cell_type": "code",
   "execution_count": 19,
   "id": "e085ed60-1e58-401e-8a1e-0f33999e02c8",
   "metadata": {},
   "outputs": [
    {
     "name": "stdout",
     "output_type": "stream",
     "text": [
      "0\n"
     ]
    }
   ],
   "source": [
    "# Departure delay of 36 mins predicts the flight won't be on time\n",
    "print(lrmodel.predict([36.0,12.0,594.0]))"
   ]
  },
  {
   "cell_type": "code",
   "execution_count": 20,
   "id": "194968f6-595f-4737-923b-45a8ed9577b0",
   "metadata": {},
   "outputs": [
    {
     "name": "stdout",
     "output_type": "stream",
     "text": [
      "0.9520080900763146\n",
      "0.08390675828170738\n"
     ]
    }
   ],
   "source": [
    "# Return the actual probability by clearing the threshold\n",
    "lrmodel.clearThreshold()\n",
    "print(lrmodel.predict([6.0,12.0,594.0]))\n",
    "print(lrmodel.predict([36.0,12.0,594.0]))"
   ]
  },
  {
   "cell_type": "code",
   "execution_count": 21,
   "id": "55f3e403-6054-4b97-a540-e464a5c1d29c",
   "metadata": {},
   "outputs": [
    {
     "name": "stdout",
     "output_type": "stream",
     "text": [
      "1\n",
      "0\n"
     ]
    }
   ],
   "source": [
    "# Set the threshold = 0.7 corresponds to requirement of cancelling meetings if \n",
    "# the probability of on time arrival falls below 70%\n",
    "lrmodel.setThreshold(0.7) \n",
    "print(lrmodel.predict([6.0,12.0,594.0]))\n",
    "print(lrmodel.predict([36.0,12.0,594.0]))"
   ]
  },
  {
   "cell_type": "markdown",
   "id": "8787f325-262d-46e7-94a5-2d6319d13a02",
   "metadata": {},
   "source": [
    "## Save and restore a model"
   ]
  },
  {
   "cell_type": "code",
   "execution_count": 22,
   "id": "d75476ef-cc7e-4ea0-8bc4-f37aafdf2895",
   "metadata": {},
   "outputs": [
    {
     "name": "stderr",
     "output_type": "stream",
     "text": [
      "CommandException: 1 files/objects could not be removed.\n"
     ]
    },
    {
     "data": {
      "text/plain": [
       "256"
      ]
     },
     "execution_count": 22,
     "metadata": {},
     "output_type": "execute_result"
    }
   ],
   "source": [
    "# Make sure storage location is empty\n",
    "MODEL_FILE='gs://' + BUCKET + '/flights/sparkmloutput/model'\n",
    "os.system('gsutil -m rm -r ' + MODEL_FILE)"
   ]
  },
  {
   "cell_type": "code",
   "execution_count": 23,
   "id": "748e036a-4795-466a-bb7c-7f3e9c87a77e",
   "metadata": {},
   "outputs": [
    {
     "name": "stderr",
     "output_type": "stream",
     "text": [
      "                                                                                \r"
     ]
    },
    {
     "name": "stdout",
     "output_type": "stream",
     "text": [
      "gs://qwiklabs-gcp-04-4790a6e5810a-dsongcp/flights/sparkmloutput/model saved\n"
     ]
    }
   ],
   "source": [
    "# Save the model\n",
    "lrmodel.save(sc, MODEL_FILE)\n",
    "print('{} saved'.format(MODEL_FILE))"
   ]
  },
  {
   "cell_type": "code",
   "execution_count": 24,
   "id": "989bb637-1ed2-42a4-8d52-3f3a0207ee48",
   "metadata": {},
   "outputs": [
    {
     "name": "stdout",
     "output_type": "stream",
     "text": [
      "0\n"
     ]
    }
   ],
   "source": [
    "# Destroy the model\n",
    "lrmodel = 0\n",
    "print(lrmodel)"
   ]
  },
  {
   "cell_type": "code",
   "execution_count": 25,
   "id": "12620947-5b1f-485a-8c3a-6ecca2ed9a5b",
   "metadata": {},
   "outputs": [],
   "source": [
    "# Retrieve the model from storage\n",
    "from pyspark.mllib.classification import LogisticRegressionModel\n",
    "lrmodel = LogisticRegressionModel.load(sc, MODEL_FILE)\n",
    "lrmodel.setThreshold(0.7)"
   ]
  },
  {
   "cell_type": "markdown",
   "id": "5b67bdd5-6715-48e3-93a7-33ed44ebfdf0",
   "metadata": {},
   "source": [
    "## Predict with the logistic regression model"
   ]
  },
  {
   "cell_type": "code",
   "execution_count": 26,
   "id": "fdc72821-e78a-4b8f-92ee-2fc2b93ccbab",
   "metadata": {},
   "outputs": [
    {
     "name": "stdout",
     "output_type": "stream",
     "text": [
      "0\n"
     ]
    }
   ],
   "source": [
    "# Predicting the flight will probably arrive late,\n",
    "# given 70% probability threshold\n",
    "print(lrmodel.predict([36.0,12.0,594.0]))"
   ]
  },
  {
   "cell_type": "code",
   "execution_count": 27,
   "id": "e9538054-7bfb-4447-8442-cb12cb546265",
   "metadata": {},
   "outputs": [
    {
     "name": "stdout",
     "output_type": "stream",
     "text": [
      "1\n"
     ]
    }
   ],
   "source": [
    "# Predicting the flight will probably arrive on time,\n",
    "# given 70% probability threshold\n",
    "print(lrmodel.predict([8.0,4.0,594.0]))"
   ]
  },
  {
   "cell_type": "markdown",
   "id": "e165616a-d7d4-42d9-9fb6-a59744e139a1",
   "metadata": {},
   "source": [
    "## Examine model behavior"
   ]
  },
  {
   "cell_type": "code",
   "execution_count": 28,
   "id": "4c58ba0f-6067-4f83-8e33-dbc3b9efdcda",
   "metadata": {},
   "outputs": [
    {
     "name": "stdout",
     "output_type": "stream",
     "text": [
      "0.6689849289476673\n"
     ]
    }
   ],
   "source": [
    "# To make the model produce probabilities\n",
    "# The probability of arriving late increases as the departure delay increases\n",
    "lrmodel.clearThreshold()\n",
    "print(lrmodel.predict([20, 10, 500]))"
   ]
  },
  {
   "cell_type": "code",
   "execution_count": 29,
   "id": "bca76e35-b20d-4d3e-87c6-52aa021870cc",
   "metadata": {},
   "outputs": [
    {
     "data": {
      "text/plain": [
       "Text(0, 0.5, 'probability of ontime arrival')"
      ]
     },
     "execution_count": 29,
     "metadata": {},
     "output_type": "execute_result"
    },
    {
     "data": {
      "image/png": "[encoded data removed]",
      "text/plain": [
       "<Figure size 432x288 with 1 Axes>"
      ]
     },
     "metadata": {},
     "output_type": "display_data"
    }
   ],
   "source": [
    "import matplotlib.pyplot as plt\n",
    "import seaborn as sns\n",
    "import pandas as pd\n",
    "import numpy as np\n",
    "dist = np.arange(10, 2000, 10)\n",
    "prob = [lrmodel.predict([20, 10, d]) for d in dist]\n",
    "sns.set_style(\"whitegrid\")\n",
    "ax = plt.plot(dist, prob)\n",
    "plt.xlabel('distance (miles)')\n",
    "plt.ylabel('probability of ontime arrival')"
   ]
  },
  {
   "cell_type": "markdown",
   "id": "a6fe855a-3317-4bf4-a603-ff62641820aa",
   "metadata": {},
   "source": [
    "At a departure delay of 20 mins and a taxi-out time of 10 mins, the distance affects the probability that the flight is on time is relatively minor. The probability increases from about 0.63 to about 0.76 as the distance changes from very short hop to a cross-continent flight."
   ]
  },
  {
   "cell_type": "code",
   "execution_count": 30,
   "id": "b01412de-627d-4923-855f-7aea6bbd2469",
   "metadata": {},
   "outputs": [
    {
     "data": {
      "text/plain": [
       "Text(0, 0.5, 'probability of ontime arrival')"
      ]
     },
     "execution_count": 30,
     "metadata": {},
     "output_type": "execute_result"
    },
    {
     "data": {
      "image/png": "[encoded data removed]",
      "text/plain": [
       "<Figure size 432x288 with 1 Axes>"
      ]
     },
     "metadata": {},
     "output_type": "display_data"
    }
   ],
   "source": [
    "delay = np.arange(-20, 60, 1)\n",
    "prob = [lrmodel.predict([d, 10, 500]) for d in delay]\n",
    "ax = plt.plot(delay, prob)\n",
    "plt.xlabel('departure delay (minutes)')\n",
    "plt.ylabel('probability of ontime arrival')"
   ]
  },
  {
   "cell_type": "markdown",
   "id": "bbbf1064-0e01-467c-b67b-a6409177b913",
   "metadata": {},
   "source": [
    "On the other hand, if hold the taxi-out time and distance constant, the dependence on departure delay is a more dramatic impact."
   ]
  },
  {
   "cell_type": "markdown",
   "id": "32f027d4-bad5-475c-94da-e6f338663a27",
   "metadata": {},
   "source": [
    "## Evaluate the model"
   ]
  },
  {
   "cell_type": "code",
   "execution_count": 31,
   "id": "3cbdcdc5-adf4-4ac0-bd74-50aef64b3256",
   "metadata": {},
   "outputs": [
    {
     "name": "stderr",
     "output_type": "stream",
     "text": [
      "                                                                                \r"
     ]
    }
   ],
   "source": [
    "# Need test data\n",
    "inputs = 'gs://{}/flights/tzcorr/all_flights-00001-*'.format(BUCKET)\n",
    "flights = spark.read.json(inputs)\n",
    "flights.createOrReplaceTempView('flights')\n",
    "testquery = trainquery.replace(\"t.is_train_day == 'True'\",\"t.is_train_day == 'False'\")"
   ]
  },
  {
   "cell_type": "code",
   "execution_count": 32,
   "id": "c82ec784-1613-4cbc-bdac-689311cd363c",
   "metadata": {},
   "outputs": [],
   "source": [
    "# Map the training example function to the test dataset\n",
    "testdata = spark.sql(testquery)\n",
    "examples = testdata.rdd.map(to_example)"
   ]
  },
  {
   "cell_type": "code",
   "execution_count": 33,
   "id": "572cd3f7-c0a6-44bc-b8d3-188bc6ee4c7d",
   "metadata": {},
   "outputs": [
    {
     "name": "stderr",
     "output_type": "stream",
     "text": [
      "[Stage 51:=============================>                            (1 + 1) / 2]\r"
     ]
    },
    {
     "name": "stdout",
     "output_type": "stream",
     "text": [
      "+-------+------------------+------------------+------------------+-----------------+\n",
      "|summary|         DEP_DELAY|          TAXI_OUT|         ARR_DELAY|         DISTANCE|\n",
      "+-------+------------------+------------------+------------------+-----------------+\n",
      "|  count|             82184|             82184|             82184|            82184|\n",
      "|   mean| 8.674377007690062|15.676676725396671|3.8409179402316753|838.9512557188747|\n",
      "| stddev|38.764341740364586| 8.505730543334973| 41.25995960185183|600.3088554927516|\n",
      "|    min|             -35.0|               1.0|             -70.0|          1005.00|\n",
      "|    max|            1576.0|             154.0|            1557.0|           998.00|\n",
      "+-------+------------------+------------------+------------------+-----------------+\n",
      "\n"
     ]
    },
    {
     "name": "stderr",
     "output_type": "stream",
     "text": [
      "                                                                                \r"
     ]
    }
   ],
   "source": [
    "# Some analysis of the test dataset\n",
    "testdata.describe().show()"
   ]
  },
  {
   "cell_type": "code",
   "execution_count": 37,
   "id": "d60f82e4-cf18-4575-b862-17d4158c2f88",
   "metadata": {},
   "outputs": [],
   "source": [
    "# Define a function returns total cancel, total noncancel, correct cancel and \n",
    "# correct noncancel flight details\n",
    "def eval(labelpred):\n",
    "    ''' \n",
    "        data = (label, pred)\n",
    "            data[0] = label\n",
    "            data[1] = pred\n",
    "    '''\n",
    "    cancel = labelpred.filter(lambda data: data[1] < 0.7)\n",
    "    nocancel = labelpred.filter(lambda data: data[1] >= 0.7)\n",
    "    corr_cancel = cancel.filter(lambda data: data[0] == int(data[1] >= 0.7)).count()\n",
    "    corr_nocancel = nocancel.filter(lambda data: data[0] == int(data[1] >= 0.7)).count()\n",
    "    \n",
    "    cancel_denom = cancel.count()\n",
    "    nocancel_denom = nocancel.count()\n",
    "    if cancel_denom == 0:\n",
    "        cancel_denom = 1\n",
    "    if nocancel_denom == 0:\n",
    "        nocancel_denom = 1\n",
    "    return {'total_cancel': cancel.count(), \\\n",
    "            'correct_cancel': float(corr_cancel)/cancel_denom, \\\n",
    "            'total_noncancel': nocancel.count(), \\\n",
    "            'correct_noncancel': float(corr_nocancel)/nocancel_denom}"
   ]
  },
  {
   "cell_type": "code",
   "execution_count": 38,
   "id": "ad7fb90b-80c8-4a36-8018-075561b2c9e1",
   "metadata": {},
   "outputs": [
    {
     "name": "stdout",
     "output_type": "stream",
     "text": [
      "All flights:\n"
     ]
    },
    {
     "name": "stderr",
     "output_type": "stream",
     "text": [
      "[Stage 65:=============================>                            (1 + 1) / 2]\r"
     ]
    },
    {
     "name": "stdout",
     "output_type": "stream",
     "text": [
      "{'total_cancel': 14689, 'correct_cancel': 0.8239498944788617, 'total_noncancel': 67495, 'correct_noncancel': 0.9556411586043411}\n"
     ]
    },
    {
     "name": "stderr",
     "output_type": "stream",
     "text": [
      "                                                                                \r"
     ]
    }
   ],
   "source": [
    "# Evaluate the model by passing correct predicted label\n",
    "# so it returns probabilities\n",
    "lrmodel.clearThreshold() \n",
    "labelpred = examples.map(lambda p: (p.label, lrmodel.predict(p.features)))\n",
    "print('All flights:')\n",
    "print(eval(labelpred))"
   ]
  },
  {
   "cell_type": "code",
   "execution_count": 39,
   "id": "b4b6fbc3-304e-4cf1-8bd4-f7eeded503ae",
   "metadata": {},
   "outputs": [
    {
     "name": "stdout",
     "output_type": "stream",
     "text": [
      "Flights near decision threshold:\n"
     ]
    },
    {
     "name": "stderr",
     "output_type": "stream",
     "text": [
      "[Stage 71:=============================>                            (1 + 1) / 2]\r"
     ]
    },
    {
     "name": "stdout",
     "output_type": "stream",
     "text": [
      "{'total_cancel': 714, 'correct_cancel': 0.3711484593837535, 'total_noncancel': 850, 'correct_noncancel': 0.6788235294117647}\n"
     ]
    },
    {
     "name": "stderr",
     "output_type": "stream",
     "text": [
      "                                                                                \r"
     ]
    }
   ],
   "source": [
    "# Keep only those examples near the decision threshold > 65% & < 75%\n",
    "print('Flights near decision threshold:')\n",
    "labelpred = labelpred.filter(lambda data: data[1] > 0.65 and data[1] < 0.75)\n",
    "print(eval(labelpred))"
   ]
  }
 ],
 "metadata": {
  "kernelspec": {
   "display_name": "Python 3 (ipykernel)",
   "language": "python",
   "name": "python3"
  },
  "language_info": {
   "codemirror_mode": {
    "name": "ipython",
    "version": 3
   },
   "file_extension": ".py",
   "mimetype": "text/x-python",
   "name": "python",
   "nbconvert_exporter": "python",
   "pygments_lexer": "ipython3",
   "version": "3.8.10"
  }
 },
 "nbformat": 4,
 "nbformat_minor": 5
}
