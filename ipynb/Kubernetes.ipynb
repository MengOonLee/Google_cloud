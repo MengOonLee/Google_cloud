{
 "cells": [
  {
   "cell_type": "markdown",
   "id": "5e527c64-f0e0-46ae-a71d-2333b8a5d900",
   "metadata": {},
   "source": [
    "# Containers"
   ]
  },
  {
   "cell_type": "markdown",
   "id": "1ffc8f01-1973-4ec6-b108-3d347b74633d",
   "metadata": {
    "jp-MarkdownHeadingCollapsed": true,
    "tags": []
   },
   "source": [
    "## Building Containers with DockerFile and Cloud Build"
   ]
  },
  {
   "cell_type": "code",
   "execution_count": null,
   "id": "9926d4f8-6b42-498d-ac69-09b7c948f651",
   "metadata": {},
   "outputs": [],
   "source": [
    "%%writefile quickstart.sh\n",
    "#!/bin/sh\n",
    "echo \"Hello, world! The time is $(date).\" "
   ]
  },
  {
   "cell_type": "code",
   "execution_count": null,
   "id": "426ed819-fd88-4fae-93c5-799b062c32d3",
   "metadata": {},
   "outputs": [],
   "source": [
    "%%writefile Dockerfile\n",
    "FROM alpine\n",
    "COPY quickstart.sh /\n",
    "CMD [\"/quickstart.sh\"]"
   ]
  },
  {
   "cell_type": "code",
   "execution_count": null,
   "id": "25020fc7-70ec-4284-baa1-406006612e7a",
   "metadata": {},
   "outputs": [],
   "source": [
    "%%bash\n",
    "chmod +x quickstart.sh\n",
    "gcloud builds submit --tag gcr.io/${GOOGLE_CLOUD_PROJECT}/quickstart-image ."
   ]
  },
  {
   "cell_type": "markdown",
   "id": "bfdeadda-1e19-4c4e-88e7-73e6762829be",
   "metadata": {
    "jp-MarkdownHeadingCollapsed": true,
    "tags": []
   },
   "source": [
    "## Building Containers with a build configuration file and Cloud Build"
   ]
  },
  {
   "cell_type": "code",
   "execution_count": null,
   "id": "560cae3d-c05d-42a0-8040-5ceb257596c5",
   "metadata": {},
   "outputs": [],
   "source": [
    "%%writefile cloudbuild.yaml\n",
    "steps:\n",
    "- name: 'gcr.io/cloud-builders/docker'\n",
    "  args: [ 'build', '-t', 'gcr.io/$PROJECT_ID/quickstart-image', '.' ]\n",
    "images:\n",
    "- 'gcr.io/$PROJECT_ID/quickstart-image'"
   ]
  },
  {
   "cell_type": "code",
   "execution_count": null,
   "id": "44e2d757-66e1-48b1-b283-ed4846fa1783",
   "metadata": {},
   "outputs": [],
   "source": [
    "%%bash\n",
    "gcloud builds submit --config cloudbuild.yaml ."
   ]
  },
  {
   "cell_type": "markdown",
   "id": "79c813d2-6100-489c-8468-32bf186a6d30",
   "metadata": {
    "jp-MarkdownHeadingCollapsed": true,
    "tags": []
   },
   "source": [
    "## Building and Testing Containers with a build configuration file and Cloud Build "
   ]
  },
  {
   "cell_type": "code",
   "execution_count": null,
   "id": "79374165-696e-4813-8d5f-3f329adb9f7a",
   "metadata": {},
   "outputs": [],
   "source": [
    "%%writefile quickstart.sh\n",
    "#!/bin/sh\n",
    "if [ -z \"$1\" ]\n",
    "then\n",
    "  echo \"Hello, world! The time is $(date).\"\n",
    "  exit 0\n",
    "else\n",
    "  exit 1\n",
    "fi"
   ]
  },
  {
   "cell_type": "code",
   "execution_count": null,
   "id": "ccec9a62-da34-4ab0-ae20-3d243350717a",
   "metadata": {},
   "outputs": [],
   "source": [
    "%%writefile cloudbuild.yaml\n",
    "steps:\n",
    "- name: 'gcr.io/cloud-builders/docker'\n",
    "  args: [ 'build', '-t', 'gcr.io/$PROJECT_ID/quickstart-image', '.' ]\n",
    "- name: 'gcr.io/$PROJECT_ID/quickstart-image'\n",
    "  args: ['fail']\n",
    "images:\n",
    "- 'gcr.io/$PROJECT_ID/quickstart-image"
   ]
  },
  {
   "cell_type": "code",
   "execution_count": null,
   "id": "c6412181-8311-424b-83d2-41778f9453a8",
   "metadata": {},
   "outputs": [],
   "source": [
    "%%bash\n",
    "gcloud builds submit --config cloudbuild.yaml ."
   ]
  },
  {
   "cell_type": "markdown",
   "id": "3ee9b294-2c77-45b3-9699-0e8f586ae9de",
   "metadata": {},
   "source": [
    "# Kubernetes"
   ]
  },
  {
   "cell_type": "code",
   "execution_count": null,
   "id": "7da8534e-a5ac-4e66-be40-03798cc8cd05",
   "metadata": {},
   "outputs": [],
   "source": []
  }
 ],
 "metadata": {
  "kernelspec": {
   "display_name": "Python 3 (ipykernel)",
   "language": "python",
   "name": "python3"
  },
  "language_info": {
   "codemirror_mode": {
    "name": "ipython",
    "version": 3
   },
   "file_extension": ".py",
   "mimetype": "text/x-python",
   "name": "python",
   "nbconvert_exporter": "python",
   "pygments_lexer": "ipython3",
   "version": "3.8.10"
  }
 },
 "nbformat": 4,
 "nbformat_minor": 5
}
