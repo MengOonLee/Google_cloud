{
 "cells": [
  {
   "cell_type": "markdown",
   "id": "f01b4383-665a-4457-a98f-eb5cd257ab8d",
   "metadata": {},
   "source": [
    "# Build and Optimize Data Warehouses with BigQuery"
   ]
  },
  {
   "cell_type": "markdown",
   "id": "25c59f34-a0d3-4294-9778-16697a4ad00d",
   "metadata": {},
   "source": [
    "## Working with JSON, Arrays, and Structs in BigQuery"
   ]
  },
  {
   "cell_type": "code",
   "execution_count": 1,
   "id": "516805ca-3f39-43d3-bbd3-0a3b825f67fe",
   "metadata": {
    "collapsed": true,
    "jupyter": {
     "outputs_hidden": true
    },
    "tags": []
   },
   "outputs": [
    {
     "name": "stdout",
     "output_type": "stream",
     "text": [
      "Requirement already satisfied: pip in /home/meng/env/lib/python3.8/site-packages (21.3.1)\n",
      "Requirement already satisfied: wheel in /home/meng/env/lib/python3.8/site-packages (0.37.0)\n",
      "Requirement already satisfied: setuptools in /home/meng/env/lib/python3.8/site-packages (59.2.0)\n",
      "Requirement already satisfied: numpy in /home/meng/env/lib/python3.8/site-packages (1.21.4)\n",
      "Requirement already satisfied: pandas in /home/meng/env/lib/python3.8/site-packages (1.3.4)\n",
      "Requirement already satisfied: matplotlib in /home/meng/env/lib/python3.8/site-packages (3.5.0)\n",
      "Requirement already satisfied: seaborn in /home/meng/env/lib/python3.8/site-packages (0.11.2)\n",
      "Requirement already satisfied: pyarrow in /home/meng/env/lib/python3.8/site-packages (6.0.1)\n",
      "Requirement already satisfied: tqdm in /home/meng/env/lib/python3.8/site-packages (4.62.3)\n",
      "Requirement already satisfied: pytz>=2017.3 in /home/meng/env/lib/python3.8/site-packages (from pandas) (2021.3)\n",
      "Requirement already satisfied: python-dateutil>=2.7.3 in /home/meng/env/lib/python3.8/site-packages (from pandas) (2.8.2)\n",
      "Requirement already satisfied: pyparsing>=2.2.1 in /home/meng/env/lib/python3.8/site-packages (from matplotlib) (2.4.7)\n",
      "Requirement already satisfied: pillow>=6.2.0 in /home/meng/env/lib/python3.8/site-packages (from matplotlib) (8.4.0)\n",
      "Requirement already satisfied: cycler>=0.10 in /home/meng/env/lib/python3.8/site-packages (from matplotlib) (0.11.0)\n",
      "Requirement already satisfied: kiwisolver>=1.0.1 in /home/meng/env/lib/python3.8/site-packages (from matplotlib) (1.3.2)\n",
      "Requirement already satisfied: packaging>=20.0 in /home/meng/env/lib/python3.8/site-packages (from matplotlib) (21.0)\n",
      "Requirement already satisfied: setuptools-scm>=4 in /home/meng/env/lib/python3.8/site-packages (from matplotlib) (6.3.2)\n",
      "Requirement already satisfied: fonttools>=4.22.0 in /home/meng/env/lib/python3.8/site-packages (from matplotlib) (4.28.2)\n",
      "Requirement already satisfied: scipy>=1.0 in /home/meng/env/lib/python3.8/site-packages (from seaborn) (1.7.3)\n",
      "Requirement already satisfied: six>=1.5 in /home/meng/env/lib/python3.8/site-packages (from python-dateutil>=2.7.3->pandas) (1.16.0)\n",
      "Requirement already satisfied: setuptools in /home/meng/env/lib/python3.8/site-packages (from setuptools-scm>=4->matplotlib) (59.2.0)\n",
      "Requirement already satisfied: tomli>=1.0.0 in /home/meng/env/lib/python3.8/site-packages (from setuptools-scm>=4->matplotlib) (1.2.2)\n",
      "Requirement already satisfied: google-cloud-bigquery in /home/meng/env/lib/python3.8/site-packages (2.30.1)\n",
      "Requirement already satisfied: google-cloud-bigquery-storage in /home/meng/env/lib/python3.8/site-packages (2.10.1)\n",
      "Requirement already satisfied: requests<3.0.0dev,>=2.18.0 in /home/meng/env/lib/python3.8/site-packages (from google-cloud-bigquery) (2.26.0)\n",
      "Requirement already satisfied: python-dateutil<3.0dev,>=2.7.2 in /home/meng/env/lib/python3.8/site-packages (from google-cloud-bigquery) (2.8.2)\n",
      "Requirement already satisfied: google-resumable-media<3.0dev,>=0.6.0 in /home/meng/env/lib/python3.8/site-packages (from google-cloud-bigquery) (2.1.0)\n",
      "Requirement already satisfied: grpcio<2.0dev,>=1.38.1 in /home/meng/env/lib/python3.8/site-packages (from google-cloud-bigquery) (1.42.0)\n",
      "Requirement already satisfied: google-api-core[grpc]<3.0.0dev,>=1.29.0 in /home/meng/env/lib/python3.8/site-packages (from google-cloud-bigquery) (2.2.2)\n",
      "Requirement already satisfied: packaging>=14.3 in /home/meng/env/lib/python3.8/site-packages (from google-cloud-bigquery) (21.0)\n",
      "Requirement already satisfied: proto-plus>=1.10.0 in /home/meng/env/lib/python3.8/site-packages (from google-cloud-bigquery) (1.19.8)\n",
      "Requirement already satisfied: google-cloud-core<3.0.0dev,>=1.4.1 in /home/meng/env/lib/python3.8/site-packages (from google-cloud-bigquery) (2.2.1)\n",
      "Requirement already satisfied: protobuf>=3.12.0 in /home/meng/env/lib/python3.8/site-packages (from google-cloud-bigquery) (3.19.1)\n",
      "Requirement already satisfied: libcst>=0.2.5 in /home/meng/env/lib/python3.8/site-packages (from google-cloud-bigquery-storage) (0.3.23)\n",
      "Requirement already satisfied: google-auth<3.0dev,>=1.25.0 in /home/meng/env/lib/python3.8/site-packages (from google-api-core[grpc]<3.0.0dev,>=1.29.0->google-cloud-bigquery) (2.3.3)\n",
      "Requirement already satisfied: googleapis-common-protos<2.0dev,>=1.52.0 in /home/meng/env/lib/python3.8/site-packages (from google-api-core[grpc]<3.0.0dev,>=1.29.0->google-cloud-bigquery) (1.53.0)\n",
      "Requirement already satisfied: setuptools>=40.3.0 in /home/meng/env/lib/python3.8/site-packages (from google-api-core[grpc]<3.0.0dev,>=1.29.0->google-cloud-bigquery) (59.2.0)\n",
      "Requirement already satisfied: grpcio-status<2.0dev,>=1.33.2 in /home/meng/env/lib/python3.8/site-packages (from google-api-core[grpc]<3.0.0dev,>=1.29.0->google-cloud-bigquery) (1.42.0)\n",
      "Requirement already satisfied: google-crc32c<2.0dev,>=1.0 in /home/meng/env/lib/python3.8/site-packages (from google-resumable-media<3.0dev,>=0.6.0->google-cloud-bigquery) (1.3.0)\n",
      "Requirement already satisfied: six>=1.5.2 in /home/meng/env/lib/python3.8/site-packages (from grpcio<2.0dev,>=1.38.1->google-cloud-bigquery) (1.16.0)\n",
      "Requirement already satisfied: pyyaml>=5.2 in /home/meng/env/lib/python3.8/site-packages (from libcst>=0.2.5->google-cloud-bigquery-storage) (6.0)\n",
      "Requirement already satisfied: typing-extensions>=3.7.4.2 in /home/meng/env/lib/python3.8/site-packages (from libcst>=0.2.5->google-cloud-bigquery-storage) (4.0.0)\n",
      "Requirement already satisfied: typing-inspect>=0.4.0 in /home/meng/env/lib/python3.8/site-packages (from libcst>=0.2.5->google-cloud-bigquery-storage) (0.7.1)\n",
      "Requirement already satisfied: pyparsing>=2.0.2 in /home/meng/env/lib/python3.8/site-packages (from packaging>=14.3->google-cloud-bigquery) (2.4.7)\n",
      "Requirement already satisfied: charset-normalizer~=2.0.0 in /home/meng/env/lib/python3.8/site-packages (from requests<3.0.0dev,>=2.18.0->google-cloud-bigquery) (2.0.7)\n",
      "Requirement already satisfied: urllib3<1.27,>=1.21.1 in /home/meng/env/lib/python3.8/site-packages (from requests<3.0.0dev,>=2.18.0->google-cloud-bigquery) (1.26.7)\n",
      "Requirement already satisfied: certifi>=2017.4.17 in /home/meng/env/lib/python3.8/site-packages (from requests<3.0.0dev,>=2.18.0->google-cloud-bigquery) (2021.10.8)\n",
      "Requirement already satisfied: idna<4,>=2.5 in /home/meng/env/lib/python3.8/site-packages (from requests<3.0.0dev,>=2.18.0->google-cloud-bigquery) (3.2)\n",
      "Requirement already satisfied: pyasn1-modules>=0.2.1 in /home/meng/env/lib/python3.8/site-packages (from google-auth<3.0dev,>=1.25.0->google-api-core[grpc]<3.0.0dev,>=1.29.0->google-cloud-bigquery) (0.2.8)\n",
      "Requirement already satisfied: rsa<5,>=3.1.4 in /home/meng/env/lib/python3.8/site-packages (from google-auth<3.0dev,>=1.25.0->google-api-core[grpc]<3.0.0dev,>=1.29.0->google-cloud-bigquery) (4.8)\n",
      "Requirement already satisfied: cachetools<5.0,>=2.0.0 in /home/meng/env/lib/python3.8/site-packages (from google-auth<3.0dev,>=1.25.0->google-api-core[grpc]<3.0.0dev,>=1.29.0->google-cloud-bigquery) (4.2.4)\n",
      "Requirement already satisfied: mypy-extensions>=0.3.0 in /home/meng/env/lib/python3.8/site-packages (from typing-inspect>=0.4.0->libcst>=0.2.5->google-cloud-bigquery-storage) (0.4.3)\n",
      "Requirement already satisfied: pyasn1<0.5.0,>=0.4.6 in /home/meng/env/lib/python3.8/site-packages (from pyasn1-modules>=0.2.1->google-auth<3.0dev,>=1.25.0->google-api-core[grpc]<3.0.0dev,>=1.29.0->google-cloud-bigquery) (0.4.8)\n"
     ]
    }
   ],
   "source": [
    "%%bash\n",
    "\n",
    "pip install -U pip\n",
    "pip install -U wheel setuptools\n",
    "pip install -U numpy pandas matplotlib seaborn pyarrow tqdm\n",
    "pip install -U google-cloud-bigquery google-cloud-bigquery-storage"
   ]
  },
  {
   "cell_type": "code",
   "execution_count": 2,
   "id": "d67b203f-f9dc-49c5-a6c1-7b06bd2e244b",
   "metadata": {},
   "outputs": [],
   "source": [
    "import os\n",
    "from google.cloud import bigquery\n",
    "\n",
    "os.environ[\"GOOGLE_APPLICATION_CREDENTIALS\"] = \"/home/meng/work/.GCP_SA/mlee-claritas-bigdata-poc.json\""
   ]
  },
  {
   "cell_type": "code",
   "execution_count": 3,
   "id": "41afc744-ef50-4a9e-80a8-ba107b6569b7",
   "metadata": {},
   "outputs": [],
   "source": [
    "%load_ext google.cloud.bigquery"
   ]
  },
  {
   "cell_type": "markdown",
   "id": "5e88bbbe-2478-48ef-8225-558e2e99b5e7",
   "metadata": {},
   "source": [
    "### Arrays"
   ]
  },
  {
   "cell_type": "code",
   "execution_count": 4,
   "id": "7a32f03c-bf77-443a-9021-08ae421f29ca",
   "metadata": {},
   "outputs": [
    {
     "name": "stderr",
     "output_type": "stream",
     "text": [
      "Query complete after 0.01s: 100%|██████████| 1/1 [00:00<00:00, 510.07query/s]                          \n",
      "Downloading: 100%|██████████| 1/1 [00:03<00:00,  3.57s/rows]\n"
     ]
    },
    {
     "data": {
      "text/html": [
       "<div>\n",
       "<style scoped>\n",
       "    .dataframe tbody tr th:only-of-type {\n",
       "        vertical-align: middle;\n",
       "    }\n",
       "\n",
       "    .dataframe tbody tr th {\n",
       "        vertical-align: top;\n",
       "    }\n",
       "\n",
       "    .dataframe thead th {\n",
       "        text-align: right;\n",
       "    }\n",
       "</style>\n",
       "<table border=\"1\" class=\"dataframe\">\n",
       "  <thead>\n",
       "    <tr style=\"text-align: right;\">\n",
       "      <th></th>\n",
       "      <th>fruit_array</th>\n",
       "    </tr>\n",
       "  </thead>\n",
       "  <tbody>\n",
       "    <tr>\n",
       "      <th>0</th>\n",
       "      <td>[raspberry, blackberry, strawberry, cherry]</td>\n",
       "    </tr>\n",
       "  </tbody>\n",
       "</table>\n",
       "</div>"
      ],
      "text/plain": [
       "                                   fruit_array\n",
       "0  [raspberry, blackberry, strawberry, cherry]"
      ]
     },
     "execution_count": 4,
     "metadata": {},
     "output_type": "execute_result"
    }
   ],
   "source": [
    "%%bigquery\n",
    "SELECT\n",
    "  ['raspberry', 'blackberry', 'strawberry', 'cherry'] AS fruit_array"
   ]
  },
  {
   "cell_type": "code",
   "execution_count": 5,
   "id": "dbd35606-bd38-453b-a2d6-8426881f49b7",
   "metadata": {},
   "outputs": [
    {
     "name": "stderr",
     "output_type": "stream",
     "text": [
      "Query complete after 0.00s: 100%|██████████| 3/3 [00:00<00:00, 1168.98query/s]                        \n",
      "Downloading: 100%|██████████| 2/2 [00:02<00:00,  1.45s/rows]\n"
     ]
    },
    {
     "data": {
      "text/html": [
       "<div>\n",
       "<style scoped>\n",
       "    .dataframe tbody tr th:only-of-type {\n",
       "        vertical-align: middle;\n",
       "    }\n",
       "\n",
       "    .dataframe tbody tr th {\n",
       "        vertical-align: top;\n",
       "    }\n",
       "\n",
       "    .dataframe thead th {\n",
       "        text-align: right;\n",
       "    }\n",
       "</style>\n",
       "<table border=\"1\" class=\"dataframe\">\n",
       "  <thead>\n",
       "    <tr style=\"text-align: right;\">\n",
       "      <th></th>\n",
       "      <th>fullVisitorId</th>\n",
       "      <th>date</th>\n",
       "      <th>products_viewed</th>\n",
       "      <th>pages_viewed</th>\n",
       "    </tr>\n",
       "  </thead>\n",
       "  <tbody>\n",
       "    <tr>\n",
       "      <th>0</th>\n",
       "      <td>5710379250208908569</td>\n",
       "      <td>20170731</td>\n",
       "      <td>[Google Women's Lightweight Microfleece Jacket...</td>\n",
       "      <td>[Google Snapback Hat Black, Google RFID Journal]</td>\n",
       "    </tr>\n",
       "    <tr>\n",
       "      <th>1</th>\n",
       "      <td>5710379250208908569</td>\n",
       "      <td>20170801</td>\n",
       "      <td>[Rocket Flashlight, Rubber Grip Ballpoint Pen ...</td>\n",
       "      <td>[Electronics | Google Merchandise Store, Writi...</td>\n",
       "    </tr>\n",
       "  </tbody>\n",
       "</table>\n",
       "</div>"
      ],
      "text/plain": [
       "         fullVisitorId      date  \\\n",
       "0  5710379250208908569  20170731   \n",
       "1  5710379250208908569  20170801   \n",
       "\n",
       "                                     products_viewed  \\\n",
       "0  [Google Women's Lightweight Microfleece Jacket...   \n",
       "1  [Rocket Flashlight, Rubber Grip Ballpoint Pen ...   \n",
       "\n",
       "                                        pages_viewed  \n",
       "0   [Google Snapback Hat Black, Google RFID Journal]  \n",
       "1  [Electronics | Google Merchandise Store, Writi...  "
      ]
     },
     "execution_count": 5,
     "metadata": {},
     "output_type": "execute_result"
    }
   ],
   "source": [
    "%%bigquery\n",
    "SELECT\n",
    "  fullVisitorId,\n",
    "  date,\n",
    "  ARRAY_AGG(v2ProductName) AS products_viewed,\n",
    "  ARRAY_AGG(pageTitle) AS pages_viewed\n",
    "  FROM `data-to-insights.ecommerce.all_sessions`\n",
    "WHERE visitId = 1501570398\n",
    "GROUP BY fullVisitorId, date\n",
    "ORDER BY date"
   ]
  },
  {
   "cell_type": "code",
   "execution_count": 6,
   "id": "d238c8c1-6a24-4092-a594-38742371b736",
   "metadata": {},
   "outputs": [
    {
     "name": "stderr",
     "output_type": "stream",
     "text": [
      "Query complete after 0.00s: 100%|██████████| 3/3 [00:00<00:00, 1589.76query/s]                        \n",
      "Downloading: 100%|██████████| 2/2 [00:03<00:00,  1.76s/rows]\n"
     ]
    },
    {
     "data": {
      "text/html": [
       "<div>\n",
       "<style scoped>\n",
       "    .dataframe tbody tr th:only-of-type {\n",
       "        vertical-align: middle;\n",
       "    }\n",
       "\n",
       "    .dataframe tbody tr th {\n",
       "        vertical-align: top;\n",
       "    }\n",
       "\n",
       "    .dataframe thead th {\n",
       "        text-align: right;\n",
       "    }\n",
       "</style>\n",
       "<table border=\"1\" class=\"dataframe\">\n",
       "  <thead>\n",
       "    <tr style=\"text-align: right;\">\n",
       "      <th></th>\n",
       "      <th>fullVisitorId</th>\n",
       "      <th>date</th>\n",
       "      <th>products_viewed</th>\n",
       "      <th>num_products_viewed</th>\n",
       "      <th>pages_viewed</th>\n",
       "      <th>num_pages_viewed</th>\n",
       "    </tr>\n",
       "  </thead>\n",
       "  <tbody>\n",
       "    <tr>\n",
       "      <th>0</th>\n",
       "      <td>5710379250208908569</td>\n",
       "      <td>20170731</td>\n",
       "      <td>[Google Women's Lightweight Microfleece Jacket...</td>\n",
       "      <td>2</td>\n",
       "      <td>[Google Snapback Hat Black, Google RFID Journal]</td>\n",
       "      <td>2</td>\n",
       "    </tr>\n",
       "    <tr>\n",
       "      <th>1</th>\n",
       "      <td>5710379250208908569</td>\n",
       "      <td>20170801</td>\n",
       "      <td>[Google 4400mAh Power Bank, Google Device Hold...</td>\n",
       "      <td>109</td>\n",
       "      <td>[Electronics | Google Merchandise Store, Elect...</td>\n",
       "      <td>109</td>\n",
       "    </tr>\n",
       "  </tbody>\n",
       "</table>\n",
       "</div>"
      ],
      "text/plain": [
       "         fullVisitorId      date  \\\n",
       "0  5710379250208908569  20170731   \n",
       "1  5710379250208908569  20170801   \n",
       "\n",
       "                                     products_viewed  num_products_viewed  \\\n",
       "0  [Google Women's Lightweight Microfleece Jacket...                    2   \n",
       "1  [Google 4400mAh Power Bank, Google Device Hold...                  109   \n",
       "\n",
       "                                        pages_viewed  num_pages_viewed  \n",
       "0   [Google Snapback Hat Black, Google RFID Journal]                 2  \n",
       "1  [Electronics | Google Merchandise Store, Elect...               109  "
      ]
     },
     "execution_count": 6,
     "metadata": {},
     "output_type": "execute_result"
    }
   ],
   "source": [
    "%%bigquery\n",
    "SELECT\n",
    "  fullVisitorId,\n",
    "  date,\n",
    "  ARRAY_AGG(v2ProductName) AS products_viewed,\n",
    "  ARRAY_LENGTH(ARRAY_AGG(v2ProductName)) AS num_products_viewed,\n",
    "  ARRAY_AGG(pageTitle) AS pages_viewed,\n",
    "  ARRAY_LENGTH(ARRAY_AGG(pageTitle)) AS num_pages_viewed\n",
    "  FROM `data-to-insights.ecommerce.all_sessions`\n",
    "WHERE visitId = 1501570398\n",
    "GROUP BY fullVisitorId, date\n",
    "ORDER BY date"
   ]
  },
  {
   "cell_type": "code",
   "execution_count": 7,
   "id": "037d2336-bcfc-41ec-97a8-fc69d964264a",
   "metadata": {},
   "outputs": [
    {
     "name": "stderr",
     "output_type": "stream",
     "text": [
      "Query complete after 0.00s: 100%|██████████| 5/5 [00:00<00:00, 2549.11query/s]                        \n",
      "Downloading: 100%|██████████| 2/2 [00:03<00:00,  1.75s/rows]\n"
     ]
    },
    {
     "data": {
      "text/html": [
       "<div>\n",
       "<style scoped>\n",
       "    .dataframe tbody tr th:only-of-type {\n",
       "        vertical-align: middle;\n",
       "    }\n",
       "\n",
       "    .dataframe tbody tr th {\n",
       "        vertical-align: top;\n",
       "    }\n",
       "\n",
       "    .dataframe thead th {\n",
       "        text-align: right;\n",
       "    }\n",
       "</style>\n",
       "<table border=\"1\" class=\"dataframe\">\n",
       "  <thead>\n",
       "    <tr style=\"text-align: right;\">\n",
       "      <th></th>\n",
       "      <th>fullVisitorId</th>\n",
       "      <th>date</th>\n",
       "      <th>products_viewed</th>\n",
       "      <th>distinct_products_viewed</th>\n",
       "      <th>pages_viewed</th>\n",
       "      <th>distinct_pages_viewed</th>\n",
       "    </tr>\n",
       "  </thead>\n",
       "  <tbody>\n",
       "    <tr>\n",
       "      <th>0</th>\n",
       "      <td>5710379250208908569</td>\n",
       "      <td>20170731</td>\n",
       "      <td>[Google Women's Lightweight Microfleece Jacket...</td>\n",
       "      <td>2</td>\n",
       "      <td>[Google Snapback Hat Black, Google RFID Journal]</td>\n",
       "      <td>2</td>\n",
       "    </tr>\n",
       "    <tr>\n",
       "      <th>1</th>\n",
       "      <td>5710379250208908569</td>\n",
       "      <td>20170801</td>\n",
       "      <td>[Android Wool Heather Cap Heather/Black, Andro...</td>\n",
       "      <td>61</td>\n",
       "      <td>[Shop by Brand | Google Merchandise Store, Off...</td>\n",
       "      <td>8</td>\n",
       "    </tr>\n",
       "  </tbody>\n",
       "</table>\n",
       "</div>"
      ],
      "text/plain": [
       "         fullVisitorId      date  \\\n",
       "0  5710379250208908569  20170731   \n",
       "1  5710379250208908569  20170801   \n",
       "\n",
       "                                     products_viewed  \\\n",
       "0  [Google Women's Lightweight Microfleece Jacket...   \n",
       "1  [Android Wool Heather Cap Heather/Black, Andro...   \n",
       "\n",
       "   distinct_products_viewed  \\\n",
       "0                         2   \n",
       "1                        61   \n",
       "\n",
       "                                        pages_viewed  distinct_pages_viewed  \n",
       "0   [Google Snapback Hat Black, Google RFID Journal]                      2  \n",
       "1  [Shop by Brand | Google Merchandise Store, Off...                      8  "
      ]
     },
     "execution_count": 7,
     "metadata": {},
     "output_type": "execute_result"
    }
   ],
   "source": [
    "%%bigquery\n",
    "SELECT\n",
    "  fullVisitorId,\n",
    "  date,\n",
    "  ARRAY_AGG(DISTINCT v2ProductName) AS products_viewed,\n",
    "  ARRAY_LENGTH(ARRAY_AGG(DISTINCT v2ProductName)) AS distinct_products_viewed,\n",
    "  ARRAY_AGG(DISTINCT pageTitle) AS pages_viewed,\n",
    "  ARRAY_LENGTH(ARRAY_AGG(DISTINCT pageTitle)) AS distinct_pages_viewed\n",
    "  FROM `data-to-insights.ecommerce.all_sessions`\n",
    "WHERE visitId = 1501570398\n",
    "GROUP BY fullVisitorId, date\n",
    "ORDER BY date"
   ]
  },
  {
   "cell_type": "code",
   "execution_count": 9,
   "id": "05caa932-132b-4269-876f-75a26856cfc7",
   "metadata": {},
   "outputs": [
    {
     "name": "stderr",
     "output_type": "stream",
     "text": [
      "Query complete after 0.00s: 100%|██████████| 3/3 [00:00<00:00, 1845.81query/s]                        \n",
      "Downloading: 100%|██████████| 9/9 [00:03<00:00,  2.41rows/s]\n"
     ]
    },
    {
     "data": {
      "text/html": [
       "<div>\n",
       "<style scoped>\n",
       "    .dataframe tbody tr th:only-of-type {\n",
       "        vertical-align: middle;\n",
       "    }\n",
       "\n",
       "    .dataframe tbody tr th {\n",
       "        vertical-align: top;\n",
       "    }\n",
       "\n",
       "    .dataframe thead th {\n",
       "        text-align: right;\n",
       "    }\n",
       "</style>\n",
       "<table border=\"1\" class=\"dataframe\">\n",
       "  <thead>\n",
       "    <tr style=\"text-align: right;\">\n",
       "      <th></th>\n",
       "      <th>visitId</th>\n",
       "      <th>pageTitle</th>\n",
       "    </tr>\n",
       "  </thead>\n",
       "  <tbody>\n",
       "    <tr>\n",
       "      <th>0</th>\n",
       "      <td>1501570398</td>\n",
       "      <td>Fun | Accessories | Google Merchandise Store</td>\n",
       "    </tr>\n",
       "    <tr>\n",
       "      <th>1</th>\n",
       "      <td>1501570398</td>\n",
       "      <td>Home</td>\n",
       "    </tr>\n",
       "    <tr>\n",
       "      <th>2</th>\n",
       "      <td>1501570398</td>\n",
       "      <td>Shop by Brand | Google Merchandise Store</td>\n",
       "    </tr>\n",
       "    <tr>\n",
       "      <th>3</th>\n",
       "      <td>1501570398</td>\n",
       "      <td>Office | Google Merchandise Store</td>\n",
       "    </tr>\n",
       "    <tr>\n",
       "      <th>4</th>\n",
       "      <td>1501570398</td>\n",
       "      <td>Other | Office | Google Merchandise Store</td>\n",
       "    </tr>\n",
       "    <tr>\n",
       "      <th>5</th>\n",
       "      <td>1501570398</td>\n",
       "      <td>Writing Instruments | Office | Google Merchand...</td>\n",
       "    </tr>\n",
       "    <tr>\n",
       "      <th>6</th>\n",
       "      <td>1501570398</td>\n",
       "      <td>Accessories | Google Merchandise Store</td>\n",
       "    </tr>\n",
       "    <tr>\n",
       "      <th>7</th>\n",
       "      <td>1501570398</td>\n",
       "      <td>Electronics | Google Merchandise Store</td>\n",
       "    </tr>\n",
       "    <tr>\n",
       "      <th>8</th>\n",
       "      <td>1501570398</td>\n",
       "      <td>Apparel | Google Merchandise Store</td>\n",
       "    </tr>\n",
       "  </tbody>\n",
       "</table>\n",
       "</div>"
      ],
      "text/plain": [
       "      visitId                                          pageTitle\n",
       "0  1501570398       Fun | Accessories | Google Merchandise Store\n",
       "1  1501570398                                               Home\n",
       "2  1501570398           Shop by Brand | Google Merchandise Store\n",
       "3  1501570398                  Office | Google Merchandise Store\n",
       "4  1501570398          Other | Office | Google Merchandise Store\n",
       "5  1501570398  Writing Instruments | Office | Google Merchand...\n",
       "6  1501570398             Accessories | Google Merchandise Store\n",
       "7  1501570398             Electronics | Google Merchandise Store\n",
       "8  1501570398                 Apparel | Google Merchandise Store"
      ]
     },
     "execution_count": 9,
     "metadata": {},
     "output_type": "execute_result"
    }
   ],
   "source": [
    "%%bigquery\n",
    "SELECT DISTINCT\n",
    "  visitId,\n",
    "  h.page.pageTitle\n",
    "FROM `bigquery-public-data.google_analytics_sample.ga_sessions_20170801`,\n",
    "UNNEST(hits) AS h\n",
    "WHERE visitId = 1501570398\n",
    "LIMIT 10"
   ]
  },
  {
   "cell_type": "markdown",
   "id": "b5ade0f9-37d3-4bd6-a0f2-d6d337df1904",
   "metadata": {},
   "source": [
    "### STRUCTs\n",
    "\n",
    "A separate table that is already pre-joined into main table.\n",
    "\n",
    "A STRUCT can have:\n",
    "- one or many fields in it\n",
    "- the same or different data types for each field\n",
    "- it's own alias"
   ]
  },
  {
   "cell_type": "code",
   "execution_count": 11,
   "id": "a834f6c1-3ad6-4b73-b9d2-fb6837da4566",
   "metadata": {},
   "outputs": [
    {
     "name": "stderr",
     "output_type": "stream",
     "text": [
      "Query complete after 0.00s: 100%|██████████| 1/1 [00:00<00:00, 787.37query/s] \n",
      "Downloading: 100%|██████████| 1/1 [00:04<00:00,  4.39s/rows]\n"
     ]
    }
   ],
   "source": [
    "%%bigquery df\n",
    "SELECT\n",
    "  visitId,\n",
    "  totals.*,\n",
    "  device.*\n",
    "FROM `bigquery-public-data.google_analytics_sample.ga_sessions_20170801`\n",
    "WHERE visitId = 1501570398\n",
    "LIMIT 10"
   ]
  },
  {
   "cell_type": "code",
   "execution_count": 12,
   "id": "50b12a2d-713d-4276-a5d0-b31e32305cca",
   "metadata": {
    "collapsed": true,
    "jupyter": {
     "outputs_hidden": true
    },
    "tags": []
   },
   "outputs": [
    {
     "name": "stdout",
     "output_type": "stream",
     "text": [
      "<class 'pandas.core.frame.DataFrame'>\n",
      "RangeIndex: 1 entries, 0 to 0\n",
      "Data columns (total 31 columns):\n",
      " #   Column                     Non-Null Count  Dtype  \n",
      "---  ------                     --------------  -----  \n",
      " 0   visitId                    1 non-null      int64  \n",
      " 1   visits                     1 non-null      int64  \n",
      " 2   hits                       1 non-null      int64  \n",
      " 3   pageviews                  1 non-null      int64  \n",
      " 4   timeOnSite                 1 non-null      int64  \n",
      " 5   bounces                    0 non-null      float64\n",
      " 6   transactions               0 non-null      float64\n",
      " 7   transactionRevenue         0 non-null      float64\n",
      " 8   newVisits                  1 non-null      int64  \n",
      " 9   screenviews                0 non-null      float64\n",
      " 10  uniqueScreenviews          0 non-null      float64\n",
      " 11  timeOnScreen               0 non-null      float64\n",
      " 12  totalTransactionRevenue    0 non-null      float64\n",
      " 13  sessionQualityDim          1 non-null      int64  \n",
      " 14  browser                    1 non-null      object \n",
      " 15  browserVersion             1 non-null      object \n",
      " 16  browserSize                1 non-null      object \n",
      " 17  operatingSystem            1 non-null      object \n",
      " 18  operatingSystemVersion     1 non-null      object \n",
      " 19  isMobile                   1 non-null      bool   \n",
      " 20  mobileDeviceBranding       1 non-null      object \n",
      " 21  mobileDeviceModel          1 non-null      object \n",
      " 22  mobileInputSelector        1 non-null      object \n",
      " 23  mobileDeviceInfo           1 non-null      object \n",
      " 24  mobileDeviceMarketingName  1 non-null      object \n",
      " 25  flashVersion               1 non-null      object \n",
      " 26  javaEnabled                0 non-null      object \n",
      " 27  language                   1 non-null      object \n",
      " 28  screenColors               1 non-null      object \n",
      " 29  screenResolution           1 non-null      object \n",
      " 30  deviceCategory             1 non-null      object \n",
      "dtypes: bool(1), float64(7), int64(7), object(16)\n",
      "memory usage: 369.0+ bytes\n"
     ]
    }
   ],
   "source": [
    "df.info()"
   ]
  },
  {
   "cell_type": "code",
   "execution_count": 13,
   "id": "dcfcb996-78b6-40ad-8e04-a32fc86f8a5e",
   "metadata": {},
   "outputs": [
    {
     "name": "stderr",
     "output_type": "stream",
     "text": [
      "Query complete after 0.00s: 100%|██████████| 1/1 [00:00<00:00, 532.27query/s]                          \n",
      "Downloading: 100%|██████████| 1/1 [00:03<00:00,  3.56s/rows]\n"
     ]
    },
    {
     "data": {
      "text/html": [
       "<div>\n",
       "<style scoped>\n",
       "    .dataframe tbody tr th:only-of-type {\n",
       "        vertical-align: middle;\n",
       "    }\n",
       "\n",
       "    .dataframe tbody tr th {\n",
       "        vertical-align: top;\n",
       "    }\n",
       "\n",
       "    .dataframe thead th {\n",
       "        text-align: right;\n",
       "    }\n",
       "</style>\n",
       "<table border=\"1\" class=\"dataframe\">\n",
       "  <thead>\n",
       "    <tr style=\"text-align: right;\">\n",
       "      <th></th>\n",
       "      <th>runner</th>\n",
       "    </tr>\n",
       "  </thead>\n",
       "  <tbody>\n",
       "    <tr>\n",
       "      <th>0</th>\n",
       "      <td>{'name': 'Rudisha', 'split': 23.4}</td>\n",
       "    </tr>\n",
       "  </tbody>\n",
       "</table>\n",
       "</div>"
      ],
      "text/plain": [
       "                               runner\n",
       "0  {'name': 'Rudisha', 'split': 23.4}"
      ]
     },
     "execution_count": 13,
     "metadata": {},
     "output_type": "execute_result"
    }
   ],
   "source": [
    "%%bigquery\n",
    "SELECT STRUCT(\"Rudisha\" as name, 23.4 as split) as runner"
   ]
  },
  {
   "cell_type": "code",
   "execution_count": 14,
   "id": "1a54e22d-8657-4b8e-96b6-c56d5894cf57",
   "metadata": {},
   "outputs": [
    {
     "name": "stderr",
     "output_type": "stream",
     "text": [
      "Query complete after 0.00s: 100%|██████████| 1/1 [00:00<00:00, 739.74query/s]                          \n",
      "Downloading: 100%|██████████| 1/1 [00:03<00:00,  3.46s/rows]\n"
     ]
    },
    {
     "data": {
      "text/html": [
       "<div>\n",
       "<style scoped>\n",
       "    .dataframe tbody tr th:only-of-type {\n",
       "        vertical-align: middle;\n",
       "    }\n",
       "\n",
       "    .dataframe tbody tr th {\n",
       "        vertical-align: top;\n",
       "    }\n",
       "\n",
       "    .dataframe thead th {\n",
       "        text-align: right;\n",
       "    }\n",
       "</style>\n",
       "<table border=\"1\" class=\"dataframe\">\n",
       "  <thead>\n",
       "    <tr style=\"text-align: right;\">\n",
       "      <th></th>\n",
       "      <th>runner</th>\n",
       "    </tr>\n",
       "  </thead>\n",
       "  <tbody>\n",
       "    <tr>\n",
       "      <th>0</th>\n",
       "      <td>{'name': 'Rudisha', 'splits': [23.4, 26.3, 26....</td>\n",
       "    </tr>\n",
       "  </tbody>\n",
       "</table>\n",
       "</div>"
      ],
      "text/plain": [
       "                                              runner\n",
       "0  {'name': 'Rudisha', 'splits': [23.4, 26.3, 26...."
      ]
     },
     "execution_count": 14,
     "metadata": {},
     "output_type": "execute_result"
    }
   ],
   "source": [
    "%%bigquery\n",
    "SELECT STRUCT(\"Rudisha\" as name, [23.4, 26.3, 26.4, 26.1] as splits) AS runner"
   ]
  },
  {
   "cell_type": "code",
   "execution_count": null,
   "id": "b8ed8def-fd33-4c69-ad3e-6bc52d95782c",
   "metadata": {},
   "outputs": [],
   "source": [
    "SELECT race, participants.name\n",
    "FROM racing.race_results\n",
    "CROSS JOIN\n",
    "race_results.participants # full STRUCT name"
   ]
  },
  {
   "cell_type": "code",
   "execution_count": null,
   "id": "94a866e4-3e46-4ebe-b0dc-a9351babb6d3",
   "metadata": {},
   "outputs": [],
   "source": [
    "SELECT race, participants.name\n",
    "FROM racing.race_results AS r, r.participants"
   ]
  },
  {
   "cell_type": "code",
   "execution_count": null,
   "id": "d30e3ecd-c7b7-44d7-945d-d1fc401acee9",
   "metadata": {},
   "outputs": [],
   "source": [
    "SELECT COUNT(p.name) AS racer_count\n",
    "FROM racing.race_results AS r, UNNEST(r.participants) AS p"
   ]
  },
  {
   "cell_type": "code",
   "execution_count": null,
   "id": "1b9ffb11-f965-422e-8c60-19f41db15f0a",
   "metadata": {},
   "outputs": [],
   "source": [
    "SELECT\n",
    "  p.name,\n",
    "  SUM(split_times) as total_race_time\n",
    "FROM racing.race_results AS r\n",
    ", UNNEST(r.participants) AS p\n",
    ", UNNEST(p.splits) AS split_times\n",
    "WHERE p.name LIKE 'R%'\n",
    "GROUP BY p.name\n",
    "ORDER BY total_race_time ASC;"
   ]
  },
  {
   "cell_type": "code",
   "execution_count": null,
   "id": "50621848-c43e-4765-805e-79d9c0384816",
   "metadata": {},
   "outputs": [],
   "source": [
    "SELECT\n",
    "  p.name,\n",
    "  split_time\n",
    "FROM racing.race_results AS r\n",
    ", UNNEST(r.participants) AS p\n",
    ", UNNEST(p.splits) AS split_time\n",
    "WHERE split_time = 23.2;"
   ]
  }
 ],
 "metadata": {
  "kernelspec": {
   "display_name": "Python 3 (ipykernel)",
   "language": "python",
   "name": "python3"
  },
  "language_info": {
   "codemirror_mode": {
    "name": "ipython",
    "version": 3
   },
   "file_extension": ".py",
   "mimetype": "text/x-python",
   "name": "python",
   "nbconvert_exporter": "python",
   "pygments_lexer": "ipython3",
   "version": "3.8.10"
  }
 },
 "nbformat": 4,
 "nbformat_minor": 5
}
