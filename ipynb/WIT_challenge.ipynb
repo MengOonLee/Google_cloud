{
 "cells": [
  {
   "cell_type": "markdown",
   "metadata": {
    "colab_type": "text",
    "id": "bTry4ZMD2859"
   },
   "source": [
    "# What-If Tool Challenge Lab\n",
    "\n",
    "In this notebook, you will use mortgage data from NY in 2017 to create two binary classifiers to determine if a mortgage applicant will be granted a loan.\n",
    "\n",
    "You will train classifiers on two datasets. One will be trained on the complete dataset, and the other will be trained on a subset of the dataset, where 90% of the female applicants that were granted a loan were removed from the training data (so the dataset has 90% less females that were granted loans).\n",
    "\n",
    "You will then compare and examine the two models using the What-If Tool.\n",
    "\n",
    "In this notebook, you will be exepcted to:\n",
    "* Understand how the data is processed \n",
    "* Write TensorFlow code to build and train two models\n",
    "* Write code to deploy the the models to AI Platform\n",
    "* Examine the models in the What-If Tool"
   ]
  },
  {
   "cell_type": "markdown",
   "metadata": {
    "colab_type": "text",
    "id": "zU9bzX-VWQCb"
   },
   "source": [
    "# Download and import the data\n",
    "\n",
    "Here, you'll import some modules and download some data from the Consumer Finance public [datasets](https://www.consumerfinance.gov/data-research/hmda/historic-data/?geo=ny&records=all-records&field_descriptions=labels)."
   ]
  },
  {
   "cell_type": "code",
   "execution_count": 1,
   "metadata": {
    "colab": {},
    "colab_type": "code",
    "id": "nhmYvLmUxSqU"
   },
   "outputs": [],
   "source": [
    "import pandas as pd\n",
    "import numpy as np\n",
    "import collections\n",
    "from sklearn import preprocessing\n",
    "from sklearn.model_selection import train_test_split\n",
    "from sklearn.metrics import accuracy_score, confusion_matrix\n",
    "from sklearn.utils import shuffle\n",
    "from witwidget.notebook.visualization import WitWidget, WitConfigBuilder"
   ]
  },
  {
   "cell_type": "code",
   "execution_count": 2,
   "metadata": {
    "colab": {},
    "colab_type": "code",
    "id": "oVhFQBvggsio"
   },
   "outputs": [
    {
     "name": "stdout",
     "output_type": "stream",
     "text": [
      "--2021-12-19 10:30:11--  https://files.consumerfinance.gov/hmda-historic-loan-data/hmda_2017_ny_all-records_labels.zip\n",
      "Resolving files.consumerfinance.gov (files.consumerfinance.gov)... 13.249.93.125, 13.249.93.82, 13.249.93.54, ...\n",
      "Connecting to files.consumerfinance.gov (files.consumerfinance.gov)|13.249.93.125|:443... connected.\n",
      "HTTP request sent, awaiting response... 200 OK\n",
      "Length: 17466285 (17M) [application/zip]\n",
      "Saving to: ‘hmda_2017_ny_all-records_labels.zip’\n",
      "\n",
      "hmda_2017_ny_all-re 100%[===================>]  16.66M  --.-KB/s    in 0.1s    \n",
      "\n",
      "2021-12-19 10:30:12 (130 MB/s) - ‘hmda_2017_ny_all-records_labels.zip’ saved [17466285/17466285]\n",
      "\n",
      "Archive:  hmda_2017_ny_all-records_labels.zip\n",
      "  inflating: hmda_2017_ny_all-records_labels.csv  \n"
     ]
    }
   ],
   "source": [
    "!wget https://files.consumerfinance.gov/hmda-historic-loan-data/hmda_2017_ny_all-records_labels.zip\n",
    "!unzip hmda_2017_ny_all-records_labels.zip"
   ]
  },
  {
   "cell_type": "markdown",
   "metadata": {
    "colab_type": "text",
    "id": "uFyKHeHZD1e6"
   },
   "source": [
    "# Process the Data\n",
    "\n",
    "In this section, you **don't need to write any code**. We suggest you read through the cells to understand how the dataset is processed.\n",
    "\n",
    "Here, we start by importing the dataset into a Pandas dataframe. Then we process the data to exclude incomplete information and make a simple binary classification of loan approvals. We then create two datasets, one complete and one where 90% of female applicants are removed."
   ]
  },
  {
   "cell_type": "code",
   "execution_count": 3,
   "metadata": {
    "colab": {},
    "colab_type": "code",
    "id": "LSsrdPdyCVYn"
   },
   "outputs": [],
   "source": [
    "# Set column dtypes for Pandas\n",
    "column_names = collections.OrderedDict({\n",
    "  'as_of_year': np.int16,\n",
    "  'agency_abbr': 'category',\n",
    "  'loan_type': 'category',\n",
    "  'property_type': 'category',\n",
    "  'loan_purpose': 'category',\n",
    "  'owner_occupancy': np.int8,\n",
    "  'loan_amt_000s': np.float64,\n",
    "  'preapproval': 'category',\n",
    "  'county_code': np.float64,\n",
    "  'applicant_income_00s': np.float64,\n",
    "  'purchaser_type': 'category',\n",
    "  'hoepa_status': 'category',\n",
    "  'lien_status': 'category',\n",
    "  'population': np.float64,\n",
    "  'ffiec_median_fam_income': np.float64,\n",
    "  'tract_to_msamd_income': np.float64,\n",
    "  'num_of_owner_occupied_units': np.float64,\n",
    "  'number_of_1_to_4_family_units': np.float64,\n",
    "  'approved': np.int8, \n",
    "  'applicant_race_name_3': 'category',\n",
    "  'applicant_race_name_4': 'category',\n",
    "  'applicant_race_name_5': 'category',\n",
    "  'co_applicant_race_name_3': 'category',\n",
    "  'co_applicant_race_name_4': 'category',\n",
    "  'co_applicant_race_name_5': 'category'\n",
    "})\n",
    "\n",
    "# Import the CSV into a dataframe\n",
    "data = pd.read_csv('hmda_2017_ny_all-records_labels.csv', dtype=column_names)\n",
    "data = shuffle(data, random_state=2)"
   ]
  },
  {
   "cell_type": "markdown",
   "metadata": {
    "colab_type": "text",
    "id": "5fMc5a2eY3Kh"
   },
   "source": [
    "## Extract columns and create dummy dataframes\n",
    "\n",
    "We first specify which columns to keep then drop the columns that don't have `loan originated` or `loan denied`, to make this a simple binary classification.\n",
    "\n",
    "We then create two dataframes `binary_df` and `bad_binary_df`. The first will include all the data, and the second will have 90% of female applicants removed, respectively. We then convert them into \"dummy\" dataframes to turn categorical string features into simple 0/1 features and normalize all the columns."
   ]
  },
  {
   "cell_type": "code",
   "execution_count": 4,
   "metadata": {
    "colab": {},
    "colab_type": "code",
    "id": "qWNJwq2-Htxz"
   },
   "outputs": [],
   "source": [
    "# Only use a subset of the columns for these models\n",
    "text_columns_to_keep = [\n",
    "             'agency_name',\n",
    "             'loan_type_name',\n",
    "             'property_type_name',\n",
    "             'loan_purpose_name',\n",
    "             'owner_occupancy_name',\n",
    "             'applicant_ethnicity_name',\n",
    "             'applicant_race_name_1',\n",
    "             'applicant_sex_name',                      \n",
    "]\n",
    "numeric_columns_to_keep = [\n",
    "             'loan_amount_000s',\n",
    "             'applicant_income_000s',\n",
    "             'population',\n",
    "             'minority_population',\n",
    "             'hud_median_family_income' \n",
    "]\n",
    "\n",
    "columns_to_keep = text_columns_to_keep + numeric_columns_to_keep + ['action_taken_name']\n",
    "\n",
    "# Drop columns with incomplete information and drop columns that don't have loan orignated or denied, to make this a simple binary classification\n",
    "df = data[columns_to_keep].dropna()\n",
    "binary_df = df[df.action_taken_name.isin(['Loan originated', 'Application denied by financial institution'])].copy()\n",
    "binary_df.loc[:,'loan_granted'] = np.where(binary_df['action_taken_name'] == 'Loan originated', 1, 0)\n",
    "binary_df = binary_df.drop(columns=['action_taken_name'])\n",
    "\n",
    "# Drop 90% of loaned female applicants for a \"bad training data\" version\n",
    "loaned_females = (binary_df['applicant_sex_name'] == 'Female') & (binary_df['loan_granted'] == 1)\n",
    "bad_binary_df = binary_df.drop(binary_df[loaned_females].sample(frac=.9).index)"
   ]
  },
  {
   "cell_type": "code",
   "execution_count": 5,
   "metadata": {},
   "outputs": [
    {
     "data": {
      "text/html": [
       "<div>\n",
       "<style scoped>\n",
       "    .dataframe tbody tr th:only-of-type {\n",
       "        vertical-align: middle;\n",
       "    }\n",
       "\n",
       "    .dataframe tbody tr th {\n",
       "        vertical-align: top;\n",
       "    }\n",
       "\n",
       "    .dataframe thead th {\n",
       "        text-align: right;\n",
       "    }\n",
       "</style>\n",
       "<table border=\"1\" class=\"dataframe\">\n",
       "  <thead>\n",
       "    <tr style=\"text-align: right;\">\n",
       "      <th></th>\n",
       "      <th>agency_name</th>\n",
       "      <th>loan_type_name</th>\n",
       "      <th>property_type_name</th>\n",
       "      <th>loan_purpose_name</th>\n",
       "      <th>owner_occupancy_name</th>\n",
       "      <th>applicant_ethnicity_name</th>\n",
       "      <th>applicant_race_name_1</th>\n",
       "      <th>applicant_sex_name</th>\n",
       "      <th>loan_amount_000s</th>\n",
       "      <th>applicant_income_000s</th>\n",
       "      <th>population</th>\n",
       "      <th>minority_population</th>\n",
       "      <th>hud_median_family_income</th>\n",
       "      <th>loan_granted</th>\n",
       "    </tr>\n",
       "  </thead>\n",
       "  <tbody>\n",
       "    <tr>\n",
       "      <th>343075</th>\n",
       "      <td>Department of Housing and Urban Development</td>\n",
       "      <td>Conventional</td>\n",
       "      <td>One-to-four family dwelling (other than manufa...</td>\n",
       "      <td>Home purchase</td>\n",
       "      <td>Owner-occupied as a principal dwelling</td>\n",
       "      <td>Not Hispanic or Latino</td>\n",
       "      <td>White</td>\n",
       "      <td>Male</td>\n",
       "      <td>149</td>\n",
       "      <td>47.0</td>\n",
       "      <td>4108.0</td>\n",
       "      <td>15.820000</td>\n",
       "      <td>62500.0</td>\n",
       "      <td>1</td>\n",
       "    </tr>\n",
       "    <tr>\n",
       "      <th>259818</th>\n",
       "      <td>Consumer Financial Protection Bureau</td>\n",
       "      <td>Conventional</td>\n",
       "      <td>One-to-four family dwelling (other than manufa...</td>\n",
       "      <td>Home purchase</td>\n",
       "      <td>Owner-occupied as a principal dwelling</td>\n",
       "      <td>Not Hispanic or Latino</td>\n",
       "      <td>White</td>\n",
       "      <td>Male</td>\n",
       "      <td>214</td>\n",
       "      <td>111.0</td>\n",
       "      <td>7470.0</td>\n",
       "      <td>14.230000</td>\n",
       "      <td>68200.0</td>\n",
       "      <td>1</td>\n",
       "    </tr>\n",
       "    <tr>\n",
       "      <th>431422</th>\n",
       "      <td>Department of Housing and Urban Development</td>\n",
       "      <td>VA-guaranteed</td>\n",
       "      <td>One-to-four family dwelling (other than manufa...</td>\n",
       "      <td>Home purchase</td>\n",
       "      <td>Owner-occupied as a principal dwelling</td>\n",
       "      <td>Not Hispanic or Latino</td>\n",
       "      <td>Black or African American</td>\n",
       "      <td>Male</td>\n",
       "      <td>163</td>\n",
       "      <td>86.0</td>\n",
       "      <td>3179.0</td>\n",
       "      <td>33.820000</td>\n",
       "      <td>73700.0</td>\n",
       "      <td>1</td>\n",
       "    </tr>\n",
       "    <tr>\n",
       "      <th>280518</th>\n",
       "      <td>Federal Deposit Insurance Corporation</td>\n",
       "      <td>Conventional</td>\n",
       "      <td>One-to-four family dwelling (other than manufa...</td>\n",
       "      <td>Home purchase</td>\n",
       "      <td>Owner-occupied as a principal dwelling</td>\n",
       "      <td>Not Hispanic or Latino</td>\n",
       "      <td>White</td>\n",
       "      <td>Male</td>\n",
       "      <td>192</td>\n",
       "      <td>56.0</td>\n",
       "      <td>3527.0</td>\n",
       "      <td>3.370000</td>\n",
       "      <td>62500.0</td>\n",
       "      <td>1</td>\n",
       "    </tr>\n",
       "    <tr>\n",
       "      <th>107170</th>\n",
       "      <td>Consumer Financial Protection Bureau</td>\n",
       "      <td>Conventional</td>\n",
       "      <td>One-to-four family dwelling (other than manufa...</td>\n",
       "      <td>Refinancing</td>\n",
       "      <td>Owner-occupied as a principal dwelling</td>\n",
       "      <td>Not Hispanic or Latino</td>\n",
       "      <td>White</td>\n",
       "      <td>Male</td>\n",
       "      <td>2000</td>\n",
       "      <td>358.0</td>\n",
       "      <td>5171.0</td>\n",
       "      <td>16.459999</td>\n",
       "      <td>73700.0</td>\n",
       "      <td>1</td>\n",
       "    </tr>\n",
       "  </tbody>\n",
       "</table>\n",
       "</div>"
      ],
      "text/plain": [
       "                                        agency_name loan_type_name  \\\n",
       "343075  Department of Housing and Urban Development   Conventional   \n",
       "259818         Consumer Financial Protection Bureau   Conventional   \n",
       "431422  Department of Housing and Urban Development  VA-guaranteed   \n",
       "280518        Federal Deposit Insurance Corporation   Conventional   \n",
       "107170         Consumer Financial Protection Bureau   Conventional   \n",
       "\n",
       "                                       property_type_name loan_purpose_name  \\\n",
       "343075  One-to-four family dwelling (other than manufa...     Home purchase   \n",
       "259818  One-to-four family dwelling (other than manufa...     Home purchase   \n",
       "431422  One-to-four family dwelling (other than manufa...     Home purchase   \n",
       "280518  One-to-four family dwelling (other than manufa...     Home purchase   \n",
       "107170  One-to-four family dwelling (other than manufa...       Refinancing   \n",
       "\n",
       "                          owner_occupancy_name applicant_ethnicity_name  \\\n",
       "343075  Owner-occupied as a principal dwelling   Not Hispanic or Latino   \n",
       "259818  Owner-occupied as a principal dwelling   Not Hispanic or Latino   \n",
       "431422  Owner-occupied as a principal dwelling   Not Hispanic or Latino   \n",
       "280518  Owner-occupied as a principal dwelling   Not Hispanic or Latino   \n",
       "107170  Owner-occupied as a principal dwelling   Not Hispanic or Latino   \n",
       "\n",
       "            applicant_race_name_1 applicant_sex_name  loan_amount_000s  \\\n",
       "343075                      White               Male               149   \n",
       "259818                      White               Male               214   \n",
       "431422  Black or African American               Male               163   \n",
       "280518                      White               Male               192   \n",
       "107170                      White               Male              2000   \n",
       "\n",
       "        applicant_income_000s  population  minority_population  \\\n",
       "343075                   47.0      4108.0            15.820000   \n",
       "259818                  111.0      7470.0            14.230000   \n",
       "431422                   86.0      3179.0            33.820000   \n",
       "280518                   56.0      3527.0             3.370000   \n",
       "107170                  358.0      5171.0            16.459999   \n",
       "\n",
       "        hud_median_family_income  loan_granted  \n",
       "343075                   62500.0             1  \n",
       "259818                   68200.0             1  \n",
       "431422                   73700.0             1  \n",
       "280518                   62500.0             1  \n",
       "107170                   73700.0             1  "
      ]
     },
     "execution_count": 5,
     "metadata": {},
     "output_type": "execute_result"
    }
   ],
   "source": [
    "binary_df.head()"
   ]
  },
  {
   "cell_type": "code",
   "execution_count": 6,
   "metadata": {
    "colab": {},
    "colab_type": "code",
    "id": "ic6mWTvENrLd"
   },
   "outputs": [
    {
     "name": "stdout",
     "output_type": "stream",
     "text": [
      "1    223026\n",
      "0     63001\n",
      "Name: loan_granted, dtype: int64\n"
     ]
    }
   ],
   "source": [
    "# Now lets' see the distribution of approved / denied classes (0: denied, 1: approved)\n",
    "print(binary_df['loan_granted'].value_counts())"
   ]
  },
  {
   "cell_type": "code",
   "execution_count": 7,
   "metadata": {
    "colab": {},
    "colab_type": "code",
    "id": "6h3kQmIqMLYr"
   },
   "outputs": [],
   "source": [
    "# Turn categorical string features into simple 0/1 features (like turning \"sex\" into \"sex_male\" and \"sex_female\")\n",
    "dummies_df = pd.get_dummies(binary_df, columns=text_columns_to_keep)\n",
    "dummies_df = dummies_df.sample(frac=1).reset_index(drop=True)\n",
    "\n",
    "bad_dummies_df = pd.get_dummies(bad_binary_df, columns=text_columns_to_keep)\n",
    "bad_dummies_df = bad_dummies_df.sample(frac=1).reset_index(drop=True)"
   ]
  },
  {
   "cell_type": "code",
   "execution_count": 8,
   "metadata": {
    "colab": {},
    "colab_type": "code",
    "id": "3VfdY4PzWOoI"
   },
   "outputs": [],
   "source": [
    "# Normalize the numeric columns so that they all have the same scale to simplify modeling/training\n",
    "def normalize():\n",
    "    min_max_scaler = preprocessing.MinMaxScaler()\n",
    "    column_names_to_normalize = ['loan_amount_000s', 'applicant_income_000s', 'minority_population', 'hud_median_family_income', 'population']\n",
    "    x = dummies_df[column_names_to_normalize].values\n",
    "    x_scaled = min_max_scaler.fit_transform(x)\n",
    "    df_temp = pd.DataFrame(x_scaled, columns=column_names_to_normalize, index = dummies_df.index)\n",
    "    dummies_df[column_names_to_normalize] = df_temp\n",
    "\n",
    "    x = bad_dummies_df[column_names_to_normalize].values\n",
    "    x_scaled = min_max_scaler.fit_transform(x)\n",
    "    bad_df_temp = pd.DataFrame(x_scaled, columns=column_names_to_normalize, index = bad_dummies_df.index)\n",
    "    bad_dummies_df[column_names_to_normalize] = bad_df_temp\n",
    "\n",
    "normalize()"
   ]
  },
  {
   "cell_type": "markdown",
   "metadata": {
    "colab_type": "text",
    "id": "m20NBqsMaMkx"
   },
   "source": [
    "## Get the Train & Test Data\n",
    "\n",
    "Now, let's get the train and test data for our models.\n",
    "\n",
    "For the **first** model, you'll use `train_data` and `train_labels`.\n",
    "\n",
    "For the **second** model, you'll use `limited_train_data` and `limited_train_labels`."
   ]
  },
  {
   "cell_type": "code",
   "execution_count": 9,
   "metadata": {
    "colab": {},
    "colab_type": "code",
    "id": "Np8JM4KINnKC"
   },
   "outputs": [],
   "source": [
    "# Get the training data & labels\n",
    "test_data_with_labels = dummies_df\n",
    "\n",
    "train_data = dummies_df\n",
    "train_labels = train_data['loan_granted']\n",
    "train_data = train_data.drop(columns=['loan_granted'])\n",
    "\n",
    "# Get the bad (limited) training data and labels\n",
    "limited_train_data = bad_dummies_df\n",
    "limited_train_labels = limited_train_data['loan_granted']\n",
    "limited_train_data = bad_dummies_df.drop(columns=['loan_granted'])\n",
    "\n",
    "# Split the data into train / test sets for Model 1\n",
    "x,y = train_data,train_labels\n",
    "train_data,test_data,train_labels,test_labels = train_test_split(x,y)\n",
    "\n",
    "# Split the bad data into train / test sets for Model 2\n",
    "lim_x,lim_y=limited_train_data,limited_train_labels\n",
    "limited_train_data,limited_test_data,limited_train_labels,limited_test_labels = train_test_split(lim_x,lim_y)"
   ]
  },
  {
   "cell_type": "markdown",
   "metadata": {
    "colab_type": "text",
    "id": "MyUxXszu0Mp0"
   },
   "source": [
    "# Create and train your TensorFlow models\n",
    "\n",
    "In this section, you will write code to train two TensorFlow Keras models."
   ]
  },
  {
   "cell_type": "markdown",
   "metadata": {
    "colab_type": "text",
    "id": "K685pKOMUPQD"
   },
   "source": [
    "## Train your first model on the complete dataset.\n",
    "\n",
    "* **Important**: your first model should be saved in the location `saved_complete_model/saved_model.pb`.\n",
    "* The data will come from `train_data` and `train_labels`.\n",
    "\n",
    "If you get stuck, you can view the documentation [here](https://www.tensorflow.org/api_docs/python/tf/keras/Sequential)."
   ]
  },
  {
   "cell_type": "code",
   "execution_count": 10,
   "metadata": {
    "colab": {},
    "colab_type": "code",
    "id": "PvgHgZ-agsi_"
   },
   "outputs": [],
   "source": [
    "%matplotlib inline\n",
    "import matplotlib.pyplot as plt\n",
    "\n",
    "# import TF modules\n",
    "from tensorflow.keras import layers, initializers, optimizers, regularizers\n",
    "from tensorflow.keras.models import Sequential\n",
    "from tensorflow.keras.layers import Dense\n",
    "from tensorflow.keras.callbacks import EarlyStopping"
   ]
  },
  {
   "cell_type": "code",
   "execution_count": 11,
   "metadata": {},
   "outputs": [],
   "source": [
    "# Plot the learning curves \n",
    "def plot_history(history):\n",
    "    frame = pd.DataFrame(history.history)\n",
    "    epochs = np.arange(len(frame))\n",
    "    fig = plt.figure(figsize=(12, 4))\n",
    "    # Loss plot\n",
    "    ax = fig.add_subplot(121)\n",
    "    ax.plot(epochs, frame['loss'], label='Train')\n",
    "    ax.plot(epochs, frame['val_loss'], label='Validation')\n",
    "    ax.set_xlabel('Epochs')\n",
    "    ax.set_ylabel('Loss')\n",
    "    ax.set_title('Loss vs Epochs')\n",
    "    ax.legend()\n",
    "    # Accuracy plot\n",
    "    ax = fig.add_subplot(122)\n",
    "    ax.plot(epochs, frame['accuracy'], label='Train')\n",
    "    ax.plot(epochs, frame['val_accuracy'], label='Validation')\n",
    "    ax.set_xlabel('Epochs')\n",
    "    ax.set_ylabel('Accuracy')\n",
    "    ax.set_title('Accuracy vs Epochs')\n",
    "    ax.legend()\n",
    "    plt.show()"
   ]
  },
  {
   "cell_type": "code",
   "execution_count": 12,
   "metadata": {
    "colab": {},
    "colab_type": "code",
    "id": "l4qrBBr5bUSK"
   },
   "outputs": [
    {
     "name": "stderr",
     "output_type": "stream",
     "text": [
      "2021-12-19 10:30:59.043526: I tensorflow/core/common_runtime/process_util.cc:146] Creating new thread pool with default inter op setting: 2. Tune using inter_op_parallelism_threads for best performance.\n"
     ]
    },
    {
     "name": "stdout",
     "output_type": "stream",
     "text": [
      "Model: \"sequential\"\n",
      "_________________________________________________________________\n",
      "Layer (type)                 Output Shape              Param #   \n",
      "=================================================================\n",
      "dense (Dense)                (None, 16)                624       \n",
      "_________________________________________________________________\n",
      "dropout (Dropout)            (None, 16)                0         \n",
      "_________________________________________________________________\n",
      "dense_1 (Dense)              (None, 8)                 136       \n",
      "_________________________________________________________________\n",
      "dropout_1 (Dropout)          (None, 8)                 0         \n",
      "_________________________________________________________________\n",
      "dense_2 (Dense)              (None, 1)                 9         \n",
      "=================================================================\n",
      "Total params: 769\n",
      "Trainable params: 769\n",
      "Non-trainable params: 0\n",
      "_________________________________________________________________\n",
      "None\n",
      "Epoch 1/10\n"
     ]
    },
    {
     "name": "stderr",
     "output_type": "stream",
     "text": [
      "2021-12-19 10:30:59.437469: I tensorflow/compiler/mlir/mlir_graph_optimization_pass.cc:185] None of the MLIR Optimization Passes are enabled (registered 2)\n"
     ]
    },
    {
     "name": "stdout",
     "output_type": "stream",
     "text": [
      "6704/6704 [==============================] - 30s 4ms/step - loss: 0.7221 - accuracy: 0.7625 - val_loss: 0.5396 - val_accuracy: 0.7786\n",
      "Epoch 2/10\n",
      "6704/6704 [==============================] - 28s 4ms/step - loss: 0.5225 - accuracy: 0.7827 - val_loss: 0.5020 - val_accuracy: 0.7839\n",
      "Epoch 3/10\n",
      "6704/6704 [==============================] - 28s 4ms/step - loss: 0.5030 - accuracy: 0.7834 - val_loss: 0.4930 - val_accuracy: 0.7846\n",
      "Epoch 4/10\n",
      "6704/6704 [==============================] - 26s 4ms/step - loss: 0.4966 - accuracy: 0.7837 - val_loss: 0.4893 - val_accuracy: 0.7844\n",
      "Epoch 5/10\n",
      "6704/6704 [==============================] - 27s 4ms/step - loss: 0.4936 - accuracy: 0.7842 - val_loss: 0.4879 - val_accuracy: 0.7846\n",
      "Epoch 6/10\n",
      "6704/6704 [==============================] - 26s 4ms/step - loss: 0.4915 - accuracy: 0.7841 - val_loss: 0.4869 - val_accuracy: 0.7843\n",
      "Epoch 7/10\n",
      "6704/6704 [==============================] - 26s 4ms/step - loss: 0.4897 - accuracy: 0.7848 - val_loss: 0.4857 - val_accuracy: 0.7844\n",
      "Epoch 8/10\n",
      "6704/6704 [==============================] - 28s 4ms/step - loss: 0.4892 - accuracy: 0.7844 - val_loss: 0.4848 - val_accuracy: 0.7842\n",
      "Epoch 9/10\n",
      "6704/6704 [==============================] - 27s 4ms/step - loss: 0.4888 - accuracy: 0.7845 - val_loss: 0.4836 - val_accuracy: 0.7854\n",
      "Epoch 10/10\n",
      "6704/6704 [==============================] - 26s 4ms/step - loss: 0.4880 - accuracy: 0.7846 - val_loss: 0.4841 - val_accuracy: 0.7840\n"
     ]
    },
    {
     "data": {
      "image/png": "[encoded data removed]",
      "text/plain": [
       "<Figure size 864x288 with 2 Axes>"
      ]
     },
     "metadata": {
      "needs_background": "light"
     },
     "output_type": "display_data"
    }
   ],
   "source": [
    "# This is the size of the array you'll be feeding into our model for each example\n",
    "input_size = len(train_data.iloc[0])\n",
    "kernel_initializer = initializers.RandomNormal(mean=0.0, stddev=1.0)\n",
    "kernel_regularizer = regularizers.l1_l2(l1=1e-4, l2=1e-5)\n",
    "bias_initializer = initializers.Ones()\n",
    "bias_regularizer = regularizers.l2(l2=1e-5)\n",
    "callbacks = [EarlyStopping(monitor='val_loss', patience=2, min_delta=0.001)]\n",
    "\n",
    "# Train the first model on the complete dataset. Use `train_data` for your data and `train_labels` for you labels.\n",
    "\n",
    "# ---- TODO ---------\n",
    "# create the model = Sequential()\n",
    "model = Sequential()\n",
    "# model.add (your layers)\n",
    "model.add(Dense(16, activation='relu',\n",
    "    kernel_initializer=kernel_initializer,\n",
    "    kernel_regularizer=kernel_regularizer,\n",
    "    bias_initializer=bias_initializer,\n",
    "    bias_regularizer=bias_regularizer,\n",
    "    input_shape=(input_size,)))\n",
    "model.add(layers.Dropout(0.3))\n",
    "model.add(Dense(8, activation='relu',\n",
    "    kernel_initializer=kernel_initializer,\n",
    "    kernel_regularizer=kernel_regularizer,\n",
    "    bias_initializer=bias_initializer,\n",
    "    bias_regularizer=bias_regularizer))\n",
    "model.add(layers.Dropout(0.3))\n",
    "model.add(Dense(1, activation='sigmoid'))\n",
    "print(model.summary())\n",
    "# model.compile\n",
    "optimizer = optimizers.Adam(learning_rate=1e-3)\n",
    "model.compile(loss='binary_crossentropy', metrics=['accuracy'], optimizer=optimizer)\n",
    "# model.fit\n",
    "history = model.fit(train_data, train_labels, batch_size=32, epochs=10, \n",
    "    validation_data=(test_data, test_labels), verbose=True,\n",
    "    callbacks=callbacks)\n",
    "plot_history(history)"
   ]
  },
  {
   "cell_type": "code",
   "execution_count": 23,
   "metadata": {
    "colab": {},
    "colab_type": "code",
    "id": "CWGEGaxPgsjD"
   },
   "outputs": [
    {
     "name": "stdout",
     "output_type": "stream",
     "text": [
      "INFO:tensorflow:Assets written to: saved_complete_model/assets\n"
     ]
    }
   ],
   "source": [
    "# Save your model\n",
    "!mkdir -p saved_complete_model\n",
    "model.save('saved_complete_model/')"
   ]
  },
  {
   "cell_type": "code",
   "execution_count": 14,
   "metadata": {
    "colab": {},
    "colab_type": "code",
    "id": "hg0bnNVwgsjF"
   },
   "outputs": [
    {
     "name": "stdout",
     "output_type": "stream",
     "text": [
      "Model 1 Accuracy: 78.40%\n"
     ]
    }
   ],
   "source": [
    "# Get predictions on the test set and print the accuracy score (Model 1)\n",
    "y_pred = model.predict(test_data)\n",
    "acc = accuracy_score(test_labels, y_pred.round())\n",
    "print(\"Model 1 Accuracy: %.2f%%\" % (acc * 100.0))"
   ]
  },
  {
   "cell_type": "markdown",
   "metadata": {
    "colab_type": "text",
    "id": "U2hPhuA-UXTT"
   },
   "source": [
    "## Train your second model on the limited datset.\n",
    "\n",
    "* **Important**: your second model should be saved in the location `saved_limited_model/saved_model.pb`.\n",
    "* The data will come from `limited_train_data` and `limited_train_labels`.\n",
    "\n",
    "\n",
    "If you get stuck, you can view the documentation [here](https://www.tensorflow.org/api_docs/python/tf/keras/Sequential)."
   ]
  },
  {
   "cell_type": "code",
   "execution_count": 15,
   "metadata": {
    "colab": {},
    "colab_type": "code",
    "id": "NP8cr7JvgsjH"
   },
   "outputs": [
    {
     "name": "stdout",
     "output_type": "stream",
     "text": [
      "Model: \"sequential\"\n",
      "_________________________________________________________________\n",
      "Layer (type)                 Output Shape              Param #   \n",
      "=================================================================\n",
      "dense (Dense)                (None, 16)                624       \n",
      "_________________________________________________________________\n",
      "dropout (Dropout)            (None, 16)                0         \n",
      "_________________________________________________________________\n",
      "dense_1 (Dense)              (None, 8)                 136       \n",
      "_________________________________________________________________\n",
      "dropout_1 (Dropout)          (None, 8)                 0         \n",
      "_________________________________________________________________\n",
      "dense_2 (Dense)              (None, 1)                 9         \n",
      "=================================================================\n",
      "Total params: 769\n",
      "Trainable params: 769\n",
      "Non-trainable params: 0\n",
      "_________________________________________________________________\n",
      "None\n",
      "Epoch 1/10\n",
      "5215/5215 [==============================] - 19s 4ms/step - loss: 0.9519 - accuracy: 0.7009 - val_loss: 0.5907 - val_accuracy: 0.7404\n",
      "Epoch 2/10\n",
      "5215/5215 [==============================] - 18s 4ms/step - loss: 0.5731 - accuracy: 0.7528 - val_loss: 0.5306 - val_accuracy: 0.7778\n",
      "Epoch 3/10\n",
      "5215/5215 [==============================] - 17s 3ms/step - loss: 0.5367 - accuracy: 0.7703 - val_loss: 0.5111 - val_accuracy: 0.7828\n",
      "Epoch 4/10\n",
      "5215/5215 [==============================] - 18s 3ms/step - loss: 0.5230 - accuracy: 0.7737 - val_loss: 0.5015 - val_accuracy: 0.7838\n",
      "Epoch 5/10\n",
      "5215/5215 [==============================] - 17s 3ms/step - loss: 0.5152 - accuracy: 0.7753 - val_loss: 0.5000 - val_accuracy: 0.7839\n",
      "Epoch 6/10\n",
      "5215/5215 [==============================] - 19s 4ms/step - loss: 0.5116 - accuracy: 0.7760 - val_loss: 0.4952 - val_accuracy: 0.7835\n",
      "Epoch 7/10\n",
      "5215/5215 [==============================] - 18s 3ms/step - loss: 0.5083 - accuracy: 0.7761 - val_loss: 0.4931 - val_accuracy: 0.7838\n",
      "Epoch 8/10\n",
      "5215/5215 [==============================] - 17s 3ms/step - loss: 0.5062 - accuracy: 0.7765 - val_loss: 0.4909 - val_accuracy: 0.7842\n",
      "Epoch 9/10\n",
      "5215/5215 [==============================] - 17s 3ms/step - loss: 0.5035 - accuracy: 0.7769 - val_loss: 0.4898 - val_accuracy: 0.7842\n",
      "Epoch 10/10\n",
      "5215/5215 [==============================] - 19s 4ms/step - loss: 0.5025 - accuracy: 0.7777 - val_loss: 0.4891 - val_accuracy: 0.7846\n"
     ]
    },
    {
     "data": {
      "image/png": "[encoded data removed]",
      "text/plain": [
       "<Figure size 864x288 with 2 Axes>"
      ]
     },
     "metadata": {
      "needs_background": "light"
     },
     "output_type": "display_data"
    }
   ],
   "source": [
    "# Train your second model on the limited dataset. Use `limited_train_data` for your data and `limited_train_labels` for your labels.\n",
    "# Use the same input_size for the limited_model\n",
    "\n",
    "# ---- TODO ---------\n",
    "# create the limited_model = Sequential()\n",
    "limited_model = Sequential()\n",
    "# limited_model.add (your layers)\n",
    "limited_model.add(Dense(16, activation='relu',\n",
    "    kernel_initializer=kernel_initializer,\n",
    "    kernel_regularizer=kernel_regularizer,\n",
    "    bias_initializer=bias_initializer,\n",
    "    bias_regularizer=bias_regularizer,\n",
    "    input_shape=(input_size,)))\n",
    "limited_model.add(layers.Dropout(0.3))\n",
    "limited_model.add(Dense(8, activation='relu',\n",
    "    kernel_initializer=kernel_initializer,\n",
    "    kernel_regularizer=kernel_regularizer,\n",
    "    bias_initializer=bias_initializer,\n",
    "    bias_regularizer=bias_regularizer))\n",
    "limited_model.add(layers.Dropout(0.3))\n",
    "limited_model.add(Dense(1, activation='sigmoid'))\n",
    "print(model.summary())\n",
    "# limited_model.compile\n",
    "optimizer = optimizers.Adam(learning_rate=1e-3)\n",
    "limited_model.compile(loss='binary_crossentropy', metrics=['accuracy'], optimizer=optimizer)\n",
    "# limited_model.fit\n",
    "limited_history = limited_model.fit(limited_train_data, limited_train_labels, \n",
    "    batch_size=32, epochs=10, verbose=True, callbacks=callbacks,\n",
    "    validation_data=(limited_test_data, limited_test_labels))\n",
    "plot_history(limited_history)"
   ]
  },
  {
   "cell_type": "code",
   "execution_count": 22,
   "metadata": {
    "colab": {},
    "colab_type": "code",
    "id": "5UauXNlMgsjK"
   },
   "outputs": [
    {
     "name": "stdout",
     "output_type": "stream",
     "text": [
      "INFO:tensorflow:Assets written to: saved_limited_model/assets\n"
     ]
    }
   ],
   "source": [
    "# Save your model\n",
    "!mkdir -p saved_limited_model\n",
    "limited_model.save('saved_limited_model/') "
   ]
  },
  {
   "cell_type": "code",
   "execution_count": 17,
   "metadata": {
    "colab": {},
    "colab_type": "code",
    "id": "n0UxiCcygsjM"
   },
   "outputs": [
    {
     "name": "stdout",
     "output_type": "stream",
     "text": [
      "Model 2 Accuracy: 78.46%\n"
     ]
    }
   ],
   "source": [
    "# Get predictions on the test set and print the accuracy score (Model 2)\n",
    "limited_y_pred = limited_model.predict(limited_test_data)\n",
    "acc = accuracy_score(limited_test_labels, limited_y_pred.round())\n",
    "print(\"Model 2 Accuracy: %.2f%%\" % (acc * 100.0))"
   ]
  },
  {
   "cell_type": "markdown",
   "metadata": {
    "colab_type": "text",
    "id": "-5X33HRf0b2C"
   },
   "source": [
    "# Deploy your models to the AI Platform\n",
    "\n",
    "In this section, you will first need to create a Cloud Storage bucket to store your models, then you will use gcloud commands to copy them over.\n",
    "\n",
    "You will then create two AI Platform model resources and their associated versions."
   ]
  },
  {
   "cell_type": "code",
   "execution_count": 24,
   "metadata": {
    "colab": {},
    "colab_type": "code",
    "id": "Jfp8H0esC6k_"
   },
   "outputs": [],
   "source": [
    "# ---- TODO ---------\n",
    "\n",
    "# Fill out this information:\n",
    "\n",
    "GCP_PROJECT = 'qwiklabs-gcp-00-1508a0ca6aeb'\n",
    "MODEL_BUCKET = 'gs://qwiklabs-gcp-00-1508a0ca6aeb'\n",
    "MODEL_NAME = 'complete_model_401' #do not modify\n",
    "LIM_MODEL_NAME = 'limited_model_728' #do not modify\n",
    "VERSION_NAME = 'v1'\n",
    "REGION = 'us-central1'"
   ]
  },
  {
   "cell_type": "code",
   "execution_count": 26,
   "metadata": {
    "colab": {},
    "colab_type": "code",
    "id": "NJOTCAsLDjcF"
   },
   "outputs": [
    {
     "name": "stdout",
     "output_type": "stream",
     "text": [
      "Copying file://./saved_complete_model/keras_metadata.pb [Content-Type=application/octet-stream]...\n",
      "Copying file://./saved_complete_model/saved_model.pb [Content-Type=application/octet-stream]...\n",
      "Copying file://./saved_complete_model/variables/variables.data-00000-of-00001 [Content-Type=application/octet-stream]...\n",
      "Copying file://./saved_complete_model/variables/variables.index [Content-Type=application/octet-stream]...\n",
      "/ [4 files][210.2 KiB/210.2 KiB]                                                \n",
      "Operation completed over 4 objects/210.2 KiB.                                    \n",
      "Copying file://./saved_limited_model/keras_metadata.pb [Content-Type=application/octet-stream]...\n",
      "Copying file://./saved_limited_model/saved_model.pb [Content-Type=application/octet-stream]...\n",
      "Copying file://./saved_limited_model/variables/variables.data-00000-of-00001 [Content-Type=application/octet-stream]...\n",
      "Copying file://./saved_limited_model/variables/variables.index [Content-Type=application/octet-stream]...\n",
      "- [4 files][212.4 KiB/212.4 KiB]                                                \n",
      "Operation completed over 4 objects/212.4 KiB.                                    \n"
     ]
    }
   ],
   "source": [
    "# Copy your model files to Cloud Storage (these file paths are your 'origin' for the AI Platform Model)\n",
    "!gsutil cp -r ./saved_complete_model $MODEL_BUCKET\n",
    "!gsutil cp -r ./saved_limited_model $MODEL_BUCKET"
   ]
  },
  {
   "cell_type": "code",
   "execution_count": 27,
   "metadata": {
    "colab": {},
    "colab_type": "code",
    "id": "NJOTCAsLDjcF"
   },
   "outputs": [
    {
     "name": "stdout",
     "output_type": "stream",
     "text": [
      "Updated property [core/project].\n",
      "Updated property [ai_platform/region].\n"
     ]
    }
   ],
   "source": [
    "# Configure gcloud to use your project\n",
    "!gcloud config set project $GCP_PROJECT\n",
    "!gcloud config set ai_platform/region global"
   ]
  },
  {
   "cell_type": "markdown",
   "metadata": {
    "colab_type": "text",
    "id": "V1RF5Ga_HAva"
   },
   "source": [
    "## Create your first AI Platform model: *saved_complete_model*\n",
    "\n",
    "Navigate back to the Google Cloud Console to complete this task. See the lab guide for details."
   ]
  },
  {
   "cell_type": "code",
   "execution_count": 28,
   "metadata": {},
   "outputs": [
    {
     "name": "stdout",
     "output_type": "stream",
     "text": [
      "Using endpoint [https://ml.googleapis.com/]\n",
      "Created ai platform model [projects/qwiklabs-gcp-00-1508a0ca6aeb/models/complete_model_401].\n"
     ]
    }
   ],
   "source": [
    "!gcloud ai-platform models create $MODEL_NAME --regions $REGION"
   ]
  },
  {
   "cell_type": "code",
   "execution_count": 29,
   "metadata": {},
   "outputs": [
    {
     "name": "stdout",
     "output_type": "stream",
     "text": [
      "Using endpoint [https://ml.googleapis.com/]\n",
      "Creating version (this might take a few minutes)......done.                    \n"
     ]
    }
   ],
   "source": [
    "!gcloud ai-platform versions create $VERSION_NAME \\\n",
    "--model=$MODEL_NAME \\\n",
    "--python-version=3.7 \\\n",
    "--framework='TensorFlow' \\\n",
    "--runtime-version=2.3 \\\n",
    "--origin=$MODEL_BUCKET/saved_complete_model \\\n",
    "--staging-bucket=$MODEL_BUCKET"
   ]
  },
  {
   "cell_type": "markdown",
   "metadata": {
    "colab_type": "text",
    "id": "TNCuzUbsKuUv"
   },
   "source": [
    "## Create your second AI Platform model: *saved_limited_model*\n",
    "\n",
    "Navigate back to the Google Cloud Console to complete this task. See the lab guide for details."
   ]
  },
  {
   "cell_type": "code",
   "execution_count": 30,
   "metadata": {},
   "outputs": [
    {
     "name": "stdout",
     "output_type": "stream",
     "text": [
      "Using endpoint [https://ml.googleapis.com/]\n",
      "Created ai platform model [projects/qwiklabs-gcp-00-1508a0ca6aeb/models/limited_model_728].\n"
     ]
    }
   ],
   "source": [
    "!gcloud ai-platform models create $LIM_MODEL_NAME --regions $REGION"
   ]
  },
  {
   "cell_type": "code",
   "execution_count": 31,
   "metadata": {},
   "outputs": [
    {
     "name": "stdout",
     "output_type": "stream",
     "text": [
      "Using endpoint [https://ml.googleapis.com/]\n",
      "Creating version (this might take a few minutes)......done.                    \n"
     ]
    }
   ],
   "source": [
    "!gcloud ai-platform versions create $VERSION_NAME \\\n",
    "--model=$LIM_MODEL_NAME \\\n",
    "--python-version=3.7 \\\n",
    "--framework='TensorFlow' \\\n",
    "--runtime-version=2.3 \\\n",
    "--origin=$MODEL_BUCKET/saved_limited_model \\\n",
    "--staging-bucket=$MODEL_BUCKET"
   ]
  },
  {
   "cell_type": "markdown",
   "metadata": {
    "colab_type": "text",
    "id": "4IZAJ1LrqUha"
   },
   "source": [
    "# Using the What-if Tool to interpret your model\n",
    "Once your models have deployed, you're now ready to connect them to the What-if Tool using the WitWidget. \n",
    "\n",
    "We've provided the Config Builder code and a couple of functions to get the class predictions from the models, which are necessary inputs for the WIT. If you've successfully deployed and saved your models, all you'll need to do is **add the WitConfigBuilder code in this cell**."
   ]
  },
  {
   "cell_type": "code",
   "execution_count": 32,
   "metadata": {
    "colab": {},
    "colab_type": "code",
    "id": "bQrAb7lbOhvI"
   },
   "outputs": [
    {
     "data": {
      "text/html": [
       "<style>.container { width:100% !important; }</style>"
      ],
      "text/plain": [
       "<IPython.core.display.HTML object>"
      ]
     },
     "metadata": {},
     "output_type": "display_data"
    },
    {
     "data": {
      "application/vnd.jupyter.widget-view+json": {
       "model_id": "efefaff66fa44b03ac8d04b7f1689dd3",
       "version_major": 2,
       "version_minor": 0
      },
      "text/plain": [
       "WitWidget(config={'model_type': 'classification', 'label_vocab': ['denied', 'accepted'], 'feature_names': ['lo…"
      ]
     },
     "metadata": {},
     "output_type": "display_data"
    }
   ],
   "source": [
    "#@title Show model results in WIT\n",
    "num_datapoints = 1000  #@param {type: \"number\"}\n",
    "\n",
    "# Column indices to strip out from data from WIT before passing it to the model.\n",
    "columns_not_for_model_input = [\n",
    "    test_data_with_labels.columns.get_loc('loan_granted'),\n",
    "]\n",
    "\n",
    "# Return model predictions.\n",
    "def custom_predict(examples_to_infer):\n",
    "    # Delete columns not used by model\n",
    "    model_inputs = np.delete(\n",
    "      np.array(examples_to_infer), columns_not_for_model_input, axis=1).tolist()\n",
    "    # Get the class predictions from the model.\n",
    "    preds = model.predict(model_inputs)\n",
    "    preds = [[1 - pred[0], pred[0]] for pred in preds]\n",
    "    return preds\n",
    "  \n",
    "# Return 'limited' model predictions.\n",
    "def bad_custom_predict(examples_to_infer):\n",
    "    # Delete columns not used by model\n",
    "    model_inputs = np.delete(\n",
    "      np.array(examples_to_infer), columns_not_for_model_input, axis=1).tolist()\n",
    "    # Get the class predictions from the model.\n",
    "    preds = limited_model.predict(model_inputs)\n",
    "    preds = [[1 - pred[0], pred[0]] for pred in preds]\n",
    "    return preds\n",
    "\n",
    "examples_for_wit = test_data_with_labels.values.tolist()\n",
    "column_names = test_data_with_labels.columns.tolist()\n",
    "\n",
    "# ---- TODO ------ \n",
    "\n",
    "## Add WitConfigBuilder code here\n",
    "config_builder = (WitConfigBuilder(\n",
    "    examples_for_wit[:num_datapoints], feature_names=column_names)\n",
    "    .set_custom_predict_fn(bad_custom_predict)\n",
    "    .set_target_feature('loan_granted')\n",
    "    .set_label_vocab(['denied', 'accepted'])\n",
    "    .set_compare_custom_predict_fn(custom_predict)\n",
    "    .set_model_name('limited')\n",
    "    .set_compare_model_name('complete'))\n",
    "WitWidget(config_builder, height=800)"
   ]
  }
 ],
 "metadata": {
  "colab": {
   "collapsed_sections": [],
   "machine_shape": "hm",
   "name": "what-if-tool-challenge.ipynb",
   "provenance": []
  },
  "environment": {
   "kernel": "python3",
   "name": "tf2-gpu.2-6.m87",
   "type": "gcloud",
   "uri": "gcr.io/deeplearning-platform-release/tf2-gpu.2-6:m87"
  },
  "kernelspec": {
   "display_name": "Python 3",
   "language": "python",
   "name": "python3"
  },
  "language_info": {
   "codemirror_mode": {
    "name": "ipython",
    "version": 3
   },
   "file_extension": ".py",
   "mimetype": "text/x-python",
   "name": "python",
   "nbconvert_exporter": "python",
   "pygments_lexer": "ipython3",
   "version": "3.7.12"
  }
 },
 "nbformat": 4,
 "nbformat_minor": 4
}
