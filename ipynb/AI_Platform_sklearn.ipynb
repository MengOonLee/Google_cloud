{
 "cells": [
  {
   "cell_type": "markdown",
   "metadata": {},
   "source": [
    "# Using custom containers with AI Platform Training\n",
    "\n",
    "**Learning Objectives:**\n",
    "1. Learn how to create a train and a validation split with BigQuery\n",
    "1. Learn how to wrap a machine learning model into a Docker container and train in on AI Platform\n",
    "1. Learn how to use the hyperparameter tunning engine on Google Cloud to find the best hyperparameters\n",
    "1. Learn how to deploy a trained machine learning model Google Cloud as a rest API and query it\n",
    "\n",
    "In this lab, you develop a  multi-class classification model, package the model as a docker image, and run on **AI Platform Training** as a training application. The training application trains a multi-class classification model that predicts the type of forest cover from cartographic data. The [dataset](../../../datasets/covertype/README.md) used in the lab is based on **Covertype Data Set** from UCI Machine Learning Repository.\n",
    "\n",
    "Scikit-learn is one of the most useful libraries for machine learning in Python. The training code uses `scikit-learn` for data pre-processing and modeling. \n",
    "\n",
    "The code is instrumented using the `hypertune` package so it can be used with **AI Platform** hyperparameter tuning job in searching for the best combination of hyperparameter values by optimizing the metrics you specified."
   ]
  },
  {
   "cell_type": "code",
   "execution_count": null,
   "metadata": {},
   "outputs": [],
   "source": [
    "%%bash\n",
    "# Activate Cloud Shell\n",
    "gcloud auth list\n",
    "gcloud config list project\n",
    "\n",
    "# Enable Cloud Services\n",
    "export PROJECT_ID=$(gcloud config get-value core/project)\n",
    "gcloud config set project $PROJECT_ID\n",
    "\n",
    "gcloud services enable \\\n",
    "cloudbuild.googleapis.com \\\n",
    "container.googleapis.com \\\n",
    "cloudresourcemanager.googleapis.com \\\n",
    "iam.googleapis.com \\\n",
    "containerregistry.googleapis.com \\\n",
    "containeranalysis.googleapis.com \\\n",
    "ml.googleapis.com \\\n",
    "dataflow.googleapis.com\n",
    "\n",
    "PROJECT_NUMBER=$(gcloud projects describe $PROJECT_ID --format=\"value(projectNumber)\")\n",
    "CLOUD_BUILD_SERVICE_ACCOUNT=\"${PROJECT_NUMBER}@cloudbuild.gserviceaccount.com\"\n",
    "gcloud projects add-iam-policy-binding $PROJECT_ID \\\n",
    "--member serviceAccount:$CLOUD_BUILD_SERVICE_ACCOUNT \\\n",
    "--role roles/editor\n",
    "\n",
    "# Create GKE cluster\n",
    "gcloud container clusters create cluster-1 \\\n",
    "--zone us-central1-a \\\n",
    "--cluster-version 1.20.10 \\\n",
    "--machine-type n1-standard-2 \\\n",
    "--scopes=https://www.googleapis.com/auth/cloud-platform\n",
    "\n",
    "# Create Vertex AI Platform Notebooks\n",
    "gsutil cp gs://cloud-training/OCBL203/requirements.txt .\n",
    "gsutil cp gs://cloud-training/OCBL203/Dockerfile .\n",
    "\n",
    "IMAGE_NAME=kfp-dev\n",
    "TAG=latest\n",
    "IMAGE_URI=\"gcr.io/${PROJECT_ID}/${IMAGE_NAME}:${TAG}\"\n",
    "gcloud builds submit --timeout 15m --tag ${IMAGE_URI} .\n",
    "\n",
    "ZONE=us-central1-a\n",
    "INSTANCE_NAME=ai-notebook\n",
    "IMAGE_FAMILY=\"common-container\"\n",
    "IMAGE_PROJECT=\"deeplearning-platform-release\"\n",
    "INSTANCE_TYPE=\"n1-standard-4\"\n",
    "METADATA=\"proxy-mode=service_account,container=$IMAGE_URI\"\n",
    "gcloud compute instances create $INSTANCE_NAME \\\n",
    "--zone=$ZONE \\\n",
    "--image-family=$IMAGE_FAMILY \\\n",
    "--machine-type=$INSTANCE_TYPE \\\n",
    "--image-project=$IMAGE_PROJECT \\\n",
    "--maintenance-policy=TERMINATE \\\n",
    "--boot-disk-device-name=${INSTANCE_NAME}-disk \\\n",
    "--boot-disk-size=100GB \\\n",
    "--boot-disk-type=pd-ssd \\\n",
    "--scopes=cloud-platform,userinfo-email \\\n",
    "--metadata=$METADATA"
   ]
  },
  {
   "cell_type": "code",
   "execution_count": 1,
   "metadata": {},
   "outputs": [],
   "source": [
    "import json\n",
    "import os\n",
    "import numpy as np\n",
    "import pandas as pd\n",
    "import pickle\n",
    "import uuid\n",
    "import time\n",
    "import tempfile\n",
    "\n",
    "from googleapiclient import discovery\n",
    "from googleapiclient import errors\n",
    "\n",
    "from google.cloud import bigquery\n",
    "from jinja2 import Template\n",
    "from kfp.components import func_to_container_op\n",
    "from typing import NamedTuple\n",
    "\n",
    "from sklearn.metrics import accuracy_score\n",
    "from sklearn.model_selection import train_test_split\n",
    "from sklearn.linear_model import SGDClassifier\n",
    "from sklearn.pipeline import Pipeline\n",
    "from sklearn.preprocessing import StandardScaler, OneHotEncoder\n",
    "from sklearn.compose import ColumnTransformer"
   ]
  },
  {
   "cell_type": "markdown",
   "metadata": {},
   "source": [
    "Run the command in the cell below to install gcsfs package."
   ]
  },
  {
   "cell_type": "code",
   "execution_count": 2,
   "metadata": {
    "collapsed": true,
    "jupyter": {
     "outputs_hidden": true
    },
    "tags": []
   },
   "outputs": [
    {
     "name": "stdout",
     "output_type": "stream",
     "text": [
      "Collecting gcsfs==0.8\n",
      "  Downloading gcsfs-0.8.0-py2.py3-none-any.whl (23 kB)\n",
      "Requirement already satisfied: requests in /opt/conda/lib/python3.7/site-packages (from gcsfs==0.8) (2.26.0)\n",
      "Requirement already satisfied: fsspec>=0.8.0 in /opt/conda/lib/python3.7/site-packages (from gcsfs==0.8) (2022.1.0)\n",
      "Requirement already satisfied: ujson in /opt/conda/lib/python3.7/site-packages (from gcsfs==0.8) (5.0.0)\n",
      "Requirement already satisfied: google-auth>=1.2 in /opt/conda/lib/python3.7/site-packages (from gcsfs==0.8) (2.3.3)\n",
      "Requirement already satisfied: google-auth-oauthlib in /opt/conda/lib/python3.7/site-packages (from gcsfs==0.8) (0.4.6)\n",
      "Requirement already satisfied: aiohttp in /opt/conda/lib/python3.7/site-packages (from gcsfs==0.8) (3.8.1)\n",
      "Requirement already satisfied: decorator in /opt/conda/lib/python3.7/site-packages (from gcsfs==0.8) (5.1.0)\n",
      "Requirement already satisfied: cachetools<5.0,>=2.0.0 in /opt/conda/lib/python3.7/site-packages (from google-auth>=1.2->gcsfs==0.8) (4.2.4)\n",
      "Requirement already satisfied: rsa<5,>=3.1.4 in /opt/conda/lib/python3.7/site-packages (from google-auth>=1.2->gcsfs==0.8) (4.8)\n",
      "Requirement already satisfied: six>=1.9.0 in /opt/conda/lib/python3.7/site-packages (from google-auth>=1.2->gcsfs==0.8) (1.16.0)\n",
      "Requirement already satisfied: pyasn1-modules>=0.2.1 in /opt/conda/lib/python3.7/site-packages (from google-auth>=1.2->gcsfs==0.8) (0.2.7)\n",
      "Requirement already satisfied: setuptools>=40.3.0 in /opt/conda/lib/python3.7/site-packages (from google-auth>=1.2->gcsfs==0.8) (59.6.0)\n",
      "Requirement already satisfied: attrs>=17.3.0 in /opt/conda/lib/python3.7/site-packages (from aiohttp->gcsfs==0.8) (21.2.0)\n",
      "Requirement already satisfied: multidict<7.0,>=4.5 in /opt/conda/lib/python3.7/site-packages (from aiohttp->gcsfs==0.8) (5.2.0)\n",
      "Requirement already satisfied: aiosignal>=1.1.2 in /opt/conda/lib/python3.7/site-packages (from aiohttp->gcsfs==0.8) (1.2.0)\n",
      "Requirement already satisfied: frozenlist>=1.1.1 in /opt/conda/lib/python3.7/site-packages (from aiohttp->gcsfs==0.8) (1.2.0)\n",
      "Requirement already satisfied: asynctest==0.13.0 in /opt/conda/lib/python3.7/site-packages (from aiohttp->gcsfs==0.8) (0.13.0)\n",
      "Requirement already satisfied: yarl<2.0,>=1.0 in /opt/conda/lib/python3.7/site-packages (from aiohttp->gcsfs==0.8) (1.7.2)\n",
      "Requirement already satisfied: typing-extensions>=3.7.4 in /opt/conda/lib/python3.7/site-packages (from aiohttp->gcsfs==0.8) (4.0.1)\n",
      "Requirement already satisfied: charset-normalizer<3.0,>=2.0 in /opt/conda/lib/python3.7/site-packages (from aiohttp->gcsfs==0.8) (2.0.9)\n",
      "Requirement already satisfied: async-timeout<5.0,>=4.0.0a3 in /opt/conda/lib/python3.7/site-packages (from aiohttp->gcsfs==0.8) (4.0.1)\n",
      "Requirement already satisfied: requests-oauthlib>=0.7.0 in /opt/conda/lib/python3.7/site-packages (from google-auth-oauthlib->gcsfs==0.8) (1.3.0)\n",
      "Requirement already satisfied: certifi>=2017.4.17 in /opt/conda/lib/python3.7/site-packages (from requests->gcsfs==0.8) (2021.10.8)\n",
      "Requirement already satisfied: urllib3<1.27,>=1.21.1 in /opt/conda/lib/python3.7/site-packages (from requests->gcsfs==0.8) (1.24.3)\n",
      "Requirement already satisfied: idna<4,>=2.5 in /opt/conda/lib/python3.7/site-packages (from requests->gcsfs==0.8) (3.1)\n",
      "Requirement already satisfied: pyasn1<0.5.0,>=0.4.6 in /opt/conda/lib/python3.7/site-packages (from pyasn1-modules>=0.2.1->google-auth>=1.2->gcsfs==0.8) (0.4.8)\n",
      "Requirement already satisfied: oauthlib>=3.0.0 in /opt/conda/lib/python3.7/site-packages (from requests-oauthlib>=0.7.0->google-auth-oauthlib->gcsfs==0.8) (3.1.1)\n",
      "Installing collected packages: gcsfs\n",
      "  Attempting uninstall: gcsfs\n",
      "    Found existing installation: gcsfs 2022.1.0\n",
      "    Uninstalling gcsfs-2022.1.0:\n",
      "      Successfully uninstalled gcsfs-2022.1.0\n",
      "Successfully installed gcsfs-0.8.0\n",
      "\u001b[33mWARNING: Running pip as the 'root' user can result in broken permissions and conflicting behaviour with the system package manager. It is recommended to use a virtual environment instead: https://pip.pypa.io/warnings/venv\u001b[0m\n",
      "Note: you may need to restart the kernel to use updated packages.\n"
     ]
    }
   ],
   "source": [
    "%pip install gcsfs==0.8"
   ]
  },
  {
   "cell_type": "markdown",
   "metadata": {},
   "source": [
    "## Prepare lab dataset\n",
    "\n",
    "Set environment variable so that we can use them throughout the entire lab.\n",
    "\n",
    "The pipeline ingests data from BigQuery. The cell below uploads the Covertype dataset to BigQuery.\n"
   ]
  },
  {
   "cell_type": "code",
   "execution_count": 3,
   "metadata": {},
   "outputs": [],
   "source": [
    "PROJECT_ID=!(gcloud config get-value core/project)\n",
    "PROJECT_ID=PROJECT_ID[0]\n",
    "DATASET_ID='covertype_dataset'\n",
    "DATASET_LOCATION='US'\n",
    "TABLE_ID='covertype'\n",
    "DATA_SOURCE='gs://workshop-datasets/covertype/small/dataset.csv'\n",
    "SCHEMA='Elevation:INTEGER,Aspect:INTEGER,Slope:INTEGER,Horizontal_Distance_To_Hydrology:INTEGER,Vertical_Distance_To_Hydrology:INTEGER,Horizontal_Distance_To_Roadways:INTEGER,Hillshade_9am:INTEGER,Hillshade_Noon:INTEGER,Hillshade_3pm:INTEGER,Horizontal_Distance_To_Fire_Points:INTEGER,Wilderness_Area:STRING,Soil_Type:STRING,Cover_Type:INTEGER'"
   ]
  },
  {
   "cell_type": "markdown",
   "metadata": {},
   "source": [
    "Next, create the BigQuery dataset and upload the Covertype csv data into a table.\n"
   ]
  },
  {
   "cell_type": "code",
   "execution_count": 4,
   "metadata": {},
   "outputs": [
    {
     "name": "stdout",
     "output_type": "stream",
     "text": [
      "Dataset 'qwiklabs-gcp-01-45dceaec647e:covertype_dataset' successfully created.\n"
     ]
    }
   ],
   "source": [
    "!bq --location=$DATASET_LOCATION --project_id=$PROJECT_ID mk --dataset $DATASET_ID"
   ]
  },
  {
   "cell_type": "code",
   "execution_count": 5,
   "metadata": {},
   "outputs": [
    {
     "name": "stdout",
     "output_type": "stream",
     "text": [
      "Waiting on bqjob_r32401c8391866826_0000017e61f1847e_1 ... (2s) Current status: DONE   \n"
     ]
    }
   ],
   "source": [
    "!bq --project_id=$PROJECT_ID --dataset_id=$DATASET_ID load \\\n",
    "--source_format=CSV \\\n",
    "--skip_leading_rows=1 \\\n",
    "--replace \\\n",
    "$TABLE_ID \\\n",
    "$DATA_SOURCE \\\n",
    "$SCHEMA"
   ]
  },
  {
   "cell_type": "markdown",
   "metadata": {},
   "source": [
    "## Configure environment settings"
   ]
  },
  {
   "cell_type": "markdown",
   "metadata": {},
   "source": [
    "Set location paths, connections strings, and other environment settings. Make sure to update   `REGION`, and `ARTIFACT_STORE`  with the settings reflecting your lab environment. \n",
    "\n",
    "- `REGION` - the compute region for AI Platform Training and Prediction\n",
    "- `ARTIFACT_STORE` - the Cloud Storage bucket created during installation of AI Platform Pipelines. The bucket name starts with the `qwiklabs-gcp-xx-xxxxxxx-kubeflowpipelines-default` prefix.\n",
    "\n",
    "Run gsutil ls without URLs to list all of the Cloud Storage buckets under your default project ID."
   ]
  },
  {
   "cell_type": "code",
   "execution_count": 6,
   "metadata": {},
   "outputs": [
    {
     "name": "stdout",
     "output_type": "stream",
     "text": [
      "gs://artifacts.qwiklabs-gcp-01-45dceaec647e.appspot.com/\n",
      "gs://qwiklabs-gcp-01-45dceaec647e-kubeflowpipelines-default/\n",
      "gs://qwiklabs-gcp-01-45dceaec647e_cloudbuild/\n"
     ]
    }
   ],
   "source": [
    "!gsutil ls"
   ]
  },
  {
   "cell_type": "markdown",
   "metadata": {},
   "source": [
    "HINT: For ARTIFACT_STORE, copy the bucket name which starts with the qwiklabs-gcp-xx-xxxxxxx-kubeflowpipelines-default prefix from the previous cell output.\n",
    "\n",
    "Your copied value should look like 'gs://qwiklabs-gcp-xx-xxxxxxx-kubeflowpipelines-default')."
   ]
  },
  {
   "cell_type": "code",
   "execution_count": 7,
   "metadata": {},
   "outputs": [],
   "source": [
    "REGION = 'us-central1'\n",
    "ARTIFACT_STORE = 'gs://qwiklabs-gcp-01-45dceaec647e-kubeflowpipelines-default' # TO DO: REPLACE WITH YOUR ARTIFACT_STORE NAME\n",
    "\n",
    "PROJECT_ID = !(gcloud config get-value core/project)\n",
    "PROJECT_ID = PROJECT_ID[0]\n",
    "DATA_ROOT='{}/data'.format(ARTIFACT_STORE)\n",
    "JOB_DIR_ROOT='{}/jobs'.format(ARTIFACT_STORE)\n",
    "TRAINING_FILE_PATH='{}/{}/{}'.format(DATA_ROOT, 'training', 'dataset.csv')\n",
    "VALIDATION_FILE_PATH='{}/{}/{}'.format(DATA_ROOT, 'validation', 'dataset.csv')"
   ]
  },
  {
   "cell_type": "markdown",
   "metadata": {},
   "source": [
    "## Explore the Covertype dataset \n",
    "\n",
    "Run the query statement below to scan covertype_dataset.covertype table in BigQuery and return the computed result rows."
   ]
  },
  {
   "cell_type": "code",
   "execution_count": 8,
   "metadata": {},
   "outputs": [
    {
     "name": "stderr",
     "output_type": "stream",
     "text": [
      "Query complete after 0.00s: 100% 2/2 [00:00<00:00, 826.22query/s]                         \n",
      "Downloading: 100% 100000/100000 [00:01<00:00, 80348.56rows/s]\n"
     ]
    },
    {
     "data": {
      "text/html": [
       "<div>\n",
       "<style scoped>\n",
       "    .dataframe tbody tr th:only-of-type {\n",
       "        vertical-align: middle;\n",
       "    }\n",
       "\n",
       "    .dataframe tbody tr th {\n",
       "        vertical-align: top;\n",
       "    }\n",
       "\n",
       "    .dataframe thead th {\n",
       "        text-align: right;\n",
       "    }\n",
       "</style>\n",
       "<table border=\"1\" class=\"dataframe\">\n",
       "  <thead>\n",
       "    <tr style=\"text-align: right;\">\n",
       "      <th></th>\n",
       "      <th>Elevation</th>\n",
       "      <th>Aspect</th>\n",
       "      <th>Slope</th>\n",
       "      <th>Horizontal_Distance_To_Hydrology</th>\n",
       "      <th>Vertical_Distance_To_Hydrology</th>\n",
       "      <th>Horizontal_Distance_To_Roadways</th>\n",
       "      <th>Hillshade_9am</th>\n",
       "      <th>Hillshade_Noon</th>\n",
       "      <th>Hillshade_3pm</th>\n",
       "      <th>Horizontal_Distance_To_Fire_Points</th>\n",
       "      <th>Wilderness_Area</th>\n",
       "      <th>Soil_Type</th>\n",
       "      <th>Cover_Type</th>\n",
       "    </tr>\n",
       "  </thead>\n",
       "  <tbody>\n",
       "    <tr>\n",
       "      <th>0</th>\n",
       "      <td>2085</td>\n",
       "      <td>256</td>\n",
       "      <td>18</td>\n",
       "      <td>150</td>\n",
       "      <td>27</td>\n",
       "      <td>738</td>\n",
       "      <td>176</td>\n",
       "      <td>248</td>\n",
       "      <td>208</td>\n",
       "      <td>914</td>\n",
       "      <td>Cache</td>\n",
       "      <td>C2702</td>\n",
       "      <td>5</td>\n",
       "    </tr>\n",
       "    <tr>\n",
       "      <th>1</th>\n",
       "      <td>2125</td>\n",
       "      <td>256</td>\n",
       "      <td>20</td>\n",
       "      <td>30</td>\n",
       "      <td>12</td>\n",
       "      <td>871</td>\n",
       "      <td>169</td>\n",
       "      <td>248</td>\n",
       "      <td>215</td>\n",
       "      <td>300</td>\n",
       "      <td>Cache</td>\n",
       "      <td>C2702</td>\n",
       "      <td>2</td>\n",
       "    </tr>\n",
       "    <tr>\n",
       "      <th>2</th>\n",
       "      <td>2146</td>\n",
       "      <td>256</td>\n",
       "      <td>34</td>\n",
       "      <td>150</td>\n",
       "      <td>62</td>\n",
       "      <td>1253</td>\n",
       "      <td>122</td>\n",
       "      <td>237</td>\n",
       "      <td>239</td>\n",
       "      <td>511</td>\n",
       "      <td>Cache</td>\n",
       "      <td>C2702</td>\n",
       "      <td>2</td>\n",
       "    </tr>\n",
       "    <tr>\n",
       "      <th>3</th>\n",
       "      <td>2186</td>\n",
       "      <td>256</td>\n",
       "      <td>38</td>\n",
       "      <td>210</td>\n",
       "      <td>102</td>\n",
       "      <td>1294</td>\n",
       "      <td>109</td>\n",
       "      <td>232</td>\n",
       "      <td>244</td>\n",
       "      <td>552</td>\n",
       "      <td>Cache</td>\n",
       "      <td>C2702</td>\n",
       "      <td>2</td>\n",
       "    </tr>\n",
       "    <tr>\n",
       "      <th>4</th>\n",
       "      <td>2831</td>\n",
       "      <td>256</td>\n",
       "      <td>25</td>\n",
       "      <td>277</td>\n",
       "      <td>183</td>\n",
       "      <td>1706</td>\n",
       "      <td>153</td>\n",
       "      <td>246</td>\n",
       "      <td>225</td>\n",
       "      <td>1485</td>\n",
       "      <td>Commanche</td>\n",
       "      <td>C2705</td>\n",
       "      <td>1</td>\n",
       "    </tr>\n",
       "    <tr>\n",
       "      <th>...</th>\n",
       "      <td>...</td>\n",
       "      <td>...</td>\n",
       "      <td>...</td>\n",
       "      <td>...</td>\n",
       "      <td>...</td>\n",
       "      <td>...</td>\n",
       "      <td>...</td>\n",
       "      <td>...</td>\n",
       "      <td>...</td>\n",
       "      <td>...</td>\n",
       "      <td>...</td>\n",
       "      <td>...</td>\n",
       "      <td>...</td>\n",
       "    </tr>\n",
       "    <tr>\n",
       "      <th>99995</th>\n",
       "      <td>3136</td>\n",
       "      <td>254</td>\n",
       "      <td>12</td>\n",
       "      <td>319</td>\n",
       "      <td>60</td>\n",
       "      <td>5734</td>\n",
       "      <td>193</td>\n",
       "      <td>248</td>\n",
       "      <td>193</td>\n",
       "      <td>2467</td>\n",
       "      <td>Rawah</td>\n",
       "      <td>C7746</td>\n",
       "      <td>1</td>\n",
       "    </tr>\n",
       "    <tr>\n",
       "      <th>99996</th>\n",
       "      <td>3242</td>\n",
       "      <td>254</td>\n",
       "      <td>12</td>\n",
       "      <td>636</td>\n",
       "      <td>148</td>\n",
       "      <td>3551</td>\n",
       "      <td>193</td>\n",
       "      <td>248</td>\n",
       "      <td>193</td>\n",
       "      <td>2010</td>\n",
       "      <td>Commanche</td>\n",
       "      <td>C7757</td>\n",
       "      <td>0</td>\n",
       "    </tr>\n",
       "    <tr>\n",
       "      <th>99997</th>\n",
       "      <td>2071</td>\n",
       "      <td>255</td>\n",
       "      <td>12</td>\n",
       "      <td>234</td>\n",
       "      <td>63</td>\n",
       "      <td>342</td>\n",
       "      <td>192</td>\n",
       "      <td>247</td>\n",
       "      <td>193</td>\n",
       "      <td>247</td>\n",
       "      <td>Cache</td>\n",
       "      <td>C2706</td>\n",
       "      <td>2</td>\n",
       "    </tr>\n",
       "    <tr>\n",
       "      <th>99998</th>\n",
       "      <td>3248</td>\n",
       "      <td>255</td>\n",
       "      <td>12</td>\n",
       "      <td>730</td>\n",
       "      <td>113</td>\n",
       "      <td>725</td>\n",
       "      <td>192</td>\n",
       "      <td>247</td>\n",
       "      <td>193</td>\n",
       "      <td>2724</td>\n",
       "      <td>Commanche</td>\n",
       "      <td>C7756</td>\n",
       "      <td>1</td>\n",
       "    </tr>\n",
       "    <tr>\n",
       "      <th>99999</th>\n",
       "      <td>3153</td>\n",
       "      <td>255</td>\n",
       "      <td>12</td>\n",
       "      <td>404</td>\n",
       "      <td>116</td>\n",
       "      <td>2139</td>\n",
       "      <td>192</td>\n",
       "      <td>247</td>\n",
       "      <td>193</td>\n",
       "      <td>994</td>\n",
       "      <td>Commanche</td>\n",
       "      <td>C7756</td>\n",
       "      <td>1</td>\n",
       "    </tr>\n",
       "  </tbody>\n",
       "</table>\n",
       "<p>100000 rows × 13 columns</p>\n",
       "</div>"
      ],
      "text/plain": [
       "       Elevation  Aspect  Slope  Horizontal_Distance_To_Hydrology  \\\n",
       "0           2085     256     18                               150   \n",
       "1           2125     256     20                                30   \n",
       "2           2146     256     34                               150   \n",
       "3           2186     256     38                               210   \n",
       "4           2831     256     25                               277   \n",
       "...          ...     ...    ...                               ...   \n",
       "99995       3136     254     12                               319   \n",
       "99996       3242     254     12                               636   \n",
       "99997       2071     255     12                               234   \n",
       "99998       3248     255     12                               730   \n",
       "99999       3153     255     12                               404   \n",
       "\n",
       "       Vertical_Distance_To_Hydrology  Horizontal_Distance_To_Roadways  \\\n",
       "0                                  27                              738   \n",
       "1                                  12                              871   \n",
       "2                                  62                             1253   \n",
       "3                                 102                             1294   \n",
       "4                                 183                             1706   \n",
       "...                               ...                              ...   \n",
       "99995                              60                             5734   \n",
       "99996                             148                             3551   \n",
       "99997                              63                              342   \n",
       "99998                             113                              725   \n",
       "99999                             116                             2139   \n",
       "\n",
       "       Hillshade_9am  Hillshade_Noon  Hillshade_3pm  \\\n",
       "0                176             248            208   \n",
       "1                169             248            215   \n",
       "2                122             237            239   \n",
       "3                109             232            244   \n",
       "4                153             246            225   \n",
       "...              ...             ...            ...   \n",
       "99995            193             248            193   \n",
       "99996            193             248            193   \n",
       "99997            192             247            193   \n",
       "99998            192             247            193   \n",
       "99999            192             247            193   \n",
       "\n",
       "       Horizontal_Distance_To_Fire_Points Wilderness_Area Soil_Type  \\\n",
       "0                                     914           Cache     C2702   \n",
       "1                                     300           Cache     C2702   \n",
       "2                                     511           Cache     C2702   \n",
       "3                                     552           Cache     C2702   \n",
       "4                                    1485       Commanche     C2705   \n",
       "...                                   ...             ...       ...   \n",
       "99995                                2467           Rawah     C7746   \n",
       "99996                                2010       Commanche     C7757   \n",
       "99997                                 247           Cache     C2706   \n",
       "99998                                2724       Commanche     C7756   \n",
       "99999                                 994       Commanche     C7756   \n",
       "\n",
       "       Cover_Type  \n",
       "0               5  \n",
       "1               2  \n",
       "2               2  \n",
       "3               2  \n",
       "4               1  \n",
       "...           ...  \n",
       "99995           1  \n",
       "99996           0  \n",
       "99997           2  \n",
       "99998           1  \n",
       "99999           1  \n",
       "\n",
       "[100000 rows x 13 columns]"
      ]
     },
     "execution_count": 8,
     "metadata": {},
     "output_type": "execute_result"
    }
   ],
   "source": [
    "%%bigquery\n",
    "SELECT *\n",
    "FROM `covertype_dataset.covertype`"
   ]
  },
  {
   "cell_type": "markdown",
   "metadata": {},
   "source": [
    "## Create training and validation splits\n",
    "\n",
    "Use BigQuery to sample training and validation splits and save them to Cloud Storage.\n",
    "\n",
    "### Create a training split\n",
    "\n",
    "Run the query below in order to have repeatable sampling of the data in BigQuery. Note that `FARM_FINGERPRINT()` is used on the field that you are going to split your data. It creates a training split that takes 80% of the data using the `bq` command and exports this split into the BigQuery table of `covertype_dataset.training`."
   ]
  },
  {
   "cell_type": "code",
   "execution_count": 9,
   "metadata": {},
   "outputs": [
    {
     "name": "stdout",
     "output_type": "stream",
     "text": [
      "Waiting on bqjob_r37609d27a25efadb_0000017e61f61ffa_1 ... (1s) Current status: DONE   \n"
     ]
    }
   ],
   "source": [
    "!bq query \\\n",
    "-n 0 \\\n",
    "--destination_table covertype_dataset.training \\\n",
    "--replace \\\n",
    "--use_legacy_sql=false \\\n",
    "'SELECT * \\\n",
    "FROM `covertype_dataset.covertype` AS cover \\\n",
    "WHERE \\\n",
    "MOD(ABS(FARM_FINGERPRINT(TO_JSON_STRING(cover))), 10) IN (1, 2, 3, 4)' "
   ]
  },
  {
   "cell_type": "markdown",
   "metadata": {},
   "source": [
    "Use the `bq` extract command to export the BigQuery training table to GCS at `$TRAINING_FILE_PATH`."
   ]
  },
  {
   "cell_type": "code",
   "execution_count": 10,
   "metadata": {},
   "outputs": [
    {
     "name": "stdout",
     "output_type": "stream",
     "text": [
      "Waiting on bqjob_r240a5e24fb94582a_0000017e61f658f6_1 ... (0s) Current status: DONE   \n"
     ]
    }
   ],
   "source": [
    "!bq extract \\\n",
    "--destination_format CSV \\\n",
    "covertype_dataset.training \\\n",
    "$TRAINING_FILE_PATH"
   ]
  },
  {
   "cell_type": "markdown",
   "metadata": {},
   "source": [
    "### Create a validation split"
   ]
  },
  {
   "cell_type": "markdown",
   "metadata": {},
   "source": [
    "### Exercise\n",
    "\n",
    "In the first cell below, create \n",
    "a validation split that takes 10% of the data using the `bq` command and\n",
    "export this split into the BigQuery table `covertype_dataset.validation`.\n",
    "\n",
    "In the second cell, use the `bq` command to export that BigQuery validation table to GCS at `$VALIDATION_FILE_PATH`.\n",
    "\n",
    "<ql-infobox><b>NOTE:</b> If you need help, you may take a look at the complete solution by navigating to **mlops-on-gcp > workshops > kfp-caip-sklearn > lab-01-caip-containers** and opening **lab-01.ipynb**.\n",
    "</ql-infobox>"
   ]
  },
  {
   "cell_type": "code",
   "execution_count": 11,
   "metadata": {},
   "outputs": [
    {
     "name": "stdout",
     "output_type": "stream",
     "text": [
      "Waiting on bqjob_r529fd5663568d397_0000017e61f770e4_1 ... (1s) Current status: DONE   \n"
     ]
    }
   ],
   "source": [
    "# TO DO: Your code goes here to create the BQ table validation split.\n",
    "!bq query \\\n",
    "-n 0 \\\n",
    "--destination_table covertype_dataset.validation \\\n",
    "--replace \\\n",
    "--use_legacy_sql=false \\\n",
    "'SELECT * \\\n",
    "FROM `covertype_dataset.covertype` AS cover \\\n",
    "WHERE \\\n",
    "MOD(ABS(FARM_FINGERPRINT(TO_JSON_STRING(cover))), 10) IN (8)'"
   ]
  },
  {
   "cell_type": "code",
   "execution_count": 12,
   "metadata": {},
   "outputs": [
    {
     "name": "stdout",
     "output_type": "stream",
     "text": [
      "Waiting on bqjob_r2dd3de889bc989d3_0000017e61f7ac5a_1 ... (0s) Current status: DONE   \n"
     ]
    }
   ],
   "source": [
    "# TO DO: Your code goes here to export the validation table to the Cloud Storage bucket.\n",
    "!bq extract \\\n",
    "--destination_format CSV \\\n",
    "covertype_dataset.validation \\\n",
    "$VALIDATION_FILE_PATH"
   ]
  },
  {
   "cell_type": "code",
   "execution_count": 13,
   "metadata": {},
   "outputs": [
    {
     "name": "stdout",
     "output_type": "stream",
     "text": [
      "(40009, 13)\n",
      "(9836, 13)\n"
     ]
    }
   ],
   "source": [
    "df_train = pd.read_csv(TRAINING_FILE_PATH)\n",
    "df_validation = pd.read_csv(VALIDATION_FILE_PATH)\n",
    "print(df_train.shape)\n",
    "print(df_validation.shape)"
   ]
  },
  {
   "cell_type": "markdown",
   "metadata": {},
   "source": [
    "## Develop a training application"
   ]
  },
  {
   "cell_type": "markdown",
   "metadata": {},
   "source": [
    "### Configure the `sklearn` training pipeline.\n",
    "\n",
    "The training pipeline preprocesses data by standardizing all numeric features using `sklearn.preprocessing.StandardScaler` and encoding all categorical features using `sklearn.preprocessing.OneHotEncoder`. It uses stochastic gradient descent linear classifier (`SGDClassifier`) for modeling."
   ]
  },
  {
   "cell_type": "code",
   "execution_count": 14,
   "metadata": {},
   "outputs": [],
   "source": [
    "numeric_feature_indexes = slice(0, 10)\n",
    "categorical_feature_indexes = slice(10, 12)\n",
    "\n",
    "preprocessor = ColumnTransformer(\n",
    "    transformers=[\n",
    "        ('num', StandardScaler(), numeric_feature_indexes),\n",
    "        ('cat', OneHotEncoder(), categorical_feature_indexes) \n",
    "    ])\n",
    "\n",
    "pipeline = Pipeline([\n",
    "    ('preprocessor', preprocessor),\n",
    "    ('classifier', SGDClassifier(loss='log', tol=1e-3))\n",
    "])"
   ]
  },
  {
   "cell_type": "markdown",
   "metadata": {},
   "source": [
    "### Convert all numeric features to `float64`\n",
    "\n",
    "To avoid warning messages from `StandardScaler` all numeric features are converted to `float64`."
   ]
  },
  {
   "cell_type": "code",
   "execution_count": 15,
   "metadata": {},
   "outputs": [],
   "source": [
    "num_features_type_map = {feature: 'float64' for feature in \n",
    "    df_train.columns[numeric_feature_indexes]}\n",
    "\n",
    "df_train = df_train.astype(num_features_type_map)\n",
    "df_validation = df_validation.astype(num_features_type_map)"
   ]
  },
  {
   "cell_type": "markdown",
   "metadata": {},
   "source": [
    "### Run the pipeline locally."
   ]
  },
  {
   "cell_type": "code",
   "execution_count": 16,
   "metadata": {},
   "outputs": [
    {
     "data": {
      "text/plain": [
       "Pipeline(steps=[('preprocessor',\n",
       "                 ColumnTransformer(transformers=[('num', StandardScaler(),\n",
       "                                                  slice(0, 10, None)),\n",
       "                                                 ('cat', OneHotEncoder(),\n",
       "                                                  slice(10, 12, None))])),\n",
       "                ('classifier',\n",
       "                 SGDClassifier(alpha=0.001, loss='log', max_iter=200))])"
      ]
     },
     "execution_count": 16,
     "metadata": {},
     "output_type": "execute_result"
    }
   ],
   "source": [
    "X_train = df_train.drop('Cover_Type', axis=1)\n",
    "y_train = df_train['Cover_Type']\n",
    "X_validation = df_validation.drop('Cover_Type', axis=1)\n",
    "y_validation = df_validation['Cover_Type']\n",
    "\n",
    "pipeline.set_params(classifier__alpha=0.001, classifier__max_iter=200)\n",
    "pipeline.fit(X_train, y_train)"
   ]
  },
  {
   "cell_type": "markdown",
   "metadata": {},
   "source": [
    "### Calculate the trained model's accuracy."
   ]
  },
  {
   "cell_type": "code",
   "execution_count": 17,
   "metadata": {},
   "outputs": [
    {
     "name": "stdout",
     "output_type": "stream",
     "text": [
      "0.6941846278975193\n"
     ]
    }
   ],
   "source": [
    "accuracy = pipeline.score(X_validation, y_validation)\n",
    "print(accuracy)"
   ]
  },
  {
   "cell_type": "markdown",
   "metadata": {},
   "source": [
    "### Prepare the hyperparameter tuning application.\n",
    "Since the training run on this dataset is computationally expensive you can benefit from running a distributed hyperparameter tuning job on AI Platform Training."
   ]
  },
  {
   "cell_type": "code",
   "execution_count": 18,
   "metadata": {},
   "outputs": [],
   "source": [
    "TRAINING_APP_FOLDER = 'training_app'\n",
    "os.makedirs(TRAINING_APP_FOLDER, exist_ok=True)"
   ]
  },
  {
   "cell_type": "markdown",
   "metadata": {},
   "source": [
    "### Write the tuning script. \n",
    "\n",
    "Notice the use of the `hypertune` package to report the `accuracy` optimization metric to AI Platform hyperparameter tuning service."
   ]
  },
  {
   "cell_type": "markdown",
   "metadata": {},
   "source": [
    "### Exercise\n",
    "\n",
    "Complete the code below to capture the metric that the hyper parameter tunning engine will use to optimize\n",
    "the hyper parameter. \n",
    "\n",
    "<ql-infobox><b>NOTE:</b> If you need help, you may take a look at the complete solution by navigating to **mlops-on-gcp > workshops > kfp-caip-sklearn > lab-01-caip-containers** and opening **lab-01.ipynb**.\n",
    "</ql-infobox>"
   ]
  },
  {
   "cell_type": "code",
   "execution_count": 19,
   "metadata": {},
   "outputs": [
    {
     "name": "stdout",
     "output_type": "stream",
     "text": [
      "Writing training_app/train.py\n"
     ]
    }
   ],
   "source": [
    "%%writefile {TRAINING_APP_FOLDER}/train.py\n",
    "\n",
    "# Copyright 2019 Google Inc. All Rights Reserved.\n",
    "#\n",
    "# Licensed under the Apache License, Version 2.0 (the \"License\");\n",
    "# you may not use this file except in compliance with the License.\n",
    "# You may obtain a copy of the License at\n",
    "#\n",
    "#            http://www.apache.org/licenses/LICENSE-2.0\n",
    "#\n",
    "# Unless required by applicable law or agreed to in writing, software\n",
    "# distributed under the License is distributed on an \"AS IS\" BASIS,\n",
    "# WITHOUT WARRANTIES OR CONDITIONS OF ANY KIND, either express or implied.\n",
    "# See the License for the specific language governing permissions and\n",
    "# limitations under the License.\n",
    "\n",
    "import os\n",
    "import subprocess\n",
    "import sys\n",
    "\n",
    "import fire\n",
    "import pickle\n",
    "import numpy as np\n",
    "import pandas as pd\n",
    "\n",
    "import hypertune\n",
    "\n",
    "from sklearn.compose import ColumnTransformer\n",
    "from sklearn.linear_model import SGDClassifier\n",
    "from sklearn.pipeline import Pipeline\n",
    "from sklearn.preprocessing import StandardScaler, OneHotEncoder\n",
    "\n",
    "\n",
    "def train_evaluate(job_dir, training_dataset_path, \n",
    "    validation_dataset_path, alpha, max_iter, hptune):\n",
    "    \n",
    "    df_train = pd.read_csv(training_dataset_path)\n",
    "    df_validation = pd.read_csv(validation_dataset_path)\n",
    "\n",
    "    if not hptune:\n",
    "        df_train = pd.concat([df_train, df_validation])\n",
    "\n",
    "    numeric_feature_indexes = slice(0, 10)\n",
    "    categorical_feature_indexes = slice(10, 12)\n",
    "\n",
    "    preprocessor = ColumnTransformer(\n",
    "    transformers=[\n",
    "        ('num', StandardScaler(), numeric_feature_indexes),\n",
    "        ('cat', OneHotEncoder(), categorical_feature_indexes) \n",
    "    ])\n",
    "\n",
    "    pipeline = Pipeline([\n",
    "        ('preprocessor', preprocessor),\n",
    "        ('classifier', SGDClassifier(loss='log', tol=1e-3))\n",
    "    ])\n",
    "\n",
    "    num_features_type_map = {feature: 'float64' for feature \n",
    "        in df_train.columns[numeric_feature_indexes]}\n",
    "    df_train = df_train.astype(num_features_type_map)\n",
    "    df_validation = df_validation.astype(num_features_type_map)\n",
    "\n",
    "    print('Starting training: alpha={}, max_iter={}'.format(alpha, max_iter))\n",
    "    X_train = df_train.drop('Cover_Type', axis=1)\n",
    "    y_train = df_train['Cover_Type']\n",
    "\n",
    "    pipeline.set_params(classifier__alpha=alpha, classifier__max_iter=max_iter)\n",
    "    pipeline.fit(X_train, y_train)\n",
    "\n",
    "    if hptune:\n",
    "    # TO DO: Your code goes here to score the model with the validation data \n",
    "    # and capture the result with the hypertune library\n",
    "        X_validation = df_validation.drop('Cover_Type', axis=1)\n",
    "        y_validation = df_validation['Cover_Type']\n",
    "        accuracy = pipeline.score(X_validation, y_validation)\n",
    "        print('Model accuracy: {}'.format(accuracy))\n",
    "        # Log it with hypertune\n",
    "        hpt = hypertune.HyperTune()\n",
    "        hpt.report_hyperparameter_tuning_metric(\n",
    "          hyperparameter_metric_tag='accuracy',\n",
    "          metric_value=accuracy)\n",
    "\n",
    "    # Save the model\n",
    "    if not hptune:\n",
    "        model_filename = 'model.pkl'\n",
    "        with open(model_filename, 'wb') as model_file:\n",
    "            pickle.dump(pipeline, model_file)\n",
    "        gcs_model_path = \"{}/{}\".format(job_dir, model_filename)\n",
    "        subprocess.check_call(['gsutil', 'cp', model_filename, gcs_model_path], \n",
    "            stderr=sys.stdout)\n",
    "        print(\"Saved model in: {}\".format(gcs_model_path))\n",
    "    \n",
    "if __name__ == \"__main__\":\n",
    "    fire.Fire(train_evaluate)"
   ]
  },
  {
   "cell_type": "markdown",
   "metadata": {},
   "source": [
    "### Package the script into a docker image.\n",
    "\n",
    "Notice that we are installing specific versions of `scikit-learn` and `pandas` in the training image. This is done to make sure that the training runtime is aligned with the serving runtime. Later in the notebook you will deploy the model to AI Platform Prediction, using the 1.15 version of AI Platform Prediction runtime. \n",
    "\n",
    "Make sure to update the URI for the base image so that it points to your project's **Container Registry**."
   ]
  },
  {
   "cell_type": "markdown",
   "metadata": {},
   "source": [
    "### Exercise\n",
    "\n",
    "Complete the Dockerfile below so that it copies the 'train.py' file into the container\n",
    "at `/app` and runs it when the container is started. \n",
    "\n",
    "<ql-infobox><b>NOTE:</b> If you need help, you may take a look at the complete solution by navigating to **mlops-on-gcp > workshops > kfp-caip-sklearn > lab-01-caip-containers** and opening **lab-01.ipynb**.\n",
    "</ql-infobox>"
   ]
  },
  {
   "cell_type": "code",
   "execution_count": 20,
   "metadata": {},
   "outputs": [
    {
     "name": "stdout",
     "output_type": "stream",
     "text": [
      "Writing training_app/Dockerfile\n"
     ]
    }
   ],
   "source": [
    "%%writefile {TRAINING_APP_FOLDER}/Dockerfile\n",
    "\n",
    "FROM gcr.io/deeplearning-platform-release/base-cpu\n",
    "RUN pip install -U fire cloudml-hypertune scikit-learn==0.20.4 pandas==0.24.2\n",
    "\n",
    "# TO DO: Your code goes here\n",
    "WORKDIR /app\n",
    "COPY train.py .\n",
    "\n",
    "ENTRYPOINT [\"python\", \"train.py\"]"
   ]
  },
  {
   "cell_type": "markdown",
   "metadata": {},
   "source": [
    "### Build the docker image. \n",
    "\n",
    "You use **Cloud Build** to build the image and push it your project's **Container Registry**. As you use the remote cloud service to build the image, you don't need a local installation of Docker."
   ]
  },
  {
   "cell_type": "code",
   "execution_count": 21,
   "metadata": {},
   "outputs": [],
   "source": [
    "IMAGE_NAME='trainer_image'\n",
    "IMAGE_TAG='latest'\n",
    "IMAGE_URI='gcr.io/{}/{}:{}'.format(PROJECT_ID, IMAGE_NAME, IMAGE_TAG)"
   ]
  },
  {
   "cell_type": "code",
   "execution_count": 22,
   "metadata": {
    "collapsed": true,
    "jupyter": {
     "outputs_hidden": true
    },
    "tags": []
   },
   "outputs": [
    {
     "name": "stdout",
     "output_type": "stream",
     "text": [
      "Creating temporary tarball archive of 2 file(s) totalling 3.3 KiB before compression.\n",
      "Uploading tarball of [training_app] to [gs://qwiklabs-gcp-01-45dceaec647e_cloudbuild/source/1642321984.981402-804481f3ce2a4b3dafa0cce5a5962a57.tgz]\n",
      "Created [https://cloudbuild.googleapis.com/v1/projects/qwiklabs-gcp-01-45dceaec647e/locations/global/builds/96f11a6c-0cf8-47e5-8b28-262c823b20ac].\n",
      "Logs are available at [https://console.cloud.google.com/cloud-build/builds/96f11a6c-0cf8-47e5-8b28-262c823b20ac?project=657629277371].\n",
      "----------------------------- REMOTE BUILD OUTPUT ------------------------------\n",
      "starting build \"96f11a6c-0cf8-47e5-8b28-262c823b20ac\"\n",
      "\n",
      "FETCHSOURCE\n",
      "Fetching storage object: gs://qwiklabs-gcp-01-45dceaec647e_cloudbuild/source/1642321984.981402-804481f3ce2a4b3dafa0cce5a5962a57.tgz#1642321985148070\n",
      "Copying gs://qwiklabs-gcp-01-45dceaec647e_cloudbuild/source/1642321984.981402-804481f3ce2a4b3dafa0cce5a5962a57.tgz#1642321985148070...\n",
      "/ [1 files][  1.6 KiB/  1.6 KiB]                                                \n",
      "Operation completed over 1 objects/1.6 KiB.\n",
      "BUILD\n",
      "Already have image (with digest): gcr.io/cloud-builders/docker\n",
      "Sending build context to Docker daemon  6.144kB\n",
      "Step 1/5 : FROM gcr.io/deeplearning-platform-release/base-cpu\n",
      "latest: Pulling from deeplearning-platform-release/base-cpu\n",
      "7b1a6ab2e44d: Already exists\n",
      "afe6e63412ab: Pulling fs layer\n",
      "5b73234eab2e: Pulling fs layer\n",
      "1685de22cc18: Pulling fs layer\n",
      "4f4fb700ef54: Pulling fs layer\n",
      "b47909ca4b31: Pulling fs layer\n",
      "17bb6932867c: Pulling fs layer\n",
      "334ec3463b8d: Pulling fs layer\n",
      "9832ea45781a: Pulling fs layer\n",
      "6dd58a1feee0: Pulling fs layer\n",
      "4eba552f6461: Pulling fs layer\n",
      "318bfd6f44e9: Pulling fs layer\n",
      "f68af1a5c61b: Pulling fs layer\n",
      "005c6ce38bc0: Pulling fs layer\n",
      "f70512a0e436: Pulling fs layer\n",
      "63c5da3a0938: Pulling fs layer\n",
      "559eafc8c9b9: Pulling fs layer\n",
      "558154dd3629: Pulling fs layer\n",
      "b47909ca4b31: Waiting\n",
      "17bb6932867c: Waiting\n",
      "334ec3463b8d: Waiting\n",
      "9832ea45781a: Waiting\n",
      "6dd58a1feee0: Waiting\n",
      "4eba552f6461: Waiting\n",
      "318bfd6f44e9: Waiting\n",
      "f68af1a5c61b: Waiting\n",
      "005c6ce38bc0: Waiting\n",
      "f70512a0e436: Waiting\n",
      "63c5da3a0938: Waiting\n",
      "559eafc8c9b9: Waiting\n",
      "558154dd3629: Waiting\n",
      "4f4fb700ef54: Waiting\n",
      "afe6e63412ab: Verifying Checksum\n",
      "afe6e63412ab: Download complete\n",
      "4f4fb700ef54: Verifying Checksum\n",
      "4f4fb700ef54: Download complete\n",
      "afe6e63412ab: Pull complete\n",
      "b47909ca4b31: Verifying Checksum\n",
      "b47909ca4b31: Download complete\n",
      "1685de22cc18: Verifying Checksum\n",
      "1685de22cc18: Download complete\n",
      "334ec3463b8d: Download complete\n",
      "17bb6932867c: Verifying Checksum\n",
      "17bb6932867c: Download complete\n",
      "9832ea45781a: Verifying Checksum\n",
      "9832ea45781a: Download complete\n",
      "6dd58a1feee0: Download complete\n",
      "318bfd6f44e9: Download complete\n",
      "4eba552f6461: Verifying Checksum\n",
      "4eba552f6461: Download complete\n",
      "f68af1a5c61b: Verifying Checksum\n",
      "f68af1a5c61b: Download complete\n",
      "005c6ce38bc0: Verifying Checksum\n",
      "005c6ce38bc0: Download complete\n",
      "f70512a0e436: Verifying Checksum\n",
      "f70512a0e436: Download complete\n",
      "63c5da3a0938: Verifying Checksum\n",
      "63c5da3a0938: Download complete\n",
      "558154dd3629: Verifying Checksum\n",
      "558154dd3629: Download complete\n",
      "5b73234eab2e: Verifying Checksum\n",
      "5b73234eab2e: Download complete\n",
      "559eafc8c9b9: Verifying Checksum\n",
      "559eafc8c9b9: Download complete\n",
      "5b73234eab2e: Pull complete\n",
      "1685de22cc18: Pull complete\n",
      "4f4fb700ef54: Pull complete\n",
      "b47909ca4b31: Pull complete\n",
      "17bb6932867c: Pull complete\n",
      "334ec3463b8d: Pull complete\n",
      "9832ea45781a: Pull complete\n",
      "6dd58a1feee0: Pull complete\n",
      "4eba552f6461: Pull complete\n",
      "318bfd6f44e9: Pull complete\n",
      "f68af1a5c61b: Pull complete\n",
      "005c6ce38bc0: Pull complete\n",
      "f70512a0e436: Pull complete\n",
      "63c5da3a0938: Pull complete\n",
      "559eafc8c9b9: Pull complete\n",
      "558154dd3629: Pull complete\n",
      "Digest: sha256:f5e5f89edac3ca1399f03b83136545610a5a205754eee28149a55900cd9b68cc\n",
      "Status: Downloaded newer image for gcr.io/deeplearning-platform-release/base-cpu:latest\n",
      " ---> 9d37d1fb4b24\n",
      "Step 2/5 : RUN pip install -U fire cloudml-hypertune scikit-learn==0.20.4 pandas==0.24.2\n",
      " ---> Running in 8168819fd595\n",
      "Collecting fire\n",
      "  Downloading fire-0.4.0.tar.gz (87 kB)\n",
      "  Preparing metadata (setup.py): started\n",
      "  Preparing metadata (setup.py): finished with status 'done'\n",
      "Collecting cloudml-hypertune\n",
      "  Downloading cloudml-hypertune-0.1.0.dev6.tar.gz (3.2 kB)\n",
      "  Preparing metadata (setup.py): started\n",
      "  Preparing metadata (setup.py): finished with status 'done'\n",
      "Collecting scikit-learn==0.20.4\n",
      "  Downloading scikit_learn-0.20.4-cp37-cp37m-manylinux1_x86_64.whl (5.4 MB)\n",
      "Collecting pandas==0.24.2\n",
      "  Downloading pandas-0.24.2-cp37-cp37m-manylinux1_x86_64.whl (10.1 MB)\n",
      "Requirement already satisfied: scipy>=0.13.3 in /opt/conda/lib/python3.7/site-packages (from scikit-learn==0.20.4) (1.7.3)\n",
      "Requirement already satisfied: numpy>=1.8.2 in /opt/conda/lib/python3.7/site-packages (from scikit-learn==0.20.4) (1.19.5)\n",
      "Requirement already satisfied: pytz>=2011k in /opt/conda/lib/python3.7/site-packages (from pandas==0.24.2) (2021.3)\n",
      "Requirement already satisfied: python-dateutil>=2.5.0 in /opt/conda/lib/python3.7/site-packages (from pandas==0.24.2) (2.8.2)\n",
      "Requirement already satisfied: six in /opt/conda/lib/python3.7/site-packages (from fire) (1.16.0)\n",
      "Collecting termcolor\n",
      "  Downloading termcolor-1.1.0.tar.gz (3.9 kB)\n",
      "  Preparing metadata (setup.py): started\n",
      "  Preparing metadata (setup.py): finished with status 'done'\n",
      "Building wheels for collected packages: fire, cloudml-hypertune, termcolor\n",
      "  Building wheel for fire (setup.py): started\n",
      "  Building wheel for fire (setup.py): finished with status 'done'\n",
      "  Created wheel for fire: filename=fire-0.4.0-py2.py3-none-any.whl size=115943 sha256=d65b43f3941ad7c0348136ec44ec124253b500bfd8bc4e037cad998b7aa3ba6c\n",
      "  Stored in directory: /root/.cache/pip/wheels/8a/67/fb/2e8a12fa16661b9d5af1f654bd199366799740a85c64981226\n",
      "  Building wheel for cloudml-hypertune (setup.py): started\n",
      "  Building wheel for cloudml-hypertune (setup.py): finished with status 'done'\n",
      "  Created wheel for cloudml-hypertune: filename=cloudml_hypertune-0.1.0.dev6-py2.py3-none-any.whl size=3987 sha256=0206d5e5c72887c5c8bbdff895799ceb3df6b3ca2cde1f6b06b083d476616bf5\n",
      "  Stored in directory: /root/.cache/pip/wheels/a7/ff/87/e7bed0c2741fe219b3d6da67c2431d7f7fedb183032e00f81e\n",
      "  Building wheel for termcolor (setup.py): started\n",
      "  Building wheel for termcolor (setup.py): finished with status 'done'\n",
      "  Created wheel for termcolor: filename=termcolor-1.1.0-py3-none-any.whl size=4847 sha256=f0dfb8a228a2baa2d94413866c6c2af3df97725eae9e93a01ad3b6d2a5a88087\n",
      "  Stored in directory: /root/.cache/pip/wheels/3f/e3/ec/8a8336ff196023622fbcb36de0c5a5c218cbb24111d1d4c7f2\n",
      "Successfully built fire cloudml-hypertune termcolor\n",
      "Installing collected packages: termcolor, scikit-learn, pandas, fire, cloudml-hypertune\n",
      "  Attempting uninstall: scikit-learn\n",
      "    Found existing installation: scikit-learn 1.0.1\n",
      "    Uninstalling scikit-learn-1.0.1:\n",
      "      Successfully uninstalled scikit-learn-1.0.1\n",
      "  Attempting uninstall: pandas\n",
      "    Found existing installation: pandas 1.3.5\n",
      "    Uninstalling pandas-1.3.5:\n",
      "      Successfully uninstalled pandas-1.3.5\n",
      "\u001b[91mERROR: pip's dependency resolver does not currently take into account all the packages that are installed. This behaviour is the source of the following dependency conflicts.\n",
      "visions 0.7.4 requires pandas>=0.25.3, but you have pandas 0.24.2 which is incompatible.\n",
      "statsmodels 0.13.1 requires pandas>=0.25, but you have pandas 0.24.2 which is incompatible.\n",
      "phik 0.12.0 requires pandas>=0.25.1, but you have pandas 0.24.2 which is incompatible.\n",
      "pandas-profiling 3.1.0 requires pandas!=1.0.0,!=1.0.1,!=1.0.2,!=1.1.0,>=0.25.3, but you have pandas 0.24.2 which is incompatible.\n",
      "\u001b[0mSuccessfully installed cloudml-hypertune-0.1.0.dev6 fire-0.4.0 pandas-0.24.2 scikit-learn-0.20.4 termcolor-1.1.0\n",
      "\u001b[91mWARNING: Running pip as the 'root' user can result in broken permissions and conflicting behaviour with the system package manager. It is recommended to use a virtual environment instead: https://pip.pypa.io/warnings/venv\n",
      "\u001b[0mRemoving intermediate container 8168819fd595\n",
      " ---> 2e6ec6d2ad86\n",
      "Step 3/5 : WORKDIR /app\n",
      " ---> Running in 9545aacfb3e2\n",
      "Removing intermediate container 9545aacfb3e2\n",
      " ---> b250b906f53c\n",
      "Step 4/5 : COPY train.py .\n",
      " ---> 3fd1fa1ae535\n",
      "Step 5/5 : ENTRYPOINT [\"python\", \"train.py\"]\n",
      " ---> Running in cb2a60b2bfea\n",
      "Removing intermediate container cb2a60b2bfea\n",
      " ---> 2d6d1a5da03e\n",
      "Successfully built 2d6d1a5da03e\n",
      "Successfully tagged gcr.io/qwiklabs-gcp-01-45dceaec647e/trainer_image:latest\n",
      "PUSH\n",
      "Pushing gcr.io/qwiklabs-gcp-01-45dceaec647e/trainer_image:latest\n",
      "The push refers to repository [gcr.io/qwiklabs-gcp-01-45dceaec647e/trainer_image]\n",
      "77fe06c88186: Preparing\n",
      "2d1df89388b7: Preparing\n",
      "b8b2df08a161: Preparing\n",
      "1454938e8c75: Preparing\n",
      "1b913f373c39: Preparing\n",
      "8a3424f475cb: Preparing\n",
      "79de2e7105e3: Preparing\n",
      "80fbf1f9de72: Preparing\n",
      "95dd9c08140a: Preparing\n",
      "c77c6b1c9a72: Preparing\n",
      "eb2e1edb9042: Preparing\n",
      "321c7ad58201: Preparing\n",
      "3976e9ae051e: Preparing\n",
      "62aa5e865341: Preparing\n",
      "0d7828e68dda: Preparing\n",
      "ce1f2b34baf7: Preparing\n",
      "5f70bf18a086: Preparing\n",
      "14f43fe5fb59: Preparing\n",
      "2ac22cf101f4: Preparing\n",
      "104b9a8c66b0: Preparing\n",
      "9f54eef41275: Preparing\n",
      "3976e9ae051e: Waiting\n",
      "8a3424f475cb: Waiting\n",
      "79de2e7105e3: Waiting\n",
      "80fbf1f9de72: Waiting\n",
      "95dd9c08140a: Waiting\n",
      "c77c6b1c9a72: Waiting\n",
      "eb2e1edb9042: Waiting\n",
      "321c7ad58201: Waiting\n",
      "62aa5e865341: Waiting\n",
      "0d7828e68dda: Waiting\n",
      "ce1f2b34baf7: Waiting\n",
      "5f70bf18a086: Waiting\n",
      "14f43fe5fb59: Waiting\n",
      "2ac22cf101f4: Waiting\n",
      "104b9a8c66b0: Waiting\n",
      "9f54eef41275: Waiting\n",
      "1b913f373c39: Layer already exists\n",
      "1454938e8c75: Layer already exists\n",
      "79de2e7105e3: Layer already exists\n",
      "8a3424f475cb: Layer already exists\n",
      "95dd9c08140a: Layer already exists\n",
      "80fbf1f9de72: Layer already exists\n",
      "eb2e1edb9042: Layer already exists\n",
      "c77c6b1c9a72: Layer already exists\n",
      "321c7ad58201: Layer already exists\n",
      "3976e9ae051e: Layer already exists\n",
      "0d7828e68dda: Layer already exists\n",
      "62aa5e865341: Layer already exists\n",
      "ce1f2b34baf7: Layer already exists\n",
      "5f70bf18a086: Layer already exists\n",
      "14f43fe5fb59: Layer already exists\n",
      "2ac22cf101f4: Layer already exists\n",
      "9f54eef41275: Layer already exists\n",
      "104b9a8c66b0: Layer already exists\n",
      "77fe06c88186: Pushed\n",
      "2d1df89388b7: Pushed\n",
      "b8b2df08a161: Pushed\n",
      "latest: digest: sha256:2befb11c9a15ca3a609cf63c9d10eac733c75167944d6c8f8c4d4a80957c8b68 size: 4707\n",
      "DONE\n",
      "--------------------------------------------------------------------------------\n",
      "ID                                    CREATE_TIME                DURATION  SOURCE                                                                                                      IMAGES                                                       STATUS\n",
      "96f11a6c-0cf8-47e5-8b28-262c823b20ac  2022-01-16T08:33:05+00:00  2M8S      gs://qwiklabs-gcp-01-45dceaec647e_cloudbuild/source/1642321984.981402-804481f3ce2a4b3dafa0cce5a5962a57.tgz  gcr.io/qwiklabs-gcp-01-45dceaec647e/trainer_image (+1 more)  SUCCESS\n"
     ]
    }
   ],
   "source": [
    "!gcloud builds submit --tag $IMAGE_URI $TRAINING_APP_FOLDER"
   ]
  },
  {
   "cell_type": "markdown",
   "metadata": {},
   "source": [
    "## Submit an AI Platform hyperparameter tuning job"
   ]
  },
  {
   "cell_type": "markdown",
   "metadata": {},
   "source": [
    "### Create the hyperparameter configuration file. \n",
    "Recall that the training code uses `SGDClassifier`. The training application has been designed to accept two hyperparameters that control `SGDClassifier`:\n",
    "- Max iterations\n",
    "- Alpha\n",
    "\n",
    "The below file configures AI Platform hypertuning to run up to 6 trials on up to three nodes and to choose from two discrete values of `max_iter` and the linear range betwee 0.00001 and 0.001 for `alpha`."
   ]
  },
  {
   "cell_type": "markdown",
   "metadata": {},
   "source": [
    "### Exercise\n",
    "\n",
    "Complete the `hptuning_config.yaml` file below so that the hyperparameter\n",
    "tunning engine try for parameter values\n",
    "* `max_iter` the two values 200 and 300\n",
    "* `alpha` a linear range of values between 0.00001 and 0.001\n",
    "\n",
    "<ql-infobox><b>NOTE:</b> If you need help, you may take a look at the complete solution by navigating to **mlops-on-gcp > workshops > kfp-caip-sklearn > lab-01-caip-containers** and opening **lab-01.ipynb**.\n",
    "</ql-infobox>"
   ]
  },
  {
   "cell_type": "code",
   "execution_count": 23,
   "metadata": {},
   "outputs": [
    {
     "name": "stdout",
     "output_type": "stream",
     "text": [
      "Writing training_app/hptuning_config.yaml\n"
     ]
    }
   ],
   "source": [
    "%%writefile {TRAINING_APP_FOLDER}/hptuning_config.yaml\n",
    "\n",
    "# Copyright 2019 Google Inc. All Rights Reserved.\n",
    "#\n",
    "# Licensed under the Apache License, Version 2.0 (the \"License\");\n",
    "# you may not use this file except in compliance with the License.\n",
    "# You may obtain a copy of the License at\n",
    "#\n",
    "#            http://www.apache.org/licenses/LICENSE-2.0\n",
    "#\n",
    "# Unless required by applicable law or agreed to in writing, software\n",
    "# distributed under the License is distributed on an \"AS IS\" BASIS,\n",
    "# WITHOUT WARRANTIES OR CONDITIONS OF ANY KIND, either express or implied.\n",
    "# See the License for the specific language governing permissions and\n",
    "# limitations under the License.\n",
    "\n",
    "trainingInput:\n",
    "    hyperparameters:\n",
    "        goal: MAXIMIZE\n",
    "        maxTrials: 4\n",
    "        maxParallelTrials: 4\n",
    "        hyperparameterMetricTag: accuracy\n",
    "        enableTrialEarlyStopping: TRUE \n",
    "        params:\n",
    "        # TO DO: Your code goes here\n",
    "        - parameterName: max_iter\n",
    "          type: DISCRETE\n",
    "          discreteValues: [200, 500]\n",
    "        - parameterName: alpha\n",
    "          type: DOUBLE\n",
    "          minValue:  0.00001\n",
    "          maxValue:  0.001\n",
    "          scaleType: UNIT_LINEAR_SCALE"
   ]
  },
  {
   "cell_type": "markdown",
   "metadata": {},
   "source": [
    "### Start the hyperparameter tuning job.\n",
    "\n",
    "\n",
    "### Exercise\n",
    "Use the `gcloud` command to start the hyperparameter tuning job.\n",
    "\n",
    "<ql-infobox><b>NOTE:</b> If you need help, you may take a look at the complete solution by navigating to **mlops-on-gcp > workshops > kfp-caip-sklearn > lab-01-caip-containers** and opening **lab-01.ipynb**.\n",
    "</ql-infobox>\n"
   ]
  },
  {
   "cell_type": "code",
   "execution_count": 26,
   "metadata": {},
   "outputs": [
    {
     "name": "stdout",
     "output_type": "stream",
     "text": [
      "Job [JOB_20220116_084708] submitted successfully.\n",
      "Your job is still active. You may view the status of your job with the command\n",
      "\n",
      "  $ gcloud ai-platform jobs describe JOB_20220116_084708\n",
      "\n",
      "or continue streaming the logs with the command\n",
      "\n",
      "  $ gcloud ai-platform jobs stream-logs JOB_20220116_084708\n",
      "jobId: JOB_20220116_084708\n",
      "state: QUEUED\n"
     ]
    }
   ],
   "source": [
    "JOB_NAME = \"JOB_{}\".format(time.strftime(\"%Y%m%d_%H%M%S\"))\n",
    "JOB_DIR = \"{}/{}\".format(JOB_DIR_ROOT, JOB_NAME)\n",
    "SCALE_TIER = \"BASIC\"\n",
    "\n",
    "# TO DO: ADD YOUR REGION, JOB-DIR, IMAGE-URI, SCALE-TIER, CONFIG PATH\n",
    "# TO DO: Complete the command\n",
    "!gcloud ai-platform jobs submit training $JOB_NAME \\\n",
    "--region=$REGION \\\n",
    "--job-dir=$JOB_DIR \\\n",
    "--master-image-uri=$IMAGE_URI \\\n",
    "--scale-tier=$SCALE_TIER \\\n",
    "--config $TRAINING_APP_FOLDER/hptuning_config.yaml \\\n",
    "-- \\\n",
    "--training_dataset_path=$TRAINING_FILE_PATH \\\n",
    "--validation_dataset_path=$VALIDATION_FILE_PATH \\\n",
    "--hptune"
   ]
  },
  {
   "cell_type": "markdown",
   "metadata": {},
   "source": [
    "### Monitor the job.\n",
    "\n",
    "You can monitor the job using Google Cloud console or from within the notebook using `gcloud` commands."
   ]
  },
  {
   "cell_type": "code",
   "execution_count": 27,
   "metadata": {
    "collapsed": true,
    "jupyter": {
     "outputs_hidden": true
    },
    "tags": []
   },
   "outputs": [
    {
     "name": "stdout",
     "output_type": "stream",
     "text": [
      "createTime: '2022-01-16T08:47:22Z'\n",
      "etag: DP00TjqLSTg=\n",
      "jobId: JOB_20220116_084708\n",
      "jobPosition: '0'\n",
      "startTime: '2022-01-16T08:47:25Z'\n",
      "state: RUNNING\n",
      "trainingInput:\n",
      "  args:\n",
      "  - --training_dataset_path=gs://qwiklabs-gcp-01-45dceaec647e-kubeflowpipelines-default/data/training/dataset.csv\n",
      "  - --validation_dataset_path=gs://qwiklabs-gcp-01-45dceaec647e-kubeflowpipelines-default/data/validation/dataset.csv\n",
      "  - --hptune\n",
      "  hyperparameters:\n",
      "    enableTrialEarlyStopping: true\n",
      "    goal: MAXIMIZE\n",
      "    hyperparameterMetricTag: accuracy\n",
      "    maxParallelTrials: 4\n",
      "    maxTrials: 4\n",
      "    params:\n",
      "    - discreteValues:\n",
      "      - 200.0\n",
      "      - 500.0\n",
      "      parameterName: max_iter\n",
      "      type: DISCRETE\n",
      "    - maxValue: 0.001\n",
      "      minValue: 1e-05\n",
      "      parameterName: alpha\n",
      "      scaleType: UNIT_LINEAR_SCALE\n",
      "      type: DOUBLE\n",
      "  jobDir: gs://qwiklabs-gcp-01-45dceaec647e-kubeflowpipelines-default/jobs/JOB_20220116_084708\n",
      "  masterConfig:\n",
      "    imageUri: gcr.io/qwiklabs-gcp-01-45dceaec647e/trainer_image:latest\n",
      "  region: us-central1\n",
      "trainingOutput:\n",
      "  hyperparameterMetricTag: accuracy\n",
      "  isHyperparameterTuningJob: true\n",
      "\n",
      "View job in the Cloud Console at:\n",
      "https://console.cloud.google.com/mlengine/jobs/JOB_20220116_084708?project=qwiklabs-gcp-01-45dceaec647e\n",
      "\n",
      "View logs at:\n",
      "https://console.cloud.google.com/logs?resource=ml_job%2Fjob_id%2FJOB_20220116_084708&project=qwiklabs-gcp-01-45dceaec647e\n"
     ]
    }
   ],
   "source": [
    "!gcloud ai-platform jobs describe $JOB_NAME"
   ]
  },
  {
   "cell_type": "code",
   "execution_count": 28,
   "metadata": {
    "collapsed": true,
    "jupyter": {
     "outputs_hidden": true
    },
    "tags": []
   },
   "outputs": [
    {
     "name": "stdout",
     "output_type": "stream",
     "text": [
      "INFO\t2022-01-16 08:47:10 +0000\tservice\t\tValidating job requirements...\n",
      "INFO\t2022-01-16 08:47:22 +0000\tservice\t\tJob creation request has been successfully validated.\n",
      "INFO\t2022-01-16 08:47:22 +0000\tservice\t\tJob JOB_20220116_084708 is queued.\n",
      "INFO\t2022-01-16 08:47:30 +0000\tservice\t3\tWaiting for job to be provisioned.\n",
      "INFO\t2022-01-16 08:47:30 +0000\tservice\t4\tWaiting for job to be provisioned.\n",
      "INFO\t2022-01-16 08:47:30 +0000\tservice\t2\tWaiting for job to be provisioned.\n",
      "INFO\t2022-01-16 08:47:30 +0000\tservice\t1\tWaiting for job to be provisioned.\n",
      "INFO\t2022-01-16 08:47:33 +0000\tservice\t2\tWaiting for training program to start.\n",
      "INFO\t2022-01-16 08:47:33 +0000\tservice\t1\tWaiting for training program to start.\n",
      "INFO\t2022-01-16 08:47:34 +0000\tservice\t3\tWaiting for training program to start.\n",
      "INFO\t2022-01-16 08:47:34 +0000\tservice\t4\tWaiting for training program to start.\n",
      "NOTICE\t2022-01-16 08:48:52 +0000\tmaster-replica-0.gcsfuse\t4\tOpening GCS connection...\n",
      "NOTICE\t2022-01-16 08:48:52 +0000\tmaster-replica-0.gcsfuse\t4\tMounting file system \"gcsfuse\"...\n",
      "NOTICE\t2022-01-16 08:48:52 +0000\tmaster-replica-0.gcsfuse\t4\tFile system has been successfully mounted.\n",
      "NOTICE\t2022-01-16 08:48:57 +0000\tmaster-replica-0.gcsfuse\t3\tOpening GCS connection...\n",
      "NOTICE\t2022-01-16 08:48:57 +0000\tmaster-replica-0.gcsfuse\t3\tMounting file system \"gcsfuse\"...\n",
      "NOTICE\t2022-01-16 08:48:57 +0000\tmaster-replica-0.gcsfuse\t3\tFile system has been successfully mounted.\n",
      "NOTICE\t2022-01-16 08:48:58 +0000\tmaster-replica-0.gcsfuse\t2\tOpening GCS connection...\n",
      "NOTICE\t2022-01-16 08:48:58 +0000\tmaster-replica-0.gcsfuse\t2\tMounting file system \"gcsfuse\"...\n",
      "NOTICE\t2022-01-16 08:48:58 +0000\tmaster-replica-0.gcsfuse\t2\tFile system has been successfully mounted.\n",
      "NOTICE\t2022-01-16 08:49:01 +0000\tmaster-replica-0.gcsfuse\t1\tOpening GCS connection...\n",
      "NOTICE\t2022-01-16 08:49:01 +0000\tmaster-replica-0.gcsfuse\t1\tMounting file system \"gcsfuse\"...\n",
      "NOTICE\t2022-01-16 08:49:01 +0000\tmaster-replica-0.gcsfuse\t1\tFile system has been successfully mounted.\n",
      "INFO\t2022-01-16 08:50:16 +0000\tmaster-replica-0\t2\tStarting training: alpha=0.0007227079375998807, max_iter=200\n",
      "INFO\t2022-01-16 08:50:16 +0000\tmaster-replica-0\t2\tModel accuracy: 0.6918462789751931\n",
      "INFO\t2022-01-16 08:50:19 +0000\tmaster-replica-0\t4\tStarting training: alpha=0.0004667680673455873, max_iter=500\n",
      "INFO\t2022-01-16 08:50:19 +0000\tmaster-replica-0\t4\tModel accuracy: 0.6996746644977633\n",
      "INFO\t2022-01-16 08:50:19 +0000\tmaster-replica-0\t3\tStarting training: alpha=0.0004851173238644563, max_iter=500\n",
      "INFO\t2022-01-16 08:50:19 +0000\tmaster-replica-0\t3\tModel accuracy: 0.6946929646197642\n",
      "INFO\t2022-01-16 08:50:24 +0000\tmaster-replica-0\t1\tStarting training: alpha=0.000505, max_iter=500\n",
      "INFO\t2022-01-16 08:50:24 +0000\tmaster-replica-0\t1\tModel accuracy: 0.7035380235868239\n",
      "INFO\t2022-01-16 08:55:58 +0000\tservice\t2\tJob completed successfully.\n",
      "INFO\t2022-01-16 08:56:00 +0000\tservice\t3\tJob completed successfully.\n",
      "INFO\t2022-01-16 08:56:00 +0000\tservice\t4\tJob completed successfully.\n",
      "INFO\t2022-01-16 08:56:09 +0000\tservice\t1\tJob completed successfully.\n"
     ]
    }
   ],
   "source": [
    "!gcloud ai-platform jobs stream-logs $JOB_NAME"
   ]
  },
  {
   "cell_type": "markdown",
   "metadata": {},
   "source": [
    "**NOTE: The above AI platform job stream logs will take approximately 5~10 minutes to display.**"
   ]
  },
  {
   "cell_type": "markdown",
   "metadata": {},
   "source": [
    "### Retrieve HP-tuning results."
   ]
  },
  {
   "cell_type": "markdown",
   "metadata": {},
   "source": [
    "After the job completes you can review the results using Google Cloud Console or programatically by calling the AI Platform Training REST end-point."
   ]
  },
  {
   "cell_type": "code",
   "execution_count": 29,
   "metadata": {
    "collapsed": true,
    "jupyter": {
     "outputs_hidden": true
    },
    "tags": []
   },
   "outputs": [
    {
     "data": {
      "text/plain": [
       "{'jobId': 'JOB_20220116_084708',\n",
       " 'trainingInput': {'args': ['--training_dataset_path=gs://qwiklabs-gcp-01-45dceaec647e-kubeflowpipelines-default/data/training/dataset.csv',\n",
       "   '--validation_dataset_path=gs://qwiklabs-gcp-01-45dceaec647e-kubeflowpipelines-default/data/validation/dataset.csv',\n",
       "   '--hptune'],\n",
       "  'hyperparameters': {'goal': 'MAXIMIZE',\n",
       "   'params': [{'parameterName': 'max_iter',\n",
       "     'type': 'DISCRETE',\n",
       "     'discreteValues': [200, 500]},\n",
       "    {'parameterName': 'alpha',\n",
       "     'minValue': 1e-05,\n",
       "     'maxValue': 0.001,\n",
       "     'type': 'DOUBLE',\n",
       "     'scaleType': 'UNIT_LINEAR_SCALE'}],\n",
       "   'maxTrials': 4,\n",
       "   'maxParallelTrials': 4,\n",
       "   'hyperparameterMetricTag': 'accuracy',\n",
       "   'enableTrialEarlyStopping': True},\n",
       "  'region': 'us-central1',\n",
       "  'jobDir': 'gs://qwiklabs-gcp-01-45dceaec647e-kubeflowpipelines-default/jobs/JOB_20220116_084708',\n",
       "  'masterConfig': {'imageUri': 'gcr.io/qwiklabs-gcp-01-45dceaec647e/trainer_image:latest'}},\n",
       " 'createTime': '2022-01-16T08:47:22Z',\n",
       " 'startTime': '2022-01-16T08:47:25Z',\n",
       " 'endTime': '2022-01-16T08:58:48Z',\n",
       " 'state': 'SUCCEEDED',\n",
       " 'trainingOutput': {'completedTrialCount': '4',\n",
       "  'trials': [{'trialId': '1',\n",
       "    'hyperparameters': {'alpha': '0.000505', 'max_iter': '500'},\n",
       "    'finalMetric': {'trainingStep': '1', 'objectiveValue': 0.7035380235868239},\n",
       "    'startTime': '2022-01-16T08:47:30.338314459Z',\n",
       "    'endTime': '2022-01-16T08:56:09Z',\n",
       "    'state': 'SUCCEEDED'},\n",
       "   {'trialId': '4',\n",
       "    'hyperparameters': {'alpha': '0.00046676806734558728', 'max_iter': '500'},\n",
       "    'finalMetric': {'trainingStep': '1', 'objectiveValue': 0.6996746644977633},\n",
       "    'startTime': '2022-01-16T08:47:30.338731719Z',\n",
       "    'endTime': '2022-01-16T08:56:00Z',\n",
       "    'state': 'SUCCEEDED'},\n",
       "   {'trialId': '3',\n",
       "    'hyperparameters': {'alpha': '0.00048511732386445627', 'max_iter': '500'},\n",
       "    'finalMetric': {'trainingStep': '1', 'objectiveValue': 0.6946929646197642},\n",
       "    'startTime': '2022-01-16T08:47:30.338639201Z',\n",
       "    'endTime': '2022-01-16T08:56:00Z',\n",
       "    'state': 'SUCCEEDED'},\n",
       "   {'trialId': '2',\n",
       "    'hyperparameters': {'alpha': '0.00072270793759988071', 'max_iter': '200'},\n",
       "    'finalMetric': {'trainingStep': '1', 'objectiveValue': 0.6918462789751931},\n",
       "    'startTime': '2022-01-16T08:47:30.338541514Z',\n",
       "    'endTime': '2022-01-16T08:55:58Z',\n",
       "    'state': 'SUCCEEDED'}],\n",
       "  'consumedMLUnits': 0.26,\n",
       "  'isHyperparameterTuningJob': True,\n",
       "  'hyperparameterMetricTag': 'accuracy'},\n",
       " 'etag': 'rLUsS9jaLN0=',\n",
       " 'jobPosition': '0'}"
      ]
     },
     "execution_count": 29,
     "metadata": {},
     "output_type": "execute_result"
    }
   ],
   "source": [
    "ml = discovery.build('ml', 'v1')\n",
    "\n",
    "job_id = 'projects/{}/jobs/{}'.format(PROJECT_ID, JOB_NAME)\n",
    "request = ml.projects().jobs().get(name=job_id)\n",
    "\n",
    "try:\n",
    "    response = request.execute()\n",
    "except errors.HttpError as err:\n",
    "    print(err)\n",
    "except:\n",
    "    print(\"Unexpected error\")\n",
    "    \n",
    "response"
   ]
  },
  {
   "cell_type": "markdown",
   "metadata": {},
   "source": [
    "The returned run results are sorted by a value of the optimization metric. The best run is the first item on the returned list."
   ]
  },
  {
   "cell_type": "code",
   "execution_count": 30,
   "metadata": {},
   "outputs": [
    {
     "data": {
      "text/plain": [
       "{'trialId': '1',\n",
       " 'hyperparameters': {'alpha': '0.000505', 'max_iter': '500'},\n",
       " 'finalMetric': {'trainingStep': '1', 'objectiveValue': 0.7035380235868239},\n",
       " 'startTime': '2022-01-16T08:47:30.338314459Z',\n",
       " 'endTime': '2022-01-16T08:56:09Z',\n",
       " 'state': 'SUCCEEDED'}"
      ]
     },
     "execution_count": 30,
     "metadata": {},
     "output_type": "execute_result"
    }
   ],
   "source": [
    "response['trainingOutput']['trials'][0]"
   ]
  },
  {
   "cell_type": "markdown",
   "metadata": {},
   "source": [
    "## Retrain the model with the best hyperparameters\n",
    "\n",
    "You can now retrain the model using the best hyperparameters and using combined training and validation splits as a training dataset."
   ]
  },
  {
   "cell_type": "markdown",
   "metadata": {},
   "source": [
    "### Configure and run the training job"
   ]
  },
  {
   "cell_type": "code",
   "execution_count": 31,
   "metadata": {},
   "outputs": [],
   "source": [
    "alpha = response['trainingOutput']['trials'][0]['hyperparameters']['alpha']\n",
    "max_iter = response['trainingOutput']['trials'][0]['hyperparameters']['max_iter']"
   ]
  },
  {
   "cell_type": "code",
   "execution_count": 32,
   "metadata": {},
   "outputs": [
    {
     "name": "stdout",
     "output_type": "stream",
     "text": [
      "Job [JOB_20220116_090730] submitted successfully.\n",
      "Your job is still active. You may view the status of your job with the command\n",
      "\n",
      "  $ gcloud ai-platform jobs describe JOB_20220116_090730\n",
      "\n",
      "or continue streaming the logs with the command\n",
      "\n",
      "  $ gcloud ai-platform jobs stream-logs JOB_20220116_090730\n",
      "jobId: JOB_20220116_090730\n",
      "state: QUEUED\n"
     ]
    }
   ],
   "source": [
    "JOB_NAME = \"JOB_{}\".format(time.strftime(\"%Y%m%d_%H%M%S\"))\n",
    "JOB_DIR = \"{}/{}\".format(JOB_DIR_ROOT, JOB_NAME)\n",
    "SCALE_TIER = \"BASIC\"\n",
    "\n",
    "!gcloud ai-platform jobs submit training $JOB_NAME \\\n",
    "--region=$REGION \\\n",
    "--job-dir=$JOB_DIR \\\n",
    "--master-image-uri=$IMAGE_URI \\\n",
    "--scale-tier=$SCALE_TIER \\\n",
    "-- \\\n",
    "--training_dataset_path=$TRAINING_FILE_PATH \\\n",
    "--validation_dataset_path=$VALIDATION_FILE_PATH \\\n",
    "--alpha=$alpha \\\n",
    "--max_iter=$max_iter \\\n",
    "--nohptune"
   ]
  },
  {
   "cell_type": "code",
   "execution_count": 33,
   "metadata": {
    "collapsed": true,
    "jupyter": {
     "outputs_hidden": true
    },
    "tags": []
   },
   "outputs": [
    {
     "name": "stdout",
     "output_type": "stream",
     "text": [
      "INFO\t2022-01-16 09:07:32 +0000\tservice\t\tValidating job requirements...\n",
      "INFO\t2022-01-16 09:07:32 +0000\tservice\t\tJob creation request has been successfully validated.\n",
      "INFO\t2022-01-16 09:07:32 +0000\tservice\t\tWaiting for job to be provisioned.\n",
      "INFO\t2022-01-16 09:07:32 +0000\tservice\t\tJob JOB_20220116_090730 is queued.\n",
      "INFO\t2022-01-16 09:07:34 +0000\tservice\t\tWaiting for training program to start.\n",
      "NOTICE\t2022-01-16 09:08:55 +0000\tmaster-replica-0.gcsfuse\t\tOpening GCS connection...\n",
      "NOTICE\t2022-01-16 09:08:55 +0000\tmaster-replica-0.gcsfuse\t\tMounting file system \"gcsfuse\"...\n",
      "NOTICE\t2022-01-16 09:08:55 +0000\tmaster-replica-0.gcsfuse\t\tFile system has been successfully mounted.\n",
      "INFO\t2022-01-16 09:10:19 +0000\tmaster-replica-0\t\tCopying file://model.pkl [Content-Type=application/octet-stream]...\n",
      "INFO\t2022-01-16 09:10:20 +0000\tmaster-replica-0\t\t/ [0 files][    0.0 B/  6.2 KiB]                                                \n",
      "INFO\t2022-01-16 09:10:20 +0000\tmaster-replica-0\t\t/ [1 files][  6.2 KiB/  6.2 KiB]                                                \n",
      "INFO\t2022-01-16 09:10:20 +0000\tmaster-replica-0\t\tOperation completed over 1 objects/6.2 KiB.                                      \n",
      "INFO\t2022-01-16 09:10:20 +0000\tmaster-replica-0\t\tStarting training: alpha=0.000505, max_iter=500\n",
      "INFO\t2022-01-16 09:10:20 +0000\tmaster-replica-0\t\tSaved model in: gs://qwiklabs-gcp-01-45dceaec647e-kubeflowpipelines-default/jobs/JOB_20220116_090730/model.pkl\n",
      "INFO\t2022-01-16 09:15:30 +0000\tservice\t\tJob completed successfully.\n"
     ]
    }
   ],
   "source": [
    "!gcloud ai-platform jobs stream-logs $JOB_NAME"
   ]
  },
  {
   "cell_type": "markdown",
   "metadata": {},
   "source": [
    "**NOTE: The above AI platform job stream logs will take approximately 5~10 minutes to display.**"
   ]
  },
  {
   "cell_type": "markdown",
   "metadata": {},
   "source": [
    "### Examine the training output\n",
    "\n",
    "The training script saved the trained model as the 'model.pkl' in the `JOB_DIR` folder on Cloud Storage."
   ]
  },
  {
   "cell_type": "code",
   "execution_count": 34,
   "metadata": {},
   "outputs": [
    {
     "name": "stdout",
     "output_type": "stream",
     "text": [
      "gs://qwiklabs-gcp-01-45dceaec647e-kubeflowpipelines-default/jobs/JOB_20220116_090730/model.pkl\n"
     ]
    }
   ],
   "source": [
    "!gsutil ls $JOB_DIR"
   ]
  },
  {
   "cell_type": "markdown",
   "metadata": {},
   "source": [
    "## Deploy the model to AI Platform Prediction"
   ]
  },
  {
   "cell_type": "markdown",
   "metadata": {},
   "source": [
    "### Create a model resource"
   ]
  },
  {
   "cell_type": "markdown",
   "metadata": {},
   "source": [
    "### Exercise\n",
    "\n",
    "Complete the `gcloud` command below to create a model with\n",
    "`model_name` in `$REGION` tagged with `labels`:\n",
    "\n",
    "<ql-infobox><b>NOTE:</b> If you need help, you may take a look at the complete solution by navigating to **mlops-on-gcp > workshops > kfp-caip-sklearn > lab-01-caip-containers** and opening **lab-01.ipynb**.\n",
    "</ql-infobox>"
   ]
  },
  {
   "cell_type": "code",
   "execution_count": 35,
   "metadata": {},
   "outputs": [
    {
     "name": "stdout",
     "output_type": "stream",
     "text": [
      "Using endpoint [https://ml.googleapis.com/]\n",
      "Created ai platform model [projects/qwiklabs-gcp-01-45dceaec647e/models/forest_cover_classifier].\n"
     ]
    }
   ],
   "source": [
    "model_name = 'forest_cover_classifier'\n",
    "labels = \"task=classifier,domain=forestry\"\n",
    "# TO DO: You code goes here\n",
    "!gcloud ai-platform models create $model_name \\\n",
    " --regions=$REGION \\\n",
    " --labels=$labels"
   ]
  },
  {
   "cell_type": "markdown",
   "metadata": {},
   "source": [
    "### Create a model version"
   ]
  },
  {
   "cell_type": "markdown",
   "metadata": {},
   "source": [
    "### Exercise"
   ]
  },
  {
   "cell_type": "markdown",
   "metadata": {},
   "source": [
    "Complete the `gcloud` command below to create a version of the model:\n",
    "\n",
    "\n",
    "<ql-infobox><b>NOTE:</b> If you need help, you may take a look at the complete solution by navigating to **mlops-on-gcp > workshops > kfp-caip-sklearn > lab-01-caip-containers** and opening **lab-01.ipynb**.\n",
    "</ql-infobox>"
   ]
  },
  {
   "cell_type": "code",
   "execution_count": 36,
   "metadata": {},
   "outputs": [
    {
     "name": "stdout",
     "output_type": "stream",
     "text": [
      "Using endpoint [https://ml.googleapis.com/]\n",
      "Creating version (this might take a few minutes)......done.                    \n"
     ]
    }
   ],
   "source": [
    "model_version = 'v01'\n",
    "# TO DO: Complete the command\n",
    "# TO DO: ADD YOUR MODEL NAME, PATH, RUNTIME, FRAMEWORK, PYTHON VERSION, REGION\n",
    "!gcloud ai-platform versions create {model_version} \\\n",
    "--model={model_name} \\\n",
    "--origin=$JOB_DIR \\\n",
    "--runtime-version=1.15 \\\n",
    "--framework=scikit-learn \\\n",
    "--python-version=3.7 \\\n",
    "--region global"
   ]
  },
  {
   "cell_type": "markdown",
   "metadata": {},
   "source": [
    "### Serve predictions\n",
    "#### Prepare the input file with JSON formated instances."
   ]
  },
  {
   "cell_type": "code",
   "execution_count": 37,
   "metadata": {},
   "outputs": [],
   "source": [
    "input_file = 'serving_instances.json'\n",
    "\n",
    "with open(input_file, 'w') as f:\n",
    "    for index, row in X_validation.head().iterrows():\n",
    "        f.write(json.dumps(list(row.values)))\n",
    "        f.write('\\n')"
   ]
  },
  {
   "cell_type": "code",
   "execution_count": 38,
   "metadata": {},
   "outputs": [
    {
     "name": "stdout",
     "output_type": "stream",
     "text": [
      "[2841.0, 45.0, 0.0, 644.0, 282.0, 1376.0, 218.0, 237.0, 156.0, 1003.0, \"Commanche\", \"C4758\"]\n",
      "[2494.0, 180.0, 0.0, 0.0, 0.0, 819.0, 219.0, 238.0, 157.0, 5531.0, \"Rawah\", \"C6101\"]\n",
      "[3153.0, 90.0, 0.0, 335.0, 11.0, 5842.0, 219.0, 237.0, 155.0, 930.0, \"Rawah\", \"C7101\"]\n",
      "[2907.0, 0.0, 0.0, 560.0, 35.0, 3027.0, 218.0, 238.0, 156.0, 2054.0, \"Rawah\", \"C7745\"]\n",
      "[2916.0, 0.0, 0.0, 0.0, 0.0, 4562.0, 218.0, 238.0, 156.0, 5442.0, \"Rawah\", \"C7745\"]\n"
     ]
    }
   ],
   "source": [
    "!cat $input_file"
   ]
  },
  {
   "cell_type": "markdown",
   "metadata": {},
   "source": [
    "#### Invoke the model"
   ]
  },
  {
   "cell_type": "markdown",
   "metadata": {},
   "source": [
    "### Exercise\n",
    "\n",
    "Using the `gcloud` command send the data in `$input_file` to \n",
    "your model deployed as a REST API:\n",
    "\n",
    "<ql-infobox><b>NOTE:</b> If you need help, you may take a look at the complete solution by navigating to **mlops-on-gcp > workshops > kfp-caip-sklearn > lab-01-caip-containers** and opening **lab-01.ipynb**.\n",
    "</ql-infobox>"
   ]
  },
  {
   "cell_type": "code",
   "execution_count": 39,
   "metadata": {},
   "outputs": [
    {
     "name": "stdout",
     "output_type": "stream",
     "text": [
      "Using endpoint [https://ml.googleapis.com/]\n",
      "[1, 1, 0, 1, 1]\n"
     ]
    }
   ],
   "source": [
    "# TO DO: Complete the command\n",
    "!gcloud ai-platform predict \\\n",
    "--model $model_name \\\n",
    "--version $model_version \\\n",
    "--json-instances $input_file\\\n",
    "--region global"
   ]
  },
  {
   "cell_type": "markdown",
   "metadata": {},
   "source": [
    "<font size=-1>Licensed under the Apache License, Version 2.0 (the \\\"License\\\");\n",
    "you may not use this file except in compliance with the License.\n",
    "You may obtain a copy of the License at [https://www.apache.org/licenses/LICENSE-2.0](https://www.apache.org/licenses/LICENSE-2.0)\n",
    "\n",
    "Unless required by applicable law or agreed to in writing, software distributed under the License is distributed on an \\\"AS IS\\\" BASIS, WITHOUT WARRANTIES OR CONDITIONS OF ANY KIND, either express or implied.  See the License for the specific language governing permissions and limitations under the License.</font>"
   ]
  }
 ],
 "metadata": {
  "kernelspec": {
   "display_name": "Python 3 (ipykernel)",
   "language": "python",
   "name": "python3"
  },
  "language_info": {
   "codemirror_mode": {
    "name": "ipython",
    "version": 3
   },
   "file_extension": ".py",
   "mimetype": "text/x-python",
   "name": "python",
   "nbconvert_exporter": "python",
   "pygments_lexer": "ipython3",
   "version": "3.8.10"
  }
 },
 "nbformat": 4,
 "nbformat_minor": 4
}
