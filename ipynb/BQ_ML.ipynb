{
 "cells": [
  {
   "cell_type": "markdown",
   "id": "2fee921b-a2be-4b09-b154-328cc03d49dc",
   "metadata": {},
   "source": [
    "## Introduction"
   ]
  },
  {
   "cell_type": "markdown",
   "id": "b5ff97ca-aec7-4523-a79d-ce5db1a28aac",
   "metadata": {
    "tags": []
   },
   "source": [
    "### Create a model"
   ]
  },
  {
   "cell_type": "code",
   "execution_count": null,
   "id": "1488762c-77bb-40a6-bfaa-d277ceb5f6d3",
   "metadata": {},
   "outputs": [],
   "source": [
    "CREATE OR REPLACE MODEL `bqml_lab.sample_model`\n",
    "OPTIONS(model_type='logistic_reg') AS\n",
    "SELECT\n",
    "  IF(totals.transactions IS NULL, 0, 1) AS label,\n",
    "  IFNULL(device.operatingSystem, \"\") AS os,\n",
    "  device.isMobile AS is_mobile,\n",
    "  IFNULL(geoNetwork.country, \"\") AS country,\n",
    "  IFNULL(totals.pageviews, 0) AS pageviews\n",
    "FROM\n",
    "  `bigquery-public-data.google_analytics_sample.ga_sessions_*`\n",
    "WHERE\n",
    "  _TABLE_SUFFIX BETWEEN '20160801' AND '20170631'\n",
    "LIMIT 100000;"
   ]
  },
  {
   "cell_type": "markdown",
   "id": "7433f389-b88f-4af1-a74a-b6234d9e33f6",
   "metadata": {},
   "source": [
    "### Evaluate the model"
   ]
  },
  {
   "cell_type": "code",
   "execution_count": null,
   "id": "39a05f7f-0407-46bc-9fb9-42d56e62a7a9",
   "metadata": {},
   "outputs": [],
   "source": [
    "SELECT\n",
    "  *\n",
    "FROM\n",
    "  ml.EVALUATE(MODEL `bqml_lab.sample_model`, (\n",
    "SELECT\n",
    "  IF(totals.transactions IS NULL, 0, 1) AS label,\n",
    "  IFNULL(device.operatingSystem, \"\") AS os,\n",
    "  device.isMobile AS is_mobile,\n",
    "  IFNULL(geoNetwork.country, \"\") AS country,\n",
    "  IFNULL(totals.pageviews, 0) AS pageviews\n",
    "FROM\n",
    "  `bigquery-public-data.google_analytics_sample.ga_sessions_*`\n",
    "WHERE\n",
    "  _TABLE_SUFFIX BETWEEN '20170701' AND '20170801'));"
   ]
  },
  {
   "cell_type": "markdown",
   "id": "02592c85-0db2-4aa1-82a4-7d97ce4fc292",
   "metadata": {},
   "source": [
    "### Use the Model"
   ]
  },
  {
   "cell_type": "code",
   "execution_count": null,
   "id": "804160a4-70be-4661-9ac8-2a1cb9709aba",
   "metadata": {},
   "outputs": [],
   "source": [
    "SELECT\n",
    "  fullVisitorId,\n",
    "  SUM(predicted_label) as total_predicted_purchases\n",
    "FROM\n",
    "  ml.PREDICT(MODEL `bqml_lab.sample_model`, (\n",
    "SELECT\n",
    "  IFNULL(device.operatingSystem, \"\") AS os,\n",
    "  device.isMobile AS is_mobile,\n",
    "  IFNULL(totals.pageviews, 0) AS pageviews,\n",
    "  IFNULL(geoNetwork.country, \"\") AS country,\n",
    "  fullVisitorId\n",
    "FROM\n",
    "  `bigquery-public-data.google_analytics_sample.ga_sessions_*`\n",
    "WHERE\n",
    "  _TABLE_SUFFIX BETWEEN '20170701' AND '20170801'))\n",
    "GROUP BY fullVisitorId\n",
    "ORDER BY total_predicted_purchases DESC\n",
    "LIMIT 10;"
   ]
  },
  {
   "cell_type": "markdown",
   "id": "dff7da13-e2c8-4b04-87c7-ba852a03bcaf",
   "metadata": {},
   "source": [
    "## Classification"
   ]
  },
  {
   "cell_type": "markdown",
   "id": "cc2de3f8-841d-473c-afb5-26094fffff89",
   "metadata": {},
   "source": [
    "### Explore ecommerce data"
   ]
  },
  {
   "cell_type": "markdown",
   "id": "6109467e-f824-4fc3-8671-b5eb16a0b760",
   "metadata": {},
   "source": [
    "#### Visitors who bought on a return visit (could have bought on first as well"
   ]
  },
  {
   "cell_type": "code",
   "execution_count": null,
   "id": "015d34b8-bbf7-4934-8ff1-8bf7458cb000",
   "metadata": {},
   "outputs": [],
   "source": [
    "WITH all_visitor_stats AS (\n",
    "SELECT\n",
    "  fullvisitorid, # 741,721 unique visitors\n",
    "  IF(COUNTIF(totals.transactions > 0 AND totals.newVisits IS NULL) > 0, 1, 0) AS will_buy_on_return_visit\n",
    "  FROM `data-to-insights.ecommerce.web_analytics`\n",
    "  GROUP BY fullvisitorid\n",
    ")\n",
    "SELECT\n",
    "  COUNT(DISTINCT fullvisitorid) AS total_visitors,\n",
    "  will_buy_on_return_visit\n",
    "FROM all_visitor_stats\n",
    "GROUP BY will_buy_on_return_visit"
   ]
  },
  {
   "cell_type": "markdown",
   "id": "d8e5be92-2718-4910-8b5f-f523c4702caf",
   "metadata": {},
   "source": [
    "#### Select features and create training dataset"
   ]
  },
  {
   "cell_type": "code",
   "execution_count": null,
   "id": "b6c0d6ce-d9a8-4283-b58f-e4f07ab98969",
   "metadata": {},
   "outputs": [],
   "source": [
    "SELECT\n",
    "  * EXCEPT(fullVisitorId)\n",
    "FROM\n",
    "  # features\n",
    "  (SELECT\n",
    "    fullVisitorId,\n",
    "    IFNULL(totals.bounces, 0) AS bounces,\n",
    "    IFNULL(totals.timeOnSite, 0) AS time_on_site\n",
    "  FROM\n",
    "    `data-to-insights.ecommerce.web_analytics`\n",
    "  WHERE\n",
    "    totals.newVisits = 1)\n",
    "  JOIN\n",
    "  (SELECT\n",
    "    fullvisitorid,\n",
    "    IF(COUNTIF(totals.transactions > 0 AND totals.newVisits IS NULL) > 0, 1, 0) AS will_buy_on_return_visit\n",
    "  FROM\n",
    "      `data-to-insights.ecommerce.web_analytics`\n",
    "  GROUP BY fullvisitorid)\n",
    "  USING (fullVisitorId)\n",
    "ORDER BY time_on_site DESC\n",
    "LIMIT 10;"
   ]
  },
  {
   "cell_type": "markdown",
   "id": "cd9e4ffa-2c1d-4d2c-bcf7-bb8392cec837",
   "metadata": {},
   "source": [
    "#### Create a BigQuery models and specifies model options"
   ]
  },
  {
   "cell_type": "code",
   "execution_count": null,
   "id": "fa9c0af3-33ff-46ed-b013-e382b7d4a2db",
   "metadata": {},
   "outputs": [],
   "source": [
    "CREATE OR REPLACE MODEL `ecommerce.classification_model`\n",
    "OPTIONS\n",
    "(\n",
    "model_type='logistic_reg',\n",
    "labels = ['will_buy_on_return_visit']\n",
    ")\n",
    "AS\n",
    "#standardSQL\n",
    "SELECT\n",
    "  * EXCEPT(fullVisitorId)\n",
    "FROM\n",
    "  # features\n",
    "  (SELECT\n",
    "    fullVisitorId,\n",
    "    IFNULL(totals.bounces, 0) AS bounces,\n",
    "    IFNULL(totals.timeOnSite, 0) AS time_on_site\n",
    "  FROM\n",
    "    `data-to-insights.ecommerce.web_analytics`\n",
    "  WHERE\n",
    "    totals.newVisits = 1\n",
    "    AND date BETWEEN '20160801' AND '20170430') # train on first 9 months\n",
    "  JOIN\n",
    "  (SELECT\n",
    "    fullvisitorid,\n",
    "    IF(COUNTIF(totals.transactions > 0 AND totals.newVisits IS NULL) > 0, 1, 0) AS will_buy_on_return_visit\n",
    "  FROM\n",
    "      `data-to-insights.ecommerce.web_analytics`\n",
    "  GROUP BY fullvisitorid)\n",
    "  USING (fullVisitorId)\n",
    ";"
   ]
  },
  {
   "cell_type": "markdown",
   "id": "eaa2d6ad-359f-4d35-8c32-28b987c03701",
   "metadata": {},
   "source": [
    "#### Evaluate classification model performance"
   ]
  },
  {
   "cell_type": "code",
   "execution_count": null,
   "id": "d19010a2-c649-4fbd-88a5-331f885fa35c",
   "metadata": {},
   "outputs": [],
   "source": [
    "SELECT\n",
    "  roc_auc,\n",
    "  CASE\n",
    "    WHEN roc_auc > .9 THEN 'good'\n",
    "    WHEN roc_auc > .8 THEN 'fair'\n",
    "    WHEN roc_auc > .7 THEN 'decent'\n",
    "    WHEN roc_auc > .6 THEN 'not great'\n",
    "  ELSE 'poor' END AS model_quality\n",
    "FROM\n",
    "  ML.EVALUATE(MODEL ecommerce.classification_model,  (\n",
    "SELECT\n",
    "  * EXCEPT(fullVisitorId)\n",
    "FROM\n",
    "  # features\n",
    "  (SELECT\n",
    "    fullVisitorId,\n",
    "    IFNULL(totals.bounces, 0) AS bounces,\n",
    "    IFNULL(totals.timeOnSite, 0) AS time_on_site\n",
    "  FROM\n",
    "    `data-to-insights.ecommerce.web_analytics`\n",
    "  WHERE\n",
    "    totals.newVisits = 1\n",
    "    AND date BETWEEN '20170501' AND '20170630') # eval on 2 months\n",
    "  JOIN\n",
    "  (SELECT\n",
    "    fullvisitorid,\n",
    "    IF(COUNTIF(totals.transactions > 0 AND totals.newVisits IS NULL) > 0, 1, 0) AS will_buy_on_return_visit\n",
    "  FROM\n",
    "      `data-to-insights.ecommerce.web_analytics`\n",
    "  GROUP BY fullvisitorid)\n",
    "  USING (fullVisitorId)\n",
    "));"
   ]
  },
  {
   "cell_type": "markdown",
   "id": "4e3612ca-898d-4a6a-99d7-7cda278f980e",
   "metadata": {},
   "source": [
    "#### Improve model performance with feature engineering"
   ]
  },
  {
   "cell_type": "code",
   "execution_count": null,
   "id": "937e7808-35b1-4631-b0db-e4139fb7212f",
   "metadata": {},
   "outputs": [],
   "source": [
    "CREATE OR REPLACE MODEL `ecommerce.classification_model_2`\n",
    "OPTIONS\n",
    "  (model_type='logistic_reg', labels = ['will_buy_on_return_visit']) AS\n",
    "WITH all_visitor_stats AS (\n",
    "SELECT\n",
    "  fullvisitorid,\n",
    "  IF(COUNTIF(totals.transactions > 0 AND totals.newVisits IS NULL) > 0, 1, 0) AS will_buy_on_return_visit\n",
    "  FROM `data-to-insights.ecommerce.web_analytics`\n",
    "  GROUP BY fullvisitorid\n",
    ")\n",
    "# add in new features\n",
    "SELECT * EXCEPT(unique_session_id) FROM (\n",
    "  SELECT\n",
    "      CONCAT(fullvisitorid, CAST(visitId AS STRING)) AS unique_session_id,\n",
    "      # labels\n",
    "      will_buy_on_return_visit,\n",
    "      MAX(CAST(h.eCommerceAction.action_type AS INT64)) AS latest_ecommerce_progress,\n",
    "      # behavior on the site\n",
    "      IFNULL(totals.bounces, 0) AS bounces,\n",
    "      IFNULL(totals.timeOnSite, 0) AS time_on_site,\n",
    "      IFNULL(totals.pageviews, 0) AS pageviews,\n",
    "      # where the visitor came from\n",
    "      trafficSource.source,\n",
    "      trafficSource.medium,\n",
    "      channelGrouping,\n",
    "      # mobile or desktop\n",
    "      device.deviceCategory,\n",
    "      # geographic\n",
    "      IFNULL(geoNetwork.country, \"\") AS country\n",
    "  FROM `data-to-insights.ecommerce.web_analytics`,\n",
    "     UNNEST(hits) AS h\n",
    "    JOIN all_visitor_stats USING(fullvisitorid)\n",
    "  WHERE 1=1\n",
    "    # only predict for new visits\n",
    "    AND totals.newVisits = 1\n",
    "    AND date BETWEEN '20160801' AND '20170430' # train 9 months\n",
    "  GROUP BY\n",
    "  unique_session_id,\n",
    "  will_buy_on_return_visit,\n",
    "  bounces,\n",
    "  time_on_site,\n",
    "  totals.pageviews,\n",
    "  trafficSource.source,\n",
    "  trafficSource.medium,\n",
    "  channelGrouping,\n",
    "  device.deviceCategory,\n",
    "  country\n",
    ");"
   ]
  },
  {
   "cell_type": "markdown",
   "id": "48526506-8a8b-4aac-8958-e5d940a011f1",
   "metadata": {},
   "source": [
    "#### Predict which new visitors will come back and purchase"
   ]
  },
  {
   "cell_type": "code",
   "execution_count": null,
   "id": "5cfd510a-a697-4866-80b7-6fb9ee54e270",
   "metadata": {},
   "outputs": [],
   "source": [
    "SELECT\n",
    "*\n",
    "FROM\n",
    "  ml.PREDICT(MODEL `ecommerce.classification_model_2`,\n",
    "   (\n",
    "WITH all_visitor_stats AS (\n",
    "SELECT\n",
    "  fullvisitorid,\n",
    "  IF(COUNTIF(totals.transactions > 0 AND totals.newVisits IS NULL) > 0, 1, 0) AS will_buy_on_return_visit\n",
    "  FROM `data-to-insights.ecommerce.web_analytics`\n",
    "  GROUP BY fullvisitorid\n",
    ")\n",
    "  SELECT\n",
    "      CONCAT(fullvisitorid, '-',CAST(visitId AS STRING)) AS unique_session_id,\n",
    "      # labels\n",
    "      will_buy_on_return_visit,\n",
    "      MAX(CAST(h.eCommerceAction.action_type AS INT64)) AS latest_ecommerce_progress,\n",
    "      # behavior on the site\n",
    "      IFNULL(totals.bounces, 0) AS bounces,\n",
    "      IFNULL(totals.timeOnSite, 0) AS time_on_site,\n",
    "      totals.pageviews,\n",
    "      # where the visitor came from\n",
    "      trafficSource.source,\n",
    "      trafficSource.medium,\n",
    "      channelGrouping,\n",
    "      # mobile or desktop\n",
    "      device.deviceCategory,\n",
    "      # geographic\n",
    "      IFNULL(geoNetwork.country, \"\") AS country\n",
    "  FROM `data-to-insights.ecommerce.web_analytics`,\n",
    "     UNNEST(hits) AS h\n",
    "    JOIN all_visitor_stats USING(fullvisitorid)\n",
    "  WHERE\n",
    "    # only predict for new visits\n",
    "    totals.newVisits = 1\n",
    "    AND date BETWEEN '20170701' AND '20170801' # test 1 month\n",
    "  GROUP BY\n",
    "  unique_session_id,\n",
    "  will_buy_on_return_visit,\n",
    "  bounces,\n",
    "  time_on_site,\n",
    "  totals.pageviews,\n",
    "  trafficSource.source,\n",
    "  trafficSource.medium,\n",
    "  channelGrouping,\n",
    "  device.deviceCategory,\n",
    "  country\n",
    ")\n",
    ")\n",
    "ORDER BY\n",
    "  predicted_will_buy_on_return_visit DESC;"
   ]
  },
  {
   "cell_type": "markdown",
   "id": "97e5cfe4-1fef-4436-a016-89f6506fb0b4",
   "metadata": {},
   "source": [
    "## Prediction"
   ]
  },
  {
   "cell_type": "markdown",
   "id": "a6bfa794-2081-43bb-ba6d-7c924b6200cd",
   "metadata": {},
   "source": [
    "### Explore NYC taxi cab data"
   ]
  },
  {
   "cell_type": "markdown",
   "id": "9abc6e0a-bc08-4fd3-8669-069190456d22",
   "metadata": {},
   "source": [
    "#### How many trips did Yellow taxis take each month in 2015?"
   ]
  },
  {
   "cell_type": "code",
   "execution_count": null,
   "id": "f599ffc1-572b-444c-9577-0b2d445d66e1",
   "metadata": {},
   "outputs": [],
   "source": [
    "SELECT\n",
    "  TIMESTAMP_TRUNC(pickup_datetime,\n",
    "    MONTH) month,\n",
    "  COUNT(*) trips\n",
    "FROM\n",
    "  `bigquery-public-data.new_york.tlc_yellow_trips_2015`\n",
    "GROUP BY\n",
    "  1\n",
    "ORDER BY\n",
    "  1"
   ]
  },
  {
   "cell_type": "markdown",
   "id": "c498812c-6069-42f8-a52d-ac416565f32d",
   "metadata": {},
   "source": [
    "#### What was the average speed of Yellow taxi trips in 2015?"
   ]
  },
  {
   "cell_type": "code",
   "execution_count": null,
   "id": "be267c61-356a-4d9d-9df5-36ed3b9838f6",
   "metadata": {},
   "outputs": [],
   "source": [
    "SELECT\n",
    "  EXTRACT(HOUR\n",
    "  FROM\n",
    "    pickup_datetime) hour,\n",
    "  ROUND(AVG(trip_distance / TIMESTAMP_DIFF(dropoff_datetime,\n",
    "        pickup_datetime,\n",
    "        SECOND))*3600, 1) speed\n",
    "FROM\n",
    "  `bigquery-public-data.new_york.tlc_yellow_trips_2015`\n",
    "WHERE\n",
    "  trip_distance > 0\n",
    "  AND fare_amount/trip_distance BETWEEN 2\n",
    "  AND 10\n",
    "  AND dropoff_datetime > pickup_datetime\n",
    "GROUP BY\n",
    "  1\n",
    "ORDER BY\n",
    "  1"
   ]
  },
  {
   "cell_type": "markdown",
   "id": "90b8f34c-1fcc-400b-82ac-d6e88178b469",
   "metadata": {},
   "source": [
    "#### Select features and create training dataset"
   ]
  },
  {
   "cell_type": "code",
   "execution_count": null,
   "id": "8a00c918-e1e2-4aa3-b0e9-4e510fa9b6a5",
   "metadata": {},
   "outputs": [],
   "source": [
    "WITH params AS (\n",
    "    SELECT\n",
    "    1 AS TRAIN,\n",
    "    2 AS EVAL\n",
    "    ),\n",
    "  daynames AS\n",
    "    (SELECT ['Sun', 'Mon', 'Tues', 'Wed', 'Thurs', 'Fri', 'Sat'] AS daysofweek),\n",
    "  taxitrips AS (\n",
    "  SELECT\n",
    "    (tolls_amount + fare_amount) AS total_fare,\n",
    "    daysofweek[ORDINAL(EXTRACT(DAYOFWEEK FROM pickup_datetime))] AS dayofweek,\n",
    "    EXTRACT(HOUR FROM pickup_datetime) AS hourofday,\n",
    "    pickup_longitude AS pickuplon,\n",
    "    pickup_latitude AS pickuplat,\n",
    "    dropoff_longitude AS dropofflon,\n",
    "    dropoff_latitude AS dropofflat,\n",
    "    passenger_count AS passengers\n",
    "  FROM\n",
    "    `nyc-tlc.yellow.trips`, daynames, params\n",
    "  WHERE\n",
    "    trip_distance > 0 AND fare_amount > 0\n",
    "    AND MOD(ABS(FARM_FINGERPRINT(CAST(pickup_datetime AS STRING))),1000) = params.TRAIN\n",
    "  )\n",
    "  SELECT *\n",
    "  FROM taxitrips"
   ]
  },
  {
   "cell_type": "markdown",
   "id": "105df941-7b8f-4861-8b3d-94a65e55b28d",
   "metadata": {},
   "source": [
    "#### Select a BQML model type and specify options"
   ]
  },
  {
   "cell_type": "code",
   "execution_count": null,
   "id": "01784836-f173-4e69-b3d9-700a65ec5f57",
   "metadata": {},
   "outputs": [],
   "source": [
    "CREATE or REPLACE MODEL taxi.taxifare_model\n",
    "OPTIONS\n",
    "  (model_type='linear_reg', labels=['total_fare']) AS\n",
    "WITH params AS (\n",
    "    SELECT\n",
    "    1 AS TRAIN,\n",
    "    2 AS EVAL\n",
    "    ),\n",
    "  daynames AS\n",
    "    (SELECT ['Sun', 'Mon', 'Tues', 'Wed', 'Thurs', 'Fri', 'Sat'] AS daysofweek),\n",
    "  taxitrips AS (\n",
    "  SELECT\n",
    "    (tolls_amount + fare_amount) AS total_fare,\n",
    "    daysofweek[ORDINAL(EXTRACT(DAYOFWEEK FROM pickup_datetime))] AS dayofweek,\n",
    "    EXTRACT(HOUR FROM pickup_datetime) AS hourofday,\n",
    "    pickup_longitude AS pickuplon,\n",
    "    pickup_latitude AS pickuplat,\n",
    "    dropoff_longitude AS dropofflon,\n",
    "    dropoff_latitude AS dropofflat,\n",
    "    passenger_count AS passengers\n",
    "  FROM\n",
    "    `nyc-tlc.yellow.trips`, daynames, params\n",
    "  WHERE\n",
    "    trip_distance > 0 AND fare_amount > 0\n",
    "    AND MOD(ABS(FARM_FINGERPRINT(CAST(pickup_datetime AS STRING))),1000) = params.TRAIN\n",
    "  )\n",
    "  SELECT *\n",
    "  FROM taxitrips"
   ]
  },
  {
   "cell_type": "markdown",
   "id": "ef8bf0fd-176c-40c2-99d2-78531898f37e",
   "metadata": {},
   "source": [
    "#### Evaluate classification model performance"
   ]
  },
  {
   "cell_type": "code",
   "execution_count": null,
   "id": "f633d136-dba9-4b04-8be2-10a82237d637",
   "metadata": {},
   "outputs": [],
   "source": [
    "SELECT\n",
    "  SQRT(mean_squared_error) AS rmse\n",
    "FROM\n",
    "  ML.EVALUATE(MODEL taxi.taxifare_model,\n",
    "  (\n",
    "  WITH params AS (\n",
    "    SELECT\n",
    "    1 AS TRAIN,\n",
    "    2 AS EVAL\n",
    "    ),\n",
    "  daynames AS\n",
    "    (SELECT ['Sun', 'Mon', 'Tues', 'Wed', 'Thurs', 'Fri', 'Sat'] AS daysofweek),\n",
    "  taxitrips AS (\n",
    "  SELECT\n",
    "    (tolls_amount + fare_amount) AS total_fare,\n",
    "    daysofweek[ORDINAL(EXTRACT(DAYOFWEEK FROM pickup_datetime))] AS dayofweek,\n",
    "    EXTRACT(HOUR FROM pickup_datetime) AS hourofday,\n",
    "    pickup_longitude AS pickuplon,\n",
    "    pickup_latitude AS pickuplat,\n",
    "    dropoff_longitude AS dropofflon,\n",
    "    dropoff_latitude AS dropofflat,\n",
    "    passenger_count AS passengers\n",
    "  FROM\n",
    "    `nyc-tlc.yellow.trips`, daynames, params\n",
    "  WHERE\n",
    "    trip_distance > 0 AND fare_amount > 0\n",
    "    AND MOD(ABS(FARM_FINGERPRINT(CAST(pickup_datetime AS STRING))),1000) = params.EVAL\n",
    "  )\n",
    "  SELECT *\n",
    "  FROM taxitrips\n",
    "  ))"
   ]
  },
  {
   "cell_type": "markdown",
   "id": "e9849610-7391-4c9c-885e-8f8034c60935",
   "metadata": {},
   "source": [
    "#### Predict taxi fare amount"
   ]
  },
  {
   "cell_type": "code",
   "execution_count": null,
   "id": "516bde34-55d6-4915-89ae-8a9122798a04",
   "metadata": {},
   "outputs": [],
   "source": [
    "SELECT\n",
    "*\n",
    "FROM\n",
    "  ml.PREDICT(MODEL `taxi.taxifare_model`,\n",
    "   (\n",
    " WITH params AS (\n",
    "    SELECT\n",
    "    1 AS TRAIN,\n",
    "    2 AS EVAL\n",
    "    ),\n",
    "  daynames AS\n",
    "    (SELECT ['Sun', 'Mon', 'Tues', 'Wed', 'Thurs', 'Fri', 'Sat'] AS daysofweek),\n",
    "  taxitrips AS (\n",
    "  SELECT\n",
    "    (tolls_amount + fare_amount) AS total_fare,\n",
    "    daysofweek[ORDINAL(EXTRACT(DAYOFWEEK FROM pickup_datetime))] AS dayofweek,\n",
    "    EXTRACT(HOUR FROM pickup_datetime) AS hourofday,\n",
    "    pickup_longitude AS pickuplon,\n",
    "    pickup_latitude AS pickuplat,\n",
    "    dropoff_longitude AS dropofflon,\n",
    "    dropoff_latitude AS dropofflat,\n",
    "    passenger_count AS passengers\n",
    "  FROM\n",
    "    `nyc-tlc.yellow.trips`, daynames, params\n",
    "  WHERE\n",
    "    trip_distance > 0 AND fare_amount > 0\n",
    "    AND MOD(ABS(FARM_FINGERPRINT(CAST(pickup_datetime AS STRING))),1000) = params.EVAL\n",
    "  )\n",
    "  SELECT *\n",
    "  FROM taxitrips\n",
    "));"
   ]
  },
  {
   "cell_type": "markdown",
   "id": "94466e2f-90d7-4c13-ae6f-9a5b470f02ff",
   "metadata": {},
   "source": [
    "#### Improving the model with Feature Engineering"
   ]
  },
  {
   "cell_type": "code",
   "execution_count": null,
   "id": "b9864b53-45af-451a-bbb6-a2c3b188736c",
   "metadata": {},
   "outputs": [],
   "source": [
    "CREATE OR REPLACE MODEL taxi.taxifare_model_2\n",
    "OPTIONS\n",
    "  (model_type='linear_reg', labels=['total_fare']) AS\n",
    "WITH params AS (\n",
    "    SELECT\n",
    "    1 AS TRAIN,\n",
    "    2 AS EVAL\n",
    "    ),\n",
    "  daynames AS\n",
    "    (SELECT ['Sun', 'Mon', 'Tues', 'Wed', 'Thurs', 'Fri', 'Sat'] AS daysofweek),\n",
    "  taxitrips AS (\n",
    "  SELECT\n",
    "    (tolls_amount + fare_amount) AS total_fare,\n",
    "    daysofweek[ORDINAL(EXTRACT(DAYOFWEEK FROM pickup_datetime))] AS dayofweek,\n",
    "    EXTRACT(HOUR FROM pickup_datetime) AS hourofday,\n",
    "    SQRT(POW((pickup_longitude - dropoff_longitude),2) + POW(( pickup_latitude - dropoff_latitude), 2)) as dist, #Euclidean distance between pickup and drop off\n",
    "    SQRT(POW((pickup_longitude - dropoff_longitude),2)) as longitude, #Euclidean distance between pickup and drop off in longitude\n",
    "    SQRT(POW((pickup_latitude - dropoff_latitude), 2)) as latitude, #Euclidean distance between pickup and drop off in latitude\n",
    "    passenger_count AS passengers\n",
    "  FROM\n",
    "    `nyc-tlc.yellow.trips`, daynames, params\n",
    "WHERE trip_distance > 0 AND fare_amount BETWEEN 6 and 200\n",
    "    AND pickup_longitude > -75 #limiting of the distance the taxis travel out\n",
    "    AND pickup_longitude < -73\n",
    "    AND dropoff_longitude > -75\n",
    "    AND dropoff_longitude < -73\n",
    "    AND pickup_latitude > 40\n",
    "    AND pickup_latitude < 42\n",
    "    AND dropoff_latitude > 40\n",
    "    AND dropoff_latitude < 42\n",
    "    AND MOD(ABS(FARM_FINGERPRINT(CAST(pickup_datetime AS STRING))),1000) = params.TRAIN\n",
    "  )\n",
    "  SELECT *\n",
    "  FROM taxitrips"
   ]
  },
  {
   "cell_type": "markdown",
   "id": "32eaa263-42de-48b9-9b70-1b41a725a94d",
   "metadata": {},
   "source": [
    "#### Evaluate the new model"
   ]
  },
  {
   "cell_type": "code",
   "execution_count": null,
   "id": "1e7f0de9-0e69-4b68-886b-49f4c3b8ede5",
   "metadata": {},
   "outputs": [],
   "source": [
    "SELECT\n",
    "  SQRT(mean_squared_error) AS rmse\n",
    "FROM\n",
    "  ML.EVALUATE(MODEL taxi.taxifare_model_2,\n",
    "  (\n",
    "  WITH params AS (\n",
    "    SELECT\n",
    "    1 AS TRAIN,\n",
    "    2 AS EVAL\n",
    "    ),\n",
    "  daynames AS\n",
    "    (SELECT ['Sun', 'Mon', 'Tues', 'Wed', 'Thurs', 'Fri', 'Sat'] AS daysofweek),\n",
    "  taxitrips AS (\n",
    "  SELECT\n",
    "    (tolls_amount + fare_amount) AS total_fare,\n",
    "    daysofweek[ORDINAL(EXTRACT(DAYOFWEEK FROM pickup_datetime))] AS dayofweek,\n",
    "    EXTRACT(HOUR FROM pickup_datetime) AS hourofday,\n",
    "    SQRT(POW((pickup_longitude - dropoff_longitude),2) + POW(( pickup_latitude - dropoff_latitude), 2)) as dist, #Euclidean distance between pickup and drop off\n",
    "    SQRT(POW((pickup_longitude - dropoff_longitude),2)) as longitude, #Euclidean distance between pickup and drop off in longitude\n",
    "    SQRT(POW((pickup_latitude - dropoff_latitude), 2)) as latitude, #Euclidean distance between pickup and drop off in latitude\n",
    "    passenger_count AS passengers\n",
    "  FROM\n",
    "    `nyc-tlc.yellow.trips`, daynames, params\n",
    "WHERE trip_distance > 0 AND fare_amount BETWEEN 6 and 200\n",
    "    AND pickup_longitude > -75 #limiting of the distance the taxis travel out\n",
    "    AND pickup_longitude < -73\n",
    "    AND dropoff_longitude > -75\n",
    "    AND dropoff_longitude < -73\n",
    "    AND pickup_latitude > 40\n",
    "    AND pickup_latitude < 42\n",
    "    AND dropoff_latitude > 40\n",
    "    AND dropoff_latitude < 42\n",
    "    AND MOD(ABS(FARM_FINGERPRINT(CAST(pickup_datetime AS STRING))),1000) = params.EVAL\n",
    "  )\n",
    "  SELECT *\n",
    "  FROM taxitrips\n",
    "  ))"
   ]
  },
  {
   "cell_type": "markdown",
   "id": "f0d308ba-e500-47c3-8362-773c0b24cb2f",
   "metadata": {},
   "source": [
    "### Explore helpdesk response time"
   ]
  },
  {
   "cell_type": "markdown",
   "id": "d538416c-e104-480b-9a83-60e2e745a6b9",
   "metadata": {},
   "source": [
    "#### Train a Model"
   ]
  },
  {
   "cell_type": "code",
   "execution_count": null,
   "id": "4bd501d9-0aa5-4720-9329-cdc745994dbc",
   "metadata": {},
   "outputs": [],
   "source": [
    "CREATE OR REPLACE MODEL `helpdesk.predict_eta`\n",
    "OPTIONS(model_type='linear_reg') AS\n",
    "SELECT\n",
    " seniority,\n",
    " experience,\n",
    " category,\n",
    " type,\n",
    " resolutiontime as label\n",
    "FROM\n",
    "  `helpdesk.issues`"
   ]
  },
  {
   "cell_type": "markdown",
   "id": "fc30d370-383a-488c-8075-0575d55d632a",
   "metadata": {},
   "source": [
    "#### Evaluate the machine learning model"
   ]
  },
  {
   "cell_type": "code",
   "execution_count": null,
   "id": "71c7d669-6216-4a02-b119-1d783073804f",
   "metadata": {},
   "outputs": [],
   "source": [
    "WITH eval_table AS (\n",
    "SELECT\n",
    " seniority,\n",
    " experience,\n",
    " category,\n",
    " type,\n",
    " resolutiontime as label\n",
    "FROM\n",
    "  helpdesk.issues\n",
    ")\n",
    "SELECT\n",
    "  *\n",
    "FROM\n",
    "  ML.EVALUATE(MODEL helpdesk.predict_eta,\n",
    "    TABLE eval_table)"
   ]
  },
  {
   "cell_type": "markdown",
   "id": "90f2b23f-190c-4967-9cda-ec02723aa945",
   "metadata": {},
   "source": [
    "#### Prediction of resolution time"
   ]
  },
  {
   "cell_type": "code",
   "execution_count": null,
   "id": "51dbe032-9291-4411-b3b4-95791d651ef4",
   "metadata": {},
   "outputs": [],
   "source": [
    "WITH pred_table AS (\n",
    "SELECT\n",
    "  5 as seniority,\n",
    "  '3-Advanced' as experience,\n",
    "  'Billing' as category,\n",
    "  'Request' as type\n",
    ")\n",
    "SELECT\n",
    "  *\n",
    "FROM\n",
    "  ML.PREDICT(MODEL `helpdesk.predict_eta`,\n",
    "    TABLE pred_table)"
   ]
  },
  {
   "cell_type": "markdown",
   "id": "38453ffc-c034-4faf-8760-be60b6bc3320",
   "metadata": {},
   "source": [
    "### Explore NCAA Men's Basketball tournament game"
   ]
  },
  {
   "cell_type": "markdown",
   "id": "b88d694a-1985-49b7-b91b-36f6276a09d5",
   "metadata": {},
   "source": [
    "#### Use BigQuery to access the public NCAA dataset."
   ]
  },
  {
   "cell_type": "markdown",
   "id": "34ae9aa6-0b97-4d5c-a9a5-c7f98ae7508b",
   "metadata": {
    "tags": []
   },
   "source": [
    "#### "
   ]
  },
  {
   "cell_type": "markdown",
   "id": "aaa0ef03-9659-4271-a981-c197d17d03f2",
   "metadata": {},
   "source": [
    "## Time Series Forecasting"
   ]
  },
  {
   "cell_type": "markdown",
   "id": "991dff2c-bdb9-4920-8b36-03ec8d6e41a2",
   "metadata": {
    "tags": []
   },
   "source": [
    "### Explore the NYC Citi Bike Trips dataset"
   ]
  },
  {
   "cell_type": "markdown",
   "id": "f2c3464d-88a5-48d7-8417-7b16d438f9c2",
   "metadata": {},
   "source": [
    "#### Filter a dataset to present a more granular view."
   ]
  },
  {
   "cell_type": "code",
   "execution_count": null,
   "id": "fc5e8596-4173-4c78-ac23-9b6d103191d3",
   "metadata": {},
   "outputs": [],
   "source": [
    "SELECT\n",
    "  EXTRACT (DATE FROM TIMESTAMP(starttime)) AS start_date,\n",
    "  start_station_id,\n",
    "  COUNT(*) as total_trips\n",
    "FROM\n",
    " `bigquery-public-data.new_york_citibike.citibike_trips`\n",
    "WHERE\n",
    "   starttime BETWEEN DATE('2016-01-01') AND DATE('2017-01-01')\n",
    "GROUP BY\n",
    "    start_station_id, start_date"
   ]
  },
  {
   "cell_type": "markdown",
   "id": "08d0484b-6299-422f-81a0-28c1f46f0877",
   "metadata": {},
   "source": [
    "#### Training a Model"
   ]
  },
  {
   "cell_type": "code",
   "execution_count": null,
   "id": "1a799f5f-f35d-4ba4-9c03-f75b3415d332",
   "metadata": {},
   "outputs": [],
   "source": [
    "CREATE OR REPLACE MODEL bqmlforecast.bike_model\n",
    "  OPTIONS(\n",
    "    MODEL_TYPE='ARIMA',\n",
    "    TIME_SERIES_TIMESTAMP_COL='trip_date',\n",
    "    TIME_SERIES_DATA_COL='num_trips',\n",
    "    TIME_SERIES_ID_COL='start_station_id',\n",
    "    HOLIDAY_REGION='US'\n",
    "  ) AS\n",
    "  SELECT\n",
    "    trip_date,\n",
    "    start_station_id,\n",
    "    num_trips\n",
    "  FROM\n",
    "    bqmlforecast.training_data"
   ]
  },
  {
   "cell_type": "markdown",
   "id": "dfe24a73-71f9-4bf4-8c7b-94925449f60d",
   "metadata": {},
   "source": [
    "#### Evaluate the time series model"
   ]
  },
  {
   "cell_type": "code",
   "execution_count": null,
   "id": "e7c73953-9a7b-4906-b5a3-f285094de1fd",
   "metadata": {},
   "outputs": [],
   "source": [
    "SELECT\n",
    "  *\n",
    "FROM\n",
    "  ML.EVALUATE(MODEL bqmlforecast.bike_model)"
   ]
  },
  {
   "cell_type": "markdown",
   "id": "6817bf27-31b0-4fe3-9872-e0e603e0518a",
   "metadata": {},
   "source": [
    "#### Make Predictions using the model"
   ]
  },
  {
   "cell_type": "code",
   "execution_count": null,
   "id": "122d6877-09aa-423d-87c0-0772a5abb026",
   "metadata": {},
   "outputs": [],
   "source": [
    "DECLARE HORIZON STRING DEFAULT \"30\"; #number of values to forecast\n",
    "DECLARE CONFIDENCE_LEVEL STRING DEFAULT \"0.90\";\n",
    "EXECUTE IMMEDIATE format(\"\"\"\n",
    "    SELECT\n",
    "         *\n",
    "    FROM\n",
    "      ML.FORECAST(MODEL bqmlforecast.bike_model,\n",
    "                  STRUCT(%s AS horizon,\n",
    "                         %s AS confidence_level)\n",
    "                  )\n",
    "\"\"\", HORIZON, CONFIDENCE_LEVEL)"
   ]
  }
 ],
 "metadata": {
  "kernelspec": {
   "display_name": "Python 3 (ipykernel)",
   "language": "python",
   "name": "python3"
  },
  "language_info": {
   "codemirror_mode": {
    "name": "ipython",
    "version": 3
   },
   "file_extension": ".py",
   "mimetype": "text/x-python",
   "name": "python",
   "nbconvert_exporter": "python",
   "pygments_lexer": "ipython3",
   "version": "3.8.10"
  }
 },
 "nbformat": 4,
 "nbformat_minor": 5
}
