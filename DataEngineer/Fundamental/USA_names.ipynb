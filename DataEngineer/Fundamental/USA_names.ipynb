{
 "cells": [
  {
   "cell_type": "code",
   "execution_count": 11,
   "id": "wicked-comment",
   "metadata": {},
   "outputs": [
    {
     "name": "stdout",
     "output_type": "stream",
     "text": [
      "Writing ./SQL/Top_10_USA_names.sql\n"
     ]
    }
   ],
   "source": [
    "%%writefile ./SQL/Top_10_USA_names.sql\n",
    "\n",
    "# Query bigquery-public-data.usa_names.usa_1910_2013 for the \n",
    "# name and gender of the babies in this dataset, and then list \n",
    "# the top 10 names in descending order.\n",
    "SELECT\n",
    "    name, gender,\n",
    "    SUM(number) AS total\n",
    "FROM\n",
    "    `bigquery-public-data.usa_names.usa_1910_2013`\n",
    "GROUP BY\n",
    "    name, gender\n",
    "ORDER BY\n",
    "    total DESC\n",
    "LIMIT\n",
    "    10"
   ]
  },
  {
   "cell_type": "code",
   "execution_count": 12,
   "id": "personalized-viking",
   "metadata": {},
   "outputs": [
    {
     "name": "stdout",
     "output_type": "stream",
     "text": [
      "+---------+--------+---------+\n",
      "|  name   | gender |  total  |\n",
      "+---------+--------+---------+\n",
      "| James   | M      | 4924235 |\n",
      "| John    | M      | 4818746 |\n",
      "| Robert  | M      | 4703680 |\n",
      "| Michael | M      | 4280040 |\n",
      "| William | M      | 3811998 |\n",
      "| Mary    | F      | 3728041 |\n",
      "| David   | M      | 3541625 |\n",
      "| Richard | M      | 2526927 |\n",
      "| Joseph  | M      | 2467298 |\n",
      "| Charles | M      | 2237170 |\n",
      "+---------+--------+---------+\n"
     ]
    },
    {
     "name": "stderr",
     "output_type": "stream",
     "text": [
      "\r",
      "Waiting on bqjob_r7c0f24f74f9ace7e_00000177eb89933d_1 ... (0s) Current status: DONE   \n"
     ]
    }
   ],
   "source": [
    "%%bash\n",
    "\n",
    "bq query --use_legacy_sql=false < ./SQL/Top_10_USA_names.sql"
   ]
  },
  {
   "cell_type": "code",
   "execution_count": 3,
   "id": "jewish-dress",
   "metadata": {
    "scrolled": true
   },
   "outputs": [
    {
     "name": "stdout",
     "output_type": "stream",
     "text": [
      "Dataset 'healthy-spark-305704:babynames' successfully created.\n"
     ]
    }
   ],
   "source": [
    "%%bash\n",
    "\n",
    "bq --location=\"US\" mk \\\n",
    "    --dataset \"babynames\""
   ]
  },
  {
   "cell_type": "code",
   "execution_count": 4,
   "id": "frequent-logging",
   "metadata": {},
   "outputs": [
    {
     "name": "stderr",
     "output_type": "stream",
     "text": [
      "\r",
      "Upload complete.\n",
      "\r",
      "Waiting on bqjob_r148c8c28e37d0f7c_00000177eb807f89_1 ... (0s) Current status: RUNNING\r",
      "                                                                                      \r",
      "Waiting on bqjob_r148c8c28e37d0f7c_00000177eb807f89_1 ... (0s) Current status: DONE   \n"
     ]
    }
   ],
   "source": [
    "%%bash\n",
    "\n",
    "bq load \\\n",
    "    --source_format=CSV \\\n",
    "    healthy-spark-305704:babynames.names_2014 \\\n",
    "    ./Data/yob2014.txt \\\n",
    "    name:string,gender:string,count:integer"
   ]
  },
  {
   "cell_type": "code",
   "execution_count": 9,
   "id": "ideal-commodity",
   "metadata": {},
   "outputs": [
    {
     "name": "stdout",
     "output_type": "stream",
     "text": [
      "Writing ./SQL/Top_5_USA_baby_names_2014.sql\n"
     ]
    }
   ],
   "source": [
    "%%writefile ./SQL/Top_5_USA_baby_names_2014.sql\n",
    "\n",
    "# This query retrieves the top 5 baby names for US males in 2014.\n",
    "SELECT\n",
    "    name, count\n",
    "FROM\n",
    "    `babynames.names_2014`\n",
    "WHERE\n",
    "    gender='M'\n",
    "ORDER BY\n",
    "    count DESC\n",
    "LIMIT\n",
    "    5"
   ]
  },
  {
   "cell_type": "code",
   "execution_count": 10,
   "id": "choice-balance",
   "metadata": {},
   "outputs": [
    {
     "name": "stdout",
     "output_type": "stream",
     "text": [
      "+---------+-------+\n",
      "|  name   | count |\n",
      "+---------+-------+\n",
      "| Noah    | 19305 |\n",
      "| Liam    | 18462 |\n",
      "| Mason   | 17201 |\n",
      "| Jacob   | 16883 |\n",
      "| William | 16820 |\n",
      "+---------+-------+\n"
     ]
    },
    {
     "name": "stderr",
     "output_type": "stream",
     "text": [
      "\r",
      "Waiting on bqjob_r42148fe27f195b5a_00000177eb87753c_1 ... (0s) Current status: DONE   \n"
     ]
    }
   ],
   "source": [
    "%%bash\n",
    "\n",
    "bq query --use_legacy_sql=false < ./SQL/Top_5_USA_baby_names_2014.sql"
   ]
  }
 ],
 "metadata": {
  "kernelspec": {
   "display_name": "Python 3",
   "language": "python",
   "name": "python3"
  },
  "language_info": {
   "codemirror_mode": {
    "name": "ipython",
    "version": 3
   },
   "file_extension": ".py",
   "mimetype": "text/x-python",
   "name": "python",
   "nbconvert_exporter": "python",
   "pygments_lexer": "ipython3",
   "version": "3.8.5"
  }
 },
 "nbformat": 4,
 "nbformat_minor": 5
}
