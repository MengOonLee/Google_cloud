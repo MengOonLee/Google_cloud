{
 "cells": [
  {
   "cell_type": "markdown",
   "id": "11dfb814-1eca-45c2-b8a3-a479800d8f79",
   "metadata": {},
   "source": [
    "# Engineer Data in Google Cloud: Challenge Lab"
   ]
  },
  {
   "cell_type": "markdown",
   "id": "915b430a-151c-4f16-ba0e-c240485b8db8",
   "metadata": {},
   "source": [
    "### Task 1. Clean a training data"
   ]
  },
  {
   "cell_type": "code",
   "execution_count": null,
   "id": "b4e0b51f-965a-4e90-b2b4-665c3df6bbeb",
   "metadata": {},
   "outputs": [],
   "source": [
    "CREATE OR REPLACE TABLE\n",
    "  taxirides.taxi_training_data_320 AS\n",
    "SELECT\n",
    "  pickup_datetime,\n",
    "  pickup_longitude AS pickuplon,\n",
    "  pickup_latitude AS pickuplat,\n",
    "  dropoff_longitude AS dropofflon,\n",
    "  dropoff_latitude AS dropofflat,\n",
    "  passenger_count AS passengers,\n",
    "  (tolls_amount + fare_amount) AS fare_amount_100\n",
    "FROM\n",
    "  taxirides.historical_taxi_rides_raw\n",
    "WHERE\n",
    "  trip_distance > 2\n",
    "  AND fare_amount >= 3.0\n",
    "  AND pickup_longitude > -78\n",
    "  AND pickup_longitude < -70\n",
    "  AND dropoff_longitude > -78\n",
    "  AND dropoff_longitude < -70\n",
    "  AND pickup_latitude > 37\n",
    "  AND pickup_latitude < 45\n",
    "  AND dropoff_latitude > 37\n",
    "  AND dropoff_latitude < 45\n",
    "  AND passenger_count > 2\n",
    "  AND RAND() < 0.001"
   ]
  },
  {
   "cell_type": "markdown",
   "id": "bf826083-0fe5-403a-a607-ca90966d89ca",
   "metadata": {},
   "source": [
    "### Task 2. Create a BigQuery ML model"
   ]
  },
  {
   "cell_type": "code",
   "execution_count": null,
   "id": "8495566e-1f5d-4faf-b7c3-8575bab67181",
   "metadata": {},
   "outputs": [],
   "source": [
    "CREATE OR REPLACE MODEL taxirides.fare_model_379\n",
    "TRANSFORM(\n",
    "  * EXCEPT(pickup_datetime),\n",
    "  ST_Distance(\n",
    "    ST_GeogPoint(pickuplon, pickuplat), ST_GeogPoint(dropofflon, dropofflat)\n",
    "  ) AS euclidean,\n",
    "  CAST(EXTRACT(DAYOFWEEK FROM pickup_datetime) AS STRING) AS dayofweek,\n",
    "  CAST(EXTRACT(HOUR FROM pickup_datetime) AS STRING) AS hourofday\n",
    ")\n",
    "OPTIONS(input_label_cols=['fare_amount_100'], model_type='linear_reg') \n",
    "AS\n",
    "SELECT * FROM taxirides.taxi_training_data_320"
   ]
  },
  {
   "cell_type": "markdown",
   "id": "de8b493c-5cde-4997-a453-21a6ef495a36",
   "metadata": {},
   "source": [
    "### Task 3. Perform a batch prediction"
   ]
  },
  {
   "cell_type": "code",
   "execution_count": null,
   "id": "d8c2729a-44d7-4d70-9fdc-a946f0b6bdde",
   "metadata": {},
   "outputs": [],
   "source": [
    "CREATE OR REPLACE TABLE taxirides.2015_fare_amount_predictions\n",
    "  AS\n",
    "SELECT * FROM ML.PREDICT(MODEL taxirides.fare_model_379,(\n",
    "  SELECT * FROM taxirides.report_prediction_data)\n",
    ")"
   ]
  }
 ],
 "metadata": {
  "kernelspec": {
   "display_name": "venv",
   "language": "python",
   "name": "venv"
  },
  "language_info": {
   "codemirror_mode": {
    "name": "ipython",
    "version": 3
   },
   "file_extension": ".py",
   "mimetype": "text/x-python",
   "name": "python",
   "nbconvert_exporter": "python",
   "pygments_lexer": "ipython3",
   "version": "3.8.10"
  }
 },
 "nbformat": 4,
 "nbformat_minor": 5
}
