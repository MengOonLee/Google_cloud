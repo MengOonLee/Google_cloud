{
 "cells": [
  {
   "cell_type": "code",
   "execution_count": null,
   "id": "e8d33dfa-99de-44d5-8b1d-4e25d699e555",
   "metadata": {},
   "outputs": [],
   "source": [
    "gcloud auth list\n",
    "gcloud config list project"
   ]
  },
  {
   "cell_type": "markdown",
   "id": "fd6b345d-1d4e-47e3-a7d5-2bd5c86e2aee",
   "metadata": {},
   "source": [
    "### Task 1: Set up project"
   ]
  },
  {
   "cell_type": "code",
   "execution_count": null,
   "id": "5558aaab-114f-45f5-9fbc-08dd03c94e1f",
   "metadata": {},
   "outputs": [],
   "source": [
    "cd\n",
    "SRC_REPO=https://github.com/GoogleCloudPlatform/mlops-on-gcp\n",
    "kpt pkg get $SRC_REPO/workshops/mlep-qwiklabs/tfserving-canary-gke tfserving-canary\n",
    "\n",
    "export PROJECT_ID=$(gcloud config get-value project)\n",
    "export PROJECT_NUMBER=$(gcloud projects describe ${PROJECT_ID} \\\n",
    "    --format=\"value(projectNumber)\")\n",
    "export CLUSTER_NAME=cluster-1\n",
    "export CLUSTER_ZONE=us-west1-c\n",
    "export WORKLOAD_POOL=${PROJECT_ID}.svc.id.goog\n",
    "export MESH_ID=\"proj-${PROJECT_NUMBER}\""
   ]
  },
  {
   "cell_type": "markdown",
   "id": "bdb592e6-d03f-4720-bd07-59a4c444d8a9",
   "metadata": {},
   "source": [
    "### Task 2: Set up GKE cluster"
   ]
  },
  {
   "cell_type": "code",
   "execution_count": null,
   "id": "2ea98002-4077-412c-894f-303f8fe6fa48",
   "metadata": {},
   "outputs": [],
   "source": [
    "gcloud config set compute/zone ${CLUSTER_ZONE}\n",
    "gcloud beta container clusters create ${CLUSTER_NAME} \\\n",
    "    --machine-type=n1-standard-4 \\\n",
    "    --num-nodes=5 \\\n",
    "    --workload-pool=${WORKLOAD_POOL} \\\n",
    "    --logging=SYSTEM,WORKLOAD \\\n",
    "    --monitoring=SYSTEM \\\n",
    "    --subnetwork=default \\\n",
    "    --release-channel=stable \\\n",
    "    --labels mesh_id=${MESH_ID}\n",
    "\n",
    "kubectl create clusterrolebinding cluster-admin-binding \\\n",
    "    --clusterrole=cluster-admin \\\n",
    "    --user=$(whoami)@qwiklabs.net"
   ]
  }
 ],
 "metadata": {
  "kernelspec": {
   "display_name": "venv",
   "language": "python",
   "name": "venv"
  },
  "language_info": {
   "codemirror_mode": {
    "name": "ipython",
    "version": 3
   },
   "file_extension": ".py",
   "mimetype": "text/x-python",
   "name": "python",
   "nbconvert_exporter": "python",
   "pygments_lexer": "ipython3",
   "version": "3.8.10"
  }
 },
 "nbformat": 4,
 "nbformat_minor": 5
}
