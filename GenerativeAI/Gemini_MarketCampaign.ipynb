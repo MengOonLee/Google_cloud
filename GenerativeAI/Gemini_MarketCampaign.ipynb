{
  "nbformat": 4,
  "nbformat_minor": 0,
  "metadata": {
    "colab": {
      "name": "Untitled notebook",
      "cell_execution_strategy": "setup",
      "provenance": []
    },
    "kernelspec": {
      "name": "python3",
      "display_name": "Python 3"
    },
    "language_info": {
      "name": "python"
    },
    "widgets": {
      "application/vnd.jupyter.widget-state+json": {
        "3e4506a8754b47478edd7071bb7bd570": {
          "model_module": "@jupyter-widgets/controls",
          "model_name": "HBoxModel",
          "model_module_version": "1.5.0",
          "state": {
            "_dom_classes": [],
            "_model_module": "@jupyter-widgets/controls",
            "_model_module_version": "1.5.0",
            "_model_name": "HBoxModel",
            "_view_count": null,
            "_view_module": "@jupyter-widgets/controls",
            "_view_module_version": "1.5.0",
            "_view_name": "HBoxView",
            "box_style": "",
            "children": [
              "IPY_MODEL_64e20146651e4289b3643e50e4a229ca",
              "IPY_MODEL_a2b15b21affb4b6aa556db4b4d6eed7b",
              "IPY_MODEL_b140c36bf3384a7596f1c58b1dc0b22c"
            ],
            "layout": "IPY_MODEL_806de7a83b7941dcbdc76a98065acaae"
          }
        },
        "64e20146651e4289b3643e50e4a229ca": {
          "model_module": "@jupyter-widgets/controls",
          "model_name": "HTMLModel",
          "model_module_version": "1.5.0",
          "state": {
            "_dom_classes": [],
            "_model_module": "@jupyter-widgets/controls",
            "_model_module_version": "1.5.0",
            "_model_name": "HTMLModel",
            "_view_count": null,
            "_view_module": "@jupyter-widgets/controls",
            "_view_module_version": "1.5.0",
            "_view_name": "HTMLView",
            "description": "",
            "description_tooltip": null,
            "layout": "IPY_MODEL_8f56530cc8da42ca9970a22b1e5e896b",
            "placeholder": "​",
            "style": "IPY_MODEL_bc9acd9e62ee444eb5fbbb5bc6534fa2",
            "value": "Job ID 3631558e-e029-4295-8cd6-08bbeeeea02b successfully executed: 100%"
          }
        },
        "a2b15b21affb4b6aa556db4b4d6eed7b": {
          "model_module": "@jupyter-widgets/controls",
          "model_name": "FloatProgressModel",
          "model_module_version": "1.5.0",
          "state": {
            "_dom_classes": [],
            "_model_module": "@jupyter-widgets/controls",
            "_model_module_version": "1.5.0",
            "_model_name": "FloatProgressModel",
            "_view_count": null,
            "_view_module": "@jupyter-widgets/controls",
            "_view_module_version": "1.5.0",
            "_view_name": "ProgressView",
            "bar_style": "success",
            "description": "",
            "description_tooltip": null,
            "layout": "IPY_MODEL_43ed5426c57648f3aa354deae9d477af",
            "max": 1,
            "min": 0,
            "orientation": "horizontal",
            "style": "IPY_MODEL_87c2327b53fd4760b8adf466fad3e2ed",
            "value": 1
          }
        },
        "b140c36bf3384a7596f1c58b1dc0b22c": {
          "model_module": "@jupyter-widgets/controls",
          "model_name": "HTMLModel",
          "model_module_version": "1.5.0",
          "state": {
            "_dom_classes": [],
            "_model_module": "@jupyter-widgets/controls",
            "_model_module_version": "1.5.0",
            "_model_name": "HTMLModel",
            "_view_count": null,
            "_view_module": "@jupyter-widgets/controls",
            "_view_module_version": "1.5.0",
            "_view_name": "HTMLView",
            "description": "",
            "description_tooltip": null,
            "layout": "IPY_MODEL_af7aea01c7dd432f92de6b1465d2691e",
            "placeholder": "​",
            "style": "IPY_MODEL_24cebdd6814941d1a8c4734d917daab8",
            "value": ""
          }
        },
        "806de7a83b7941dcbdc76a98065acaae": {
          "model_module": "@jupyter-widgets/base",
          "model_name": "LayoutModel",
          "model_module_version": "1.2.0",
          "state": {
            "_model_module": "@jupyter-widgets/base",
            "_model_module_version": "1.2.0",
            "_model_name": "LayoutModel",
            "_view_count": null,
            "_view_module": "@jupyter-widgets/base",
            "_view_module_version": "1.2.0",
            "_view_name": "LayoutView",
            "align_content": null,
            "align_items": null,
            "align_self": null,
            "border": null,
            "bottom": null,
            "display": null,
            "flex": null,
            "flex_flow": null,
            "grid_area": null,
            "grid_auto_columns": null,
            "grid_auto_flow": null,
            "grid_auto_rows": null,
            "grid_column": null,
            "grid_gap": null,
            "grid_row": null,
            "grid_template_areas": null,
            "grid_template_columns": null,
            "grid_template_rows": null,
            "height": null,
            "justify_content": null,
            "justify_items": null,
            "left": null,
            "margin": null,
            "max_height": null,
            "max_width": null,
            "min_height": null,
            "min_width": null,
            "object_fit": null,
            "object_position": null,
            "order": null,
            "overflow": null,
            "overflow_x": null,
            "overflow_y": null,
            "padding": null,
            "right": null,
            "top": null,
            "visibility": null,
            "width": null
          }
        },
        "8f56530cc8da42ca9970a22b1e5e896b": {
          "model_module": "@jupyter-widgets/base",
          "model_name": "LayoutModel",
          "model_module_version": "1.2.0",
          "state": {
            "_model_module": "@jupyter-widgets/base",
            "_model_module_version": "1.2.0",
            "_model_name": "LayoutModel",
            "_view_count": null,
            "_view_module": "@jupyter-widgets/base",
            "_view_module_version": "1.2.0",
            "_view_name": "LayoutView",
            "align_content": null,
            "align_items": null,
            "align_self": null,
            "border": null,
            "bottom": null,
            "display": null,
            "flex": null,
            "flex_flow": null,
            "grid_area": null,
            "grid_auto_columns": null,
            "grid_auto_flow": null,
            "grid_auto_rows": null,
            "grid_column": null,
            "grid_gap": null,
            "grid_row": null,
            "grid_template_areas": null,
            "grid_template_columns": null,
            "grid_template_rows": null,
            "height": null,
            "justify_content": null,
            "justify_items": null,
            "left": null,
            "margin": null,
            "max_height": null,
            "max_width": null,
            "min_height": null,
            "min_width": null,
            "object_fit": null,
            "object_position": null,
            "order": null,
            "overflow": null,
            "overflow_x": null,
            "overflow_y": null,
            "padding": null,
            "right": null,
            "top": null,
            "visibility": null,
            "width": null
          }
        },
        "bc9acd9e62ee444eb5fbbb5bc6534fa2": {
          "model_module": "@jupyter-widgets/controls",
          "model_name": "DescriptionStyleModel",
          "model_module_version": "1.5.0",
          "state": {
            "_model_module": "@jupyter-widgets/controls",
            "_model_module_version": "1.5.0",
            "_model_name": "DescriptionStyleModel",
            "_view_count": null,
            "_view_module": "@jupyter-widgets/base",
            "_view_module_version": "1.2.0",
            "_view_name": "StyleView",
            "description_width": ""
          }
        },
        "43ed5426c57648f3aa354deae9d477af": {
          "model_module": "@jupyter-widgets/base",
          "model_name": "LayoutModel",
          "model_module_version": "1.2.0",
          "state": {
            "_model_module": "@jupyter-widgets/base",
            "_model_module_version": "1.2.0",
            "_model_name": "LayoutModel",
            "_view_count": null,
            "_view_module": "@jupyter-widgets/base",
            "_view_module_version": "1.2.0",
            "_view_name": "LayoutView",
            "align_content": null,
            "align_items": null,
            "align_self": null,
            "border": null,
            "bottom": null,
            "display": null,
            "flex": null,
            "flex_flow": null,
            "grid_area": null,
            "grid_auto_columns": null,
            "grid_auto_flow": null,
            "grid_auto_rows": null,
            "grid_column": null,
            "grid_gap": null,
            "grid_row": null,
            "grid_template_areas": null,
            "grid_template_columns": null,
            "grid_template_rows": null,
            "height": null,
            "justify_content": null,
            "justify_items": null,
            "left": null,
            "margin": null,
            "max_height": null,
            "max_width": null,
            "min_height": null,
            "min_width": null,
            "object_fit": null,
            "object_position": null,
            "order": null,
            "overflow": null,
            "overflow_x": null,
            "overflow_y": null,
            "padding": null,
            "right": null,
            "top": null,
            "visibility": null,
            "width": null
          }
        },
        "87c2327b53fd4760b8adf466fad3e2ed": {
          "model_module": "@jupyter-widgets/controls",
          "model_name": "ProgressStyleModel",
          "model_module_version": "1.5.0",
          "state": {
            "_model_module": "@jupyter-widgets/controls",
            "_model_module_version": "1.5.0",
            "_model_name": "ProgressStyleModel",
            "_view_count": null,
            "_view_module": "@jupyter-widgets/base",
            "_view_module_version": "1.2.0",
            "_view_name": "StyleView",
            "bar_color": null,
            "description_width": ""
          }
        },
        "af7aea01c7dd432f92de6b1465d2691e": {
          "model_module": "@jupyter-widgets/base",
          "model_name": "LayoutModel",
          "model_module_version": "1.2.0",
          "state": {
            "_model_module": "@jupyter-widgets/base",
            "_model_module_version": "1.2.0",
            "_model_name": "LayoutModel",
            "_view_count": null,
            "_view_module": "@jupyter-widgets/base",
            "_view_module_version": "1.2.0",
            "_view_name": "LayoutView",
            "align_content": null,
            "align_items": null,
            "align_self": null,
            "border": null,
            "bottom": null,
            "display": null,
            "flex": null,
            "flex_flow": null,
            "grid_area": null,
            "grid_auto_columns": null,
            "grid_auto_flow": null,
            "grid_auto_rows": null,
            "grid_column": null,
            "grid_gap": null,
            "grid_row": null,
            "grid_template_areas": null,
            "grid_template_columns": null,
            "grid_template_rows": null,
            "height": null,
            "justify_content": null,
            "justify_items": null,
            "left": null,
            "margin": null,
            "max_height": null,
            "max_width": null,
            "min_height": null,
            "min_width": null,
            "object_fit": null,
            "object_position": null,
            "order": null,
            "overflow": null,
            "overflow_x": null,
            "overflow_y": null,
            "padding": null,
            "right": null,
            "top": null,
            "visibility": null,
            "width": null
          }
        },
        "24cebdd6814941d1a8c4734d917daab8": {
          "model_module": "@jupyter-widgets/controls",
          "model_name": "DescriptionStyleModel",
          "model_module_version": "1.5.0",
          "state": {
            "_model_module": "@jupyter-widgets/controls",
            "_model_module_version": "1.5.0",
            "_model_name": "DescriptionStyleModel",
            "_view_count": null,
            "_view_module": "@jupyter-widgets/base",
            "_view_module_version": "1.2.0",
            "_view_name": "StyleView",
            "description_width": ""
          }
        }
      }
    }
  },
  "cells": [
    {
      "cell_type": "code",
      "source": [
        "from google.cloud import bigquery\n",
        "from google.cloud import aiplatform\n",
        "import bigframes.pandas as bpd\n",
        "import pandas as pd\n",
        "from vertexai.language_models._language_models import TextGenerationModel\n",
        "from bigframes.ml.cluster import KMeans\n",
        "from bigframes.ml.model_selection import train_test_split"
      ],
      "metadata": {
        "id": "9NUASaHLrHyu",
        "executionInfo": {
          "status": "ok",
          "timestamp": 1714810580804,
          "user_tz": -480,
          "elapsed": 7034,
          "user": {
            "displayName": "",
            "userId": ""
          }
        }
      },
      "execution_count": 1,
      "outputs": []
    },
    {
      "cell_type": "code",
      "source": [
        "project_id = 'qwiklabs-gcp-03-4c59e77d8741'\n",
        "dataset_name = \"ecommerce\"\n",
        "model_name = \"customer_segmentation_model\"\n",
        "table_name = \"customer_stats\"\n",
        "location = \"us-central1\"\n",
        "client = bigquery.Client(project=project_id)\n",
        "aiplatform.init(project=project_id, location=location)"
      ],
      "metadata": {
        "id": "1U0SN50DrK1h",
        "executionInfo": {
          "status": "ok",
          "timestamp": 1714810679524,
          "user_tz": -480,
          "elapsed": 67,
          "user": {
            "displayName": "",
            "userId": ""
          }
        }
      },
      "execution_count": 2,
      "outputs": []
    },
    {
      "cell_type": "code",
      "source": [
        "%%bigquery\n",
        "CREATE OR REPLACE TABLE ecommerce.customer_stats AS\n",
        "SELECT\n",
        "  user_id,\n",
        "  DATE_DIFF(CURRENT_DATE(), CAST(MAX(order_created_date) AS DATE), day) AS days_since_last_order, ---RECENCY\n",
        "  COUNT(order_id) AS count_orders, --FREQUENCY\n",
        "  AVG(sale_price) AS average_spend --MONETARY\n",
        "  FROM (\n",
        "      SELECT\n",
        "        user_id,\n",
        "        order_id,\n",
        "        sale_price,\n",
        "        created_at AS order_created_date\n",
        "        FROM `bigquery-public-data.thelook_ecommerce.order_items`\n",
        "        WHERE\n",
        "        created_at\n",
        "            BETWEEN '2022-01-01' AND '2023-01-01'\n",
        "  )\n",
        "GROUP BY user_id;"
      ],
      "metadata": {
        "colab": {
          "base_uri": "https://localhost:8080/",
          "height": 113,
          "referenced_widgets": [
            "3e4506a8754b47478edd7071bb7bd570",
            "64e20146651e4289b3643e50e4a229ca",
            "a2b15b21affb4b6aa556db4b4d6eed7b",
            "b140c36bf3384a7596f1c58b1dc0b22c",
            "806de7a83b7941dcbdc76a98065acaae",
            "8f56530cc8da42ca9970a22b1e5e896b",
            "bc9acd9e62ee444eb5fbbb5bc6534fa2",
            "43ed5426c57648f3aa354deae9d477af",
            "87c2327b53fd4760b8adf466fad3e2ed",
            "af7aea01c7dd432f92de6b1465d2691e",
            "24cebdd6814941d1a8c4734d917daab8"
          ]
        },
        "id": "U_JbJ7Ubrlnj",
        "executionInfo": {
          "status": "ok",
          "timestamp": 1714810747181,
          "user_tz": -480,
          "elapsed": 2886,
          "user": {
            "displayName": "",
            "userId": ""
          }
        },
        "outputId": "e5a6a1b3-4208-44f8-9f90-8372a97dde9e"
      },
      "execution_count": 3,
      "outputs": [
        {
          "output_type": "display_data",
          "data": {
            "text/plain": [
              "Query is running:   0%|          |"
            ],
            "application/vnd.jupyter.widget-view+json": {
              "version_major": 2,
              "version_minor": 0,
              "model_id": "3e4506a8754b47478edd7071bb7bd570"
            }
          },
          "metadata": {}
        },
        {
          "output_type": "execute_result",
          "data": {
            "text/plain": [
              "Empty DataFrame\n",
              "Columns: []\n",
              "Index: []"
            ],
            "text/html": [
              "\n",
              "  <div id=\"df-ee9be7aa-b096-4f0c-91d9-a680e324fdbb\" class=\"colab-df-container\">\n",
              "    <div>\n",
              "<style scoped>\n",
              "    .dataframe tbody tr th:only-of-type {\n",
              "        vertical-align: middle;\n",
              "    }\n",
              "\n",
              "    .dataframe tbody tr th {\n",
              "        vertical-align: top;\n",
              "    }\n",
              "\n",
              "    .dataframe thead th {\n",
              "        text-align: right;\n",
              "    }\n",
              "</style>\n",
              "<table border=\"1\" class=\"dataframe\">\n",
              "  <thead>\n",
              "    <tr style=\"text-align: right;\">\n",
              "      <th></th>\n",
              "    </tr>\n",
              "  </thead>\n",
              "  <tbody>\n",
              "  </tbody>\n",
              "</table>\n",
              "</div>\n",
              "    <div class=\"colab-df-buttons\">\n",
              "\n",
              "  <div class=\"colab-df-container\">\n",
              "    <button class=\"colab-df-convert\" onclick=\"convertToInteractive('df-ee9be7aa-b096-4f0c-91d9-a680e324fdbb')\"\n",
              "            title=\"Convert this dataframe to an interactive table.\"\n",
              "            style=\"display:none;\">\n",
              "\n",
              "  <svg xmlns=\"http://www.w3.org/2000/svg\" height=\"24px\" viewBox=\"0 -960 960 960\">\n",
              "    <path d=\"M120-120v-720h720v720H120Zm60-500h600v-160H180v160Zm220 220h160v-160H400v160Zm0 220h160v-160H400v160ZM180-400h160v-160H180v160Zm440 0h160v-160H620v160ZM180-180h160v-160H180v160Zm440 0h160v-160H620v160Z\"/>\n",
              "  </svg>\n",
              "    </button>\n",
              "\n",
              "  <style>\n",
              "    .colab-df-container {\n",
              "      display:flex;\n",
              "      gap: 12px;\n",
              "    }\n",
              "\n",
              "    .colab-df-convert {\n",
              "      background-color: #E8F0FE;\n",
              "      border: none;\n",
              "      border-radius: 50%;\n",
              "      cursor: pointer;\n",
              "      display: none;\n",
              "      fill: #1967D2;\n",
              "      height: 32px;\n",
              "      padding: 0 0 0 0;\n",
              "      width: 32px;\n",
              "    }\n",
              "\n",
              "    .colab-df-convert:hover {\n",
              "      background-color: #E2EBFA;\n",
              "      box-shadow: 0px 1px 2px rgba(60, 64, 67, 0.3), 0px 1px 3px 1px rgba(60, 64, 67, 0.15);\n",
              "      fill: #174EA6;\n",
              "    }\n",
              "\n",
              "    .colab-df-buttons div {\n",
              "      margin-bottom: 4px;\n",
              "    }\n",
              "\n",
              "    [theme=dark] .colab-df-convert {\n",
              "      background-color: #3B4455;\n",
              "      fill: #D2E3FC;\n",
              "    }\n",
              "\n",
              "    [theme=dark] .colab-df-convert:hover {\n",
              "      background-color: #434B5C;\n",
              "      box-shadow: 0px 1px 3px 1px rgba(0, 0, 0, 0.15);\n",
              "      filter: drop-shadow(0px 1px 2px rgba(0, 0, 0, 0.3));\n",
              "      fill: #FFFFFF;\n",
              "    }\n",
              "  </style>\n",
              "\n",
              "    <script>\n",
              "      const buttonEl =\n",
              "        document.querySelector('#df-ee9be7aa-b096-4f0c-91d9-a680e324fdbb button.colab-df-convert');\n",
              "      buttonEl.style.display =\n",
              "        google.colab.kernel.accessAllowed ? 'block' : 'none';\n",
              "\n",
              "      async function convertToInteractive(key) {\n",
              "        const element = document.querySelector('#df-ee9be7aa-b096-4f0c-91d9-a680e324fdbb');\n",
              "        const dataTable =\n",
              "          await google.colab.kernel.invokeFunction('convertToInteractive',\n",
              "                                                    [key], {});\n",
              "        if (!dataTable) return;\n",
              "\n",
              "        const docLinkHtml = 'Like what you see? Visit the ' +\n",
              "          '<a target=\"_blank\" href=https://colab.research.google.com/notebooks/data_table.ipynb>data table notebook</a>'\n",
              "          + ' to learn more about interactive tables.';\n",
              "        element.innerHTML = '';\n",
              "        dataTable['output_type'] = 'display_data';\n",
              "        await google.colab.output.renderOutput(dataTable, element);\n",
              "        const docLink = document.createElement('div');\n",
              "        docLink.innerHTML = docLinkHtml;\n",
              "        element.appendChild(docLink);\n",
              "      }\n",
              "    </script>\n",
              "  </div>\n",
              "\n",
              "    </div>\n",
              "  </div>\n"
            ]
          },
          "metadata": {},
          "execution_count": 3
        }
      ]
    },
    {
      "cell_type": "code",
      "source": [
        "# prompt: Convert the table ecommerce.customer_stats to a BigQuery DataFrames dataframe and show the top 10 records\n",
        "\n",
        "df = bpd.read_gbq(f\"{project_id}.{dataset_name}.{table_name}\")\n",
        "df.head(10)"
      ],
      "metadata": {
        "colab": {
          "base_uri": "https://localhost:8080/",
          "height": 462
        },
        "id": "r95O1VFXr1yq",
        "executionInfo": {
          "status": "ok",
          "timestamp": 1714811070732,
          "user_tz": -480,
          "elapsed": 7861,
          "user": {
            "displayName": "",
            "userId": ""
          }
        },
        "outputId": "6584c1ba-bad1-4ee9-c44e-16a3cfbf2e6a"
      },
      "execution_count": 4,
      "outputs": [
        {
          "output_type": "display_data",
          "data": {
            "text/plain": [
              "<IPython.core.display.HTML object>"
            ],
            "text/html": [
              "Query job 7cfbf21a-9887-4022-9109-7b4325289006 is DONE. 685.2 kB processed. <a target=\"_blank\" href=\"https://console.cloud.google.com/bigquery?project=qwiklabs-gcp-03-4c59e77d8741&j=bq:US:7cfbf21a-9887-4022-9109-7b4325289006&page=queryresults\">Open Job</a>"
            ]
          },
          "metadata": {}
        },
        {
          "output_type": "display_data",
          "data": {
            "text/plain": [
              "<IPython.core.display.HTML object>"
            ],
            "text/html": [
              "Query job 9e1037f9-62f6-4aa4-8728-70f0abfcae5c is DONE. 0 Bytes processed. <a target=\"_blank\" href=\"https://console.cloud.google.com/bigquery?project=qwiklabs-gcp-03-4c59e77d8741&j=bq:US:9e1037f9-62f6-4aa4-8728-70f0abfcae5c&page=queryresults\">Open Job</a>"
            ]
          },
          "metadata": {}
        },
        {
          "output_type": "display_data",
          "data": {
            "text/plain": [
              "<IPython.core.display.HTML object>"
            ],
            "text/html": [
              "Query job e7c682f5-d7f0-4b63-86bc-a410eada7f73 is DONE. 480 Bytes processed. <a target=\"_blank\" href=\"https://console.cloud.google.com/bigquery?project=qwiklabs-gcp-03-4c59e77d8741&j=bq:US:e7c682f5-d7f0-4b63-86bc-a410eada7f73&page=queryresults\">Open Job</a>"
            ]
          },
          "metadata": {}
        },
        {
          "output_type": "execute_result",
          "data": {
            "text/plain": [
              "   user_id  days_since_last_order  count_orders  average_spend\n",
              "0    41896                    505             2          64.25\n",
              "1    17402                    717             1          328.0\n",
              "2     8488                    634             1      33.990002\n",
              "3    44020                    645             1           31.0\n",
              "4    14595                    543             3          21.11\n",
              "5    19817                    723             1           30.0\n",
              "6    11518                    781             4      70.945001\n",
              "7     4235                    780             1           14.0\n",
              "8    92303                    629             2         38.875\n",
              "9    65889                    844             2           17.4\n",
              "\n",
              "[10 rows x 4 columns]"
            ],
            "text/html": [
              "<div>\n",
              "<style scoped>\n",
              "    .dataframe tbody tr th:only-of-type {\n",
              "        vertical-align: middle;\n",
              "    }\n",
              "\n",
              "    .dataframe tbody tr th {\n",
              "        vertical-align: top;\n",
              "    }\n",
              "\n",
              "    .dataframe thead th {\n",
              "        text-align: right;\n",
              "    }\n",
              "</style>\n",
              "<table border=\"1\" class=\"dataframe\">\n",
              "  <thead>\n",
              "    <tr style=\"text-align: right;\">\n",
              "      <th></th>\n",
              "      <th>user_id</th>\n",
              "      <th>days_since_last_order</th>\n",
              "      <th>count_orders</th>\n",
              "      <th>average_spend</th>\n",
              "    </tr>\n",
              "  </thead>\n",
              "  <tbody>\n",
              "    <tr>\n",
              "      <th>0</th>\n",
              "      <td>41896</td>\n",
              "      <td>505</td>\n",
              "      <td>2</td>\n",
              "      <td>64.25</td>\n",
              "    </tr>\n",
              "    <tr>\n",
              "      <th>1</th>\n",
              "      <td>17402</td>\n",
              "      <td>717</td>\n",
              "      <td>1</td>\n",
              "      <td>328.0</td>\n",
              "    </tr>\n",
              "    <tr>\n",
              "      <th>2</th>\n",
              "      <td>8488</td>\n",
              "      <td>634</td>\n",
              "      <td>1</td>\n",
              "      <td>33.990002</td>\n",
              "    </tr>\n",
              "    <tr>\n",
              "      <th>3</th>\n",
              "      <td>44020</td>\n",
              "      <td>645</td>\n",
              "      <td>1</td>\n",
              "      <td>31.0</td>\n",
              "    </tr>\n",
              "    <tr>\n",
              "      <th>4</th>\n",
              "      <td>14595</td>\n",
              "      <td>543</td>\n",
              "      <td>3</td>\n",
              "      <td>21.11</td>\n",
              "    </tr>\n",
              "    <tr>\n",
              "      <th>5</th>\n",
              "      <td>19817</td>\n",
              "      <td>723</td>\n",
              "      <td>1</td>\n",
              "      <td>30.0</td>\n",
              "    </tr>\n",
              "    <tr>\n",
              "      <th>6</th>\n",
              "      <td>11518</td>\n",
              "      <td>781</td>\n",
              "      <td>4</td>\n",
              "      <td>70.945001</td>\n",
              "    </tr>\n",
              "    <tr>\n",
              "      <th>7</th>\n",
              "      <td>4235</td>\n",
              "      <td>780</td>\n",
              "      <td>1</td>\n",
              "      <td>14.0</td>\n",
              "    </tr>\n",
              "    <tr>\n",
              "      <th>8</th>\n",
              "      <td>92303</td>\n",
              "      <td>629</td>\n",
              "      <td>2</td>\n",
              "      <td>38.875</td>\n",
              "    </tr>\n",
              "    <tr>\n",
              "      <th>9</th>\n",
              "      <td>65889</td>\n",
              "      <td>844</td>\n",
              "      <td>2</td>\n",
              "      <td>17.4</td>\n",
              "    </tr>\n",
              "  </tbody>\n",
              "</table>\n",
              "<p>10 rows × 4 columns</p>\n",
              "</div>[10 rows x 4 columns in total]"
            ]
          },
          "metadata": {},
          "execution_count": 4
        }
      ]
    },
    {
      "cell_type": "code",
      "source": [
        "# prompt: 1. Split df into test and training data for a K-means clustering algorithm store these as df_test_ and df_train. 2. Create a K-means cluster model using bigframes.ml.cluster KMeans with 5 clusters. 3. Save the model to BigQuery in a model called ecommerce.model_name using the to_gbq method.\n",
        "\n",
        "df_train, df_test_ = train_test_split(df, test_size=0.2)\n",
        "kmeans = KMeans(n_clusters=5)\n",
        "kmeans.fit(df_train)\n",
        "kmeans.to_gbq(f\"{project_id}.{dataset_name}.{model_name}\")"
      ],
      "metadata": {
        "colab": {
          "base_uri": "https://localhost:8080/",
          "height": 104
        },
        "id": "sCWXDoIztDdN",
        "executionInfo": {
          "status": "ok",
          "timestamp": 1714811265776,
          "user_tz": -480,
          "elapsed": 75548,
          "user": {
            "displayName": "",
            "userId": ""
          }
        },
        "outputId": "d503cbfb-0f10-4909-8639-090352399b7c"
      },
      "execution_count": 5,
      "outputs": [
        {
          "output_type": "display_data",
          "data": {
            "text/plain": [
              "<IPython.core.display.HTML object>"
            ],
            "text/html": [
              "Query job 23b3beac-fc01-477b-a627-6e0948a54d68 is DONE. 0 Bytes processed. <a target=\"_blank\" href=\"https://console.cloud.google.com/bigquery?project=qwiklabs-gcp-03-4c59e77d8741&j=bq:US:23b3beac-fc01-477b-a627-6e0948a54d68&page=queryresults\">Open Job</a>"
            ]
          },
          "metadata": {}
        },
        {
          "output_type": "display_data",
          "data": {
            "text/plain": [
              "<IPython.core.display.HTML object>"
            ],
            "text/html": [
              "Query job 88fbca05-e2e2-46e2-a54e-2cb8d9f64bbf is DONE. 685.2 kB processed. <a target=\"_blank\" href=\"https://console.cloud.google.com/bigquery?project=qwiklabs-gcp-03-4c59e77d8741&j=bq:US:88fbca05-e2e2-46e2-a54e-2cb8d9f64bbf&page=queryresults\">Open Job</a>"
            ]
          },
          "metadata": {}
        },
        {
          "output_type": "display_data",
          "data": {
            "text/plain": [
              "<IPython.core.display.HTML object>"
            ],
            "text/html": [
              "Query job 66bc3106-54bc-4884-bb77-ec73ac0d5d26 is DONE. 0 Bytes processed. <a target=\"_blank\" href=\"https://console.cloud.google.com/bigquery?project=qwiklabs-gcp-03-4c59e77d8741&j=bq:US:66bc3106-54bc-4884-bb77-ec73ac0d5d26&page=queryresults\">Open Job</a>"
            ]
          },
          "metadata": {}
        },
        {
          "output_type": "display_data",
          "data": {
            "text/plain": [
              "<IPython.core.display.HTML object>"
            ],
            "text/html": [
              "Copy job e09d2f39-2398-42cc-bcb6-2f9394f9f5bb is DONE. <a target=\"_blank\" href=\"https://console.cloud.google.com/bigquery?project=qwiklabs-gcp-03-4c59e77d8741&j=bq:US:e09d2f39-2398-42cc-bcb6-2f9394f9f5bb&page=queryresults\">Open Job</a>"
            ]
          },
          "metadata": {}
        },
        {
          "output_type": "execute_result",
          "data": {
            "text/plain": [
              "KMeans(distance_type='EUCLIDEAN', init='KMEANS_PLUS_PLUS', n_clusters=5)"
            ]
          },
          "metadata": {},
          "execution_count": 5
        }
      ]
    },
    {
      "cell_type": "code",
      "source": [
        "# prompt: 1. Call the K-means prediction model on the df dataframe, and store the results as predictions_df and show the first 10 records.\n",
        "\n",
        "predictions_df = kmeans.predict(df)\n",
        "predictions_df.head(10)"
      ],
      "metadata": {
        "colab": {
          "base_uri": "https://localhost:8080/",
          "height": 690
        },
        "id": "_LjLm37wtinh",
        "executionInfo": {
          "status": "ok",
          "timestamp": 1714811426251,
          "user_tz": -480,
          "elapsed": 12273,
          "user": {
            "displayName": "",
            "userId": ""
          }
        },
        "outputId": "a6dc6756-3e43-4b0b-971e-e29051c272d6"
      },
      "execution_count": 6,
      "outputs": [
        {
          "output_type": "display_data",
          "data": {
            "text/plain": [
              "<IPython.core.display.HTML object>"
            ],
            "text/html": [
              "Query job 07bd3e62-4050-4f74-921d-8dd313a53b5c is DONE. 685.4 kB processed. <a target=\"_blank\" href=\"https://console.cloud.google.com/bigquery?project=qwiklabs-gcp-03-4c59e77d8741&j=bq:US:07bd3e62-4050-4f74-921d-8dd313a53b5c&page=queryresults\">Open Job</a>"
            ]
          },
          "metadata": {}
        },
        {
          "output_type": "display_data",
          "data": {
            "text/plain": [
              "<IPython.core.display.HTML object>"
            ],
            "text/html": [
              "Query job df1dcc1b-48ce-4699-aae3-8505a5865676 is DONE. 171.3 kB processed. <a target=\"_blank\" href=\"https://console.cloud.google.com/bigquery?project=qwiklabs-gcp-03-4c59e77d8741&j=bq:US:df1dcc1b-48ce-4699-aae3-8505a5865676&page=queryresults\">Open Job</a>"
            ]
          },
          "metadata": {}
        },
        {
          "output_type": "display_data",
          "data": {
            "text/plain": [
              "<IPython.core.display.HTML object>"
            ],
            "text/html": [
              "Query job 783df88e-a041-4385-bdc9-a274fc386d4a is DONE. 2.7 MB processed. <a target=\"_blank\" href=\"https://console.cloud.google.com/bigquery?project=qwiklabs-gcp-03-4c59e77d8741&j=bq:US:783df88e-a041-4385-bdc9-a274fc386d4a&page=queryresults\">Open Job</a>"
            ]
          },
          "metadata": {}
        },
        {
          "output_type": "display_data",
          "data": {
            "text/plain": [
              "<IPython.core.display.HTML object>"
            ],
            "text/html": [
              "Query job 89e337d2-067d-494f-b4ac-219a957e7cfb is DONE. 0 Bytes processed. <a target=\"_blank\" href=\"https://console.cloud.google.com/bigquery?project=qwiklabs-gcp-03-4c59e77d8741&j=bq:US:89e337d2-067d-494f-b4ac-219a957e7cfb&page=queryresults\">Open Job</a>"
            ]
          },
          "metadata": {}
        },
        {
          "output_type": "display_data",
          "data": {
            "text/plain": [
              "<IPython.core.display.HTML object>"
            ],
            "text/html": [
              "Query job 29d77ebc-866b-4293-a961-70ee11371c10 is DONE. 1.4 kB processed. <a target=\"_blank\" href=\"https://console.cloud.google.com/bigquery?project=qwiklabs-gcp-03-4c59e77d8741&j=bq:US:29d77ebc-866b-4293-a961-70ee11371c10&page=queryresults\">Open Job</a>"
            ]
          },
          "metadata": {}
        },
        {
          "output_type": "execute_result",
          "data": {
            "text/plain": [
              "   CENTROID_ID                         NEAREST_CENTROIDS_DISTANCE  user_id  \\\n",
              "0            5  [{'CENTROID_ID': 5, 'DISTANCE': 1.303206759593...    41896   \n",
              "1            3  [{'CENTROID_ID': 3, 'DISTANCE': 1.377014714226...    17402   \n",
              "2            5  [{'CENTROID_ID': 5, 'DISTANCE': 0.768956788053...     8488   \n",
              "3            5  [{'CENTROID_ID': 5, 'DISTANCE': 0.981911122926...    44020   \n",
              "4            4  [{'CENTROID_ID': 4, 'DISTANCE': 1.706622954278...    14595   \n",
              "5            5  [{'CENTROID_ID': 5, 'DISTANCE': 1.315089045742...    19817   \n",
              "6            4  [{'CENTROID_ID': 4, 'DISTANCE': 2.005802226597...    11518   \n",
              "7            2  [{'CENTROID_ID': 2, 'DISTANCE': 1.855835310043...     4235   \n",
              "8            1  [{'CENTROID_ID': 1, 'DISTANCE': 0.961578093041...    92303   \n",
              "9            2  [{'CENTROID_ID': 2, 'DISTANCE': 1.230878061614...    65889   \n",
              "\n",
              "   days_since_last_order  count_orders  average_spend  \n",
              "0                    505             2          64.25  \n",
              "1                    717             1          328.0  \n",
              "2                    634             1      33.990002  \n",
              "3                    645             1           31.0  \n",
              "4                    543             3          21.11  \n",
              "5                    723             1           30.0  \n",
              "6                    781             4      70.945001  \n",
              "7                    780             1           14.0  \n",
              "8                    629             2         38.875  \n",
              "9                    844             2           17.4  \n",
              "\n",
              "[10 rows x 6 columns]"
            ],
            "text/html": [
              "<div>\n",
              "<style scoped>\n",
              "    .dataframe tbody tr th:only-of-type {\n",
              "        vertical-align: middle;\n",
              "    }\n",
              "\n",
              "    .dataframe tbody tr th {\n",
              "        vertical-align: top;\n",
              "    }\n",
              "\n",
              "    .dataframe thead th {\n",
              "        text-align: right;\n",
              "    }\n",
              "</style>\n",
              "<table border=\"1\" class=\"dataframe\">\n",
              "  <thead>\n",
              "    <tr style=\"text-align: right;\">\n",
              "      <th></th>\n",
              "      <th>CENTROID_ID</th>\n",
              "      <th>NEAREST_CENTROIDS_DISTANCE</th>\n",
              "      <th>user_id</th>\n",
              "      <th>days_since_last_order</th>\n",
              "      <th>count_orders</th>\n",
              "      <th>average_spend</th>\n",
              "    </tr>\n",
              "  </thead>\n",
              "  <tbody>\n",
              "    <tr>\n",
              "      <th>0</th>\n",
              "      <td>5</td>\n",
              "      <td>[{'CENTROID_ID': 5, 'DISTANCE': 1.303206759593...</td>\n",
              "      <td>41896</td>\n",
              "      <td>505</td>\n",
              "      <td>2</td>\n",
              "      <td>64.25</td>\n",
              "    </tr>\n",
              "    <tr>\n",
              "      <th>1</th>\n",
              "      <td>3</td>\n",
              "      <td>[{'CENTROID_ID': 3, 'DISTANCE': 1.377014714226...</td>\n",
              "      <td>17402</td>\n",
              "      <td>717</td>\n",
              "      <td>1</td>\n",
              "      <td>328.0</td>\n",
              "    </tr>\n",
              "    <tr>\n",
              "      <th>2</th>\n",
              "      <td>5</td>\n",
              "      <td>[{'CENTROID_ID': 5, 'DISTANCE': 0.768956788053...</td>\n",
              "      <td>8488</td>\n",
              "      <td>634</td>\n",
              "      <td>1</td>\n",
              "      <td>33.990002</td>\n",
              "    </tr>\n",
              "    <tr>\n",
              "      <th>3</th>\n",
              "      <td>5</td>\n",
              "      <td>[{'CENTROID_ID': 5, 'DISTANCE': 0.981911122926...</td>\n",
              "      <td>44020</td>\n",
              "      <td>645</td>\n",
              "      <td>1</td>\n",
              "      <td>31.0</td>\n",
              "    </tr>\n",
              "    <tr>\n",
              "      <th>4</th>\n",
              "      <td>4</td>\n",
              "      <td>[{'CENTROID_ID': 4, 'DISTANCE': 1.706622954278...</td>\n",
              "      <td>14595</td>\n",
              "      <td>543</td>\n",
              "      <td>3</td>\n",
              "      <td>21.11</td>\n",
              "    </tr>\n",
              "    <tr>\n",
              "      <th>5</th>\n",
              "      <td>5</td>\n",
              "      <td>[{'CENTROID_ID': 5, 'DISTANCE': 1.315089045742...</td>\n",
              "      <td>19817</td>\n",
              "      <td>723</td>\n",
              "      <td>1</td>\n",
              "      <td>30.0</td>\n",
              "    </tr>\n",
              "    <tr>\n",
              "      <th>6</th>\n",
              "      <td>4</td>\n",
              "      <td>[{'CENTROID_ID': 4, 'DISTANCE': 2.005802226597...</td>\n",
              "      <td>11518</td>\n",
              "      <td>781</td>\n",
              "      <td>4</td>\n",
              "      <td>70.945001</td>\n",
              "    </tr>\n",
              "    <tr>\n",
              "      <th>7</th>\n",
              "      <td>2</td>\n",
              "      <td>[{'CENTROID_ID': 2, 'DISTANCE': 1.855835310043...</td>\n",
              "      <td>4235</td>\n",
              "      <td>780</td>\n",
              "      <td>1</td>\n",
              "      <td>14.0</td>\n",
              "    </tr>\n",
              "    <tr>\n",
              "      <th>8</th>\n",
              "      <td>1</td>\n",
              "      <td>[{'CENTROID_ID': 1, 'DISTANCE': 0.961578093041...</td>\n",
              "      <td>92303</td>\n",
              "      <td>629</td>\n",
              "      <td>2</td>\n",
              "      <td>38.875</td>\n",
              "    </tr>\n",
              "    <tr>\n",
              "      <th>9</th>\n",
              "      <td>2</td>\n",
              "      <td>[{'CENTROID_ID': 2, 'DISTANCE': 1.230878061614...</td>\n",
              "      <td>65889</td>\n",
              "      <td>844</td>\n",
              "      <td>2</td>\n",
              "      <td>17.4</td>\n",
              "    </tr>\n",
              "  </tbody>\n",
              "</table>\n",
              "<p>10 rows × 6 columns</p>\n",
              "</div>[10 rows x 6 columns in total]"
            ]
          },
          "metadata": {},
          "execution_count": 6
        }
      ]
    },
    {
      "cell_type": "code",
      "source": [
        "# prompt: 1. Using predictions_df, and matplotlib, generate a scatterplot. 2. On the x-axis of the scatterplot, display days_since_last_order and on the y-axis, display average_spend from predictions_df. 3. Color by cluster. The chart should be titled \"Attribute grouped by K-means cluster.\"\n",
        "\n",
        "import matplotlib.pyplot as plt\n",
        "plt.scatter(predictions_df['days_since_last_order'], predictions_df['average_spend'], c=predictions_df['CENTROID_ID'])\n",
        "plt.xlabel('days_since_last_order')\n",
        "plt.ylabel('average_spend')\n",
        "plt.title('Attribute grouped by K-means cluster')\n",
        "plt.show()"
      ],
      "metadata": {
        "colab": {
          "base_uri": "https://localhost:8080/",
          "height": 628
        },
        "id": "fc23kzmLuY-u",
        "executionInfo": {
          "status": "ok",
          "timestamp": 1714811568980,
          "user_tz": -480,
          "elapsed": 16356,
          "user": {
            "displayName": "",
            "userId": ""
          }
        },
        "outputId": "4e0daced-d90e-4fad-88eb-983bfcccacf5"
      },
      "execution_count": 8,
      "outputs": [
        {
          "output_type": "display_data",
          "data": {
            "text/plain": [
              "<IPython.core.display.HTML object>"
            ],
            "text/html": [
              "Query job 89174504-b232-4fcf-89b3-5e18e71fdc5d is DONE. 342.6 kB processed. <a target=\"_blank\" href=\"https://console.cloud.google.com/bigquery?project=qwiklabs-gcp-03-4c59e77d8741&j=bq:US:89174504-b232-4fcf-89b3-5e18e71fdc5d&page=queryresults\">Open Job</a>"
            ]
          },
          "metadata": {}
        },
        {
          "output_type": "display_data",
          "data": {
            "text/plain": [
              "<IPython.core.display.HTML object>"
            ],
            "text/html": [
              "Query job 9153eba7-c9d4-4a0b-8986-50a977892cbe is DONE. 342.6 kB processed. <a target=\"_blank\" href=\"https://console.cloud.google.com/bigquery?project=qwiklabs-gcp-03-4c59e77d8741&j=bq:US:9153eba7-c9d4-4a0b-8986-50a977892cbe&page=queryresults\">Open Job</a>"
            ]
          },
          "metadata": {}
        },
        {
          "output_type": "display_data",
          "data": {
            "text/plain": [
              "<IPython.core.display.HTML object>"
            ],
            "text/html": [
              "Query job 313b072a-76c4-41d8-b7a0-804e451da35d is DONE. 0 Bytes processed. <a target=\"_blank\" href=\"https://console.cloud.google.com/bigquery?project=qwiklabs-gcp-03-4c59e77d8741&j=bq:US:313b072a-76c4-41d8-b7a0-804e451da35d&page=queryresults\">Open Job</a>"
            ]
          },
          "metadata": {}
        },
        {
          "output_type": "display_data",
          "data": {
            "text/plain": [
              "<IPython.core.display.HTML object>"
            ],
            "text/html": [
              "Query job 1dcd641e-007f-479d-9f80-1d520bb06c31 is DONE. 0 Bytes processed. <a target=\"_blank\" href=\"https://console.cloud.google.com/bigquery?project=qwiklabs-gcp-03-4c59e77d8741&j=bq:US:1dcd641e-007f-479d-9f80-1d520bb06c31&page=queryresults\">Open Job</a>"
            ]
          },
          "metadata": {}
        },
        {
          "output_type": "display_data",
          "data": {
            "text/plain": [
              "<IPython.core.display.HTML object>"
            ],
            "text/html": [
              "Query job ad3d1093-9c88-40b2-a718-5f09ab89bef8 is DONE. 0 Bytes processed. <a target=\"_blank\" href=\"https://console.cloud.google.com/bigquery?project=qwiklabs-gcp-03-4c59e77d8741&j=bq:US:ad3d1093-9c88-40b2-a718-5f09ab89bef8&page=queryresults\">Open Job</a>"
            ]
          },
          "metadata": {}
        },
        {
          "output_type": "display_data",
          "data": {
            "text/plain": [
              "<IPython.core.display.HTML object>"
            ],
            "text/html": [
              "Query job 2b023245-46cf-4934-8a82-20277f34c9fa is DONE. 0 Bytes processed. <a target=\"_blank\" href=\"https://console.cloud.google.com/bigquery?project=qwiklabs-gcp-03-4c59e77d8741&j=bq:US:2b023245-46cf-4934-8a82-20277f34c9fa&page=queryresults\">Open Job</a>"
            ]
          },
          "metadata": {}
        },
        {
          "output_type": "display_data",
          "data": {
            "text/plain": [
              "<IPython.core.display.HTML object>"
            ],
            "text/html": [
              "Query job 4ab2aaba-edad-46fa-b91e-d647453057d4 is DONE. 0 Bytes processed. <a target=\"_blank\" href=\"https://console.cloud.google.com/bigquery?project=qwiklabs-gcp-03-4c59e77d8741&j=bq:US:4ab2aaba-edad-46fa-b91e-d647453057d4&page=queryresults\">Open Job</a>"
            ]
          },
          "metadata": {}
        },
        {
          "output_type": "display_data",
          "data": {
            "text/plain": [
              "<IPython.core.display.HTML object>"
            ],
            "text/html": [
              "Query job bb2faba9-dc80-4216-9280-652e0c2a6f59 is DONE. 342.6 kB processed. <a target=\"_blank\" href=\"https://console.cloud.google.com/bigquery?project=qwiklabs-gcp-03-4c59e77d8741&j=bq:US:bb2faba9-dc80-4216-9280-652e0c2a6f59&page=queryresults\">Open Job</a>"
            ]
          },
          "metadata": {}
        },
        {
          "output_type": "display_data",
          "data": {
            "text/plain": [
              "<IPython.core.display.HTML object>"
            ],
            "text/html": [
              "Query job d27f49e4-2165-42bc-b912-21c358306ca7 is DONE. 0 Bytes processed. <a target=\"_blank\" href=\"https://console.cloud.google.com/bigquery?project=qwiklabs-gcp-03-4c59e77d8741&j=bq:US:d27f49e4-2165-42bc-b912-21c358306ca7&page=queryresults\">Open Job</a>"
            ]
          },
          "metadata": {}
        },
        {
          "output_type": "display_data",
          "data": {
            "text/plain": [
              "<Figure size 640x480 with 1 Axes>"
            ],
            "image/png": "[encoded data removed]"
          },
          "metadata": {}
        }
      ]
    },
    {
      "cell_type": "code",
      "source": [
        "query = \"\"\"\n",
        "SELECT\n",
        " CONCAT('cluster ', CAST(centroid_id as STRING)) as centroid,\n",
        " average_spend,\n",
        " count_orders,\n",
        " days_since_last_order\n",
        "FROM (\n",
        " SELECT centroid_id, feature, ROUND(numerical_value, 2) as value\n",
        " FROM ML.CENTROIDS(MODEL `{0}.{1}`)\n",
        ")\n",
        "PIVOT (\n",
        " SUM(value)\n",
        " FOR feature IN ('average_spend',  'count_orders', 'days_since_last_order')\n",
        ")\n",
        "ORDER BY centroid_id\n",
        "\"\"\".format(dataset_name, model_name)\n",
        "\n",
        "df_centroid = client.query(query).to_dataframe()\n",
        "df_centroid.head()"
      ],
      "metadata": {
        "colab": {
          "base_uri": "https://localhost:8080/",
          "height": 206
        },
        "id": "yKjtbb5tuucU",
        "executionInfo": {
          "status": "ok",
          "timestamp": 1714811630971,
          "user_tz": -480,
          "elapsed": 2833,
          "user": {
            "displayName": "",
            "userId": ""
          }
        },
        "outputId": "0ae1e7da-48a2-42ad-bb3f-8339f80eafb2"
      },
      "execution_count": 9,
      "outputs": [
        {
          "output_type": "execute_result",
          "data": {
            "text/plain": [
              "    centroid  average_spend  count_orders  days_since_last_order\n",
              "0  cluster 1          54.12          1.37                 583.22\n",
              "1  cluster 2          54.60          1.30                 774.39\n",
              "2  cluster 3         347.04          1.25                 644.63\n",
              "3  cluster 4          58.98          3.79                 622.12\n",
              "4  cluster 5          53.88          1.30                 597.56"
            ],
            "text/html": [
              "\n",
              "  <div id=\"df-f46760ac-9a88-4b4e-999c-625dd7756ba9\" class=\"colab-df-container\">\n",
              "    <div>\n",
              "<style scoped>\n",
              "    .dataframe tbody tr th:only-of-type {\n",
              "        vertical-align: middle;\n",
              "    }\n",
              "\n",
              "    .dataframe tbody tr th {\n",
              "        vertical-align: top;\n",
              "    }\n",
              "\n",
              "    .dataframe thead th {\n",
              "        text-align: right;\n",
              "    }\n",
              "</style>\n",
              "<table border=\"1\" class=\"dataframe\">\n",
              "  <thead>\n",
              "    <tr style=\"text-align: right;\">\n",
              "      <th></th>\n",
              "      <th>centroid</th>\n",
              "      <th>average_spend</th>\n",
              "      <th>count_orders</th>\n",
              "      <th>days_since_last_order</th>\n",
              "    </tr>\n",
              "  </thead>\n",
              "  <tbody>\n",
              "    <tr>\n",
              "      <th>0</th>\n",
              "      <td>cluster 1</td>\n",
              "      <td>54.12</td>\n",
              "      <td>1.37</td>\n",
              "      <td>583.22</td>\n",
              "    </tr>\n",
              "    <tr>\n",
              "      <th>1</th>\n",
              "      <td>cluster 2</td>\n",
              "      <td>54.60</td>\n",
              "      <td>1.30</td>\n",
              "      <td>774.39</td>\n",
              "    </tr>\n",
              "    <tr>\n",
              "      <th>2</th>\n",
              "      <td>cluster 3</td>\n",
              "      <td>347.04</td>\n",
              "      <td>1.25</td>\n",
              "      <td>644.63</td>\n",
              "    </tr>\n",
              "    <tr>\n",
              "      <th>3</th>\n",
              "      <td>cluster 4</td>\n",
              "      <td>58.98</td>\n",
              "      <td>3.79</td>\n",
              "      <td>622.12</td>\n",
              "    </tr>\n",
              "    <tr>\n",
              "      <th>4</th>\n",
              "      <td>cluster 5</td>\n",
              "      <td>53.88</td>\n",
              "      <td>1.30</td>\n",
              "      <td>597.56</td>\n",
              "    </tr>\n",
              "  </tbody>\n",
              "</table>\n",
              "</div>\n",
              "    <div class=\"colab-df-buttons\">\n",
              "\n",
              "  <div class=\"colab-df-container\">\n",
              "    <button class=\"colab-df-convert\" onclick=\"convertToInteractive('df-f46760ac-9a88-4b4e-999c-625dd7756ba9')\"\n",
              "            title=\"Convert this dataframe to an interactive table.\"\n",
              "            style=\"display:none;\">\n",
              "\n",
              "  <svg xmlns=\"http://www.w3.org/2000/svg\" height=\"24px\" viewBox=\"0 -960 960 960\">\n",
              "    <path d=\"M120-120v-720h720v720H120Zm60-500h600v-160H180v160Zm220 220h160v-160H400v160Zm0 220h160v-160H400v160ZM180-400h160v-160H180v160Zm440 0h160v-160H620v160ZM180-180h160v-160H180v160Zm440 0h160v-160H620v160Z\"/>\n",
              "  </svg>\n",
              "    </button>\n",
              "\n",
              "  <style>\n",
              "    .colab-df-container {\n",
              "      display:flex;\n",
              "      gap: 12px;\n",
              "    }\n",
              "\n",
              "    .colab-df-convert {\n",
              "      background-color: #E8F0FE;\n",
              "      border: none;\n",
              "      border-radius: 50%;\n",
              "      cursor: pointer;\n",
              "      display: none;\n",
              "      fill: #1967D2;\n",
              "      height: 32px;\n",
              "      padding: 0 0 0 0;\n",
              "      width: 32px;\n",
              "    }\n",
              "\n",
              "    .colab-df-convert:hover {\n",
              "      background-color: #E2EBFA;\n",
              "      box-shadow: 0px 1px 2px rgba(60, 64, 67, 0.3), 0px 1px 3px 1px rgba(60, 64, 67, 0.15);\n",
              "      fill: #174EA6;\n",
              "    }\n",
              "\n",
              "    .colab-df-buttons div {\n",
              "      margin-bottom: 4px;\n",
              "    }\n",
              "\n",
              "    [theme=dark] .colab-df-convert {\n",
              "      background-color: #3B4455;\n",
              "      fill: #D2E3FC;\n",
              "    }\n",
              "\n",
              "    [theme=dark] .colab-df-convert:hover {\n",
              "      background-color: #434B5C;\n",
              "      box-shadow: 0px 1px 3px 1px rgba(0, 0, 0, 0.15);\n",
              "      filter: drop-shadow(0px 1px 2px rgba(0, 0, 0, 0.3));\n",
              "      fill: #FFFFFF;\n",
              "    }\n",
              "  </style>\n",
              "\n",
              "    <script>\n",
              "      const buttonEl =\n",
              "        document.querySelector('#df-f46760ac-9a88-4b4e-999c-625dd7756ba9 button.colab-df-convert');\n",
              "      buttonEl.style.display =\n",
              "        google.colab.kernel.accessAllowed ? 'block' : 'none';\n",
              "\n",
              "      async function convertToInteractive(key) {\n",
              "        const element = document.querySelector('#df-f46760ac-9a88-4b4e-999c-625dd7756ba9');\n",
              "        const dataTable =\n",
              "          await google.colab.kernel.invokeFunction('convertToInteractive',\n",
              "                                                    [key], {});\n",
              "        if (!dataTable) return;\n",
              "\n",
              "        const docLinkHtml = 'Like what you see? Visit the ' +\n",
              "          '<a target=\"_blank\" href=https://colab.research.google.com/notebooks/data_table.ipynb>data table notebook</a>'\n",
              "          + ' to learn more about interactive tables.';\n",
              "        element.innerHTML = '';\n",
              "        dataTable['output_type'] = 'display_data';\n",
              "        await google.colab.output.renderOutput(dataTable, element);\n",
              "        const docLink = document.createElement('div');\n",
              "        docLink.innerHTML = docLinkHtml;\n",
              "        element.appendChild(docLink);\n",
              "      }\n",
              "    </script>\n",
              "  </div>\n",
              "\n",
              "\n",
              "<div id=\"df-3bf8df57-e13c-4196-9868-34be032114f4\">\n",
              "  <button class=\"colab-df-quickchart\" onclick=\"quickchart('df-3bf8df57-e13c-4196-9868-34be032114f4')\"\n",
              "            title=\"Suggest charts\"\n",
              "            style=\"display:none;\">\n",
              "\n",
              "<svg xmlns=\"http://www.w3.org/2000/svg\" height=\"24px\"viewBox=\"0 0 24 24\"\n",
              "     width=\"24px\">\n",
              "    <g>\n",
              "        <path d=\"M19 3H5c-1.1 0-2 .9-2 2v14c0 1.1.9 2 2 2h14c1.1 0 2-.9 2-2V5c0-1.1-.9-2-2-2zM9 17H7v-7h2v7zm4 0h-2V7h2v10zm4 0h-2v-4h2v4z\"/>\n",
              "    </g>\n",
              "</svg>\n",
              "  </button>\n",
              "\n",
              "<style>\n",
              "  .colab-df-quickchart {\n",
              "      --bg-color: #E8F0FE;\n",
              "      --fill-color: #1967D2;\n",
              "      --hover-bg-color: #E2EBFA;\n",
              "      --hover-fill-color: #174EA6;\n",
              "      --disabled-fill-color: #AAA;\n",
              "      --disabled-bg-color: #DDD;\n",
              "  }\n",
              "\n",
              "  [theme=dark] .colab-df-quickchart {\n",
              "      --bg-color: #3B4455;\n",
              "      --fill-color: #D2E3FC;\n",
              "      --hover-bg-color: #434B5C;\n",
              "      --hover-fill-color: #FFFFFF;\n",
              "      --disabled-bg-color: #3B4455;\n",
              "      --disabled-fill-color: #666;\n",
              "  }\n",
              "\n",
              "  .colab-df-quickchart {\n",
              "    background-color: var(--bg-color);\n",
              "    border: none;\n",
              "    border-radius: 50%;\n",
              "    cursor: pointer;\n",
              "    display: none;\n",
              "    fill: var(--fill-color);\n",
              "    height: 32px;\n",
              "    padding: 0;\n",
              "    width: 32px;\n",
              "  }\n",
              "\n",
              "  .colab-df-quickchart:hover {\n",
              "    background-color: var(--hover-bg-color);\n",
              "    box-shadow: 0 1px 2px rgba(60, 64, 67, 0.3), 0 1px 3px 1px rgba(60, 64, 67, 0.15);\n",
              "    fill: var(--button-hover-fill-color);\n",
              "  }\n",
              "\n",
              "  .colab-df-quickchart-complete:disabled,\n",
              "  .colab-df-quickchart-complete:disabled:hover {\n",
              "    background-color: var(--disabled-bg-color);\n",
              "    fill: var(--disabled-fill-color);\n",
              "    box-shadow: none;\n",
              "  }\n",
              "\n",
              "  .colab-df-spinner {\n",
              "    border: 2px solid var(--fill-color);\n",
              "    border-color: transparent;\n",
              "    border-bottom-color: var(--fill-color);\n",
              "    animation:\n",
              "      spin 1s steps(1) infinite;\n",
              "  }\n",
              "\n",
              "  @keyframes spin {\n",
              "    0% {\n",
              "      border-color: transparent;\n",
              "      border-bottom-color: var(--fill-color);\n",
              "      border-left-color: var(--fill-color);\n",
              "    }\n",
              "    20% {\n",
              "      border-color: transparent;\n",
              "      border-left-color: var(--fill-color);\n",
              "      border-top-color: var(--fill-color);\n",
              "    }\n",
              "    30% {\n",
              "      border-color: transparent;\n",
              "      border-left-color: var(--fill-color);\n",
              "      border-top-color: var(--fill-color);\n",
              "      border-right-color: var(--fill-color);\n",
              "    }\n",
              "    40% {\n",
              "      border-color: transparent;\n",
              "      border-right-color: var(--fill-color);\n",
              "      border-top-color: var(--fill-color);\n",
              "    }\n",
              "    60% {\n",
              "      border-color: transparent;\n",
              "      border-right-color: var(--fill-color);\n",
              "    }\n",
              "    80% {\n",
              "      border-color: transparent;\n",
              "      border-right-color: var(--fill-color);\n",
              "      border-bottom-color: var(--fill-color);\n",
              "    }\n",
              "    90% {\n",
              "      border-color: transparent;\n",
              "      border-bottom-color: var(--fill-color);\n",
              "    }\n",
              "  }\n",
              "</style>\n",
              "\n",
              "  <script>\n",
              "    async function quickchart(key) {\n",
              "      const quickchartButtonEl =\n",
              "        document.querySelector('#' + key + ' button');\n",
              "      quickchartButtonEl.disabled = true;  // To prevent multiple clicks.\n",
              "      quickchartButtonEl.classList.add('colab-df-spinner');\n",
              "      try {\n",
              "        const charts = await google.colab.kernel.invokeFunction(\n",
              "            'suggestCharts', [key], {});\n",
              "      } catch (error) {\n",
              "        console.error('Error during call to suggestCharts:', error);\n",
              "      }\n",
              "      quickchartButtonEl.classList.remove('colab-df-spinner');\n",
              "      quickchartButtonEl.classList.add('colab-df-quickchart-complete');\n",
              "    }\n",
              "    (() => {\n",
              "      let quickchartButtonEl =\n",
              "        document.querySelector('#df-3bf8df57-e13c-4196-9868-34be032114f4 button');\n",
              "      quickchartButtonEl.style.display =\n",
              "        google.colab.kernel.accessAllowed ? 'block' : 'none';\n",
              "    })();\n",
              "  </script>\n",
              "</div>\n",
              "    </div>\n",
              "  </div>\n"
            ]
          },
          "metadata": {},
          "execution_count": 9
        }
      ]
    },
    {
      "cell_type": "code",
      "source": [
        "df_query = client.query(query).to_dataframe()\n",
        "df_query.to_string(header=False, index=False)\n",
        "\n",
        "cluster_info = []\n",
        "for i, row in df_query.iterrows():\n",
        " cluster_info.append(\"{0}, average spend ${2}, count of orders per person {1}, days since last order {3}\"\n",
        "  .format(row[\"centroid\"], row[\"count_orders\"], row[\"average_spend\"], row[\"days_since_last_order\"]) )\n",
        "\n",
        "cluster_info = (str.join(\"\\n\", cluster_info))\n",
        "print(cluster_info)"
      ],
      "metadata": {
        "colab": {
          "base_uri": "https://localhost:8080/"
        },
        "id": "NAwRa7AvvOQs",
        "executionInfo": {
          "status": "ok",
          "timestamp": 1714811910732,
          "user_tz": -480,
          "elapsed": 26,
          "user": {
            "displayName": "",
            "userId": ""
          }
        },
        "outputId": "04eb87c7-b656-4e52-c788-9e8bf292bd5d"
      },
      "execution_count": 10,
      "outputs": [
        {
          "output_type": "stream",
          "name": "stdout",
          "text": [
            "cluster 1, average spend $54.12, count of orders per person 1.37, days since last order 583.22\n",
            "cluster 2, average spend $54.6, count of orders per person 1.3, days since last order 774.39\n",
            "cluster 3, average spend $347.04, count of orders per person 1.25, days since last order 644.63\n",
            "cluster 4, average spend $58.98, count of orders per person 3.79, days since last order 622.12\n",
            "cluster 5, average spend $53.88, count of orders per person 1.3, days since last order 597.56\n"
          ]
        }
      ]
    },
    {
      "cell_type": "code",
      "source": [
        "prompt = f\"\"\"\n",
        "You're a creative brand strategist, given the following clusters, come up with \\\n",
        "creative brand persona, a catchy title, and next marketing action, \\\n",
        "explained step by step.\n",
        "\n",
        "Clusters:\n",
        "{cluster_info}\n",
        "\n",
        "For each Cluster:\n",
        "* Title:\n",
        "* Persona:\n",
        "* Next marketing step:\n",
        "\"\"\""
      ],
      "metadata": {
        "id": "tvvWi48vwSp4",
        "executionInfo": {
          "status": "ok",
          "timestamp": 1714811990339,
          "user_tz": -480,
          "elapsed": 2156,
          "user": {
            "displayName": "",
            "userId": ""
          }
        }
      },
      "execution_count": 11,
      "outputs": []
    },
    {
      "cell_type": "code",
      "source": [
        "# prompt: Use the Vertex AI language_models API to call the PaLM2 text-bison model and generate a marketing campaign using the variable prompt. Use the following model settings: max_output_tokens=1024, temperature=0.4\n",
        "\n",
        "from vertexai.language_models import TextGenerationModel\n",
        "\n",
        "model = TextGenerationModel.from_pretrained(\"text-bison\")\n",
        "response = model.predict(prompt=prompt, max_output_tokens=1024, temperature=0.4)\n",
        "print(response.text)"
      ],
      "metadata": {
        "colab": {
          "base_uri": "https://localhost:8080/"
        },
        "id": "ziFm2TxCwl43",
        "executionInfo": {
          "status": "ok",
          "timestamp": 1714812142997,
          "user_tz": -480,
          "elapsed": 3179,
          "user": {
            "displayName": "",
            "userId": ""
          }
        },
        "outputId": "f74b17dc-5268-4cca-c2ef-a63cf7702828"
      },
      "execution_count": 12,
      "outputs": [
        {
          "output_type": "stream",
          "name": "stdout",
          "text": [
            " **Cluster 1:**\n",
            "\n",
            "**Title:** The Occasional Treaters\n",
            "\n",
            "**Persona:** These customers are budget-conscious and make infrequent purchases. They may be new to the brand or still exploring different options.\n",
            "\n",
            "**Next marketing step:** Offer a special promotion or discount to encourage them to make a repeat purchase.\n",
            "\n",
            "**Cluster 2:**\n",
            "\n",
            "**Title:** The Loyal Few\n",
            "\n",
            "**Persona:** These customers are also budget-conscious but have been with the brand for a longer period. They may be less likely to experiment with new products.\n",
            "\n",
            "**Next marketing step:** Send them personalized emails or notifications about new products or promotions that align with their interests.\n",
            "\n",
            "**Cluster 3:**\n",
            "\n",
            "**Title:** The Big Spenders\n",
            "\n",
            "**Persona:** These customers are high-value customers who spend a significant amount on each purchase. They may be brand enthusiasts or loyal customers who appreciate quality.\n",
            "\n",
            "**Next marketing step:** Offer them exclusive perks or rewards to show appreciation for their loyalty.\n",
            "\n",
            "**Cluster 4:**\n",
            "\n",
            "**Title:** The Frequent Buyers\n",
            "\n",
            "**Persona:** These customers make frequent purchases but spend a moderate amount on each order. They may be regular users of the brand's products.\n",
            "\n",
            "**Next marketing step:** Implement a loyalty program or offer subscription options to encourage them to continue making repeat purchases.\n",
            "\n",
            "**Cluster 5:**\n",
            "\n",
            "**Title:** The Casual Shoppers\n",
            "\n",
            "**Persona:** These customers make infrequent purchases and spend a moderate amount on each order. They may be occasional users of the brand's products.\n",
            "\n",
            "**Next marketing step:** Retarget them with personalized ads or email campaigns to remind them of the brand and encourage them to make another purchase.\n"
          ]
        }
      ]
    },
    {
      "cell_type": "code",
      "source": [
        "# Delete customer_stats table\n",
        "\n",
        "client.delete_table(f\"{project_id}.{dataset_name}.{table_name}\", not_found_ok=True)\n",
        "print(f\"Deleted table: {project_id}.{dataset_name}.{table_name}\")\n",
        "\n",
        "\n",
        "# Delete K-means model\n",
        "client.delete_model(f\"{project_id}.{dataset_name}.{model_name}\", not_found_ok=True)\n",
        "print(f\"Deleted model: {project_id}.{dataset_name}.{model_name}\")\n"
      ],
      "metadata": {
        "id": "f86ratuixKad"
      },
      "execution_count": null,
      "outputs": []
    },
    {
      "cell_type": "code",
      "source": [],
      "metadata": {
        "id": "zUdWFtrWyJB2"
      },
      "execution_count": null,
      "outputs": []
    }
  ]
}