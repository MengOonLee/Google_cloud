{
 "cells": [
  {
   "cell_type": "markdown",
   "id": "b7e88bd4-70b3-473e-bc8a-3d075dae2964",
   "metadata": {},
   "source": [
    "# Machine Learning APIs"
   ]
  },
  {
   "cell_type": "markdown",
   "id": "41dbcacd-ac97-4c91-a607-956994211e09",
   "metadata": {},
   "source": [
    "## Classify Text into Categories with the Natural Language API"
   ]
  },
  {
   "cell_type": "markdown",
   "id": "d8814825-3f1f-400a-b10f-3ae73be7082e",
   "metadata": {},
   "source": [
    "### Create a bucket with the Cloud Storage JSON/REST API"
   ]
  },
  {
   "cell_type": "code",
   "execution_count": null,
   "id": "1fa559fb-84b0-4835-9388-fc9d1745fa26",
   "metadata": {},
   "outputs": [],
   "source": [
    "# OAuth2 token\n",
    "export OAUTH2_TOKEN=<YOUR_TOKEN>\n",
    "export PROJECT_ID=<YOUR_PROJECT_ID>\n",
    "\n",
    "# create a Cloud Storage bucket\n",
    "curl -X POST --data-binary @values.json \\\n",
    "    -H \"Authorization: Bearer $OAUTH2_TOKEN\" \\\n",
    "    -H \"Content-Type: application/json\" \\\n",
    "    \"https://www.googleapis.com/storage/v1/b?project=$PROJECT_ID\"\n",
    "\n",
    "# Upload the demo image to Cloud Storage bucket\n",
    "curl -X POST --data-binary @$OBJECT \\\n",
    "    -H \"Authorization: Bearer $OAUTH2_TOKEN\" \\\n",
    "    -H \"Content-Type: image/png\" \\\n",
    "    \"https://www.googleapis.com/upload/storage/v1/b/$BUCKET_NAME/o?uploadType=media&name=demo-image\""
   ]
  },
  {
   "cell_type": "markdown",
   "id": "a3c054af-92f1-4a02-ae21-912b6bd798ac",
   "metadata": {},
   "source": [
    "### API key"
   ]
  },
  {
   "cell_type": "code",
   "execution_count": null,
   "id": "6c26bb1b-f315-4674-9a3d-2b008c63348d",
   "metadata": {},
   "outputs": [],
   "source": [
    "%%writefile request.json\n",
    " {\n",
    "  \"document\":{\n",
    "    \"type\":\"PLAIN_TEXT\",\n",
    "    \"content\":\"The sweater fits well and I love the material too. I’m buying one for my sister! \"\n",
    "  },\n",
    "  \"encodingType\": \"UTF8\"\n",
    "}"
   ]
  },
  {
   "cell_type": "code",
   "execution_count": null,
   "id": "5129bed9-64b4-4fdf-bd4f-6e8bd4524235",
   "metadata": {},
   "outputs": [],
   "source": [
    "export API_KEY=<YOUR_API_KEY>\n",
    "\n",
    "curl \"https://language.googleapis.com/v1/documents:classifyText?key=${API_KEY}\" \\\n",
    "  -s -X POST -H \"Content-Type: application/json\" --data-binary @request.json\n",
    "\n",
    "curl -s -X POST -H \"Content-Type: application/json\" --data-binary @translation-request.json \\\n",
    "https://translation.googleapis.com/language/translate/v2?key=${API_KEY} \\\n",
    "-o translation-response.json"
   ]
  },
  {
   "cell_type": "code",
   "execution_count": null,
   "id": "2c99e7cc-4692-4e21-a4e0-7668dfa5a7ba",
   "metadata": {},
   "outputs": [],
   "source": [
    "# Sentiment analysis\n",
    "curl \"https://language.googleapis.com/v1/documents:analyzeSentiment?key=${API_KEY}\" \\\n",
    "  -s -X POST -H \"Content-Type: application/json\" --data-binary @request.json > result.json"
   ]
  },
  {
   "cell_type": "code",
   "execution_count": null,
   "id": "572b738a-5b1f-4f3d-a2bc-4b2461294e07",
   "metadata": {},
   "outputs": [],
   "source": [
    "# Entity sentiment analysis\n",
    "curl \"https://language.googleapis.com/v1/documents:analyzeEntitySentiment?key=${API_KEY}\" \\\n",
    "  -s -X POST -H \"Content-Type: application/json\" --data-binary @request.json"
   ]
  },
  {
   "cell_type": "code",
   "execution_count": null,
   "id": "916ad3af-728c-4012-a106-b7a350184bd4",
   "metadata": {},
   "outputs": [],
   "source": [
    "# Syntactic analysis\n",
    "curl \"https://language.googleapis.com/v1/documents:analyzeSyntax?key=${API_KEY}\" \\\n",
    "  -s -X POST -H \"Content-Type: application/json\" --data-binary @request.json"
   ]
  },
  {
   "cell_type": "markdown",
   "id": "cb756014-0b07-4414-8eff-868fc0c5bab2",
   "metadata": {},
   "source": [
    "### Create a storage bucket"
   ]
  },
  {
   "cell_type": "code",
   "execution_count": null,
   "id": "aa33f588-309e-4c68-8c81-9729867c9299",
   "metadata": {},
   "outputs": [],
   "source": [
    "gsutil mb -p $PROJECT_ID \\\n",
    "-c standard    \\\n",
    "-l us-central1 \\\n",
    "gs://$PROJECT_ID\n",
    "\n",
    "# Copy training images\n",
    "gsutil -m cp -r gs://spls/gsp223/images/* gs://${BUCKET}\n",
    "gsutil cp gs://spls/gsp223/data.csv gs://${BUCKET}"
   ]
  },
  {
   "cell_type": "markdown",
   "id": "1492a390-0bd5-4469-9f1b-41c287fb0dd1",
   "metadata": {},
   "source": [
    "### Create service account"
   ]
  },
  {
   "cell_type": "code",
   "execution_count": null,
   "id": "c2662b34-6e93-4b3d-8b67-ef624ec01589",
   "metadata": {},
   "outputs": [],
   "source": [
    "gcloud iam service-accounts create my-account --display-name my-account\n",
    "gcloud projects add-iam-policy-binding $PROJECT --member=serviceAccount:my-account@$PROJECT.iam.gserviceaccount.com --role=roles/bigquery.admin\n",
    "gcloud iam service-accounts keys create key.json --iam-account=my-account@$PROJECT.iam.gserviceaccount.com\n",
    "export GOOGLE_APPLICATION_CREDENTIALS=key.json"
   ]
  },
  {
   "cell_type": "markdown",
   "id": "fbef7de1-8f44-4007-920c-d916fa79fc3f",
   "metadata": {},
   "source": [
    "### Google Cloud Python client library"
   ]
  },
  {
   "cell_type": "code",
   "execution_count": null,
   "id": "296915d7-8fc1-4e65-a7c3-c57e09e186cb",
   "metadata": {},
   "outputs": [],
   "source": [
    "from google.cloud import storage, language, bigquery\n",
    "# Set up our GCS, NL, and BigQuery clients\n",
    "storage_client = storage.Client()\n",
    "nl_client = language.LanguageServiceClient()\n",
    "# TODO: replace YOUR_PROJECT with your project name below\n",
    "bq_client = bigquery.Client(project='YOUR_PROJECT')\n",
    "dataset_ref = bq_client.dataset('news_classification_dataset')\n",
    "dataset = bigquery.Dataset(dataset_ref)\n",
    "table_ref = dataset.table('article_data')\n",
    "table = bq_client.get_table(table_ref)\n",
    "# Send article text to the NL API's classifyText method\n",
    "def classify_text(article):\n",
    "        response = nl_client.classify_text(\n",
    "                document=language.Document(\n",
    "                        content=article,\n",
    "                        type_=language.Document.Type.PLAIN_TEXT\n",
    "                )\n",
    "        )\n",
    "        return response\n",
    "rows_for_bq = []\n",
    "files = storage_client.bucket('qwiklabs-test-bucket-gsp063').list_blobs()\n",
    "print(\"Got article files from GCS, sending them to the NL API (this will take ~2 minutes)...\")\n",
    "# Send files to the NL API and save the result to send to BigQuery\n",
    "for file in files:\n",
    "        if file.name.endswith('txt'):\n",
    "                article_text = file.download_as_bytes()\n",
    "                nl_response = classify_text(article_text)\n",
    "                if len(nl_response.categories) > 0:\n",
    "                        rows_for_bq.append((str(article_text), nl_response.categories[0].name, nl_response.categories[0].confidence))\n",
    "print(\"Writing NL API article data to BigQuery...\")\n",
    "# Write article text + category data to BQ\n",
    "errors = bq_client.insert_rows(table, rows_for_bq)\n",
    "assert errors == []"
   ]
  },
  {
   "cell_type": "markdown",
   "id": "811685ff-8cfe-4427-ba8d-f2ef3cc8c288",
   "metadata": {},
   "source": [
    "## Cloud Vision API from a Kubernetes Cluster"
   ]
  },
  {
   "cell_type": "markdown",
   "id": "f81459c2-34cf-4ff2-934a-1681533a6a3d",
   "metadata": {},
   "source": [
    "### Create a Kubernetes Engine cluster"
   ]
  },
  {
   "cell_type": "code",
   "execution_count": null,
   "id": "b23d760c-2eeb-4e5a-b1d2-8ebf5a74004c",
   "metadata": {},
   "outputs": [],
   "source": [
    "gcloud config set compute/zone us-central1-a\n",
    "\n",
    "gcloud container clusters create awwvision \\\n",
    "    --num-nodes 2 \\\n",
    "    --scopes cloud-platform\n",
    "\n",
    "# container's credentials\n",
    "gcloud container clusters get-credentials awwvision\n",
    "\n",
    "kubectl cluster-info"
   ]
  },
  {
   "cell_type": "markdown",
   "id": "8261c504-eb0a-47dd-9462-37cef3829aff",
   "metadata": {},
   "source": [
    "### Python virtual environment"
   ]
  },
  {
   "cell_type": "code",
   "execution_count": null,
   "id": "26380e37-09f6-4594-bc05-63833cba5c39",
   "metadata": {},
   "outputs": [],
   "source": [
    "# Install\n",
    "sudo pip3 install -U pip\n",
    "sudo pip3 install --upgrade virtualenv\n",
    "\n",
    "# Create a virtual environment\n",
    "virtualenv -p python3 venv\n",
    "\n",
    "# Activate the virtual environment.\n",
    "source venv/bin/activate"
   ]
  },
  {
   "cell_type": "markdown",
   "id": "5072e34b-a4ae-498c-b022-8b38d970aefd",
   "metadata": {},
   "source": [
    "## Image text detection, translation"
   ]
  },
  {
   "cell_type": "markdown",
   "id": "5df34343-7854-4528-9193-85eb008d90bc",
   "metadata": {},
   "source": [
    "### Configure a service account to access the Machine Learning APIs, BigQuery, and Cloud Storage"
   ]
  },
  {
   "cell_type": "code",
   "execution_count": null,
   "id": "15039cbb-09a2-4228-9174-863fb4a54e5b",
   "metadata": {},
   "outputs": [],
   "source": [
    "export PROJECT=qwiklabs-gcp-01-b8eb84d4a4e2\n",
    "\n",
    "gcloud iam service-accounts create my-account --display-name my-account\n",
    "\n",
    "gcloud projects add-iam-policy-binding $PROJECT \\\n",
    "--member=serviceAccount:my-account@$PROJECT.iam.gserviceaccount.com \\\n",
    "--role=roles/bigquery.admin\n",
    "\n",
    "gcloud projects add-iam-policy-binding $PROJECT \\\n",
    "--member=serviceAccount:my-account@$PROJECT.iam.gserviceaccount.com \\\n",
    "--role=roles/storage.objectAdmin"
   ]
  },
  {
   "cell_type": "markdown",
   "id": "87c5f51d-2d11-4dee-bbe7-4f3cda87ff58",
   "metadata": {},
   "source": [
    "### Create and download a credential file for your Service Account"
   ]
  },
  {
   "cell_type": "code",
   "execution_count": null,
   "id": "bd275e11-94dc-4d1e-a6ec-5e52854cfc35",
   "metadata": {},
   "outputs": [],
   "source": [
    "gcloud iam service-accounts keys create key.json \\\n",
    "--iam-account=my-account@$PROJECT.iam.gserviceaccount.com\n",
    "\n",
    "export GOOGLE_APPLICATION_CREDENTIALS=key.json"
   ]
  },
  {
   "cell_type": "markdown",
   "id": "fe40422b-a8f7-4317-affa-59c249dab5bc",
   "metadata": {},
   "source": [
    "### Modify the Python script to extract text from image files"
   ]
  },
  {
   "cell_type": "code",
   "execution_count": null,
   "id": "9b676a83-f02c-45fb-8b70-05e8d7ba2bef",
   "metadata": {},
   "outputs": [],
   "source": [
    "gsutil cp gs://$PROJECT/analyze-images.py ."
   ]
  },
  {
   "cell_type": "code",
   "execution_count": null,
   "id": "39f0d340-5ee0-4aa2-a76c-f29d9de1de33",
   "metadata": {},
   "outputs": [],
   "source": [
    "%%file analyze-images.py\n",
    "# Dataset: image_classification_dataset\n",
    "# Table name: image_text_detail\n",
    "import os\n",
    "import sys\n",
    "\n",
    "# Import Google Cloud Library modules\n",
    "from google.cloud import storage, bigquery, language, vision, translate_v2\n",
    "\n",
    "if ('GOOGLE_APPLICATION_CREDENTIALS' in os.environ):\n",
    "    if (not os.path.exists(os.environ['GOOGLE_APPLICATION_CREDENTIALS'])):\n",
    "        print (\"The GOOGLE_APPLICATION_CREDENTIALS file does not exist.\\n\")\n",
    "        exit()\n",
    "else:\n",
    "    print (\"The GOOGLE_APPLICATION_CREDENTIALS environment variable is not defined.\\n\")\n",
    "    exit()\n",
    "\n",
    "if len(sys.argv)<3:\n",
    "    print('You must provide parameters for the Google Cloud project ID and Storage bucket')\n",
    "    print ('python3 '+sys.argv[0]+ '[PROJECT_NAME] [BUCKET_NAME]')\n",
    "    exit()\n",
    "\n",
    "project_name = sys.argv[1]\n",
    "bucket_name = sys.argv[2]\n",
    "\n",
    "# Set up our GCS, BigQuery, and Natural Language clients\n",
    "storage_client = storage.Client()\n",
    "bq_client = bigquery.Client(project=project_name)\n",
    "nl_client = language.LanguageServiceClient()\n",
    "\n",
    "# Set up client objects for the vision and translate_v2 API Libraries\n",
    "vision_client = vision.ImageAnnotatorClient()\n",
    "translate_client = translate_v2.Client()\n",
    "\n",
    "# Setup the BigQuery dataset and table objects\n",
    "dataset_ref = bq_client.dataset('image_classification_dataset')\n",
    "dataset = bigquery.Dataset(dataset_ref)\n",
    "table_ref = dataset.table('image_text_detail')\n",
    "table = bq_client.get_table(table_ref)\n",
    "\n",
    "# Create an array to store results data to be inserted into the BigQuery table\n",
    "rows_for_bq = []\n",
    "\n",
    "# Get a list of the files in the Cloud Storage Bucket\n",
    "files = storage_client.bucket(bucket_name).list_blobs()\n",
    "bucket = storage_client.bucket(bucket_name)\n",
    "print('Processing image files from GCS. This will take a few minutes..')\n",
    "\n",
    "# Process files from Cloud Storage and save the result to send to BigQuery\n",
    "for file in files:\n",
    "    if file.name.endswith('jpg') or file.name.endswith('png'):\n",
    "        file_content = file.download_as_string()\n",
    "\n",
    "        # TBD: Create a Vision API image object called image_object\n",
    "        # Ref: https://googleapis.dev/python/vision/latest/gapic/v1/types.html#google.cloud.vision_v1.types.Image\n",
    "        image_object = vision.Image(content=file_content)\n",
    "        \n",
    "        # TBD: Detect text in the image and save the response data into an object called response\n",
    "        # Ref: https://googleapis.dev/python/vision/latest/gapic/v1/api.html#google.cloud.vision_v1.ImageAnnotatorClient.document_text_detection\n",
    "        response = vision_client.text_detection(image=image_object)\n",
    "        \n",
    "        # Save the text content found by the vision API into a variable called text_data\n",
    "        text_data = response.text_annotations[0].description\n",
    "\n",
    "        # Save the text detection response data in <filename>.txt to cloud storage\n",
    "        file_name = file.name.split('.')[0] + '.txt'\n",
    "        blob = bucket.blob(file_name)\n",
    "        # Upload the contents of the text_data string variable to the Cloud Storage file\n",
    "        blob.upload_from_string(text_data, content_type='text/plain')\n",
    "        \n",
    "        # Extract the description and locale data from the response file\n",
    "        # into variables called desc and locale\n",
    "        # using response object properties e.g. response.text_annotations[0].description\n",
    "        desc = response.text_annotations[0].description\n",
    "        locale = response.text_annotations[0].locale\n",
    "        \n",
    "        # if the locale is English (en) save the description as the translated_txt\n",
    "        if locale == 'en':\n",
    "            translated_text = desc\n",
    "        else:\n",
    "            # TBD: For non EN locales pass the description data to the translation API\n",
    "            # ref: https://googleapis.dev/python/translation/latest/client.html#google.cloud.translate_v2.client.Client.translate\n",
    "            # Set the target_language locale to 'en')\n",
    "            translation = translate_client.translate(desc, target_language='en')\n",
    "            translated_text = translation['translatedText']\n",
    "        print(translated_text)\n",
    "        \n",
    "        # if there is response data save the original text read from the image,\n",
    "        # the locale, translated text, and filename\n",
    "        if len(response.text_annotations) > 0:\n",
    "            rows_for_bq.append((desc, locale, translated_text, file.name))\n",
    "\n",
    "print('Writing Vision API image data to BigQuery...')\n",
    "# Write original text, locale and translated text to BQ\n",
    "# TBD: When the script is working uncomment the next line to upload results to BigQuery\n",
    "errors = bq_client.insert_rows(table, rows_for_bq)\n",
    "assert errors == []"
   ]
  },
  {
   "cell_type": "code",
   "execution_count": null,
   "id": "b0e2378c-93f4-484c-bb10-711b47bb6a4b",
   "metadata": {},
   "outputs": [],
   "source": [
    "python3 analyze-images.py $DEVSHELL_PROJECT_ID $DEVSHELL_PROJECT_ID"
   ]
  },
  {
   "cell_type": "code",
   "execution_count": null,
   "id": "156b436d-c607-4713-a955-12d52629f0f0",
   "metadata": {},
   "outputs": [],
   "source": [
    "SELECT \n",
    "locale, \n",
    "COUNT(locale) as lcount \n",
    "FROM image_classification_dataset.image_text_detail \n",
    "GROUP BY locale \n",
    "ORDER BY lcount DESC"
   ]
  },
  {
   "cell_type": "markdown",
   "id": "141aec5c-8d7e-4214-bc19-5eedceed811f",
   "metadata": {},
   "source": [
    "## Training with pre-built ML models using AutoML Vision"
   ]
  },
  {
   "cell_type": "code",
   "execution_count": null,
   "id": "844d7844-22d9-4c81-b4ba-94c94de48c36",
   "metadata": {},
   "outputs": [],
   "source": [
    "# Activate cloud shell\n",
    "%%bash\n",
    "gcloud auth list\n",
    "gcloud config list project\n",
    "\n",
    "# Upload training images to Google Cloud Storage\n",
    "gsutil mb -p $DEVSHELL_PROJECT_ID \\\n",
    "    -c regional \\\n",
    "    -l us-central1 \\\n",
    "    gs://$DEVSHELL_PROJECT_ID-vcm/\n",
    "\n",
    "gsutil -m cp -r gs://cloud-training/automl-lab-clouds/* gs://$DEVSHELL_PROJECT_ID-vcm/\n",
    "gsutil ls gs://$DEVSHELL_PROJECT_ID-vcm/"
   ]
  },
  {
   "cell_type": "code",
   "execution_count": null,
   "id": "9bbc2d13-f1eb-42cf-a399-38f0d751fd89",
   "metadata": {},
   "outputs": [],
   "source": [
    "# Create a dataset\n",
    "# Create a CSV file where each row contains a URL to a training image \n",
    "# and the associated label for that image.\n",
    "%%bash\n",
    "gsutil cp gs://cloud-training/automl-lab-clouds/data.csv .\n",
    "head --lines=10 data.csv\n",
    "sed -i -e \"s/placeholder/$DEVSHELL_PROJECT_ID-vcm/g\" ./data.csv\n",
    "head --lines=10 data.csv\n",
    "gsutil cp ./data.csv gs://$DEVSHELL_PROJECT_ID-vcm/\n",
    "gsutil ls gs://$DEVSHELL_PROJECT_ID-vcm/*"
   ]
  }
 ],
 "metadata": {
  "kernelspec": {
   "display_name": "Python 3 (ipykernel)",
   "language": "python",
   "name": "python3"
  },
  "language_info": {
   "codemirror_mode": {
    "name": "ipython",
    "version": 3
   },
   "file_extension": ".py",
   "mimetype": "text/x-python",
   "name": "python",
   "nbconvert_exporter": "python",
   "pygments_lexer": "ipython3",
   "version": "3.8.10"
  }
 },
 "nbformat": 4,
 "nbformat_minor": 5
}
