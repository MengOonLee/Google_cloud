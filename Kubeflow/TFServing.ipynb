{
 "cells": [
  {
   "cell_type": "markdown",
   "id": "36588170-7517-41c7-a56d-df91aaafbfe3",
   "metadata": {},
   "source": [
    "# Autoscaling TensorFlow Model Deployments with TF Serving and Kubernetes"
   ]
  },
  {
   "cell_type": "code",
   "execution_count": null,
   "id": "a038592c-a22a-45d0-a4e7-8eda961ca996",
   "metadata": {},
   "outputs": [],
   "source": [
    "gcloud auth list\n",
    "gcloud config list project"
   ]
  },
  {
   "cell_type": "markdown",
   "id": "b0043123-1985-44c7-abe6-b36a4a2940f6",
   "metadata": {},
   "source": [
    "### Task 1. Getting lab files"
   ]
  },
  {
   "cell_type": "code",
   "execution_count": null,
   "id": "ed4f1ea5-171e-4c63-888a-00aed2663b94",
   "metadata": {},
   "outputs": [],
   "source": [
    "cd\n",
    "SRC_REPO=https://github.com/GoogleCloudPlatform/mlops-on-gcp\n",
    "kpt pkg get $SRC_REPO/workshops/mlep-qwiklabs/tfserving-gke-autoscaling tfserving-gke\n",
    "cd tfserving-gke"
   ]
  },
  {
   "cell_type": "markdown",
   "id": "c7c3fb5d-73b8-489a-9954-a6eab4cdfe08",
   "metadata": {},
   "source": [
    "### Task 2. Creating a GKE cluster"
   ]
  },
  {
   "cell_type": "code",
   "execution_count": null,
   "id": "65fc799e-3fea-481c-b0b6-4aa19dc2fbaf",
   "metadata": {},
   "outputs": [],
   "source": [
    "gcloud config set compute/zone us-central1-f\n",
    "PROJECT_ID=$(gcloud config get-value project)\n",
    "CLUSTER_NAME=cluster-1\n",
    "\n",
    "gcloud beta container clusters create $CLUSTER_NAME \\\n",
    "    --cluster-version=latest \\\n",
    "    --machine-type=n1-standard-4 \\\n",
    "    --enable-autoscaling \\\n",
    "    --min-nodes=1 \\\n",
    "    --max-nodes=3 \\\n",
    "    --num-nodes=1\n",
    "\n",
    "gcloud container clusters get-credentials $CLUSTER_NAME "
   ]
  },
  {
   "cell_type": "markdown",
   "id": "893688dd-d72e-40ef-89eb-c7b2b50d96d0",
   "metadata": {},
   "source": [
    "### Task 3. Deploying ResNet101"
   ]
  },
  {
   "cell_type": "code",
   "execution_count": null,
   "id": "5e7e42ee-ae1e-4b95-8e80-6426b910bdc3",
   "metadata": {},
   "outputs": [],
   "source": [
    "export MODEL_BUCKET=${PROJECT_ID}-bucket\n",
    "gsutil mb gs://${MODEL_BUCKET}\n",
    "\n",
    "gsutil cp -r gs://spls/gsp777/resnet_101 gs://${MODEL_BUCKET}"
   ]
  },
  {
   "cell_type": "markdown",
   "id": "089422be-bc04-47c3-9e06-3385ef8d9ac8",
   "metadata": {},
   "source": [
    "### Task 4. Creating ConfigMap"
   ]
  },
  {
   "cell_type": "code",
   "execution_count": null,
   "id": "a3c20762-9423-4a48-aa5e-8670f1781ff5",
   "metadata": {},
   "outputs": [],
   "source": [
    "echo $MODEL_BUCKET\n",
    "\n",
    "kubectl apply -f tf-serving/configmap.yaml"
   ]
  },
  {
   "cell_type": "markdown",
   "id": "532e56c1-b80c-4e94-8bfe-ea62b5a8359d",
   "metadata": {},
   "source": [
    "### Task 5. Creating TensorFlow Serving deployment"
   ]
  },
  {
   "cell_type": "code",
   "execution_count": null,
   "id": "42b30d84-c87c-45c3-87a1-b7f9dfef636b",
   "metadata": {},
   "outputs": [],
   "source": [
    "cat tf-serving/deployment.yaml\n",
    "\n",
    "kubectl apply -f tf-serving/deployment.yaml\n",
    "\n",
    "kubectl get deployments"
   ]
  },
  {
   "cell_type": "markdown",
   "id": "66e5ce53-64f7-4021-866b-cfdfba243d74",
   "metadata": {},
   "source": [
    "### Task 6. Exposing the deployment"
   ]
  },
  {
   "cell_type": "code",
   "execution_count": null,
   "id": "8db68560-e9bf-4069-adfb-f0f79439b7b7",
   "metadata": {},
   "outputs": [],
   "source": [
    "cat tf-serving/service.yaml\n",
    "\n",
    "kubectl apply -f tf-serving/service.yaml\n",
    "\n",
    "kubectl get svc image-classifier"
   ]
  },
  {
   "cell_type": "markdown",
   "id": "2b03d0bc-8694-46fe-a193-e02845306842",
   "metadata": {},
   "source": [
    "### Task 7. Configuring horizontal pod autoscaler"
   ]
  },
  {
   "cell_type": "code",
   "execution_count": null,
   "id": "bbd7139d-b88a-470d-b463-f92152d889e0",
   "metadata": {},
   "outputs": [],
   "source": [
    "kubectl autoscale deployment image-classifier \\\n",
    "    --cpu-percent=60 \\\n",
    "    --min=1 \\\n",
    "    --max=4\n",
    "\n",
    "kubectl get hpa"
   ]
  },
  {
   "cell_type": "markdown",
   "id": "ee1d923a-8b26-4761-89d2-1d1c233ceb84",
   "metadata": {},
   "source": [
    "### Task 8. Testing the model"
   ]
  },
  {
   "cell_type": "code",
   "execution_count": null,
   "id": "86565783-936b-46ce-a400-c6cad0046b75",
   "metadata": {},
   "outputs": [],
   "source": [
    "EXTERNAL_IP=34.70.145.13\n",
    "curl -d @locust/request-body.json \\\n",
    "    -X POST http://${EXTERNAL_IP}:8501/v1/models/image_classifier:predict"
   ]
  },
  {
   "cell_type": "markdown",
   "id": "68a1384b-31f8-4b2e-8519-713783013dbe",
   "metadata": {},
   "source": [
    "### Task 9. Installing Locust"
   ]
  },
  {
   "cell_type": "code",
   "execution_count": null,
   "id": "5eb30b56-c756-41f5-b932-171acf61b8c0",
   "metadata": {},
   "outputs": [],
   "source": [
    "pip3 install locust==1.4.1\n",
    "\n",
    "export PATH=~/.local/bin:$PATH\n",
    "\n",
    "locust -V"
   ]
  },
  {
   "cell_type": "markdown",
   "id": "5bd29cee-bb66-422e-bc20-e620ccd53ec6",
   "metadata": {},
   "source": [
    "### Task 10. Starting a load test"
   ]
  },
  {
   "cell_type": "code",
   "execution_count": null,
   "id": "d6b7eb2f-e3fd-4248-8e11-225075390480",
   "metadata": {},
   "outputs": [],
   "source": [
    "cd locust\n",
    "locust -f tasks.py \\\n",
    "    --headless \\\n",
    "    --host http://${EXTERNAL_IP}:8501"
   ]
  },
  {
   "cell_type": "markdown",
   "id": "91acfab1-ad82-44a0-a5dd-02ff294887d4",
   "metadata": {},
   "source": [
    "### Task 11. Monitoring the load test"
   ]
  },
  {
   "cell_type": "code",
   "execution_count": null,
   "id": "2d905d0e-17f6-4006-9454-0723243e456f",
   "metadata": {},
   "outputs": [],
   "source": [
    "https://console.cloud.google.com/kubernetes/deployment/us-central1-f/cluster-1/default/image-classifier/overview\n",
    "\n",
    "https://console.cloud.google.com/kubernetes/nodepool/us-central1-f/cluster-1/default-pool"
   ]
  }
 ],
 "metadata": {
  "kernelspec": {
   "display_name": "venv",
   "language": "python",
   "name": "venv"
  },
  "language_info": {
   "codemirror_mode": {
    "name": "ipython",
    "version": 3
   },
   "file_extension": ".py",
   "mimetype": "text/x-python",
   "name": "python",
   "nbconvert_exporter": "python",
   "pygments_lexer": "ipython3",
   "version": "3.8.10"
  }
 },
 "nbformat": 4,
 "nbformat_minor": 5
}
